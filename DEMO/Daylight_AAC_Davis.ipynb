{
 "cells": [
  {
   "cell_type": "code",
   "execution_count": 1,
   "metadata": {},
   "outputs": [],
   "source": [
    "import os\n",
    "os.chdir(\"/y/home/zyw/tmp/DeepPurpose/\")"
   ]
  },
  {
   "cell_type": "code",
   "execution_count": 2,
   "metadata": {},
   "outputs": [
    {
     "name": "stderr",
     "output_type": "stream",
     "text": [
      "WARNING:root:No normalization for BCUT2D_MWHI\n",
      "WARNING:root:No normalization for BCUT2D_MWLOW\n",
      "WARNING:root:No normalization for BCUT2D_CHGHI\n",
      "WARNING:root:No normalization for BCUT2D_CHGLO\n",
      "WARNING:root:No normalization for BCUT2D_LOGPHI\n",
      "WARNING:root:No normalization for BCUT2D_LOGPLOW\n",
      "WARNING:root:No normalization for BCUT2D_MRHI\n",
      "WARNING:root:No normalization for BCUT2D_MRLOW\n"
     ]
    }
   ],
   "source": [
    "from DeepPurpose import utils,dataset,DTI"
   ]
  },
  {
   "cell_type": "code",
   "execution_count": 3,
   "metadata": {},
   "outputs": [
    {
     "name": "stdout",
     "output_type": "stream",
     "text": [
      "Beginning Processing...\n",
      "Default set to logspace (nM -> p) for easier regression\n",
      "Done!\n"
     ]
    }
   ],
   "source": [
    "X_drug, X_target, y = dataset.load_process_DAVIS('./data/', binary=False)"
   ]
  },
  {
   "cell_type": "code",
   "execution_count": 4,
   "metadata": {},
   "outputs": [],
   "source": [
    "drug_encoding = 'Daylight'\n",
    "target_encoding = 'AAC'"
   ]
  },
  {
   "cell_type": "code",
   "execution_count": 5,
   "metadata": {},
   "outputs": [
    {
     "name": "stdout",
     "output_type": "stream",
     "text": [
      "Drug Target Interaction Prediction Mode...\n",
      "in total: 30056 drug-target pairs\n",
      "encoding drug...\n",
      "unique drugs: 68\n",
      "encoding protein...\n",
      "unique target sequence: 379\n",
      "-- Encoding AAC takes time. Time Reference: 24s for ~100 sequences in a CPU.\t\t\t\t Calculate your time by the unique target sequence #, instead of the entire dataset.\n",
      "splitting dataset...\n",
      "Done.\n"
     ]
    }
   ],
   "source": [
    "train, val, test = utils.data_process(X_drug, X_target, y, \n",
    "                                drug_encoding, target_encoding, \n",
    "                                split_method = 'random',frac = [0.7,0.1,0.2], random_seed = 3)"
   ]
  },
  {
   "cell_type": "code",
   "execution_count": 6,
   "metadata": {},
   "outputs": [],
   "source": [
    "config = utils.generate_config(drug_encoding = drug_encoding, \n",
    "                         target_encoding = target_encoding, \n",
    "                         cls_hidden_dims = [1024,1024,512], \n",
    "                         train_epoch = 100, \n",
    "                         LR = 0.001, \n",
    "                         batch_size = 256,\n",
    "                         cnn_target_filters = [32,64,96],\n",
    "                         cnn_target_kernels = [4,8,12])"
   ]
  },
  {
   "cell_type": "code",
   "execution_count": 7,
   "metadata": {},
   "outputs": [],
   "source": [
    "model = DTI.model_initialize(**config)"
   ]
  },
  {
   "cell_type": "code",
   "execution_count": null,
   "metadata": {
    "scrolled": true
   },
   "outputs": [
    {
     "name": "stdout",
     "output_type": "stream",
     "text": [
      "Let's use 1 GPU!\n",
      "--- Data Preparation ---\n",
      "--- Go for Training ---\n",
      "Training at Epoch 1 iteration 0 with loss 30.1299. Total time 0.0 hours\n",
      "Validation at Epoch 1 with loss:0.59033, MSE: 0.61007 , Pearson Correlation: 0.48628 with p-value: 3.02616 , Concordance Index: 0.75627\n",
      "Training at Epoch 2 iteration 0 with loss 0.81279. Total time 0.00583 hours\n",
      "Validation at Epoch 2 with loss:0.54633, MSE: 0.54591 , Pearson Correlation: 0.55896 with p-value: 1.13983 , Concordance Index: 0.79563\n",
      "Training at Epoch 3 iteration 0 with loss 0.61559. Total time 0.01166 hours\n",
      "Validation at Epoch 3 with loss:0.53167, MSE: 0.54350 , Pearson Correlation: 0.56096 with p-value: 8.42201 , Concordance Index: 0.79588\n",
      "Training at Epoch 4 iteration 0 with loss 0.51075. Total time 0.0175 hours\n",
      "Validation at Epoch 4 with loss:0.58534, MSE: 0.54163 , Pearson Correlation: 0.56498 with p-value: 3.96135 , Concordance Index: 0.79660\n",
      "Training at Epoch 5 iteration 0 with loss 0.51843. Total time 0.02333 hours\n",
      "Validation at Epoch 5 with loss:0.68985, MSE: 0.55664 , Pearson Correlation: 0.56156 with p-value: 1.93246 , Concordance Index: 0.79664\n",
      "Training at Epoch 6 iteration 0 with loss 0.61999. Total time 0.02888 hours\n",
      "Validation at Epoch 6 with loss:0.81035, MSE: 0.71196 , Pearson Correlation: 0.56330 with p-value: 2.57108 , Concordance Index: 0.79259\n",
      "Training at Epoch 7 iteration 0 with loss 0.65483. Total time 0.03472 hours\n",
      "Validation at Epoch 7 with loss:0.74418, MSE: 0.53900 , Pearson Correlation: 0.57199 with p-value: 8.18646 , Concordance Index: 0.79853\n",
      "Training at Epoch 8 iteration 0 with loss 0.44226. Total time 0.04083 hours\n",
      "Validation at Epoch 8 with loss:0.71095, MSE: 0.58113 , Pearson Correlation: 0.57515 with p-value: 2.44778 , Concordance Index: 0.79758\n",
      "Training at Epoch 9 iteration 0 with loss 0.60982. Total time 0.04694 hours\n",
      "Validation at Epoch 9 with loss:0.63000, MSE: 0.52418 , Pearson Correlation: 0.60365 with p-value: 5.89497 , Concordance Index: 0.80859\n",
      "Training at Epoch 10 iteration 0 with loss 0.48427. Total time 0.05277 hours\n",
      "Validation at Epoch 10 with loss:0.44637, MSE: 0.48595 , Pearson Correlation: 0.62400 with p-value: 0.0 , Concordance Index: 0.81323\n",
      "Training at Epoch 11 iteration 0 with loss 0.60951. Total time 0.05861 hours\n",
      "Validation at Epoch 11 with loss:0.34456, MSE: 0.47647 , Pearson Correlation: 0.63260 with p-value: 0.0 , Concordance Index: 0.81948\n",
      "Training at Epoch 12 iteration 0 with loss 0.37272. Total time 0.06416 hours\n",
      "Validation at Epoch 12 with loss:0.36607, MSE: 0.49931 , Pearson Correlation: 0.62895 with p-value: 0.0 , Concordance Index: 0.81803\n",
      "Training at Epoch 13 iteration 0 with loss 0.44729. Total time 0.06972 hours\n",
      "Validation at Epoch 13 with loss:0.29716, MSE: 0.46713 , Pearson Correlation: 0.64717 with p-value: 0.0 , Concordance Index: 0.82775\n",
      "Training at Epoch 14 iteration 0 with loss 0.42303. Total time 0.07555 hours\n",
      "Validation at Epoch 14 with loss:0.56430, MSE: 0.52293 , Pearson Correlation: 0.65215 with p-value: 0.0 , Concordance Index: 0.82985\n",
      "Training at Epoch 15 iteration 0 with loss 0.56008. Total time 0.08138 hours\n",
      "Validation at Epoch 15 with loss:0.63323, MSE: 0.53536 , Pearson Correlation: 0.64530 with p-value: 0.0 , Concordance Index: 0.81629\n",
      "Training at Epoch 16 iteration 0 with loss 0.51110. Total time 0.08722 hours\n",
      "Validation at Epoch 16 with loss:0.47787, MSE: 0.48760 , Pearson Correlation: 0.65692 with p-value: 0.0 , Concordance Index: 0.82372\n",
      "Training at Epoch 17 iteration 0 with loss 0.45887. Total time 0.09277 hours\n",
      "Validation at Epoch 17 with loss:0.38442, MSE: 0.46321 , Pearson Correlation: 0.66371 with p-value: 0.0 , Concordance Index: 0.82764\n",
      "Training at Epoch 18 iteration 0 with loss 0.65525. Total time 0.09833 hours\n",
      "Validation at Epoch 18 with loss:0.39348, MSE: 0.42944 , Pearson Correlation: 0.68538 with p-value: 0.0 , Concordance Index: 0.83036\n",
      "Training at Epoch 19 iteration 0 with loss 0.42878. Total time 0.10416 hours\n",
      "Validation at Epoch 19 with loss:0.42015, MSE: 0.39599 , Pearson Correlation: 0.70998 with p-value: 0.0 , Concordance Index: 0.83638\n",
      "Training at Epoch 20 iteration 0 with loss 0.36103. Total time 0.11 hours\n",
      "Validation at Epoch 20 with loss:0.38851, MSE: 0.39338 , Pearson Correlation: 0.71207 with p-value: 0.0 , Concordance Index: 0.83956\n",
      "Training at Epoch 21 iteration 0 with loss 0.36738. Total time 0.11555 hours\n",
      "Validation at Epoch 21 with loss:0.44651, MSE: 0.42252 , Pearson Correlation: 0.73876 with p-value: 0.0 , Concordance Index: 0.83861\n",
      "Training at Epoch 22 iteration 0 with loss 0.53540. Total time 0.12138 hours\n",
      "Validation at Epoch 22 with loss:0.33494, MSE: 0.36975 , Pearson Correlation: 0.75262 with p-value: 0.0 , Concordance Index: 0.84898\n",
      "Training at Epoch 23 iteration 0 with loss 0.37346. Total time 0.12694 hours\n",
      "Validation at Epoch 23 with loss:0.28991, MSE: 0.33827 , Pearson Correlation: 0.75813 with p-value: 0.0 , Concordance Index: 0.85144\n",
      "Training at Epoch 24 iteration 0 with loss 0.32938. Total time 0.1325 hours\n",
      "Validation at Epoch 24 with loss:0.22878, MSE: 0.34164 , Pearson Correlation: 0.76416 with p-value: 0.0 , Concordance Index: 0.85096\n",
      "Training at Epoch 25 iteration 0 with loss 0.31203. Total time 0.13833 hours\n",
      "Validation at Epoch 25 with loss:0.48706, MSE: 0.34963 , Pearson Correlation: 0.76657 with p-value: 0.0 , Concordance Index: 0.85688\n",
      "Training at Epoch 26 iteration 0 with loss 0.30163. Total time 0.14388 hours\n",
      "Validation at Epoch 26 with loss:0.44837, MSE: 0.40622 , Pearson Correlation: 0.75916 with p-value: 0.0 , Concordance Index: 0.83727\n",
      "Training at Epoch 27 iteration 0 with loss 0.42716. Total time 0.15 hours\n",
      "Validation at Epoch 27 with loss:0.41497, MSE: 0.40454 , Pearson Correlation: 0.77867 with p-value: 0.0 , Concordance Index: 0.85971\n",
      "Training at Epoch 28 iteration 0 with loss 0.40532. Total time 0.15583 hours\n"
     ]
    }
   ],
   "source": [
    "model.train(train, val, test)"
   ]
  },
  {
   "cell_type": "code",
   "execution_count": null,
   "metadata": {},
   "outputs": [],
   "source": [
    "model.save_model('./save_model/model_Daylight_AAC_Davis')"
   ]
  }
 ],
 "metadata": {
  "kernelspec": {
   "display_name": "Python 3",
   "language": "python",
   "name": "python3"
  },
  "language_info": {
   "codemirror_mode": {
    "name": "ipython",
    "version": 3
   },
   "file_extension": ".py",
   "mimetype": "text/x-python",
   "name": "python",
   "nbconvert_exporter": "python",
   "pygments_lexer": "ipython3",
   "version": "3.6.5"
  }
 },
 "nbformat": 4,
 "nbformat_minor": 4
}

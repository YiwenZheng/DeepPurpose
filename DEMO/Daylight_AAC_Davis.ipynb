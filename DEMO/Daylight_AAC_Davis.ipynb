{
 "cells": [
  {
   "cell_type": "code",
   "execution_count": 1,
   "metadata": {},
   "outputs": [],
   "source": [
    "import os\n",
    "os.chdir(\"/y/home/zyw/tmp/DeepPurpose/\")"
   ]
  },
  {
   "cell_type": "code",
   "execution_count": 2,
   "metadata": {},
   "outputs": [
    {
     "name": "stderr",
     "output_type": "stream",
     "text": [
      "WARNING:root:No normalization for BCUT2D_MWHI\n",
      "WARNING:root:No normalization for BCUT2D_MWLOW\n",
      "WARNING:root:No normalization for BCUT2D_CHGHI\n",
      "WARNING:root:No normalization for BCUT2D_CHGLO\n",
      "WARNING:root:No normalization for BCUT2D_LOGPHI\n",
      "WARNING:root:No normalization for BCUT2D_LOGPLOW\n",
      "WARNING:root:No normalization for BCUT2D_MRHI\n",
      "WARNING:root:No normalization for BCUT2D_MRLOW\n"
     ]
    }
   ],
   "source": [
    "from scripts import utils,dataset,DTI"
   ]
  },
  {
   "cell_type": "code",
   "execution_count": 3,
   "metadata": {},
   "outputs": [
    {
     "name": "stdout",
     "output_type": "stream",
     "text": [
      "Beginning Processing...\n",
      "Default set to logspace (nM -> p) for easier regression\n",
      "Done!\n"
     ]
    }
   ],
   "source": [
    "X_drug, X_target, y = dataset.load_process_DAVIS('./data/', binary=False)"
   ]
  },
  {
   "cell_type": "code",
   "execution_count": 4,
   "metadata": {},
   "outputs": [],
   "source": [
    "drug_encoding = 'Daylight'\n",
    "target_encoding = 'AAC'"
   ]
  },
  {
   "cell_type": "code",
   "execution_count": 5,
   "metadata": {},
   "outputs": [
    {
     "name": "stdout",
     "output_type": "stream",
     "text": [
      "Drug Target Interaction Prediction Mode...\n",
      "in total: 30056 drug-target pairs\n",
      "encoding drug...\n",
      "unique drugs: 68\n",
      "encoding protein...\n",
      "unique target sequence: 379\n",
      "-- Encoding AAC takes time. Time Reference: 24s for ~100 sequences in a CPU.\t\t\t\t Calculate your time by the unique target sequence #, instead of the entire dataset.\n",
      "splitting dataset...\n",
      "Done.\n"
     ]
    }
   ],
   "source": [
    "train, val, test = utils.data_process(X_drug, X_target, y, \n",
    "                                drug_encoding, target_encoding, \n",
    "                                split_method = 'random',frac = [0.7,0.1,0.2], random_seed = 3)"
   ]
  },
  {
   "cell_type": "code",
   "execution_count": 6,
   "metadata": {},
   "outputs": [],
   "source": [
    "config = utils.generate_config(drug_encoding = drug_encoding, \n",
    "                         target_encoding = target_encoding, \n",
    "                         cls_hidden_dims = [1024,1024,512], \n",
    "                         train_epoch = 100, \n",
    "                         LR = 0.001, \n",
    "                         batch_size = 256,\n",
    "                         cnn_target_filters = [32,64,96],\n",
    "                         cnn_target_kernels = [4,8,12])"
   ]
  },
  {
   "cell_type": "code",
   "execution_count": 7,
   "metadata": {},
   "outputs": [],
   "source": [
    "model = DTI.model_initialize(**config)"
   ]
  },
  {
   "cell_type": "code",
   "execution_count": null,
   "metadata": {
    "scrolled": true
   },
   "outputs": [
    {
     "name": "stdout",
     "output_type": "stream",
     "text": [
      "Let's use 1 GPU!\n",
      "--- Data Preparation ---\n",
      "--- Go for Training ---\n",
      "Training at Epoch 1 iteration 0 with loss 30.1299. Total time 0.0 hours\n",
      "Validation at Epoch 1 with loss:0.59033, MSE: 0.61007 , Pearson Correlation: 0.48628 with p-value: 3.02616 , Concordance Index: 0.75627\n",
      "Training at Epoch 2 iteration 0 with loss 0.81279. Total time 0.00583 hours\n",
      "Validation at Epoch 2 with loss:0.54633, MSE: 0.54591 , Pearson Correlation: 0.55896 with p-value: 1.13983 , Concordance Index: 0.79563\n",
      "Training at Epoch 3 iteration 0 with loss 0.61559. Total time 0.01166 hours\n",
      "Validation at Epoch 3 with loss:0.53167, MSE: 0.54350 , Pearson Correlation: 0.56096 with p-value: 8.42201 , Concordance Index: 0.79588\n",
      "Training at Epoch 4 iteration 0 with loss 0.51075. Total time 0.0175 hours\n",
      "Validation at Epoch 4 with loss:0.58534, MSE: 0.54163 , Pearson Correlation: 0.56498 with p-value: 3.96135 , Concordance Index: 0.79660\n",
      "Training at Epoch 5 iteration 0 with loss 0.51843. Total time 0.02333 hours\n",
      "Validation at Epoch 5 with loss:0.68985, MSE: 0.55664 , Pearson Correlation: 0.56156 with p-value: 1.93246 , Concordance Index: 0.79664\n",
      "Training at Epoch 6 iteration 0 with loss 0.61999. Total time 0.02888 hours\n",
      "Validation at Epoch 6 with loss:0.81035, MSE: 0.71196 , Pearson Correlation: 0.56330 with p-value: 2.57108 , Concordance Index: 0.79259\n",
      "Training at Epoch 7 iteration 0 with loss 0.65483. Total time 0.03472 hours\n",
      "Validation at Epoch 7 with loss:0.74418, MSE: 0.53900 , Pearson Correlation: 0.57199 with p-value: 8.18646 , Concordance Index: 0.79853\n",
      "Training at Epoch 8 iteration 0 with loss 0.44226. Total time 0.04083 hours\n",
      "Validation at Epoch 8 with loss:0.71095, MSE: 0.58113 , Pearson Correlation: 0.57515 with p-value: 2.44778 , Concordance Index: 0.79758\n",
      "Training at Epoch 9 iteration 0 with loss 0.60982. Total time 0.04694 hours\n",
      "Validation at Epoch 9 with loss:0.63000, MSE: 0.52418 , Pearson Correlation: 0.60365 with p-value: 5.89497 , Concordance Index: 0.80859\n",
      "Training at Epoch 10 iteration 0 with loss 0.48427. Total time 0.05277 hours\n",
      "Validation at Epoch 10 with loss:0.44637, MSE: 0.48595 , Pearson Correlation: 0.62400 with p-value: 0.0 , Concordance Index: 0.81323\n",
      "Training at Epoch 11 iteration 0 with loss 0.60951. Total time 0.05861 hours\n",
      "Validation at Epoch 11 with loss:0.34456, MSE: 0.47647 , Pearson Correlation: 0.63260 with p-value: 0.0 , Concordance Index: 0.81948\n",
      "Training at Epoch 12 iteration 0 with loss 0.37272. Total time 0.06416 hours\n",
      "Validation at Epoch 12 with loss:0.36607, MSE: 0.49931 , Pearson Correlation: 0.62895 with p-value: 0.0 , Concordance Index: 0.81803\n",
      "Training at Epoch 13 iteration 0 with loss 0.44729. Total time 0.06972 hours\n",
      "Validation at Epoch 13 with loss:0.29716, MSE: 0.46713 , Pearson Correlation: 0.64717 with p-value: 0.0 , Concordance Index: 0.82775\n",
      "Training at Epoch 14 iteration 0 with loss 0.42303. Total time 0.07555 hours\n",
      "Validation at Epoch 14 with loss:0.56430, MSE: 0.52293 , Pearson Correlation: 0.65215 with p-value: 0.0 , Concordance Index: 0.82985\n",
      "Training at Epoch 15 iteration 0 with loss 0.56008. Total time 0.08138 hours\n",
      "Validation at Epoch 15 with loss:0.63323, MSE: 0.53536 , Pearson Correlation: 0.64530 with p-value: 0.0 , Concordance Index: 0.81629\n",
      "Training at Epoch 16 iteration 0 with loss 0.51110. Total time 0.08722 hours\n",
      "Validation at Epoch 16 with loss:0.47787, MSE: 0.48760 , Pearson Correlation: 0.65692 with p-value: 0.0 , Concordance Index: 0.82372\n",
      "Training at Epoch 17 iteration 0 with loss 0.45887. Total time 0.09277 hours\n",
      "Validation at Epoch 17 with loss:0.38442, MSE: 0.46321 , Pearson Correlation: 0.66371 with p-value: 0.0 , Concordance Index: 0.82764\n",
      "Training at Epoch 18 iteration 0 with loss 0.65525. Total time 0.09833 hours\n",
      "Validation at Epoch 18 with loss:0.39348, MSE: 0.42944 , Pearson Correlation: 0.68538 with p-value: 0.0 , Concordance Index: 0.83036\n",
      "Training at Epoch 19 iteration 0 with loss 0.42878. Total time 0.10416 hours\n",
      "Validation at Epoch 19 with loss:0.42015, MSE: 0.39599 , Pearson Correlation: 0.70998 with p-value: 0.0 , Concordance Index: 0.83638\n",
      "Training at Epoch 20 iteration 0 with loss 0.36103. Total time 0.11 hours\n",
      "Validation at Epoch 20 with loss:0.38851, MSE: 0.39338 , Pearson Correlation: 0.71207 with p-value: 0.0 , Concordance Index: 0.83956\n",
      "Training at Epoch 21 iteration 0 with loss 0.36738. Total time 0.11555 hours\n",
      "Validation at Epoch 21 with loss:0.44651, MSE: 0.42252 , Pearson Correlation: 0.73876 with p-value: 0.0 , Concordance Index: 0.83861\n",
      "Training at Epoch 22 iteration 0 with loss 0.53540. Total time 0.12138 hours\n",
      "Validation at Epoch 22 with loss:0.33494, MSE: 0.36975 , Pearson Correlation: 0.75262 with p-value: 0.0 , Concordance Index: 0.84898\n",
      "Training at Epoch 23 iteration 0 with loss 0.37346. Total time 0.12694 hours\n",
      "Validation at Epoch 23 with loss:0.28991, MSE: 0.33827 , Pearson Correlation: 0.75813 with p-value: 0.0 , Concordance Index: 0.85144\n",
      "Training at Epoch 24 iteration 0 with loss 0.32938. Total time 0.1325 hours\n",
      "Validation at Epoch 24 with loss:0.22878, MSE: 0.34164 , Pearson Correlation: 0.76416 with p-value: 0.0 , Concordance Index: 0.85096\n",
      "Training at Epoch 25 iteration 0 with loss 0.31203. Total time 0.13833 hours\n",
      "Validation at Epoch 25 with loss:0.48706, MSE: 0.34963 , Pearson Correlation: 0.76657 with p-value: 0.0 , Concordance Index: 0.85688\n",
      "Training at Epoch 26 iteration 0 with loss 0.30163. Total time 0.14388 hours\n",
      "Validation at Epoch 26 with loss:0.44837, MSE: 0.40622 , Pearson Correlation: 0.75916 with p-value: 0.0 , Concordance Index: 0.83727\n",
      "Training at Epoch 27 iteration 0 with loss 0.42716. Total time 0.15 hours\n",
      "Validation at Epoch 27 with loss:0.41497, MSE: 0.40454 , Pearson Correlation: 0.77867 with p-value: 0.0 , Concordance Index: 0.85971\n",
      "Training at Epoch 28 iteration 0 with loss 0.40532. Total time 0.15583 hours\n",
      "Validation at Epoch 28 with loss:0.30557, MSE: 0.31068 , Pearson Correlation: 0.78063 with p-value: 0.0 , Concordance Index: 0.85935\n",
      "Training at Epoch 29 iteration 0 with loss 0.48093. Total time 0.16138 hours\n",
      "Validation at Epoch 29 with loss:0.30261, MSE: 0.30147 , Pearson Correlation: 0.78738 with p-value: 0.0 , Concordance Index: 0.86101\n",
      "Training at Epoch 30 iteration 0 with loss 0.22789. Total time 0.1675 hours\n",
      "Validation at Epoch 30 with loss:0.36575, MSE: 0.31686 , Pearson Correlation: 0.79528 with p-value: 0.0 , Concordance Index: 0.86202\n",
      "Training at Epoch 31 iteration 0 with loss 0.24300. Total time 0.17305 hours\n",
      "Validation at Epoch 31 with loss:0.31872, MSE: 0.31525 , Pearson Correlation: 0.78202 with p-value: 0.0 , Concordance Index: 0.85426\n",
      "Training at Epoch 32 iteration 0 with loss 0.28796. Total time 0.17888 hours\n",
      "Validation at Epoch 32 with loss:0.34494, MSE: 0.34252 , Pearson Correlation: 0.79622 with p-value: 0.0 , Concordance Index: 0.86614\n",
      "Training at Epoch 33 iteration 0 with loss 0.32495. Total time 0.18472 hours\n",
      "Validation at Epoch 33 with loss:0.22003, MSE: 0.29417 , Pearson Correlation: 0.79736 with p-value: 0.0 , Concordance Index: 0.86299\n",
      "Training at Epoch 34 iteration 0 with loss 0.30160. Total time 0.19027 hours\n",
      "Validation at Epoch 34 with loss:0.39807, MSE: 0.39547 , Pearson Correlation: 0.79420 with p-value: 0.0 , Concordance Index: 0.85173\n",
      "Training at Epoch 35 iteration 0 with loss 0.37226. Total time 0.19583 hours\n",
      "Validation at Epoch 35 with loss:0.19870, MSE: 0.33741 , Pearson Correlation: 0.79249 with p-value: 0.0 , Concordance Index: 0.84990\n",
      "Training at Epoch 36 iteration 0 with loss 0.28957. Total time 0.20166 hours\n",
      "Validation at Epoch 36 with loss:0.42124, MSE: 0.41425 , Pearson Correlation: 0.79331 with p-value: 0.0 , Concordance Index: 0.85175\n",
      "Training at Epoch 37 iteration 0 with loss 0.49921. Total time 0.2075 hours\n",
      "Validation at Epoch 37 with loss:0.21749, MSE: 0.29594 , Pearson Correlation: 0.79858 with p-value: 0.0 , Concordance Index: 0.85787\n",
      "Training at Epoch 38 iteration 0 with loss 0.25820. Total time 0.21333 hours\n",
      "Validation at Epoch 38 with loss:0.30161, MSE: 0.29173 , Pearson Correlation: 0.80362 with p-value: 0.0 , Concordance Index: 0.86446\n",
      "Training at Epoch 39 iteration 0 with loss 0.27866. Total time 0.21916 hours\n",
      "Validation at Epoch 39 with loss:0.26279, MSE: 0.28247 , Pearson Correlation: 0.80709 with p-value: 0.0 , Concordance Index: 0.86107\n"
     ]
    },
    {
     "name": "stdout",
     "output_type": "stream",
     "text": [
      "Training at Epoch 40 iteration 0 with loss 0.21512. Total time 0.225 hours\n",
      "Validation at Epoch 40 with loss:0.28539, MSE: 0.27858 , Pearson Correlation: 0.80718 with p-value: 0.0 , Concordance Index: 0.86472\n",
      "Training at Epoch 41 iteration 0 with loss 0.23866. Total time 0.23055 hours\n",
      "Validation at Epoch 41 with loss:0.35409, MSE: 0.29962 , Pearson Correlation: 0.79569 with p-value: 0.0 , Concordance Index: 0.86408\n",
      "Training at Epoch 42 iteration 0 with loss 0.27997. Total time 0.23638 hours\n",
      "Validation at Epoch 42 with loss:0.24957, MSE: 0.27135 , Pearson Correlation: 0.81141 with p-value: 0.0 , Concordance Index: 0.86711\n",
      "Training at Epoch 43 iteration 0 with loss 0.31006. Total time 0.24222 hours\n",
      "Validation at Epoch 43 with loss:0.34764, MSE: 0.28196 , Pearson Correlation: 0.80394 with p-value: 0.0 , Concordance Index: 0.86579\n",
      "Training at Epoch 44 iteration 0 with loss 0.25136. Total time 0.24805 hours\n",
      "Validation at Epoch 44 with loss:0.33948, MSE: 0.28936 , Pearson Correlation: 0.80623 with p-value: 0.0 , Concordance Index: 0.86083\n",
      "Training at Epoch 45 iteration 0 with loss 0.20998. Total time 0.25388 hours\n",
      "Validation at Epoch 45 with loss:0.26897, MSE: 0.30985 , Pearson Correlation: 0.81439 with p-value: 0.0 , Concordance Index: 0.86660\n",
      "Training at Epoch 46 iteration 0 with loss 0.28445. Total time 0.25972 hours\n",
      "Validation at Epoch 46 with loss:0.19975, MSE: 0.26625 , Pearson Correlation: 0.81663 with p-value: 0.0 , Concordance Index: 0.86855\n",
      "Training at Epoch 47 iteration 0 with loss 0.22808. Total time 0.26555 hours\n",
      "Validation at Epoch 47 with loss:0.27320, MSE: 0.26820 , Pearson Correlation: 0.81579 with p-value: 0.0 , Concordance Index: 0.87411\n",
      "Training at Epoch 48 iteration 0 with loss 0.17371. Total time 0.27111 hours\n",
      "Validation at Epoch 48 with loss:0.22038, MSE: 0.25899 , Pearson Correlation: 0.82321 with p-value: 0.0 , Concordance Index: 0.87657\n",
      "Training at Epoch 49 iteration 0 with loss 0.14591. Total time 0.27694 hours\n",
      "Validation at Epoch 49 with loss:0.22461, MSE: 0.29207 , Pearson Correlation: 0.80411 with p-value: 0.0 , Concordance Index: 0.87206\n",
      "Training at Epoch 50 iteration 0 with loss 0.28000. Total time 0.28277 hours\n",
      "Validation at Epoch 50 with loss:0.20343, MSE: 0.29050 , Pearson Correlation: 0.80893 with p-value: 0.0 , Concordance Index: 0.86844\n",
      "Training at Epoch 51 iteration 0 with loss 0.23636. Total time 0.28861 hours\n",
      "Validation at Epoch 51 with loss:0.24941, MSE: 0.28660 , Pearson Correlation: 0.80888 with p-value: 0.0 , Concordance Index: 0.87047\n",
      "Training at Epoch 52 iteration 0 with loss 0.15678. Total time 0.29416 hours\n",
      "Validation at Epoch 52 with loss:0.28884, MSE: 0.28998 , Pearson Correlation: 0.80962 with p-value: 0.0 , Concordance Index: 0.86043\n",
      "Training at Epoch 53 iteration 0 with loss 0.20148. Total time 0.29972 hours\n",
      "Validation at Epoch 53 with loss:0.33594, MSE: 0.33731 , Pearson Correlation: 0.82062 with p-value: 0.0 , Concordance Index: 0.87737\n",
      "Training at Epoch 54 iteration 0 with loss 0.21744. Total time 0.30555 hours\n",
      "Validation at Epoch 54 with loss:0.31154, MSE: 0.26272 , Pearson Correlation: 0.81998 with p-value: 0.0 , Concordance Index: 0.87780\n",
      "Training at Epoch 55 iteration 0 with loss 0.19203. Total time 0.31111 hours\n",
      "Validation at Epoch 55 with loss:0.40224, MSE: 0.27510 , Pearson Correlation: 0.80975 with p-value: 0.0 , Concordance Index: 0.87556\n",
      "Training at Epoch 56 iteration 0 with loss 0.21106. Total time 0.31666 hours\n",
      "Validation at Epoch 56 with loss:0.25441, MSE: 0.26854 , Pearson Correlation: 0.81461 with p-value: 0.0 , Concordance Index: 0.87676\n",
      "Training at Epoch 57 iteration 0 with loss 0.20528. Total time 0.3225 hours\n",
      "Validation at Epoch 57 with loss:0.21698, MSE: 0.27692 , Pearson Correlation: 0.81617 with p-value: 0.0 , Concordance Index: 0.88276\n",
      "Training at Epoch 58 iteration 0 with loss 0.19052. Total time 0.32833 hours\n",
      "Validation at Epoch 58 with loss:0.23277, MSE: 0.27109 , Pearson Correlation: 0.82111 with p-value: 0.0 , Concordance Index: 0.88041\n",
      "Training at Epoch 59 iteration 0 with loss 0.21749. Total time 0.33416 hours\n",
      "Validation at Epoch 59 with loss:0.24658, MSE: 0.26677 , Pearson Correlation: 0.82023 with p-value: 0.0 , Concordance Index: 0.87985\n",
      "Training at Epoch 60 iteration 0 with loss 0.22217. Total time 0.34027 hours\n",
      "Validation at Epoch 60 with loss:0.32749, MSE: 0.26741 , Pearson Correlation: 0.81587 with p-value: 0.0 , Concordance Index: 0.87975\n",
      "Training at Epoch 61 iteration 0 with loss 0.19746. Total time 0.34611 hours\n",
      "Validation at Epoch 61 with loss:0.17547, MSE: 0.24945 , Pearson Correlation: 0.83056 with p-value: 0.0 , Concordance Index: 0.88608\n",
      "Training at Epoch 62 iteration 0 with loss 0.15075. Total time 0.35194 hours\n",
      "Validation at Epoch 62 with loss:0.24530, MSE: 0.27046 , Pearson Correlation: 0.82222 with p-value: 0.0 , Concordance Index: 0.87817\n",
      "Training at Epoch 63 iteration 0 with loss 0.18253. Total time 0.35777 hours\n",
      "Validation at Epoch 63 with loss:0.16485, MSE: 0.24911 , Pearson Correlation: 0.83003 with p-value: 0.0 , Concordance Index: 0.88216\n",
      "Training at Epoch 64 iteration 0 with loss 0.13768. Total time 0.36333 hours\n",
      "Validation at Epoch 64 with loss:0.38363, MSE: 0.26554 , Pearson Correlation: 0.82284 with p-value: 0.0 , Concordance Index: 0.88105\n",
      "Training at Epoch 65 iteration 0 with loss 0.20085. Total time 0.36916 hours\n",
      "Validation at Epoch 65 with loss:0.19807, MSE: 0.26606 , Pearson Correlation: 0.82360 with p-value: 0.0 , Concordance Index: 0.88597\n",
      "Training at Epoch 66 iteration 0 with loss 0.15138. Total time 0.37527 hours\n",
      "Validation at Epoch 66 with loss:0.21553, MSE: 0.26620 , Pearson Correlation: 0.81820 with p-value: 0.0 , Concordance Index: 0.87947\n",
      "Training at Epoch 67 iteration 0 with loss 0.14464. Total time 0.38111 hours\n",
      "Validation at Epoch 67 with loss:0.28697, MSE: 0.26072 , Pearson Correlation: 0.82272 with p-value: 0.0 , Concordance Index: 0.87517\n",
      "Training at Epoch 68 iteration 0 with loss 0.15844. Total time 0.38694 hours\n",
      "Validation at Epoch 68 with loss:0.22781, MSE: 0.26150 , Pearson Correlation: 0.82096 with p-value: 0.0 , Concordance Index: 0.87838\n",
      "Training at Epoch 69 iteration 0 with loss 0.17930. Total time 0.39277 hours\n",
      "Validation at Epoch 69 with loss:0.24341, MSE: 0.25515 , Pearson Correlation: 0.82870 with p-value: 0.0 , Concordance Index: 0.87444\n",
      "Training at Epoch 70 iteration 0 with loss 0.14694. Total time 0.39833 hours\n",
      "Validation at Epoch 70 with loss:0.28896, MSE: 0.26609 , Pearson Correlation: 0.81831 with p-value: 0.0 , Concordance Index: 0.88403\n",
      "Training at Epoch 71 iteration 0 with loss 0.19496. Total time 0.40388 hours\n",
      "Validation at Epoch 71 with loss:0.20325, MSE: 0.24533 , Pearson Correlation: 0.83132 with p-value: 0.0 , Concordance Index: 0.88672\n",
      "Training at Epoch 72 iteration 0 with loss 0.16010. Total time 0.40972 hours\n",
      "Validation at Epoch 72 with loss:0.29485, MSE: 0.25629 , Pearson Correlation: 0.82683 with p-value: 0.0 , Concordance Index: 0.87955\n",
      "Training at Epoch 73 iteration 0 with loss 0.15978. Total time 0.41555 hours\n",
      "Validation at Epoch 73 with loss:0.23682, MSE: 0.26142 , Pearson Correlation: 0.83043 with p-value: 0.0 , Concordance Index: 0.88802\n",
      "Training at Epoch 74 iteration 0 with loss 0.17584. Total time 0.42138 hours\n",
      "Validation at Epoch 74 with loss:0.35659, MSE: 0.28929 , Pearson Correlation: 0.82653 with p-value: 0.0 , Concordance Index: 0.87709\n",
      "Training at Epoch 75 iteration 0 with loss 0.19692. Total time 0.42694 hours\n",
      "Validation at Epoch 75 with loss:0.21275, MSE: 0.25405 , Pearson Correlation: 0.82656 with p-value: 0.0 , Concordance Index: 0.88323\n",
      "Training at Epoch 76 iteration 0 with loss 0.13077. Total time 0.43277 hours\n",
      "Validation at Epoch 76 with loss:0.19571, MSE: 0.24978 , Pearson Correlation: 0.83044 with p-value: 0.0 , Concordance Index: 0.88506\n",
      "Training at Epoch 77 iteration 0 with loss 0.13517. Total time 0.43833 hours\n",
      "Validation at Epoch 77 with loss:0.36948, MSE: 0.26480 , Pearson Correlation: 0.82364 with p-value: 0.0 , Concordance Index: 0.87838\n",
      "Training at Epoch 78 iteration 0 with loss 0.12070. Total time 0.44444 hours\n",
      "Validation at Epoch 78 with loss:0.22390, MSE: 0.24524 , Pearson Correlation: 0.83428 with p-value: 0.0 , Concordance Index: 0.88686\n",
      "Training at Epoch 79 iteration 0 with loss 0.19441. Total time 0.45027 hours\n"
     ]
    },
    {
     "name": "stdout",
     "output_type": "stream",
     "text": [
      "Validation at Epoch 79 with loss:0.16514, MSE: 0.26099 , Pearson Correlation: 0.83133 with p-value: 0.0 , Concordance Index: 0.88840\n",
      "Training at Epoch 80 iteration 0 with loss 0.13325. Total time 0.45611 hours\n",
      "Validation at Epoch 80 with loss:0.31814, MSE: 0.27233 , Pearson Correlation: 0.83059 with p-value: 0.0 , Concordance Index: 0.87966\n",
      "Training at Epoch 81 iteration 0 with loss 0.14849. Total time 0.46194 hours\n",
      "Validation at Epoch 81 with loss:0.21370, MSE: 0.25127 , Pearson Correlation: 0.82845 with p-value: 0.0 , Concordance Index: 0.88855\n",
      "Training at Epoch 82 iteration 0 with loss 0.14661. Total time 0.46777 hours\n",
      "Validation at Epoch 82 with loss:0.20923, MSE: 0.25378 , Pearson Correlation: 0.82937 with p-value: 0.0 , Concordance Index: 0.88738\n",
      "Training at Epoch 83 iteration 0 with loss 0.15056. Total time 0.47361 hours\n",
      "Validation at Epoch 83 with loss:0.29994, MSE: 0.25241 , Pearson Correlation: 0.83123 with p-value: 0.0 , Concordance Index: 0.88110\n",
      "Training at Epoch 84 iteration 0 with loss 0.12655. Total time 0.47916 hours\n",
      "Validation at Epoch 84 with loss:0.19799, MSE: 0.25477 , Pearson Correlation: 0.82424 with p-value: 0.0 , Concordance Index: 0.87950\n",
      "Training at Epoch 85 iteration 0 with loss 0.10235. Total time 0.485 hours\n",
      "Validation at Epoch 85 with loss:0.21374, MSE: 0.25083 , Pearson Correlation: 0.82915 with p-value: 0.0 , Concordance Index: 0.88033\n",
      "Training at Epoch 86 iteration 0 with loss 0.14800. Total time 0.49111 hours\n",
      "Validation at Epoch 86 with loss:0.36591, MSE: 0.25065 , Pearson Correlation: 0.82990 with p-value: 0.0 , Concordance Index: 0.88635\n",
      "Training at Epoch 87 iteration 0 with loss 0.12081. Total time 0.49666 hours\n",
      "Validation at Epoch 87 with loss:0.27620, MSE: 0.25515 , Pearson Correlation: 0.82575 with p-value: 0.0 , Concordance Index: 0.87532\n",
      "Training at Epoch 88 iteration 0 with loss 0.09864. Total time 0.5025 hours\n",
      "Validation at Epoch 88 with loss:0.24425, MSE: 0.25096 , Pearson Correlation: 0.83141 with p-value: 0.0 , Concordance Index: 0.88937\n",
      "Training at Epoch 89 iteration 0 with loss 0.10304. Total time 0.50805 hours\n",
      "Validation at Epoch 89 with loss:0.28213, MSE: 0.28671 , Pearson Correlation: 0.82881 with p-value: 0.0 , Concordance Index: 0.88246\n",
      "Training at Epoch 90 iteration 0 with loss 0.13722. Total time 0.51388 hours\n",
      "Validation at Epoch 90 with loss:0.17628, MSE: 0.25771 , Pearson Correlation: 0.83098 with p-value: 0.0 , Concordance Index: 0.88007\n",
      "Training at Epoch 91 iteration 0 with loss 0.09894. Total time 0.51972 hours\n",
      "Validation at Epoch 91 with loss:0.16171, MSE: 0.25189 , Pearson Correlation: 0.82779 with p-value: 0.0 , Concordance Index: 0.88738\n",
      "Training at Epoch 92 iteration 0 with loss 0.11568. Total time 0.52555 hours\n",
      "Validation at Epoch 92 with loss:0.40977, MSE: 0.26618 , Pearson Correlation: 0.81932 with p-value: 0.0 , Concordance Index: 0.87706\n",
      "Training at Epoch 93 iteration 0 with loss 0.09905. Total time 0.53138 hours\n",
      "Validation at Epoch 93 with loss:0.26380, MSE: 0.25439 , Pearson Correlation: 0.82624 with p-value: 0.0 , Concordance Index: 0.88888\n",
      "Training at Epoch 94 iteration 0 with loss 0.10517. Total time 0.53694 hours\n",
      "Validation at Epoch 94 with loss:0.28588, MSE: 0.27438 , Pearson Correlation: 0.82234 with p-value: 0.0 , Concordance Index: 0.88497\n",
      "Training at Epoch 95 iteration 0 with loss 0.09518. Total time 0.54277 hours\n",
      "Validation at Epoch 95 with loss:0.28949, MSE: 0.25990 , Pearson Correlation: 0.82629 with p-value: 0.0 , Concordance Index: 0.87827\n",
      "Training at Epoch 96 iteration 0 with loss 0.18631. Total time 0.54833 hours\n",
      "Validation at Epoch 96 with loss:0.18311, MSE: 0.26717 , Pearson Correlation: 0.81887 with p-value: 0.0 , Concordance Index: 0.87536\n",
      "Training at Epoch 97 iteration 0 with loss 0.12044. Total time 0.55361 hours\n",
      "Validation at Epoch 97 with loss:0.21033, MSE: 0.26604 , Pearson Correlation: 0.82738 with p-value: 0.0 , Concordance Index: 0.88666\n",
      "Training at Epoch 98 iteration 0 with loss 0.12514. Total time 0.55888 hours\n"
     ]
    }
   ],
   "source": [
    "model.train(train, val, test)"
   ]
  },
  {
   "cell_type": "code",
   "execution_count": null,
   "metadata": {},
   "outputs": [],
   "source": [
    "model.save_model('./save_model/model_Daylight_AAC_Davis')"
   ]
  }
 ],
 "metadata": {
  "kernelspec": {
   "display_name": "Python 3",
   "language": "python",
   "name": "python3"
  },
  "language_info": {
   "codemirror_mode": {
    "name": "ipython",
    "version": 3
   },
   "file_extension": ".py",
   "mimetype": "text/x-python",
   "name": "python",
   "nbconvert_exporter": "python",
   "pygments_lexer": "ipython3",
   "version": "3.6.5"
  }
 },
 "nbformat": 4,
 "nbformat_minor": 4
}

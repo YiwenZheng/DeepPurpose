{
 "cells": [
  {
   "cell_type": "code",
   "execution_count": 1,
   "metadata": {},
   "outputs": [],
   "source": [
    "import os\n",
    "os.chdir(\"/y/home/zyw/tmp/DeepPurpose/\")"
   ]
  },
  {
   "cell_type": "code",
   "execution_count": 2,
   "metadata": {},
   "outputs": [
    {
     "name": "stderr",
     "output_type": "stream",
     "text": [
      "WARNING:root:No normalization for BCUT2D_MWHI\n",
      "WARNING:root:No normalization for BCUT2D_MWLOW\n",
      "WARNING:root:No normalization for BCUT2D_CHGHI\n",
      "WARNING:root:No normalization for BCUT2D_CHGLO\n",
      "WARNING:root:No normalization for BCUT2D_LOGPHI\n",
      "WARNING:root:No normalization for BCUT2D_LOGPLOW\n",
      "WARNING:root:No normalization for BCUT2D_MRHI\n",
      "WARNING:root:No normalization for BCUT2D_MRLOW\n"
     ]
    }
   ],
   "source": [
    "from scripts import utils,dataset,DTI"
   ]
  },
  {
   "cell_type": "code",
   "execution_count": 3,
   "metadata": {},
   "outputs": [
    {
     "name": "stdout",
     "output_type": "stream",
     "text": [
      "Beginning Processing...\n",
      "Default set to logspace (nM -> p) for easier regression\n",
      "Done!\n"
     ]
    }
   ],
   "source": [
    "X_drug, X_target, y = dataset.load_process_DAVIS('./data/', binary=False)"
   ]
  },
  {
   "cell_type": "code",
   "execution_count": 4,
   "metadata": {},
   "outputs": [],
   "source": [
    "drug_encoding = 'CNN'\n",
    "target_encoding = 'CNN'"
   ]
  },
  {
   "cell_type": "code",
   "execution_count": 5,
   "metadata": {},
   "outputs": [
    {
     "name": "stdout",
     "output_type": "stream",
     "text": [
      "Drug Target Interaction Prediction Mode...\n",
      "in total: 30056 drug-target pairs\n",
      "encoding drug...\n",
      "unique drugs: 68\n",
      "encoding protein...\n",
      "unique target sequence: 379\n",
      "splitting dataset...\n",
      "Done.\n"
     ]
    }
   ],
   "source": [
    "train, val, test = utils.data_process(X_drug, X_target, y, \n",
    "                                drug_encoding, target_encoding, \n",
    "                                split_method = 'random', frac = [0.7,0.1,0.2])"
   ]
  },
  {
   "cell_type": "code",
   "execution_count": 6,
   "metadata": {},
   "outputs": [],
   "source": [
    "config = utils.generate_config(drug_encoding = drug_encoding, \n",
    "                         target_encoding = target_encoding, \n",
    "                         cls_hidden_dims = [1024,1024,512], \n",
    "                         train_epoch = 100, \n",
    "                         LR = 0.001, \n",
    "                         batch_size = 256,\n",
    "                         cnn_drug_filters = [32,64,96],\n",
    "                         cnn_target_filters = [32,64,96],\n",
    "                         cnn_drug_kernels = [4,6,8],\n",
    "                         cnn_target_kernels = [4,8,12])"
   ]
  },
  {
   "cell_type": "code",
   "execution_count": 7,
   "metadata": {},
   "outputs": [],
   "source": [
    "model = DTI.model_initialize(**config)"
   ]
  },
  {
   "cell_type": "code",
   "execution_count": null,
   "metadata": {
    "scrolled": true
   },
   "outputs": [
    {
     "name": "stdout",
     "output_type": "stream",
     "text": [
      "Let's use 1 GPU!\n",
      "--- Data Preparation ---\n",
      "--- Go for Training ---\n",
      "Training at Epoch 1 iteration 0 with loss 30.4497. Total time 0.00027 hours\n",
      "Validation at Epoch 1 with loss:0.67265, MSE: 0.79520 , Pearson Correlation: 0.43537 with p-value: 2.68374 , Concordance Index: 0.73274\n",
      "Training at Epoch 2 iteration 0 with loss 0.81052. Total time 0.03277 hours\n",
      "Validation at Epoch 2 with loss:0.82737, MSE: 0.69749 , Pearson Correlation: 0.41822 with p-value: 1.32347 , Concordance Index: 0.76591\n",
      "Training at Epoch 3 iteration 0 with loss 0.91019. Total time 0.06611 hours\n",
      "Validation at Epoch 3 with loss:0.44742, MSE: 0.58934 , Pearson Correlation: 0.52626 with p-value: 8.02540 , Concordance Index: 0.77765\n",
      "Training at Epoch 4 iteration 0 with loss 0.56947. Total time 0.09972 hours\n",
      "Validation at Epoch 4 with loss:0.65135, MSE: 0.74896 , Pearson Correlation: 0.55997 with p-value: 9.49510 , Concordance Index: 0.78846\n",
      "Training at Epoch 5 iteration 0 with loss 0.85107. Total time 0.13305 hours\n",
      "Validation at Epoch 5 with loss:0.59498, MSE: 0.55671 , Pearson Correlation: 0.57705 with p-value: 1.74748 , Concordance Index: 0.79430\n",
      "Training at Epoch 6 iteration 0 with loss 0.60844. Total time 0.16583 hours\n",
      "Validation at Epoch 6 with loss:0.81040, MSE: 0.54041 , Pearson Correlation: 0.58675 with p-value: 1.25520 , Concordance Index: 0.79919\n",
      "Training at Epoch 7 iteration 0 with loss 0.45552. Total time 0.19972 hours\n",
      "Validation at Epoch 7 with loss:0.52927, MSE: 0.55566 , Pearson Correlation: 0.59847 with p-value: 1.32737 , Concordance Index: 0.80064\n",
      "Training at Epoch 8 iteration 0 with loss 0.58933. Total time 0.23333 hours\n",
      "Validation at Epoch 8 with loss:0.44553, MSE: 0.52139 , Pearson Correlation: 0.60580 with p-value: 1.22961 , Concordance Index: 0.80346\n",
      "Training at Epoch 9 iteration 0 with loss 0.40373. Total time 0.26666 hours\n",
      "Validation at Epoch 9 with loss:0.81088, MSE: 0.73589 , Pearson Correlation: 0.62972 with p-value: 0.0 , Concordance Index: 0.81021\n",
      "Training at Epoch 10 iteration 0 with loss 0.76239. Total time 0.30027 hours\n",
      "Validation at Epoch 10 with loss:0.55867, MSE: 0.54729 , Pearson Correlation: 0.63504 with p-value: 0.0 , Concordance Index: 0.81064\n",
      "Training at Epoch 11 iteration 0 with loss 0.58842. Total time 0.33305 hours\n",
      "Validation at Epoch 11 with loss:0.98233, MSE: 0.78828 , Pearson Correlation: 0.64052 with p-value: 0.0 , Concordance Index: 0.81745\n",
      "Training at Epoch 12 iteration 0 with loss 0.82204. Total time 0.36638 hours\n",
      "Validation at Epoch 12 with loss:0.68183, MSE: 0.55587 , Pearson Correlation: 0.65549 with p-value: 0.0 , Concordance Index: 0.81918\n",
      "Training at Epoch 13 iteration 0 with loss 0.59895. Total time 0.39916 hours\n",
      "Validation at Epoch 13 with loss:0.41255, MSE: 0.52870 , Pearson Correlation: 0.64864 with p-value: 0.0 , Concordance Index: 0.81841\n",
      "Training at Epoch 14 iteration 0 with loss 0.57996. Total time 0.43222 hours\n",
      "Validation at Epoch 14 with loss:0.58184, MSE: 0.52588 , Pearson Correlation: 0.64678 with p-value: 0.0 , Concordance Index: 0.81667\n",
      "Training at Epoch 15 iteration 0 with loss 0.68052. Total time 0.46583 hours\n",
      "Validation at Epoch 15 with loss:0.53575, MSE: 0.51477 , Pearson Correlation: 0.65233 with p-value: 0.0 , Concordance Index: 0.82331\n",
      "Training at Epoch 16 iteration 0 with loss 0.66632. Total time 0.49944 hours\n",
      "Validation at Epoch 16 with loss:0.63574, MSE: 0.66699 , Pearson Correlation: 0.65838 with p-value: 0.0 , Concordance Index: 0.82570\n",
      "Training at Epoch 17 iteration 0 with loss 0.60639. Total time 0.53277 hours\n",
      "Validation at Epoch 17 with loss:0.34606, MSE: 0.45661 , Pearson Correlation: 0.66413 with p-value: 0.0 , Concordance Index: 0.82255\n",
      "Training at Epoch 18 iteration 0 with loss 0.71236. Total time 0.56166 hours\n",
      "Validation at Epoch 18 with loss:0.58431, MSE: 0.52028 , Pearson Correlation: 0.65185 with p-value: 0.0 , Concordance Index: 0.82231\n",
      "Training at Epoch 19 iteration 0 with loss 0.50754. Total time 0.58444 hours\n",
      "Validation at Epoch 19 with loss:0.48469, MSE: 0.45717 , Pearson Correlation: 0.66833 with p-value: 0.0 , Concordance Index: 0.82315\n",
      "Training at Epoch 20 iteration 0 with loss 0.33985. Total time 0.60694 hours\n",
      "Validation at Epoch 20 with loss:0.56074, MSE: 0.55132 , Pearson Correlation: 0.67349 with p-value: 0.0 , Concordance Index: 0.83184\n",
      "Training at Epoch 21 iteration 0 with loss 0.60987. Total time 0.62861 hours\n",
      "Validation at Epoch 21 with loss:0.38753, MSE: 0.45476 , Pearson Correlation: 0.67764 with p-value: 0.0 , Concordance Index: 0.82830\n",
      "Training at Epoch 22 iteration 0 with loss 0.62330. Total time 0.65027 hours\n",
      "Validation at Epoch 22 with loss:0.42517, MSE: 0.44018 , Pearson Correlation: 0.68082 with p-value: 0.0 , Concordance Index: 0.83089\n",
      "Training at Epoch 23 iteration 0 with loss 0.37825. Total time 0.6725 hours\n",
      "Validation at Epoch 23 with loss:0.42235, MSE: 0.46409 , Pearson Correlation: 0.68918 with p-value: 0.0 , Concordance Index: 0.83332\n",
      "Training at Epoch 24 iteration 0 with loss 0.41648. Total time 0.69444 hours\n",
      "Validation at Epoch 24 with loss:0.46492, MSE: 0.43021 , Pearson Correlation: 0.68915 with p-value: 0.0 , Concordance Index: 0.83530\n",
      "Training at Epoch 25 iteration 0 with loss 0.37086. Total time 0.7175 hours\n",
      "Validation at Epoch 25 with loss:0.23153, MSE: 0.41319 , Pearson Correlation: 0.72031 with p-value: 0.0 , Concordance Index: 0.84364\n",
      "Training at Epoch 26 iteration 0 with loss 0.39742. Total time 0.74 hours\n",
      "Validation at Epoch 26 with loss:0.45300, MSE: 0.45945 , Pearson Correlation: 0.72425 with p-value: 0.0 , Concordance Index: 0.84583\n",
      "Training at Epoch 27 iteration 0 with loss 0.42587. Total time 0.76277 hours\n",
      "Validation at Epoch 27 with loss:0.46337, MSE: 0.39500 , Pearson Correlation: 0.72376 with p-value: 0.0 , Concordance Index: 0.83552\n",
      "Training at Epoch 28 iteration 0 with loss 0.52489. Total time 0.78583 hours\n",
      "Validation at Epoch 28 with loss:0.38063, MSE: 0.37069 , Pearson Correlation: 0.74621 with p-value: 0.0 , Concordance Index: 0.85570\n",
      "Training at Epoch 29 iteration 0 with loss 0.37445. Total time 0.80888 hours\n",
      "Validation at Epoch 29 with loss:0.39098, MSE: 0.39502 , Pearson Correlation: 0.74926 with p-value: 0.0 , Concordance Index: 0.85380\n",
      "Training at Epoch 30 iteration 0 with loss 0.36578. Total time 0.83166 hours\n",
      "Validation at Epoch 30 with loss:0.29244, MSE: 0.34095 , Pearson Correlation: 0.76442 with p-value: 0.0 , Concordance Index: 0.85954\n",
      "Training at Epoch 31 iteration 0 with loss 0.38347. Total time 0.85444 hours\n",
      "Validation at Epoch 31 with loss:0.29164, MSE: 0.39046 , Pearson Correlation: 0.76427 with p-value: 0.0 , Concordance Index: 0.85390\n",
      "Training at Epoch 32 iteration 0 with loss 0.34748. Total time 0.87722 hours\n",
      "Validation at Epoch 32 with loss:0.31036, MSE: 0.35716 , Pearson Correlation: 0.75872 with p-value: 0.0 , Concordance Index: 0.86021\n",
      "Training at Epoch 33 iteration 0 with loss 0.32891. Total time 0.9 hours\n",
      "Validation at Epoch 33 with loss:0.52852, MSE: 0.49396 , Pearson Correlation: 0.77093 with p-value: 0.0 , Concordance Index: 0.85841\n",
      "Training at Epoch 34 iteration 0 with loss 0.41261. Total time 0.92583 hours\n",
      "Validation at Epoch 34 with loss:0.25523, MSE: 0.33045 , Pearson Correlation: 0.77243 with p-value: 0.0 , Concordance Index: 0.85735\n",
      "Training at Epoch 35 iteration 0 with loss 0.27152. Total time 0.95194 hours\n",
      "Validation at Epoch 35 with loss:0.27820, MSE: 0.34564 , Pearson Correlation: 0.76907 with p-value: 0.0 , Concordance Index: 0.85764\n",
      "Training at Epoch 36 iteration 0 with loss 0.31135. Total time 0.97777 hours\n",
      "Validation at Epoch 36 with loss:0.25638, MSE: 0.37077 , Pearson Correlation: 0.77745 with p-value: 0.0 , Concordance Index: 0.86265\n",
      "Training at Epoch 37 iteration 0 with loss 0.30537. Total time 1.00361 hours\n",
      "Validation at Epoch 37 with loss:0.48172, MSE: 0.33334 , Pearson Correlation: 0.77347 with p-value: 0.0 , Concordance Index: 0.86205\n",
      "Training at Epoch 38 iteration 0 with loss 0.29296. Total time 1.02972 hours\n",
      "Validation at Epoch 38 with loss:0.45526, MSE: 0.42810 , Pearson Correlation: 0.76906 with p-value: 0.0 , Concordance Index: 0.85992\n",
      "Training at Epoch 39 iteration 0 with loss 0.43455. Total time 1.05611 hours\n",
      "Validation at Epoch 39 with loss:0.19238, MSE: 0.31689 , Pearson Correlation: 0.79087 with p-value: 0.0 , Concordance Index: 0.86991\n"
     ]
    },
    {
     "name": "stdout",
     "output_type": "stream",
     "text": [
      "Training at Epoch 40 iteration 0 with loss 0.32574. Total time 1.08222 hours\n",
      "Validation at Epoch 40 with loss:0.43214, MSE: 0.33759 , Pearson Correlation: 0.77616 with p-value: 0.0 , Concordance Index: 0.86628\n",
      "Training at Epoch 41 iteration 0 with loss 0.35293. Total time 1.10805 hours\n",
      "Validation at Epoch 41 with loss:0.27787, MSE: 0.33291 , Pearson Correlation: 0.77819 with p-value: 0.0 , Concordance Index: 0.85656\n",
      "Training at Epoch 42 iteration 0 with loss 0.24307. Total time 1.13444 hours\n",
      "Validation at Epoch 42 with loss:0.33081, MSE: 0.32903 , Pearson Correlation: 0.79214 with p-value: 0.0 , Concordance Index: 0.86709\n",
      "Training at Epoch 43 iteration 0 with loss 0.37829. Total time 1.16055 hours\n",
      "Validation at Epoch 43 with loss:0.18853, MSE: 0.31102 , Pearson Correlation: 0.79429 with p-value: 0.0 , Concordance Index: 0.86433\n",
      "Training at Epoch 44 iteration 0 with loss 0.24183. Total time 1.18666 hours\n",
      "Validation at Epoch 44 with loss:0.22967, MSE: 0.31137 , Pearson Correlation: 0.79917 with p-value: 0.0 , Concordance Index: 0.87256\n",
      "Training at Epoch 45 iteration 0 with loss 0.24843. Total time 1.2125 hours\n",
      "Validation at Epoch 45 with loss:0.44683, MSE: 0.31438 , Pearson Correlation: 0.78828 with p-value: 0.0 , Concordance Index: 0.86449\n",
      "Training at Epoch 46 iteration 0 with loss 0.29011. Total time 1.23888 hours\n",
      "Validation at Epoch 46 with loss:0.37709, MSE: 0.31182 , Pearson Correlation: 0.78797 with p-value: 0.0 , Concordance Index: 0.86316\n",
      "Training at Epoch 47 iteration 0 with loss 0.23391. Total time 1.26527 hours\n",
      "Validation at Epoch 47 with loss:0.22120, MSE: 0.30155 , Pearson Correlation: 0.79459 with p-value: 0.0 , Concordance Index: 0.87229\n",
      "Training at Epoch 48 iteration 0 with loss 0.29219. Total time 1.29111 hours\n",
      "Validation at Epoch 48 with loss:0.25223, MSE: 0.31897 , Pearson Correlation: 0.78114 with p-value: 0.0 , Concordance Index: 0.87003\n",
      "Training at Epoch 49 iteration 0 with loss 0.33628. Total time 1.31694 hours\n",
      "Validation at Epoch 49 with loss:0.26494, MSE: 0.33746 , Pearson Correlation: 0.79786 with p-value: 0.0 , Concordance Index: 0.86533\n",
      "Training at Epoch 50 iteration 0 with loss 0.32332. Total time 1.34333 hours\n",
      "Validation at Epoch 50 with loss:0.29920, MSE: 0.32946 , Pearson Correlation: 0.79932 with p-value: 0.0 , Concordance Index: 0.86132\n",
      "Training at Epoch 51 iteration 0 with loss 0.37555. Total time 1.36972 hours\n",
      "Validation at Epoch 51 with loss:0.24783, MSE: 0.29013 , Pearson Correlation: 0.80915 with p-value: 0.0 , Concordance Index: 0.87234\n",
      "Training at Epoch 52 iteration 0 with loss 0.32478. Total time 1.39583 hours\n",
      "Validation at Epoch 52 with loss:0.34636, MSE: 0.31246 , Pearson Correlation: 0.79865 with p-value: 0.0 , Concordance Index: 0.86803\n",
      "Training at Epoch 53 iteration 0 with loss 0.16536. Total time 1.42194 hours\n",
      "Validation at Epoch 53 with loss:0.32434, MSE: 0.28191 , Pearson Correlation: 0.81586 with p-value: 0.0 , Concordance Index: 0.87733\n",
      "Training at Epoch 54 iteration 0 with loss 0.34042. Total time 1.44805 hours\n",
      "Validation at Epoch 54 with loss:0.22451, MSE: 0.32793 , Pearson Correlation: 0.79696 with p-value: 0.0 , Concordance Index: 0.86556\n",
      "Training at Epoch 55 iteration 0 with loss 0.40783. Total time 1.47444 hours\n",
      "Validation at Epoch 55 with loss:0.33140, MSE: 0.32208 , Pearson Correlation: 0.79866 with p-value: 0.0 , Concordance Index: 0.86605\n",
      "Training at Epoch 56 iteration 0 with loss 0.22461. Total time 1.50083 hours\n",
      "Validation at Epoch 56 with loss:0.36597, MSE: 0.29943 , Pearson Correlation: 0.80812 with p-value: 0.0 , Concordance Index: 0.87396\n",
      "Training at Epoch 57 iteration 0 with loss 0.22549. Total time 1.52694 hours\n",
      "Validation at Epoch 57 with loss:0.23616, MSE: 0.27034 , Pearson Correlation: 0.81855 with p-value: 0.0 , Concordance Index: 0.87700\n",
      "Training at Epoch 58 iteration 0 with loss 0.21014. Total time 1.55305 hours\n",
      "Validation at Epoch 58 with loss:0.39707, MSE: 0.27187 , Pearson Correlation: 0.82061 with p-value: 0.0 , Concordance Index: 0.88406\n",
      "Training at Epoch 59 iteration 0 with loss 0.19866. Total time 1.57944 hours\n",
      "Validation at Epoch 59 with loss:0.53605, MSE: 0.28305 , Pearson Correlation: 0.80773 with p-value: 0.0 , Concordance Index: 0.87714\n",
      "Training at Epoch 60 iteration 0 with loss 0.17087. Total time 1.60527 hours\n",
      "Validation at Epoch 60 with loss:0.25182, MSE: 0.28312 , Pearson Correlation: 0.82595 with p-value: 0.0 , Concordance Index: 0.87924\n",
      "Training at Epoch 61 iteration 0 with loss 0.31952. Total time 1.63138 hours\n",
      "Validation at Epoch 61 with loss:0.27173, MSE: 0.28784 , Pearson Correlation: 0.82043 with p-value: 0.0 , Concordance Index: 0.87721\n",
      "Training at Epoch 62 iteration 0 with loss 0.21059. Total time 1.6575 hours\n",
      "Validation at Epoch 62 with loss:0.28875, MSE: 0.30203 , Pearson Correlation: 0.82371 with p-value: 0.0 , Concordance Index: 0.87330\n",
      "Training at Epoch 63 iteration 0 with loss 0.18635. Total time 1.68388 hours\n",
      "Validation at Epoch 63 with loss:0.20069, MSE: 0.27336 , Pearson Correlation: 0.81896 with p-value: 0.0 , Concordance Index: 0.86708\n",
      "Training at Epoch 64 iteration 0 with loss 0.17237. Total time 1.70972 hours\n",
      "Validation at Epoch 64 with loss:0.20159, MSE: 0.26967 , Pearson Correlation: 0.81979 with p-value: 0.0 , Concordance Index: 0.87778\n",
      "Training at Epoch 65 iteration 0 with loss 0.23587. Total time 1.73555 hours\n",
      "Validation at Epoch 65 with loss:0.23264, MSE: 0.27847 , Pearson Correlation: 0.81263 with p-value: 0.0 , Concordance Index: 0.87487\n",
      "Training at Epoch 66 iteration 0 with loss 0.19604. Total time 1.76222 hours\n",
      "Validation at Epoch 66 with loss:0.36343, MSE: 0.27210 , Pearson Correlation: 0.82118 with p-value: 0.0 , Concordance Index: 0.87878\n",
      "Training at Epoch 67 iteration 0 with loss 0.14984. Total time 1.78833 hours\n",
      "Validation at Epoch 67 with loss:0.29433, MSE: 0.27053 , Pearson Correlation: 0.82078 with p-value: 0.0 , Concordance Index: 0.87550\n",
      "Training at Epoch 68 iteration 0 with loss 0.18104. Total time 1.81444 hours\n",
      "Validation at Epoch 68 with loss:0.28009, MSE: 0.26942 , Pearson Correlation: 0.82202 with p-value: 0.0 , Concordance Index: 0.87844\n",
      "Training at Epoch 69 iteration 0 with loss 0.21378. Total time 1.84 hours\n",
      "Validation at Epoch 69 with loss:0.22523, MSE: 0.28924 , Pearson Correlation: 0.83111 with p-value: 0.0 , Concordance Index: 0.88045\n",
      "Training at Epoch 70 iteration 0 with loss 0.17186. Total time 1.86638 hours\n",
      "Validation at Epoch 70 with loss:0.29381, MSE: 0.27666 , Pearson Correlation: 0.82832 with p-value: 0.0 , Concordance Index: 0.88199\n",
      "Training at Epoch 71 iteration 0 with loss 0.16073. Total time 1.8925 hours\n",
      "Validation at Epoch 71 with loss:0.17031, MSE: 0.24286 , Pearson Correlation: 0.83833 with p-value: 0.0 , Concordance Index: 0.88159\n",
      "Training at Epoch 72 iteration 0 with loss 0.12325. Total time 1.91888 hours\n",
      "Validation at Epoch 72 with loss:0.30029, MSE: 0.27180 , Pearson Correlation: 0.82593 with p-value: 0.0 , Concordance Index: 0.87796\n",
      "Training at Epoch 73 iteration 0 with loss 0.14130. Total time 1.94444 hours\n",
      "Validation at Epoch 73 with loss:0.25715, MSE: 0.26399 , Pearson Correlation: 0.83709 with p-value: 0.0 , Concordance Index: 0.88052\n",
      "Training at Epoch 74 iteration 0 with loss 0.20254. Total time 1.97 hours\n",
      "Validation at Epoch 74 with loss:0.36622, MSE: 0.25807 , Pearson Correlation: 0.83124 with p-value: 0.0 , Concordance Index: 0.88185\n",
      "Training at Epoch 75 iteration 0 with loss 0.13143. Total time 1.995 hours\n",
      "Validation at Epoch 75 with loss:0.17882, MSE: 0.25354 , Pearson Correlation: 0.83406 with p-value: 0.0 , Concordance Index: 0.88087\n",
      "Training at Epoch 76 iteration 0 with loss 0.16156. Total time 2.02 hours\n",
      "Validation at Epoch 76 with loss:0.20784, MSE: 0.26374 , Pearson Correlation: 0.83092 with p-value: 0.0 , Concordance Index: 0.87087\n",
      "Training at Epoch 77 iteration 0 with loss 0.21640. Total time 2.04472 hours\n",
      "Validation at Epoch 77 with loss:0.25918, MSE: 0.25731 , Pearson Correlation: 0.82791 with p-value: 0.0 , Concordance Index: 0.87627\n",
      "Training at Epoch 78 iteration 0 with loss 0.17543. Total time 2.06972 hours\n",
      "Validation at Epoch 78 with loss:0.18884, MSE: 0.23822 , Pearson Correlation: 0.84301 with p-value: 0.0 , Concordance Index: 0.88851\n",
      "Training at Epoch 79 iteration 0 with loss 0.14812. Total time 2.09472 hours\n"
     ]
    },
    {
     "name": "stdout",
     "output_type": "stream",
     "text": [
      "Validation at Epoch 79 with loss:0.36253, MSE: 0.27521 , Pearson Correlation: 0.83592 with p-value: 0.0 , Concordance Index: 0.88649\n",
      "Training at Epoch 80 iteration 0 with loss 0.16094. Total time 2.11972 hours\n",
      "Validation at Epoch 80 with loss:0.30267, MSE: 0.24088 , Pearson Correlation: 0.84341 with p-value: 0.0 , Concordance Index: 0.88890\n",
      "Training at Epoch 81 iteration 0 with loss 0.11338. Total time 2.14444 hours\n",
      "Validation at Epoch 81 with loss:0.23492, MSE: 0.23267 , Pearson Correlation: 0.84626 with p-value: 0.0 , Concordance Index: 0.88859\n",
      "Training at Epoch 82 iteration 0 with loss 0.14204. Total time 2.16972 hours\n",
      "Validation at Epoch 82 with loss:0.35025, MSE: 0.24974 , Pearson Correlation: 0.83791 with p-value: 0.0 , Concordance Index: 0.89112\n",
      "Training at Epoch 83 iteration 0 with loss 0.14219. Total time 2.195 hours\n",
      "Validation at Epoch 83 with loss:0.27613, MSE: 0.27804 , Pearson Correlation: 0.83546 with p-value: 0.0 , Concordance Index: 0.88638\n",
      "Training at Epoch 84 iteration 0 with loss 0.14984. Total time 2.22027 hours\n",
      "Validation at Epoch 84 with loss:0.27909, MSE: 0.26440 , Pearson Correlation: 0.83342 with p-value: 0.0 , Concordance Index: 0.88164\n",
      "Training at Epoch 85 iteration 0 with loss 0.17087. Total time 2.24555 hours\n",
      "Validation at Epoch 85 with loss:0.30056, MSE: 0.24207 , Pearson Correlation: 0.83907 with p-value: 0.0 , Concordance Index: 0.88376\n",
      "Training at Epoch 86 iteration 0 with loss 0.17618. Total time 2.27166 hours\n",
      "Validation at Epoch 86 with loss:0.25940, MSE: 0.24067 , Pearson Correlation: 0.84295 with p-value: 0.0 , Concordance Index: 0.88555\n",
      "Training at Epoch 87 iteration 0 with loss 0.08884. Total time 2.29805 hours\n",
      "Validation at Epoch 87 with loss:0.14349, MSE: 0.25238 , Pearson Correlation: 0.83955 with p-value: 0.0 , Concordance Index: 0.88735\n",
      "Training at Epoch 88 iteration 0 with loss 0.16440. Total time 2.32388 hours\n",
      "Validation at Epoch 88 with loss:0.27472, MSE: 0.24049 , Pearson Correlation: 0.84295 with p-value: 0.0 , Concordance Index: 0.89283\n",
      "Training at Epoch 89 iteration 0 with loss 0.10731. Total time 2.35027 hours\n",
      "Validation at Epoch 89 with loss:0.14038, MSE: 0.25067 , Pearson Correlation: 0.83542 with p-value: 0.0 , Concordance Index: 0.88400\n",
      "Training at Epoch 90 iteration 0 with loss 0.20561. Total time 2.37638 hours\n",
      "Validation at Epoch 90 with loss:0.22483, MSE: 0.25111 , Pearson Correlation: 0.83174 with p-value: 0.0 , Concordance Index: 0.88396\n",
      "Training at Epoch 91 iteration 0 with loss 0.14811. Total time 2.4025 hours\n",
      "Validation at Epoch 91 with loss:0.32068, MSE: 0.24206 , Pearson Correlation: 0.84277 with p-value: 0.0 , Concordance Index: 0.88151\n",
      "Training at Epoch 92 iteration 0 with loss 0.09884. Total time 2.42833 hours\n",
      "Validation at Epoch 92 with loss:0.23225, MSE: 0.25018 , Pearson Correlation: 0.84081 with p-value: 0.0 , Concordance Index: 0.88404\n",
      "Training at Epoch 93 iteration 0 with loss 0.14069. Total time 2.45416 hours\n",
      "Validation at Epoch 93 with loss:0.23914, MSE: 0.24573 , Pearson Correlation: 0.83829 with p-value: 0.0 , Concordance Index: 0.87744\n",
      "Training at Epoch 94 iteration 0 with loss 0.11309. Total time 2.48027 hours\n"
     ]
    }
   ],
   "source": [
    "model.train(train, val, test)"
   ]
  },
  {
   "cell_type": "code",
   "execution_count": null,
   "metadata": {},
   "outputs": [],
   "source": [
    "model.save_model('./save_model/model_DeepDTA_Davis')"
   ]
  },
  {
   "cell_type": "code",
   "execution_count": null,
   "metadata": {},
   "outputs": [],
   "source": []
  }
 ],
 "metadata": {
  "kernelspec": {
   "display_name": "Python 3",
   "language": "python",
   "name": "python3"
  },
  "language_info": {
   "codemirror_mode": {
    "name": "ipython",
    "version": 3
   },
   "file_extension": ".py",
   "mimetype": "text/x-python",
   "name": "python",
   "nbconvert_exporter": "python",
   "pygments_lexer": "ipython3",
   "version": "3.6.5"
  }
 },
 "nbformat": 4,
 "nbformat_minor": 4
}

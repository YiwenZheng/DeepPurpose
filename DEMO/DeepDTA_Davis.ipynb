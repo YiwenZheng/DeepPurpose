{
 "cells": [
  {
   "cell_type": "code",
   "execution_count": 1,
   "metadata": {},
   "outputs": [],
   "source": [
    "import os\n",
    "os.chdir(\"/y/home/zyw/tmp/DeepPurpose/\")"
   ]
  },
  {
   "cell_type": "code",
   "execution_count": 2,
   "metadata": {},
   "outputs": [
    {
     "name": "stderr",
     "output_type": "stream",
     "text": [
      "WARNING:root:No normalization for BCUT2D_MWHI\n",
      "WARNING:root:No normalization for BCUT2D_MWLOW\n",
      "WARNING:root:No normalization for BCUT2D_CHGHI\n",
      "WARNING:root:No normalization for BCUT2D_CHGLO\n",
      "WARNING:root:No normalization for BCUT2D_LOGPHI\n",
      "WARNING:root:No normalization for BCUT2D_LOGPLOW\n",
      "WARNING:root:No normalization for BCUT2D_MRHI\n",
      "WARNING:root:No normalization for BCUT2D_MRLOW\n"
     ]
    }
   ],
   "source": [
    "from scripts import utils,dataset,DTI"
   ]
  },
  {
   "cell_type": "code",
   "execution_count": 3,
   "metadata": {},
   "outputs": [
    {
     "name": "stdout",
     "output_type": "stream",
     "text": [
      "Beginning Processing...\n",
      "Default set to logspace (nM -> p) for easier regression\n",
      "Done!\n"
     ]
    }
   ],
   "source": [
    "X_drug, X_target, y = dataset.load_process_DAVIS('./data/', binary=False)"
   ]
  },
  {
   "cell_type": "code",
   "execution_count": 4,
   "metadata": {},
   "outputs": [],
   "source": [
    "drug_encoding = 'CNN'\n",
    "target_encoding = 'CNN'"
   ]
  },
  {
   "cell_type": "code",
   "execution_count": 5,
   "metadata": {},
   "outputs": [
    {
     "name": "stdout",
     "output_type": "stream",
     "text": [
      "Drug Target Interaction Prediction Mode...\n",
      "in total: 30056 drug-target pairs\n",
      "encoding drug...\n",
      "unique drugs: 68\n",
      "encoding protein...\n",
      "unique target sequence: 379\n",
      "splitting dataset...\n",
      "Done.\n"
     ]
    }
   ],
   "source": [
    "train, val, test = utils.data_process(X_drug, X_target, y, \n",
    "                                drug_encoding, target_encoding, \n",
    "                                split_method = 'random', frac = [0.7,0.1,0.2])"
   ]
  },
  {
   "cell_type": "code",
   "execution_count": 6,
   "metadata": {},
   "outputs": [],
   "source": [
    "config = utils.generate_config(drug_encoding = drug_encoding, \n",
    "                         target_encoding = target_encoding, \n",
    "                         cls_hidden_dims = [1024,1024,512], \n",
    "                         train_epoch = 100, \n",
    "                         LR = 0.001, \n",
    "                         batch_size = 256,\n",
    "                         cnn_drug_filters = [32,64,96],\n",
    "                         cnn_target_filters = [32,64,96],\n",
    "                         cnn_drug_kernels = [4,6,8],\n",
    "                         cnn_target_kernels = [4,8,12])"
   ]
  },
  {
   "cell_type": "code",
   "execution_count": 7,
   "metadata": {},
   "outputs": [],
   "source": [
    "model = DTI.model_initialize(**config)"
   ]
  },
  {
   "cell_type": "code",
   "execution_count": null,
   "metadata": {
    "scrolled": true
   },
   "outputs": [
    {
     "name": "stdout",
     "output_type": "stream",
     "text": [
      "Let's use 1 GPU!\n",
      "--- Data Preparation ---\n",
      "--- Go for Training ---\n",
      "Training at Epoch 1 iteration 0 with loss 30.4497. Total time 0.00027 hours\n",
      "Validation at Epoch 1 with loss:0.67265, MSE: 0.79520 , Pearson Correlation: 0.43537 with p-value: 2.68374 , Concordance Index: 0.73274\n",
      "Training at Epoch 2 iteration 0 with loss 0.81052. Total time 0.03277 hours\n",
      "Validation at Epoch 2 with loss:0.82737, MSE: 0.69749 , Pearson Correlation: 0.41822 with p-value: 1.32347 , Concordance Index: 0.76591\n",
      "Training at Epoch 3 iteration 0 with loss 0.91019. Total time 0.06611 hours\n",
      "Validation at Epoch 3 with loss:0.44742, MSE: 0.58934 , Pearson Correlation: 0.52626 with p-value: 8.02540 , Concordance Index: 0.77765\n",
      "Training at Epoch 4 iteration 0 with loss 0.56947. Total time 0.09972 hours\n",
      "Validation at Epoch 4 with loss:0.65135, MSE: 0.74896 , Pearson Correlation: 0.55997 with p-value: 9.49510 , Concordance Index: 0.78846\n",
      "Training at Epoch 5 iteration 0 with loss 0.85107. Total time 0.13305 hours\n",
      "Validation at Epoch 5 with loss:0.59498, MSE: 0.55671 , Pearson Correlation: 0.57705 with p-value: 1.74748 , Concordance Index: 0.79430\n",
      "Training at Epoch 6 iteration 0 with loss 0.60844. Total time 0.16583 hours\n",
      "Validation at Epoch 6 with loss:0.81040, MSE: 0.54041 , Pearson Correlation: 0.58675 with p-value: 1.25520 , Concordance Index: 0.79919\n",
      "Training at Epoch 7 iteration 0 with loss 0.45552. Total time 0.19972 hours\n",
      "Validation at Epoch 7 with loss:0.52927, MSE: 0.55566 , Pearson Correlation: 0.59847 with p-value: 1.32737 , Concordance Index: 0.80064\n",
      "Training at Epoch 8 iteration 0 with loss 0.58933. Total time 0.23333 hours\n",
      "Validation at Epoch 8 with loss:0.44553, MSE: 0.52139 , Pearson Correlation: 0.60580 with p-value: 1.22961 , Concordance Index: 0.80346\n",
      "Training at Epoch 9 iteration 0 with loss 0.40373. Total time 0.26666 hours\n",
      "Validation at Epoch 9 with loss:0.81088, MSE: 0.73589 , Pearson Correlation: 0.62972 with p-value: 0.0 , Concordance Index: 0.81021\n",
      "Training at Epoch 10 iteration 0 with loss 0.76239. Total time 0.30027 hours\n",
      "Validation at Epoch 10 with loss:0.55867, MSE: 0.54729 , Pearson Correlation: 0.63504 with p-value: 0.0 , Concordance Index: 0.81064\n",
      "Training at Epoch 11 iteration 0 with loss 0.58842. Total time 0.33305 hours\n",
      "Validation at Epoch 11 with loss:0.98233, MSE: 0.78828 , Pearson Correlation: 0.64052 with p-value: 0.0 , Concordance Index: 0.81745\n",
      "Training at Epoch 12 iteration 0 with loss 0.82204. Total time 0.36638 hours\n",
      "Validation at Epoch 12 with loss:0.68183, MSE: 0.55587 , Pearson Correlation: 0.65549 with p-value: 0.0 , Concordance Index: 0.81918\n",
      "Training at Epoch 13 iteration 0 with loss 0.59895. Total time 0.39916 hours\n",
      "Validation at Epoch 13 with loss:0.41255, MSE: 0.52870 , Pearson Correlation: 0.64864 with p-value: 0.0 , Concordance Index: 0.81841\n",
      "Training at Epoch 14 iteration 0 with loss 0.57996. Total time 0.43222 hours\n",
      "Validation at Epoch 14 with loss:0.58184, MSE: 0.52588 , Pearson Correlation: 0.64678 with p-value: 0.0 , Concordance Index: 0.81667\n",
      "Training at Epoch 15 iteration 0 with loss 0.68052. Total time 0.46583 hours\n",
      "Validation at Epoch 15 with loss:0.53575, MSE: 0.51477 , Pearson Correlation: 0.65233 with p-value: 0.0 , Concordance Index: 0.82331\n",
      "Training at Epoch 16 iteration 0 with loss 0.66632. Total time 0.49944 hours\n",
      "Validation at Epoch 16 with loss:0.63574, MSE: 0.66699 , Pearson Correlation: 0.65838 with p-value: 0.0 , Concordance Index: 0.82570\n",
      "Training at Epoch 17 iteration 0 with loss 0.60639. Total time 0.53277 hours\n",
      "Validation at Epoch 17 with loss:0.34606, MSE: 0.45661 , Pearson Correlation: 0.66413 with p-value: 0.0 , Concordance Index: 0.82255\n",
      "Training at Epoch 18 iteration 0 with loss 0.71236. Total time 0.56166 hours\n",
      "Validation at Epoch 18 with loss:0.58431, MSE: 0.52028 , Pearson Correlation: 0.65185 with p-value: 0.0 , Concordance Index: 0.82231\n",
      "Training at Epoch 19 iteration 0 with loss 0.50754. Total time 0.58444 hours\n",
      "Validation at Epoch 19 with loss:0.48469, MSE: 0.45717 , Pearson Correlation: 0.66833 with p-value: 0.0 , Concordance Index: 0.82315\n",
      "Training at Epoch 20 iteration 0 with loss 0.33985. Total time 0.60694 hours\n",
      "Validation at Epoch 20 with loss:0.56074, MSE: 0.55132 , Pearson Correlation: 0.67349 with p-value: 0.0 , Concordance Index: 0.83184\n",
      "Training at Epoch 21 iteration 0 with loss 0.60987. Total time 0.62861 hours\n",
      "Validation at Epoch 21 with loss:0.38753, MSE: 0.45476 , Pearson Correlation: 0.67764 with p-value: 0.0 , Concordance Index: 0.82830\n",
      "Training at Epoch 22 iteration 0 with loss 0.62330. Total time 0.65027 hours\n",
      "Validation at Epoch 22 with loss:0.42517, MSE: 0.44018 , Pearson Correlation: 0.68082 with p-value: 0.0 , Concordance Index: 0.83089\n",
      "Training at Epoch 23 iteration 0 with loss 0.37825. Total time 0.6725 hours\n",
      "Validation at Epoch 23 with loss:0.42235, MSE: 0.46409 , Pearson Correlation: 0.68918 with p-value: 0.0 , Concordance Index: 0.83332\n",
      "Training at Epoch 24 iteration 0 with loss 0.41648. Total time 0.69444 hours\n",
      "Validation at Epoch 24 with loss:0.46492, MSE: 0.43021 , Pearson Correlation: 0.68915 with p-value: 0.0 , Concordance Index: 0.83530\n",
      "Training at Epoch 25 iteration 0 with loss 0.37086. Total time 0.7175 hours\n",
      "Validation at Epoch 25 with loss:0.23153, MSE: 0.41319 , Pearson Correlation: 0.72031 with p-value: 0.0 , Concordance Index: 0.84364\n",
      "Training at Epoch 26 iteration 0 with loss 0.39742. Total time 0.74 hours\n",
      "Validation at Epoch 26 with loss:0.45300, MSE: 0.45945 , Pearson Correlation: 0.72425 with p-value: 0.0 , Concordance Index: 0.84583\n",
      "Training at Epoch 27 iteration 0 with loss 0.42587. Total time 0.76277 hours\n",
      "Validation at Epoch 27 with loss:0.46337, MSE: 0.39500 , Pearson Correlation: 0.72376 with p-value: 0.0 , Concordance Index: 0.83552\n",
      "Training at Epoch 28 iteration 0 with loss 0.52489. Total time 0.78583 hours\n",
      "Validation at Epoch 28 with loss:0.38063, MSE: 0.37069 , Pearson Correlation: 0.74621 with p-value: 0.0 , Concordance Index: 0.85570\n",
      "Training at Epoch 29 iteration 0 with loss 0.37445. Total time 0.80888 hours\n",
      "Validation at Epoch 29 with loss:0.39098, MSE: 0.39502 , Pearson Correlation: 0.74926 with p-value: 0.0 , Concordance Index: 0.85380\n",
      "Training at Epoch 30 iteration 0 with loss 0.36578. Total time 0.83166 hours\n",
      "Validation at Epoch 30 with loss:0.29244, MSE: 0.34095 , Pearson Correlation: 0.76442 with p-value: 0.0 , Concordance Index: 0.85954\n",
      "Training at Epoch 31 iteration 0 with loss 0.38347. Total time 0.85444 hours\n",
      "Validation at Epoch 31 with loss:0.29164, MSE: 0.39046 , Pearson Correlation: 0.76427 with p-value: 0.0 , Concordance Index: 0.85390\n",
      "Training at Epoch 32 iteration 0 with loss 0.34748. Total time 0.87722 hours\n",
      "Validation at Epoch 32 with loss:0.31036, MSE: 0.35716 , Pearson Correlation: 0.75872 with p-value: 0.0 , Concordance Index: 0.86021\n",
      "Training at Epoch 33 iteration 0 with loss 0.32891. Total time 0.9 hours\n",
      "Validation at Epoch 33 with loss:0.52852, MSE: 0.49396 , Pearson Correlation: 0.77093 with p-value: 0.0 , Concordance Index: 0.85841\n",
      "Training at Epoch 34 iteration 0 with loss 0.41261. Total time 0.92583 hours\n",
      "Validation at Epoch 34 with loss:0.25523, MSE: 0.33045 , Pearson Correlation: 0.77243 with p-value: 0.0 , Concordance Index: 0.85735\n",
      "Training at Epoch 35 iteration 0 with loss 0.27152. Total time 0.95194 hours\n",
      "Validation at Epoch 35 with loss:0.27820, MSE: 0.34564 , Pearson Correlation: 0.76907 with p-value: 0.0 , Concordance Index: 0.85764\n",
      "Training at Epoch 36 iteration 0 with loss 0.31135. Total time 0.97777 hours\n",
      "Validation at Epoch 36 with loss:0.25638, MSE: 0.37077 , Pearson Correlation: 0.77745 with p-value: 0.0 , Concordance Index: 0.86265\n",
      "Training at Epoch 37 iteration 0 with loss 0.30537. Total time 1.00361 hours\n",
      "Validation at Epoch 37 with loss:0.48172, MSE: 0.33334 , Pearson Correlation: 0.77347 with p-value: 0.0 , Concordance Index: 0.86205\n",
      "Training at Epoch 38 iteration 0 with loss 0.29296. Total time 1.02972 hours\n"
     ]
    }
   ],
   "source": [
    "model.train(train, val, test)"
   ]
  },
  {
   "cell_type": "code",
   "execution_count": null,
   "metadata": {},
   "outputs": [],
   "source": [
    "model.save_model('./save_model/model_DeepDTA_Davis')"
   ]
  },
  {
   "cell_type": "code",
   "execution_count": null,
   "metadata": {},
   "outputs": [],
   "source": []
  }
 ],
 "metadata": {
  "kernelspec": {
   "display_name": "Python 3",
   "language": "python",
   "name": "python3"
  },
  "language_info": {
   "codemirror_mode": {
    "name": "ipython",
    "version": 3
   },
   "file_extension": ".py",
   "mimetype": "text/x-python",
   "name": "python",
   "nbconvert_exporter": "python",
   "pygments_lexer": "ipython3",
   "version": "3.6.5"
  }
 },
 "nbformat": 4,
 "nbformat_minor": 4
}

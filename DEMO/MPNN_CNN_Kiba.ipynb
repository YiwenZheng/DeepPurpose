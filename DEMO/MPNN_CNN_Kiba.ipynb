{
 "cells": [
  {
   "cell_type": "code",
   "execution_count": 1,
   "metadata": {},
   "outputs": [],
   "source": [
    "import os\n",
    "os.chdir(\"/y/home/zyw/tmp/DeepPurpose/\")"
   ]
  },
  {
   "cell_type": "code",
   "execution_count": 2,
   "metadata": {},
   "outputs": [
    {
     "name": "stderr",
     "output_type": "stream",
     "text": [
      "WARNING:root:No normalization for BCUT2D_MWHI\n",
      "WARNING:root:No normalization for BCUT2D_MWLOW\n",
      "WARNING:root:No normalization for BCUT2D_CHGHI\n",
      "WARNING:root:No normalization for BCUT2D_CHGLO\n",
      "WARNING:root:No normalization for BCUT2D_LOGPHI\n",
      "WARNING:root:No normalization for BCUT2D_LOGPLOW\n",
      "WARNING:root:No normalization for BCUT2D_MRHI\n",
      "WARNING:root:No normalization for BCUT2D_MRLOW\n"
     ]
    }
   ],
   "source": [
    "from DeepPurpose import utils,dataset,DTI"
   ]
  },
  {
   "cell_type": "code",
   "execution_count": 3,
   "metadata": {},
   "outputs": [
    {
     "name": "stdout",
     "output_type": "stream",
     "text": [
      "Beginning Processing...\n",
      "Done!\n"
     ]
    }
   ],
   "source": [
    "X_drug, X_target, y = dataset.load_process_KIBA('./data/', binary=False)"
   ]
  },
  {
   "cell_type": "code",
   "execution_count": 4,
   "metadata": {},
   "outputs": [],
   "source": [
    "drug_encoding = 'MPNN'\n",
    "target_encoding = 'CNN'"
   ]
  },
  {
   "cell_type": "code",
   "execution_count": 5,
   "metadata": {},
   "outputs": [
    {
     "name": "stdout",
     "output_type": "stream",
     "text": [
      "Drug Target Interaction Prediction Mode...\n",
      "in total: 118254 drug-target pairs\n",
      "encoding drug...\n",
      "unique drugs: 2068\n",
      "encoding protein...\n",
      "unique target sequence: 229\n",
      "splitting dataset...\n",
      "Done.\n"
     ]
    }
   ],
   "source": [
    "train, val, test = utils.data_process(X_drug, X_target, y, \n",
    "                                drug_encoding, target_encoding, \n",
    "                                split_method = 'random', frac = [0.7,0.1,0.2])"
   ]
  },
  {
   "cell_type": "code",
   "execution_count": 6,
   "metadata": {},
   "outputs": [],
   "source": [
    "config = utils.generate_config(drug_encoding = drug_encoding, \n",
    "                         target_encoding = target_encoding, \n",
    "                         cls_hidden_dims = [1024,1024,512], \n",
    "                         train_epoch = 100, \n",
    "                         test_every_X_epoch = 10, \n",
    "                         LR = 0.001, \n",
    "                         batch_size = 128,\n",
    "                         hidden_dim_drug = 128,\n",
    "                         mpnn_hidden_size = 128,\n",
    "                         mpnn_depth = 3, \n",
    "                         cnn_target_filters = [32,64,96],\n",
    "                         cnn_target_kernels = [4,8,12])"
   ]
  },
  {
   "cell_type": "code",
   "execution_count": 7,
   "metadata": {},
   "outputs": [],
   "source": [
    "model = DTI.model_initialize(**config)"
   ]
  },
  {
   "cell_type": "code",
   "execution_count": null,
   "metadata": {
    "scrolled": true
   },
   "outputs": [
    {
     "name": "stdout",
     "output_type": "stream",
     "text": [
      "Let's use 1 GPU!\n",
      "--- Data Preparation ---\n",
      "--- Go for Training ---\n",
      "Training at Epoch 1 iteration 0 with loss 139.583. Total time 0.0 hours\n",
      "Training at Epoch 1 iteration 100 with loss 0.98598. Total time 0.01388 hours\n",
      "Training at Epoch 1 iteration 200 with loss 0.57014. Total time 0.02805 hours\n",
      "Training at Epoch 1 iteration 300 with loss 0.86000. Total time 0.04166 hours\n",
      "Training at Epoch 1 iteration 400 with loss 0.86648. Total time 0.05555 hours\n",
      "Training at Epoch 1 iteration 500 with loss 0.76387. Total time 0.06833 hours\n",
      "Training at Epoch 1 iteration 600 with loss 0.65377. Total time 0.08194 hours\n",
      "Validation at Epoch 1 with loss:0.57291, MSE: 0.65465 , Pearson Correlation: 0.34170 with p-value: 3.725e- , Concordance Index: 0.66741\n",
      "Training at Epoch 2 iteration 0 with loss 0.77166. Total time 0.09916 hours\n",
      "Training at Epoch 2 iteration 100 with loss 0.58829. Total time 0.11333 hours\n",
      "Training at Epoch 2 iteration 200 with loss 0.92516. Total time 0.12722 hours\n",
      "Training at Epoch 2 iteration 300 with loss 0.65354. Total time 0.14111 hours\n",
      "Training at Epoch 2 iteration 400 with loss 0.85779. Total time 0.155 hours\n",
      "Training at Epoch 2 iteration 500 with loss 0.85960. Total time 0.16805 hours\n",
      "Training at Epoch 2 iteration 600 with loss 0.53752. Total time 0.18138 hours\n",
      "Validation at Epoch 2 with loss:1.14591, MSE: 0.77297 , Pearson Correlation: 0.34608 with p-value: 0.0 , Concordance Index: 0.67288\n",
      "Training at Epoch 3 iteration 0 with loss 0.96448. Total time 0.19916 hours\n",
      "Training at Epoch 3 iteration 100 with loss 0.62740. Total time 0.21333 hours\n",
      "Training at Epoch 3 iteration 200 with loss 0.65324. Total time 0.22722 hours\n",
      "Training at Epoch 3 iteration 300 with loss 0.89954. Total time 0.24111 hours\n",
      "Training at Epoch 3 iteration 400 with loss 0.72710. Total time 0.25527 hours\n",
      "Training at Epoch 3 iteration 500 with loss 0.60887. Total time 0.26888 hours\n",
      "Training at Epoch 3 iteration 600 with loss 0.91770. Total time 0.28166 hours\n",
      "Validation at Epoch 3 with loss:0.75751, MSE: 0.87808 , Pearson Correlation: 0.36054 with p-value: 0.0 , Concordance Index: 0.67526\n",
      "Training at Epoch 4 iteration 0 with loss 1.11097. Total time 0.29944 hours\n",
      "Training at Epoch 4 iteration 100 with loss 0.76471. Total time 0.31333 hours\n",
      "Training at Epoch 4 iteration 200 with loss 0.90544. Total time 0.3275 hours\n",
      "Training at Epoch 4 iteration 300 with loss 0.76859. Total time 0.34166 hours\n",
      "Training at Epoch 4 iteration 400 with loss 0.63737. Total time 0.35583 hours\n",
      "Training at Epoch 4 iteration 500 with loss 0.77762. Total time 0.37055 hours\n",
      "Training at Epoch 4 iteration 600 with loss 0.67451. Total time 0.385 hours\n",
      "Validation at Epoch 4 with loss:0.48902, MSE: 0.65731 , Pearson Correlation: 0.36283 with p-value: 0.0 , Concordance Index: 0.67725\n",
      "Training at Epoch 5 iteration 0 with loss 0.84945. Total time 0.40305 hours\n",
      "Training at Epoch 5 iteration 100 with loss 0.71078. Total time 0.41638 hours\n",
      "Training at Epoch 5 iteration 200 with loss 0.83190. Total time 0.43027 hours\n",
      "Training at Epoch 5 iteration 300 with loss 0.90507. Total time 0.44444 hours\n",
      "Training at Epoch 5 iteration 400 with loss 0.77890. Total time 0.45888 hours\n",
      "Training at Epoch 5 iteration 500 with loss 0.54894. Total time 0.47361 hours\n",
      "Training at Epoch 5 iteration 600 with loss 0.76757. Total time 0.48805 hours\n",
      "Validation at Epoch 5 with loss:0.86461, MSE: 0.65228 , Pearson Correlation: 0.36632 with p-value: 0.0 , Concordance Index: 0.67782\n",
      "Training at Epoch 6 iteration 0 with loss 0.73341. Total time 0.50611 hours\n",
      "Training at Epoch 6 iteration 100 with loss 0.80171. Total time 0.52 hours\n",
      "Training at Epoch 6 iteration 200 with loss 0.94548. Total time 0.53444 hours\n",
      "Training at Epoch 6 iteration 300 with loss 0.79758. Total time 0.54833 hours\n",
      "Training at Epoch 6 iteration 400 with loss 0.94934. Total time 0.56222 hours\n",
      "Training at Epoch 6 iteration 500 with loss 0.85720. Total time 0.57555 hours\n",
      "Training at Epoch 6 iteration 600 with loss 0.94836. Total time 0.58888 hours\n",
      "Validation at Epoch 6 with loss:0.91255, MSE: 0.65070 , Pearson Correlation: 0.37859 with p-value: 0.0 , Concordance Index: 0.67938\n",
      "Training at Epoch 7 iteration 0 with loss 0.58834. Total time 0.60666 hours\n",
      "Training at Epoch 7 iteration 100 with loss 0.79352. Total time 0.62111 hours\n",
      "Training at Epoch 7 iteration 200 with loss 0.63315. Total time 0.635 hours\n",
      "Training at Epoch 7 iteration 300 with loss 0.92294. Total time 0.64916 hours\n",
      "Training at Epoch 7 iteration 400 with loss 0.64853. Total time 0.66361 hours\n",
      "Training at Epoch 7 iteration 500 with loss 0.75880. Total time 0.6775 hours\n",
      "Training at Epoch 7 iteration 600 with loss 0.74607. Total time 0.69138 hours\n",
      "Validation at Epoch 7 with loss:0.78678, MSE: 0.75118 , Pearson Correlation: 0.37708 with p-value: 0.0 , Concordance Index: 0.67654\n",
      "Training at Epoch 8 iteration 0 with loss 0.51763. Total time 0.70944 hours\n",
      "Training at Epoch 8 iteration 100 with loss 0.79260. Total time 0.72416 hours\n",
      "Training at Epoch 8 iteration 200 with loss 0.91200. Total time 0.73777 hours\n",
      "Training at Epoch 8 iteration 300 with loss 0.68612. Total time 0.75166 hours\n",
      "Training at Epoch 8 iteration 400 with loss 0.54718. Total time 0.76611 hours\n",
      "Training at Epoch 8 iteration 500 with loss 0.61231. Total time 0.78055 hours\n",
      "Training at Epoch 8 iteration 600 with loss 0.66951. Total time 0.79472 hours\n",
      "Validation at Epoch 8 with loss:0.35271, MSE: 0.69589 , Pearson Correlation: 0.38623 with p-value: 0.0 , Concordance Index: 0.68000\n",
      "Training at Epoch 9 iteration 0 with loss 0.61632. Total time 0.81305 hours\n",
      "Training at Epoch 9 iteration 100 with loss 0.74395. Total time 0.82722 hours\n",
      "Training at Epoch 9 iteration 200 with loss 0.86546. Total time 0.84194 hours\n",
      "Training at Epoch 9 iteration 300 with loss 0.91946. Total time 0.85638 hours\n",
      "Training at Epoch 9 iteration 400 with loss 0.61582. Total time 0.87083 hours\n",
      "Training at Epoch 9 iteration 500 with loss 0.92124. Total time 0.88527 hours\n",
      "Training at Epoch 9 iteration 600 with loss 0.92858. Total time 0.89944 hours\n",
      "Validation at Epoch 9 with loss:0.84371, MSE: 0.65103 , Pearson Correlation: 0.39228 with p-value: 0.0 , Concordance Index: 0.68056\n",
      "Training at Epoch 10 iteration 0 with loss 0.84526. Total time 0.91694 hours\n",
      "Training at Epoch 10 iteration 100 with loss 0.62169. Total time 0.93166 hours\n",
      "Training at Epoch 10 iteration 200 with loss 0.75104. Total time 0.94638 hours\n",
      "Training at Epoch 10 iteration 300 with loss 0.91639. Total time 0.96083 hours\n",
      "Training at Epoch 10 iteration 400 with loss 0.59219. Total time 0.97555 hours\n",
      "Training at Epoch 10 iteration 500 with loss 0.78103. Total time 0.99 hours\n",
      "Training at Epoch 10 iteration 600 with loss 0.44940. Total time 1.00472 hours\n",
      "Validation at Epoch 10 with loss:0.48420, MSE: 0.64580 , Pearson Correlation: 0.39338 with p-value: 0.0 , Concordance Index: 0.68133\n",
      "Training at Epoch 11 iteration 0 with loss 0.63338. Total time 1.02305 hours\n",
      "Training at Epoch 11 iteration 100 with loss 0.90199. Total time 1.03722 hours\n",
      "Training at Epoch 11 iteration 200 with loss 0.64377. Total time 1.05194 hours\n",
      "Training at Epoch 11 iteration 300 with loss 0.82882. Total time 1.06555 hours\n",
      "Training at Epoch 11 iteration 400 with loss 0.53779. Total time 1.07972 hours\n",
      "Training at Epoch 11 iteration 500 with loss 0.60945. Total time 1.09416 hours\n",
      "Training at Epoch 11 iteration 600 with loss 0.86782. Total time 1.10833 hours\n",
      "Validation at Epoch 11 with loss:0.84547, MSE: 0.65079 , Pearson Correlation: 0.39346 with p-value: 0.0 , Concordance Index: 0.68317\n",
      "Training at Epoch 12 iteration 0 with loss 1.10732. Total time 1.12638 hours\n",
      "Training at Epoch 12 iteration 100 with loss 0.82874. Total time 1.14055 hours\n",
      "Training at Epoch 12 iteration 200 with loss 0.90293. Total time 1.155 hours\n",
      "Training at Epoch 12 iteration 300 with loss 0.90944. Total time 1.16944 hours\n",
      "Training at Epoch 12 iteration 400 with loss 0.57271. Total time 1.18388 hours\n",
      "Training at Epoch 12 iteration 500 with loss 0.70637. Total time 1.19833 hours\n",
      "Training at Epoch 12 iteration 600 with loss 0.55717. Total time 1.2125 hours\n",
      "Validation at Epoch 12 with loss:0.28508, MSE: 0.59529 , Pearson Correlation: 0.39959 with p-value: 0.0 , Concordance Index: 0.68189\n",
      "Training at Epoch 13 iteration 0 with loss 0.67724. Total time 1.23027 hours\n"
     ]
    },
    {
     "name": "stdout",
     "output_type": "stream",
     "text": [
      "Training at Epoch 13 iteration 100 with loss 0.68209. Total time 1.24416 hours\n",
      "Training at Epoch 13 iteration 200 with loss 0.50709. Total time 1.25861 hours\n",
      "Training at Epoch 13 iteration 300 with loss 0.89337. Total time 1.27333 hours\n",
      "Training at Epoch 13 iteration 400 with loss 0.78927. Total time 1.28777 hours\n",
      "Training at Epoch 13 iteration 500 with loss 0.72008. Total time 1.30222 hours\n",
      "Training at Epoch 13 iteration 600 with loss 0.52090. Total time 1.31666 hours\n",
      "Validation at Epoch 13 with loss:0.59765, MSE: 0.58676 , Pearson Correlation: 0.41204 with p-value: 0.0 , Concordance Index: 0.68459\n",
      "Training at Epoch 14 iteration 0 with loss 0.49374. Total time 1.33472 hours\n",
      "Training at Epoch 14 iteration 100 with loss 0.62245. Total time 1.34944 hours\n",
      "Training at Epoch 14 iteration 200 with loss 0.53796. Total time 1.36388 hours\n",
      "Training at Epoch 14 iteration 300 with loss 0.62159. Total time 1.37861 hours\n",
      "Training at Epoch 14 iteration 400 with loss 0.81959. Total time 1.39194 hours\n",
      "Training at Epoch 14 iteration 500 with loss 0.58393. Total time 1.40583 hours\n",
      "Training at Epoch 14 iteration 600 with loss 0.82789. Total time 1.42 hours\n",
      "Validation at Epoch 14 with loss:0.69427, MSE: 0.58198 , Pearson Correlation: 0.42760 with p-value: 0.0 , Concordance Index: 0.68660\n",
      "Training at Epoch 15 iteration 0 with loss 0.47918. Total time 1.43805 hours\n",
      "Training at Epoch 15 iteration 100 with loss 0.51904. Total time 1.4525 hours\n",
      "Training at Epoch 15 iteration 200 with loss 0.67668. Total time 1.46666 hours\n",
      "Training at Epoch 15 iteration 300 with loss 0.66367. Total time 1.48111 hours\n",
      "Training at Epoch 15 iteration 400 with loss 0.64888. Total time 1.49583 hours\n",
      "Training at Epoch 15 iteration 500 with loss 0.81305. Total time 1.51055 hours\n",
      "Training at Epoch 15 iteration 600 with loss 0.50212. Total time 1.525 hours\n",
      "Validation at Epoch 15 with loss:0.41921, MSE: 0.55533 , Pearson Correlation: 0.49338 with p-value: 0.0 , Concordance Index: 0.69837\n",
      "Training at Epoch 16 iteration 0 with loss 0.58531. Total time 1.54333 hours\n",
      "Training at Epoch 16 iteration 100 with loss 0.64201. Total time 1.55694 hours\n",
      "Training at Epoch 16 iteration 200 with loss 0.78220. Total time 1.57111 hours\n",
      "Training at Epoch 16 iteration 300 with loss 0.67354. Total time 1.58555 hours\n"
     ]
    }
   ],
   "source": [
    "model.train(train, val, test)"
   ]
  },
  {
   "cell_type": "code",
   "execution_count": null,
   "metadata": {},
   "outputs": [],
   "source": [
    "model.save_model('./save_model/model_MPNN_CNN_Kiba')"
   ]
  },
  {
   "cell_type": "code",
   "execution_count": null,
   "metadata": {},
   "outputs": [],
   "source": []
  }
 ],
 "metadata": {
  "kernelspec": {
   "display_name": "Python 3",
   "language": "python",
   "name": "python3"
  },
  "language_info": {
   "codemirror_mode": {
    "name": "ipython",
    "version": 3
   },
   "file_extension": ".py",
   "mimetype": "text/x-python",
   "name": "python",
   "nbconvert_exporter": "python",
   "pygments_lexer": "ipython3",
   "version": "3.6.5"
  }
 },
 "nbformat": 4,
 "nbformat_minor": 4
}

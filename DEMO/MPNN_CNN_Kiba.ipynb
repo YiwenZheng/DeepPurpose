{
 "cells": [
  {
   "cell_type": "code",
   "execution_count": 1,
   "metadata": {},
   "outputs": [],
   "source": [
    "import os\n",
    "os.chdir(\"/y/home/zyw/tmp/DeepPurpose/\")"
   ]
  },
  {
   "cell_type": "code",
   "execution_count": 2,
   "metadata": {},
   "outputs": [
    {
     "name": "stderr",
     "output_type": "stream",
     "text": [
      "WARNING:root:No normalization for BCUT2D_MWHI\n",
      "WARNING:root:No normalization for BCUT2D_MWLOW\n",
      "WARNING:root:No normalization for BCUT2D_CHGHI\n",
      "WARNING:root:No normalization for BCUT2D_CHGLO\n",
      "WARNING:root:No normalization for BCUT2D_LOGPHI\n",
      "WARNING:root:No normalization for BCUT2D_LOGPLOW\n",
      "WARNING:root:No normalization for BCUT2D_MRHI\n",
      "WARNING:root:No normalization for BCUT2D_MRLOW\n"
     ]
    }
   ],
   "source": [
    "from DeepPurpose import utils,dataset,DTI"
   ]
  },
  {
   "cell_type": "code",
   "execution_count": 3,
   "metadata": {},
   "outputs": [
    {
     "name": "stdout",
     "output_type": "stream",
     "text": [
      "Beginning Processing...\n",
      "Done!\n"
     ]
    }
   ],
   "source": [
    "X_drug, X_target, y = dataset.load_process_KIBA('./data/', binary=False)"
   ]
  },
  {
   "cell_type": "code",
   "execution_count": 4,
   "metadata": {},
   "outputs": [],
   "source": [
    "drug_encoding = 'MPNN'\n",
    "target_encoding = 'CNN'"
   ]
  },
  {
   "cell_type": "code",
   "execution_count": 5,
   "metadata": {},
   "outputs": [
    {
     "name": "stdout",
     "output_type": "stream",
     "text": [
      "Drug Target Interaction Prediction Mode...\n",
      "in total: 118254 drug-target pairs\n",
      "encoding drug...\n",
      "unique drugs: 2068\n",
      "encoding protein...\n",
      "unique target sequence: 229\n",
      "splitting dataset...\n",
      "Done.\n"
     ]
    }
   ],
   "source": [
    "train, val, test = utils.data_process(X_drug, X_target, y, \n",
    "                                drug_encoding, target_encoding, \n",
    "                                split_method = 'random', frac = [0.7,0.1,0.2])"
   ]
  },
  {
   "cell_type": "code",
   "execution_count": 6,
   "metadata": {},
   "outputs": [],
   "source": [
    "config = utils.generate_config(drug_encoding = drug_encoding, \n",
    "                         target_encoding = target_encoding, \n",
    "                         cls_hidden_dims = [1024,1024,512], \n",
    "                         train_epoch = 100, \n",
    "                         test_every_X_epoch = 10, \n",
    "                         LR = 0.001, \n",
    "                         batch_size = 128,\n",
    "                         hidden_dim_drug = 128,\n",
    "                         mpnn_hidden_size = 128,\n",
    "                         mpnn_depth = 3, \n",
    "                         cnn_target_filters = [32,64,96],\n",
    "                         cnn_target_kernels = [4,8,12])"
   ]
  },
  {
   "cell_type": "code",
   "execution_count": 8,
   "metadata": {},
   "outputs": [],
   "source": [
    "model = DTI.model_initialize(**config)"
   ]
  },
  {
   "cell_type": "code",
   "execution_count": null,
   "metadata": {},
   "outputs": [
    {
     "name": "stdout",
     "output_type": "stream",
     "text": [
      "Let's use 1 GPU!\n",
      "--- Data Preparation ---\n",
      "--- Go for Training ---\n",
      "Training at Epoch 1 iteration 0 with loss 144.075. Total time 0.00027 hours\n",
      "Training at Epoch 1 iteration 100 with loss 0.93752. Total time 0.01166 hours\n",
      "Training at Epoch 1 iteration 200 with loss 0.75200. Total time 0.02277 hours\n",
      "Training at Epoch 1 iteration 300 with loss 1.25422. Total time 0.03361 hours\n",
      "Training at Epoch 1 iteration 400 with loss 0.98156. Total time 0.04444 hours\n",
      "Training at Epoch 1 iteration 500 with loss 0.81596. Total time 0.05555 hours\n",
      "Training at Epoch 1 iteration 600 with loss 0.75319. Total time 0.06611 hours\n",
      "Validation at Epoch 1 with loss:0.47788, MSE: 0.66353 , Pearson Correlation: 0.34452 with p-value: 0.0 , Concordance Index: 0.66978\n",
      "Training at Epoch 2 iteration 0 with loss 0.73100. Total time 0.08 hours\n",
      "Training at Epoch 2 iteration 100 with loss 0.75633. Total time 0.09277 hours\n",
      "Training at Epoch 2 iteration 200 with loss 0.88997. Total time 0.10444 hours\n",
      "Training at Epoch 2 iteration 300 with loss 0.91723. Total time 0.11833 hours\n",
      "Training at Epoch 2 iteration 400 with loss 0.75321. Total time 0.13444 hours\n",
      "Training at Epoch 2 iteration 500 with loss 0.58347. Total time 0.15111 hours\n",
      "Training at Epoch 2 iteration 600 with loss 0.97892. Total time 0.16388 hours\n",
      "Validation at Epoch 2 with loss:0.35694, MSE: 0.82624 , Pearson Correlation: 0.35528 with p-value: 0.0 , Concordance Index: 0.67243\n",
      "Training at Epoch 3 iteration 0 with loss 0.89106. Total time 0.17833 hours\n",
      "Training at Epoch 3 iteration 100 with loss 0.55325. Total time 0.19027 hours\n",
      "Training at Epoch 3 iteration 200 with loss 0.91629. Total time 0.2025 hours\n",
      "Training at Epoch 3 iteration 300 with loss 0.62316. Total time 0.21416 hours\n",
      "Training at Epoch 3 iteration 400 with loss 0.64126. Total time 0.22666 hours\n",
      "Training at Epoch 3 iteration 500 with loss 0.63698. Total time 0.23944 hours\n",
      "Training at Epoch 3 iteration 600 with loss 0.66816. Total time 0.25166 hours\n",
      "Validation at Epoch 3 with loss:0.69123, MSE: 0.63019 , Pearson Correlation: 0.36245 with p-value: 0.0 , Concordance Index: 0.67534\n",
      "Training at Epoch 4 iteration 0 with loss 0.67573. Total time 0.26666 hours\n",
      "Training at Epoch 4 iteration 100 with loss 0.67883. Total time 0.27833 hours\n",
      "Training at Epoch 4 iteration 200 with loss 1.10741. Total time 0.28972 hours\n",
      "Training at Epoch 4 iteration 300 with loss 0.89068. Total time 0.30083 hours\n",
      "Training at Epoch 4 iteration 400 with loss 1.07075. Total time 0.31333 hours\n",
      "Training at Epoch 4 iteration 500 with loss 0.67536. Total time 0.32583 hours\n"
     ]
    }
   ],
   "source": [
    "model.train(train, val, test)"
   ]
  },
  {
   "cell_type": "code",
   "execution_count": null,
   "metadata": {},
   "outputs": [],
   "source": [
    "model.save_model('./save_model/model_MPNN_CNN_Kiba')"
   ]
  },
  {
   "cell_type": "code",
   "execution_count": null,
   "metadata": {},
   "outputs": [],
   "source": []
  }
 ],
 "metadata": {
  "kernelspec": {
   "display_name": "Python 3",
   "language": "python",
   "name": "python3"
  },
  "language_info": {
   "codemirror_mode": {
    "name": "ipython",
    "version": 3
   },
   "file_extension": ".py",
   "mimetype": "text/x-python",
   "name": "python",
   "nbconvert_exporter": "python",
   "pygments_lexer": "ipython3",
   "version": "3.6.5"
  }
 },
 "nbformat": 4,
 "nbformat_minor": 4
}

{
 "cells": [
  {
   "cell_type": "code",
   "execution_count": 1,
   "metadata": {},
   "outputs": [],
   "source": [
    "import os\n",
    "os.chdir(\"/y/home/zyw/tmp/DeepPurpose/\")"
   ]
  },
  {
   "cell_type": "code",
   "execution_count": 2,
   "metadata": {},
   "outputs": [],
   "source": [
    "#import ssl\n",
    "#ssl._create_default_https_context = ssl._create_unverified_context"
   ]
  },
  {
   "cell_type": "code",
   "execution_count": 2,
   "metadata": {},
   "outputs": [
    {
     "name": "stderr",
     "output_type": "stream",
     "text": [
      "WARNING:root:No normalization for BCUT2D_MWHI\n",
      "WARNING:root:No normalization for BCUT2D_MWLOW\n",
      "WARNING:root:No normalization for BCUT2D_CHGHI\n",
      "WARNING:root:No normalization for BCUT2D_CHGLO\n",
      "WARNING:root:No normalization for BCUT2D_LOGPHI\n",
      "WARNING:root:No normalization for BCUT2D_LOGPLOW\n",
      "WARNING:root:No normalization for BCUT2D_MRHI\n",
      "WARNING:root:No normalization for BCUT2D_MRLOW\n"
     ]
    }
   ],
   "source": [
    "from DeepPurpose import utils,dataset,DTI"
   ]
  },
  {
   "cell_type": "code",
   "execution_count": 3,
   "metadata": {},
   "outputs": [
    {
     "name": "stdout",
     "output_type": "stream",
     "text": [
      "Beginning Processing...\n",
      "Default set to logspace (nM -> p) for easier regression\n",
      "Done!\n"
     ]
    }
   ],
   "source": [
    "#加载数据\n",
    "X_drug, X_target, y = dataset.load_process_DAVIS('./data/', binary=False)"
   ]
  },
  {
   "cell_type": "code",
   "execution_count": 4,
   "metadata": {},
   "outputs": [],
   "source": [
    "#设置编码器\n",
    "drug_encoding = 'MPNN'\n",
    "target_encoding = 'CNN'"
   ]
  },
  {
   "cell_type": "code",
   "execution_count": 5,
   "metadata": {},
   "outputs": [
    {
     "name": "stdout",
     "output_type": "stream",
     "text": [
      "Drug Target Interaction Prediction Mode...\n",
      "in total: 30056 drug-target pairs\n",
      "encoding drug...\n",
      "unique drugs: 68\n",
      "encoding protein...\n",
      "unique target sequence: 379\n",
      "splitting dataset...\n",
      "Done.\n"
     ]
    }
   ],
   "source": [
    "#分割训练集、验证集和测试集\n",
    "train, val, test = utils.data_process(X_drug, X_target, y, \n",
    "                                drug_encoding, target_encoding, \n",
    "                                split_method = 'random',\n",
    "                                frac = [0.7,0.1,0.2])"
   ]
  },
  {
   "cell_type": "code",
   "execution_count": 6,
   "metadata": {},
   "outputs": [],
   "source": [
    "# use the parameters setting provided in the paper: https://arxiv.org/abs/1801.10193\n",
    "config = utils.generate_config(drug_encoding = drug_encoding, \n",
    "                         target_encoding = target_encoding, \n",
    "                         cls_hidden_dims = [1024,1024,512], \n",
    "                         train_epoch = 100, \n",
    "                         test_every_X_epoch = 10, \n",
    "                         LR = 0.001, \n",
    "                         batch_size = 128,\n",
    "                         hidden_dim_drug = 128,\n",
    "                         mpnn_hidden_size = 128,\n",
    "                         mpnn_depth = 3, \n",
    "                         cnn_target_filters = [32,64,96],\n",
    "                         cnn_target_kernels = [4,8,12]\n",
    "                        )"
   ]
  },
  {
   "cell_type": "code",
   "execution_count": 7,
   "metadata": {},
   "outputs": [],
   "source": [
    "#模型初始化\n",
    "model = DTI.model_initialize(**config)"
   ]
  },
  {
   "cell_type": "code",
   "execution_count": null,
   "metadata": {},
   "outputs": [
    {
     "name": "stdout",
     "output_type": "stream",
     "text": [
      "Let's use 1 GPU!\n",
      "--- Data Preparation ---\n",
      "--- Go for Training ---\n",
      "Training at Epoch 1 iteration 0 with loss 31.0825. Total time 0.00027 hours\n",
      "Training at Epoch 1 iteration 100 with loss 0.71267. Total time 0.01194 hours\n",
      "Validation at Epoch 1 with loss:0.90033, MSE: 0.78755 , Pearson Correlation: 0.27453 with p-value: 4.04123 , Concordance Index: 0.63667\n",
      "Training at Epoch 2 iteration 0 with loss 1.07212. Total time 0.02138 hours\n",
      "Training at Epoch 2 iteration 100 with loss 0.52372. Total time 0.03277 hours\n",
      "Validation at Epoch 2 with loss:0.68108, MSE: 0.76826 , Pearson Correlation: 0.35101 with p-value: 6.97264 , Concordance Index: 0.68322\n",
      "Training at Epoch 3 iteration 0 with loss 1.04262. Total time 0.04222 hours\n",
      "Training at Epoch 3 iteration 100 with loss 1.04917. Total time 0.05388 hours\n",
      "Validation at Epoch 3 with loss:0.59024, MSE: 0.71146 , Pearson Correlation: 0.39191 with p-value: 6.17831 , Concordance Index: 0.70697\n",
      "Training at Epoch 4 iteration 0 with loss 0.73715. Total time 0.06388 hours\n",
      "Training at Epoch 4 iteration 100 with loss 0.79478. Total time 0.07472 hours\n",
      "Validation at Epoch 4 with loss:0.73210, MSE: 0.72632 , Pearson Correlation: 0.40514 with p-value: 3.92947 , Concordance Index: 0.71698\n",
      "Training at Epoch 5 iteration 0 with loss 0.88041. Total time 0.08444 hours\n",
      "Training at Epoch 5 iteration 100 with loss 0.77023. Total time 0.09555 hours\n",
      "Validation at Epoch 5 with loss:0.42990, MSE: 0.66935 , Pearson Correlation: 0.43301 with p-value: 1.20269 , Concordance Index: 0.73419\n",
      "Training at Epoch 6 iteration 0 with loss 0.60327. Total time 0.105 hours\n",
      "Training at Epoch 6 iteration 100 with loss 0.48359. Total time 0.11583 hours\n",
      "Validation at Epoch 6 with loss:1.08250, MSE: 0.71960 , Pearson Correlation: 0.43046 with p-value: 7.01337 , Concordance Index: 0.72685\n",
      "Training at Epoch 7 iteration 0 with loss 0.87664. Total time 0.12555 hours\n",
      "Training at Epoch 7 iteration 100 with loss 1.17264. Total time 0.13722 hours\n",
      "Validation at Epoch 7 with loss:0.65077, MSE: 0.71881 , Pearson Correlation: 0.43456 with p-value: 1.00105 , Concordance Index: 0.73484\n",
      "Training at Epoch 8 iteration 0 with loss 0.81875. Total time 0.14694 hours\n",
      "Training at Epoch 8 iteration 100 with loss 0.56085. Total time 0.15777 hours\n",
      "Validation at Epoch 8 with loss:0.74426, MSE: 0.67555 , Pearson Correlation: 0.44232 with p-value: 3.10502 , Concordance Index: 0.73740\n",
      "Training at Epoch 9 iteration 0 with loss 0.64336. Total time 0.16722 hours\n",
      "Training at Epoch 9 iteration 100 with loss 0.61706. Total time 0.17861 hours\n",
      "Validation at Epoch 9 with loss:0.49547, MSE: 0.65296 , Pearson Correlation: 0.45157 with p-value: 5.55916 , Concordance Index: 0.74381\n",
      "Training at Epoch 10 iteration 0 with loss 0.41058. Total time 0.18833 hours\n",
      "Training at Epoch 10 iteration 100 with loss 0.58028. Total time 0.19944 hours\n",
      "Validation at Epoch 10 with loss:1.31153, MSE: 0.72282 , Pearson Correlation: 0.44287 with p-value: 1.24663 , Concordance Index: 0.73806\n",
      "Training at Epoch 11 iteration 0 with loss 0.53560. Total time 0.20916 hours\n",
      "Training at Epoch 11 iteration 100 with loss 0.57784. Total time 0.22083 hours\n",
      "Validation at Epoch 11 with loss:0.43847, MSE: 0.65055 , Pearson Correlation: 0.45641 with p-value: 1.34957 , Concordance Index: 0.74135\n",
      "Training at Epoch 12 iteration 0 with loss 0.57430. Total time 0.23083 hours\n",
      "Training at Epoch 12 iteration 100 with loss 0.71510. Total time 0.24277 hours\n",
      "Validation at Epoch 12 with loss:0.80937, MSE: 0.77039 , Pearson Correlation: 0.45565 with p-value: 5.05127 , Concordance Index: 0.74167\n",
      "Training at Epoch 13 iteration 0 with loss 0.76490. Total time 0.25305 hours\n",
      "Training at Epoch 13 iteration 100 with loss 0.55215. Total time 0.26416 hours\n",
      "Validation at Epoch 13 with loss:0.96256, MSE: 0.65211 , Pearson Correlation: 0.45996 with p-value: 2.76829 , Concordance Index: 0.74307\n",
      "Training at Epoch 14 iteration 0 with loss 1.04603. Total time 0.27416 hours\n",
      "Training at Epoch 14 iteration 100 with loss 0.70106. Total time 0.28527 hours\n",
      "Validation at Epoch 14 with loss:0.54650, MSE: 0.63789 , Pearson Correlation: 0.47295 with p-value: 2.08938 , Concordance Index: 0.74552\n",
      "Training at Epoch 15 iteration 0 with loss 0.43557. Total time 0.29472 hours\n",
      "Training at Epoch 15 iteration 100 with loss 0.65670. Total time 0.30583 hours\n",
      "Validation at Epoch 15 with loss:0.92931, MSE: 0.65394 , Pearson Correlation: 0.47921 with p-value: 1.96470 , Concordance Index: 0.74691\n",
      "Training at Epoch 16 iteration 0 with loss 0.77917. Total time 0.31555 hours\n",
      "Training at Epoch 16 iteration 100 with loss 0.75275. Total time 0.32722 hours\n",
      "Validation at Epoch 16 with loss:0.66958, MSE: 0.68244 , Pearson Correlation: 0.50604 with p-value: 3.07834 , Concordance Index: 0.75496\n",
      "Training at Epoch 17 iteration 0 with loss 0.80976. Total time 0.33694 hours\n",
      "Training at Epoch 17 iteration 100 with loss 0.45468. Total time 0.34833 hours\n",
      "Validation at Epoch 17 with loss:1.63557, MSE: 0.64275 , Pearson Correlation: 0.50489 with p-value: 3.24378 , Concordance Index: 0.75712\n",
      "Training at Epoch 18 iteration 0 with loss 0.57083. Total time 0.35777 hours\n",
      "Training at Epoch 18 iteration 100 with loss 0.57378. Total time 0.36916 hours\n",
      "Validation at Epoch 18 with loss:0.62206, MSE: 0.69912 , Pearson Correlation: 0.52461 with p-value: 2.93157 , Concordance Index: 0.75999\n",
      "Training at Epoch 19 iteration 0 with loss 0.57166. Total time 0.37833 hours\n",
      "Training at Epoch 19 iteration 100 with loss 0.72188. Total time 0.38944 hours\n",
      "Validation at Epoch 19 with loss:0.68238, MSE: 0.61438 , Pearson Correlation: 0.52327 with p-value: 5.43222 , Concordance Index: 0.75426\n",
      "Training at Epoch 20 iteration 0 with loss 0.73365. Total time 0.39861 hours\n",
      "Training at Epoch 20 iteration 100 with loss 0.57817. Total time 0.41 hours\n",
      "Validation at Epoch 20 with loss:0.48433, MSE: 0.61074 , Pearson Correlation: 0.53700 with p-value: 3.29951 , Concordance Index: 0.76208\n",
      "Training at Epoch 21 iteration 0 with loss 0.64635. Total time 0.42 hours\n",
      "Training at Epoch 21 iteration 100 with loss 0.60269. Total time 0.43138 hours\n",
      "Validation at Epoch 21 with loss:0.87030, MSE: 0.59445 , Pearson Correlation: 0.54702 with p-value: 2.99159 , Concordance Index: 0.76490\n",
      "Training at Epoch 22 iteration 0 with loss 0.51606. Total time 0.44138 hours\n",
      "Training at Epoch 22 iteration 100 with loss 0.88523. Total time 0.45277 hours\n",
      "Validation at Epoch 22 with loss:0.69681, MSE: 0.56978 , Pearson Correlation: 0.56098 with p-value: 7.93285 , Concordance Index: 0.76798\n",
      "Training at Epoch 23 iteration 0 with loss 0.81203. Total time 0.4625 hours\n",
      "Training at Epoch 23 iteration 100 with loss 0.73191. Total time 0.47388 hours\n",
      "Validation at Epoch 23 with loss:0.41089, MSE: 0.54547 , Pearson Correlation: 0.57617 with p-value: 1.73162 , Concordance Index: 0.77430\n",
      "Training at Epoch 24 iteration 0 with loss 0.74889. Total time 0.48305 hours\n",
      "Training at Epoch 24 iteration 100 with loss 0.50416. Total time 0.49416 hours\n",
      "Validation at Epoch 24 with loss:0.83383, MSE: 0.55345 , Pearson Correlation: 0.58520 with p-value: 8.05960 , Concordance Index: 0.78083\n",
      "Training at Epoch 25 iteration 0 with loss 0.40054. Total time 0.50388 hours\n",
      "Training at Epoch 25 iteration 100 with loss 0.60228. Total time 0.51527 hours\n",
      "Validation at Epoch 25 with loss:0.31291, MSE: 0.52815 , Pearson Correlation: 0.59915 with p-value: 1.99505 , Concordance Index: 0.77935\n",
      "Training at Epoch 26 iteration 0 with loss 0.80405. Total time 0.525 hours\n",
      "Training at Epoch 26 iteration 100 with loss 0.45233. Total time 0.53638 hours\n",
      "Validation at Epoch 26 with loss:1.14871, MSE: 0.57056 , Pearson Correlation: 0.59484 with p-value: 3.31668 , Concordance Index: 0.78630\n",
      "Training at Epoch 27 iteration 0 with loss 0.53255. Total time 0.54611 hours\n",
      "Training at Epoch 27 iteration 100 with loss 0.39808. Total time 0.5575 hours\n",
      "Validation at Epoch 27 with loss:0.59609, MSE: 0.51265 , Pearson Correlation: 0.61479 with p-value: 4.70426 , Concordance Index: 0.79003\n",
      "Training at Epoch 28 iteration 0 with loss 0.53503. Total time 0.56666 hours\n",
      "Training at Epoch 28 iteration 100 with loss 0.50015. Total time 0.57833 hours\n",
      "Validation at Epoch 28 with loss:0.42070, MSE: 0.49506 , Pearson Correlation: 0.63910 with p-value: 0.0 , Concordance Index: 0.79400\n"
     ]
    },
    {
     "name": "stdout",
     "output_type": "stream",
     "text": [
      "Training at Epoch 29 iteration 0 with loss 0.44541. Total time 0.5875 hours\n",
      "Training at Epoch 29 iteration 100 with loss 0.73144. Total time 0.59805 hours\n",
      "Validation at Epoch 29 with loss:0.67016, MSE: 0.50785 , Pearson Correlation: 0.61531 with p-value: 1.01948 , Concordance Index: 0.79678\n",
      "Training at Epoch 30 iteration 0 with loss 0.53010. Total time 0.60777 hours\n",
      "Training at Epoch 30 iteration 100 with loss 0.49931. Total time 0.61916 hours\n",
      "Validation at Epoch 30 with loss:0.37593, MSE: 0.49168 , Pearson Correlation: 0.64436 with p-value: 0.0 , Concordance Index: 0.80674\n",
      "Training at Epoch 31 iteration 0 with loss 0.56988. Total time 0.62833 hours\n",
      "Training at Epoch 31 iteration 100 with loss 0.37034. Total time 0.63916 hours\n",
      "Validation at Epoch 31 with loss:0.39085, MSE: 0.47485 , Pearson Correlation: 0.65388 with p-value: 0.0 , Concordance Index: 0.81462\n",
      "Training at Epoch 32 iteration 0 with loss 0.38885. Total time 0.64888 hours\n",
      "Training at Epoch 32 iteration 100 with loss 0.49043. Total time 0.66027 hours\n",
      "Validation at Epoch 32 with loss:0.37520, MSE: 0.44576 , Pearson Correlation: 0.67725 with p-value: 0.0 , Concordance Index: 0.81726\n",
      "Training at Epoch 33 iteration 0 with loss 0.43531. Total time 0.66972 hours\n",
      "Training at Epoch 33 iteration 100 with loss 0.55143. Total time 0.68055 hours\n",
      "Validation at Epoch 33 with loss:0.29253, MSE: 0.43198 , Pearson Correlation: 0.68516 with p-value: 0.0 , Concordance Index: 0.82039\n",
      "Training at Epoch 34 iteration 0 with loss 0.48309. Total time 0.68972 hours\n",
      "Training at Epoch 34 iteration 100 with loss 0.45984. Total time 0.70055 hours\n",
      "Validation at Epoch 34 with loss:0.46922, MSE: 0.44270 , Pearson Correlation: 0.67986 with p-value: 0.0 , Concordance Index: 0.81640\n",
      "Training at Epoch 35 iteration 0 with loss 0.47768. Total time 0.71055 hours\n",
      "Training at Epoch 35 iteration 100 with loss 0.29070. Total time 0.72194 hours\n",
      "Validation at Epoch 35 with loss:0.35856, MSE: 0.41303 , Pearson Correlation: 0.70705 with p-value: 0.0 , Concordance Index: 0.83367\n",
      "Training at Epoch 36 iteration 0 with loss 0.40723. Total time 0.73138 hours\n",
      "Training at Epoch 36 iteration 100 with loss 0.32807. Total time 0.74222 hours\n",
      "Validation at Epoch 36 with loss:0.19419, MSE: 0.41968 , Pearson Correlation: 0.69805 with p-value: 0.0 , Concordance Index: 0.81545\n",
      "Training at Epoch 37 iteration 0 with loss 0.50808. Total time 0.75194 hours\n",
      "Training at Epoch 37 iteration 100 with loss 0.33681. Total time 0.76333 hours\n",
      "Validation at Epoch 37 with loss:0.25654, MSE: 0.39629 , Pearson Correlation: 0.71787 with p-value: 0.0 , Concordance Index: 0.84065\n",
      "Training at Epoch 38 iteration 0 with loss 0.30909. Total time 0.7725 hours\n",
      "Training at Epoch 38 iteration 100 with loss 0.42916. Total time 0.78361 hours\n",
      "Validation at Epoch 38 with loss:0.33899, MSE: 0.39458 , Pearson Correlation: 0.73708 with p-value: 0.0 , Concordance Index: 0.84641\n",
      "Training at Epoch 39 iteration 0 with loss 0.37124. Total time 0.79277 hours\n",
      "Training at Epoch 39 iteration 100 with loss 0.39388. Total time 0.80444 hours\n",
      "Validation at Epoch 39 with loss:0.24208, MSE: 0.39964 , Pearson Correlation: 0.73392 with p-value: 0.0 , Concordance Index: 0.84302\n",
      "Training at Epoch 40 iteration 0 with loss 0.43336. Total time 0.81416 hours\n",
      "Training at Epoch 40 iteration 100 with loss 0.32865. Total time 0.82555 hours\n",
      "Validation at Epoch 40 with loss:0.25409, MSE: 0.36247 , Pearson Correlation: 0.74586 with p-value: 0.0 , Concordance Index: 0.85300\n",
      "Training at Epoch 41 iteration 0 with loss 0.36016. Total time 0.83583 hours\n",
      "Training at Epoch 41 iteration 100 with loss 0.57049. Total time 0.8475 hours\n",
      "Validation at Epoch 41 with loss:0.54103, MSE: 0.37159 , Pearson Correlation: 0.74087 with p-value: 0.0 , Concordance Index: 0.84214\n",
      "Training at Epoch 42 iteration 0 with loss 0.31978. Total time 0.85666 hours\n",
      "Training at Epoch 42 iteration 100 with loss 0.43049. Total time 0.8675 hours\n",
      "Validation at Epoch 42 with loss:0.17843, MSE: 0.37127 , Pearson Correlation: 0.73916 with p-value: 0.0 , Concordance Index: 0.85198\n",
      "Training at Epoch 43 iteration 0 with loss 0.33397. Total time 0.87833 hours\n",
      "Training at Epoch 43 iteration 100 with loss 0.31626. Total time 0.88944 hours\n",
      "Validation at Epoch 43 with loss:0.30018, MSE: 0.35478 , Pearson Correlation: 0.75109 with p-value: 0.0 , Concordance Index: 0.84798\n",
      "Training at Epoch 44 iteration 0 with loss 0.33357. Total time 0.89944 hours\n",
      "Training at Epoch 44 iteration 100 with loss 0.29616. Total time 0.91027 hours\n",
      "Validation at Epoch 44 with loss:0.28376, MSE: 0.33829 , Pearson Correlation: 0.76600 with p-value: 0.0 , Concordance Index: 0.85652\n",
      "Training at Epoch 45 iteration 0 with loss 0.33123. Total time 0.92027 hours\n",
      "Training at Epoch 45 iteration 100 with loss 0.32218. Total time 0.93222 hours\n",
      "Validation at Epoch 45 with loss:0.39554, MSE: 0.34750 , Pearson Correlation: 0.76019 with p-value: 0.0 , Concordance Index: 0.84868\n",
      "Training at Epoch 46 iteration 0 with loss 0.30805. Total time 0.94166 hours\n",
      "Training at Epoch 46 iteration 100 with loss 0.27056. Total time 0.95305 hours\n",
      "Validation at Epoch 46 with loss:0.25902, MSE: 0.32715 , Pearson Correlation: 0.77345 with p-value: 0.0 , Concordance Index: 0.85966\n",
      "Training at Epoch 47 iteration 0 with loss 0.14966. Total time 0.9625 hours\n",
      "Training at Epoch 47 iteration 100 with loss 0.33615. Total time 0.97361 hours\n",
      "Validation at Epoch 47 with loss:0.32466, MSE: 0.33707 , Pearson Correlation: 0.77887 with p-value: 0.0 , Concordance Index: 0.86069\n",
      "Training at Epoch 48 iteration 0 with loss 0.26897. Total time 0.98305 hours\n",
      "Training at Epoch 48 iteration 100 with loss 0.19552. Total time 0.99388 hours\n",
      "Validation at Epoch 48 with loss:0.20827, MSE: 0.30949 , Pearson Correlation: 0.78810 with p-value: 0.0 , Concordance Index: 0.85850\n",
      "Training at Epoch 49 iteration 0 with loss 0.31924. Total time 1.00444 hours\n",
      "Training at Epoch 49 iteration 100 with loss 0.27330. Total time 1.01583 hours\n",
      "Validation at Epoch 49 with loss:0.21253, MSE: 0.32040 , Pearson Correlation: 0.78221 with p-value: 0.0 , Concordance Index: 0.85854\n",
      "Training at Epoch 50 iteration 0 with loss 0.25734. Total time 1.02527 hours\n",
      "Training at Epoch 50 iteration 100 with loss 0.23693. Total time 1.03666 hours\n",
      "Validation at Epoch 50 with loss:0.15831, MSE: 0.32297 , Pearson Correlation: 0.78430 with p-value: 0.0 , Concordance Index: 0.86030\n",
      "Training at Epoch 51 iteration 0 with loss 0.25073. Total time 1.04611 hours\n",
      "Training at Epoch 51 iteration 100 with loss 0.32562. Total time 1.0575 hours\n",
      "Validation at Epoch 51 with loss:0.30223, MSE: 0.35017 , Pearson Correlation: 0.78292 with p-value: 0.0 , Concordance Index: 0.86373\n",
      "Training at Epoch 52 iteration 0 with loss 0.22811. Total time 1.06777 hours\n",
      "Training at Epoch 52 iteration 100 with loss 0.26101. Total time 1.07944 hours\n",
      "Validation at Epoch 52 with loss:0.68317, MSE: 0.31684 , Pearson Correlation: 0.78465 with p-value: 0.0 , Concordance Index: 0.86053\n",
      "Training at Epoch 53 iteration 0 with loss 0.20289. Total time 1.08944 hours\n",
      "Training at Epoch 53 iteration 100 with loss 0.27861. Total time 1.10055 hours\n",
      "Validation at Epoch 53 with loss:0.33200, MSE: 0.29702 , Pearson Correlation: 0.79822 with p-value: 0.0 , Concordance Index: 0.86469\n",
      "Training at Epoch 54 iteration 0 with loss 0.26495. Total time 1.11027 hours\n",
      "Training at Epoch 54 iteration 100 with loss 0.16122. Total time 1.12166 hours\n",
      "Validation at Epoch 54 with loss:0.51229, MSE: 0.31856 , Pearson Correlation: 0.79592 with p-value: 0.0 , Concordance Index: 0.86386\n",
      "Training at Epoch 55 iteration 0 with loss 0.20235. Total time 1.13083 hours\n",
      "Training at Epoch 55 iteration 100 with loss 0.19510. Total time 1.14194 hours\n",
      "Validation at Epoch 55 with loss:0.25356, MSE: 0.30655 , Pearson Correlation: 0.79809 with p-value: 0.0 , Concordance Index: 0.86476\n",
      "Training at Epoch 56 iteration 0 with loss 0.26546. Total time 1.15194 hours\n",
      "Training at Epoch 56 iteration 100 with loss 0.23179. Total time 1.16333 hours\n",
      "Validation at Epoch 56 with loss:0.33575, MSE: 0.30469 , Pearson Correlation: 0.79492 with p-value: 0.0 , Concordance Index: 0.86404\n",
      "Training at Epoch 57 iteration 0 with loss 0.17275. Total time 1.1725 hours\n",
      "Training at Epoch 57 iteration 100 with loss 0.27055. Total time 1.18388 hours\n"
     ]
    },
    {
     "name": "stdout",
     "output_type": "stream",
     "text": [
      "Validation at Epoch 57 with loss:0.24607, MSE: 0.28884 , Pearson Correlation: 0.80488 with p-value: 0.0 , Concordance Index: 0.86571\n",
      "Training at Epoch 58 iteration 0 with loss 0.21593. Total time 1.19361 hours\n",
      "Training at Epoch 58 iteration 100 with loss 0.23517. Total time 1.20472 hours\n",
      "Validation at Epoch 58 with loss:0.43074, MSE: 0.29372 , Pearson Correlation: 0.80508 with p-value: 0.0 , Concordance Index: 0.86758\n",
      "Training at Epoch 59 iteration 0 with loss 0.28535. Total time 1.21416 hours\n",
      "Training at Epoch 59 iteration 100 with loss 0.22701. Total time 1.22527 hours\n",
      "Validation at Epoch 59 with loss:0.60892, MSE: 0.29565 , Pearson Correlation: 0.80196 with p-value: 0.0 , Concordance Index: 0.85804\n",
      "Training at Epoch 60 iteration 0 with loss 0.24218. Total time 1.23527 hours\n",
      "Training at Epoch 60 iteration 100 with loss 0.27564. Total time 1.24694 hours\n",
      "Validation at Epoch 60 with loss:0.11351, MSE: 0.29963 , Pearson Correlation: 0.79963 with p-value: 0.0 , Concordance Index: 0.86708\n",
      "Training at Epoch 61 iteration 0 with loss 0.27881. Total time 1.25611 hours\n",
      "Training at Epoch 61 iteration 100 with loss 0.17736. Total time 1.26694 hours\n",
      "Validation at Epoch 61 with loss:0.48767, MSE: 0.31468 , Pearson Correlation: 0.78688 with p-value: 0.0 , Concordance Index: 0.86144\n",
      "Training at Epoch 62 iteration 0 with loss 0.24363. Total time 1.27638 hours\n",
      "Training at Epoch 62 iteration 100 with loss 0.27526. Total time 1.28722 hours\n",
      "Validation at Epoch 62 with loss:0.51277, MSE: 0.30791 , Pearson Correlation: 0.81133 with p-value: 0.0 , Concordance Index: 0.86748\n",
      "Training at Epoch 63 iteration 0 with loss 0.19209. Total time 1.29694 hours\n",
      "Training at Epoch 63 iteration 100 with loss 0.32730. Total time 1.30805 hours\n",
      "Validation at Epoch 63 with loss:0.27786, MSE: 0.29500 , Pearson Correlation: 0.80030 with p-value: 0.0 , Concordance Index: 0.85814\n",
      "Training at Epoch 64 iteration 0 with loss 0.24683. Total time 1.3175 hours\n",
      "Training at Epoch 64 iteration 100 with loss 0.17662. Total time 1.32888 hours\n",
      "Validation at Epoch 64 with loss:0.38453, MSE: 0.29587 , Pearson Correlation: 0.80849 with p-value: 0.0 , Concordance Index: 0.86625\n",
      "Training at Epoch 65 iteration 0 with loss 0.24536. Total time 1.33861 hours\n",
      "Training at Epoch 65 iteration 100 with loss 0.23325. Total time 1.35 hours\n",
      "Validation at Epoch 65 with loss:0.37318, MSE: 0.29724 , Pearson Correlation: 0.80685 with p-value: 0.0 , Concordance Index: 0.85537\n",
      "Training at Epoch 66 iteration 0 with loss 0.13875. Total time 1.35972 hours\n",
      "Training at Epoch 66 iteration 100 with loss 0.25417. Total time 1.37111 hours\n",
      "Validation at Epoch 66 with loss:0.34220, MSE: 0.28623 , Pearson Correlation: 0.80604 with p-value: 0.0 , Concordance Index: 0.86766\n",
      "Training at Epoch 67 iteration 0 with loss 0.26436. Total time 1.38055 hours\n",
      "Training at Epoch 67 iteration 100 with loss 0.27634. Total time 1.39222 hours\n",
      "Validation at Epoch 67 with loss:0.31436, MSE: 0.28723 , Pearson Correlation: 0.80829 with p-value: 0.0 , Concordance Index: 0.86311\n",
      "Training at Epoch 68 iteration 0 with loss 0.16983. Total time 1.40166 hours\n",
      "Training at Epoch 68 iteration 100 with loss 0.21945. Total time 1.4125 hours\n",
      "Validation at Epoch 68 with loss:0.16189, MSE: 0.28538 , Pearson Correlation: 0.80933 with p-value: 0.0 , Concordance Index: 0.86045\n",
      "Training at Epoch 69 iteration 0 with loss 0.24188. Total time 1.42194 hours\n",
      "Training at Epoch 69 iteration 100 with loss 0.16799. Total time 1.43277 hours\n",
      "Validation at Epoch 69 with loss:0.35728, MSE: 0.29386 , Pearson Correlation: 0.80568 with p-value: 0.0 , Concordance Index: 0.87288\n",
      "Training at Epoch 70 iteration 0 with loss 0.26504. Total time 1.44222 hours\n",
      "Training at Epoch 70 iteration 100 with loss 0.15015. Total time 1.45305 hours\n",
      "Validation at Epoch 70 with loss:0.39771, MSE: 0.28193 , Pearson Correlation: 0.81065 with p-value: 0.0 , Concordance Index: 0.86736\n",
      "Training at Epoch 71 iteration 0 with loss 0.32453. Total time 1.46305 hours\n",
      "Training at Epoch 71 iteration 100 with loss 0.20158. Total time 1.47416 hours\n",
      "Validation at Epoch 71 with loss:0.47545, MSE: 0.28289 , Pearson Correlation: 0.80835 with p-value: 0.0 , Concordance Index: 0.86766\n",
      "Training at Epoch 72 iteration 0 with loss 0.13817. Total time 1.48361 hours\n",
      "Training at Epoch 72 iteration 100 with loss 0.20956. Total time 1.49527 hours\n"
     ]
    }
   ],
   "source": [
    "#训练模型\n",
    "model.train(train, val, test)"
   ]
  },
  {
   "cell_type": "code",
   "execution_count": null,
   "metadata": {},
   "outputs": [],
   "source": [
    "#保存模型\n",
    "model.save_model('./save_model/model_MPNN_CNN_Davis')"
   ]
  }
 ],
 "metadata": {
  "kernelspec": {
   "display_name": "Python 3",
   "language": "python",
   "name": "python3"
  },
  "language_info": {
   "codemirror_mode": {
    "name": "ipython",
    "version": 3
   },
   "file_extension": ".py",
   "mimetype": "text/x-python",
   "name": "python",
   "nbconvert_exporter": "python",
   "pygments_lexer": "ipython3",
   "version": "3.6.5"
  }
 },
 "nbformat": 4,
 "nbformat_minor": 4
}

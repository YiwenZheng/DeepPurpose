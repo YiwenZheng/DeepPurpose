{
 "cells": [
  {
   "cell_type": "code",
   "execution_count": 1,
   "metadata": {},
   "outputs": [],
   "source": [
    "import os\n",
    "os.chdir(\"/y/home/zyw/tmp/DeepPurpose/\")"
   ]
  },
  {
   "cell_type": "code",
   "execution_count": 2,
   "metadata": {},
   "outputs": [
    {
     "name": "stderr",
     "output_type": "stream",
     "text": [
      "WARNING:root:No normalization for BCUT2D_MWHI\n",
      "WARNING:root:No normalization for BCUT2D_MWLOW\n",
      "WARNING:root:No normalization for BCUT2D_CHGHI\n",
      "WARNING:root:No normalization for BCUT2D_CHGLO\n",
      "WARNING:root:No normalization for BCUT2D_LOGPHI\n",
      "WARNING:root:No normalization for BCUT2D_LOGPLOW\n",
      "WARNING:root:No normalization for BCUT2D_MRHI\n",
      "WARNING:root:No normalization for BCUT2D_MRLOW\n"
     ]
    }
   ],
   "source": [
    "from scripts import utils,dataset,DTI"
   ]
  },
  {
   "cell_type": "code",
   "execution_count": 3,
   "metadata": {},
   "outputs": [
    {
     "name": "stdout",
     "output_type": "stream",
     "text": [
      "Beginning Processing...\n",
      "Done!\n"
     ]
    }
   ],
   "source": [
    "X_drug, X_target, y = dataset.load_process_KIBA('./data/', binary=False)"
   ]
  },
  {
   "cell_type": "code",
   "execution_count": 4,
   "metadata": {},
   "outputs": [],
   "source": [
    "drug_encoding = 'Daylight'\n",
    "target_encoding = 'AAC'"
   ]
  },
  {
   "cell_type": "code",
   "execution_count": 5,
   "metadata": {},
   "outputs": [
    {
     "name": "stdout",
     "output_type": "stream",
     "text": [
      "Drug Target Interaction Prediction Mode...\n",
      "in total: 118254 drug-target pairs\n",
      "encoding drug...\n",
      "unique drugs: 2068\n",
      "encoding protein...\n",
      "unique target sequence: 229\n",
      "-- Encoding AAC takes time. Time Reference: 24s for ~100 sequences in a CPU.\t\t\t\t Calculate your time by the unique target sequence #, instead of the entire dataset.\n",
      "splitting dataset...\n",
      "Done.\n"
     ]
    }
   ],
   "source": [
    "train, val, test = utils.data_process(X_drug, X_target, y, \n",
    "                                drug_encoding, target_encoding, \n",
    "                                split_method = 'random',frac = [0.7,0.1,0.2], random_seed = 3)"
   ]
  },
  {
   "cell_type": "code",
   "execution_count": 6,
   "metadata": {},
   "outputs": [],
   "source": [
    "config = utils.generate_config(drug_encoding = drug_encoding, \n",
    "                         target_encoding = target_encoding, \n",
    "                         cls_hidden_dims = [1024,1024,512], \n",
    "                         train_epoch = 100, \n",
    "                         LR = 0.001, \n",
    "                         batch_size = 256,\n",
    "                         cnn_target_filters = [32,64,96],\n",
    "                         cnn_target_kernels = [4,8,12])"
   ]
  },
  {
   "cell_type": "code",
   "execution_count": 7,
   "metadata": {},
   "outputs": [],
   "source": [
    "model = DTI.model_initialize(**config)"
   ]
  },
  {
   "cell_type": "code",
   "execution_count": null,
   "metadata": {},
   "outputs": [
    {
     "name": "stdout",
     "output_type": "stream",
     "text": [
      "Let's use 1 GPU!\n",
      "--- Data Preparation ---\n",
      "--- Go for Training ---\n",
      "Training at Epoch 1 iteration 0 with loss 136.721. Total time 0.00027 hours\n",
      "Training at Epoch 1 iteration 100 with loss 1.94700. Total time 0.00638 hours\n",
      "Training at Epoch 1 iteration 200 with loss 1.31212. Total time 0.01277 hours\n",
      "Training at Epoch 1 iteration 300 with loss 1.06051. Total time 0.01916 hours\n",
      "Validation at Epoch 1 with loss:0.65643, MSE: 0.54846 , Pearson Correlation: 0.55740 with p-value: 0.0 , Concordance Index: 0.71293\n",
      "Training at Epoch 2 iteration 0 with loss 0.98205. Total time 0.02277 hours\n",
      "Training at Epoch 2 iteration 100 with loss 0.98498. Total time 0.02916 hours\n",
      "Training at Epoch 2 iteration 200 with loss 0.77278. Total time 0.03555 hours\n",
      "Training at Epoch 2 iteration 300 with loss 0.61087. Total time 0.04194 hours\n",
      "Validation at Epoch 2 with loss:0.37483, MSE: 0.54846 , Pearson Correlation: 0.62480 with p-value: 0.0 , Concordance Index: 0.74404\n",
      "Training at Epoch 3 iteration 0 with loss 0.78454. Total time 0.04583 hours\n",
      "Training at Epoch 3 iteration 100 with loss 0.73542. Total time 0.05222 hours\n",
      "Training at Epoch 3 iteration 200 with loss 0.58040. Total time 0.05888 hours\n",
      "Training at Epoch 3 iteration 300 with loss 0.64100. Total time 0.065 hours\n",
      "Validation at Epoch 3 with loss:0.34865, MSE: 0.43278 , Pearson Correlation: 0.64728 with p-value: 0.0 , Concordance Index: 0.75783\n",
      "Training at Epoch 4 iteration 0 with loss 0.69200. Total time 0.06888 hours\n",
      "Training at Epoch 4 iteration 100 with loss 0.56882. Total time 0.075 hours\n",
      "Training at Epoch 4 iteration 200 with loss 0.63089. Total time 0.08111 hours\n",
      "Training at Epoch 4 iteration 300 with loss 0.68522. Total time 0.0875 hours\n",
      "Validation at Epoch 4 with loss:0.34588, MSE: 0.59529 , Pearson Correlation: 0.65262 with p-value: 0.0 , Concordance Index: 0.75753\n",
      "Training at Epoch 5 iteration 0 with loss 0.63159. Total time 0.09111 hours\n",
      "Training at Epoch 5 iteration 100 with loss 0.72952. Total time 0.09694 hours\n",
      "Training at Epoch 5 iteration 200 with loss 0.66970. Total time 0.10333 hours\n",
      "Training at Epoch 5 iteration 300 with loss 1.11268. Total time 0.10972 hours\n",
      "Validation at Epoch 5 with loss:0.55402, MSE: 0.43892 , Pearson Correlation: 0.64902 with p-value: 0.0 , Concordance Index: 0.75916\n",
      "Training at Epoch 6 iteration 0 with loss 0.81025. Total time 0.11361 hours\n",
      "Training at Epoch 6 iteration 100 with loss 0.51982. Total time 0.12 hours\n",
      "Training at Epoch 6 iteration 200 with loss 0.54541. Total time 0.12666 hours\n",
      "Training at Epoch 6 iteration 300 with loss 0.70977. Total time 0.13305 hours\n",
      "Validation at Epoch 6 with loss:0.18441, MSE: 0.41016 , Pearson Correlation: 0.66253 with p-value: 0.0 , Concordance Index: 0.76412\n",
      "Training at Epoch 7 iteration 0 with loss 0.72129. Total time 0.13694 hours\n",
      "Training at Epoch 7 iteration 100 with loss 0.73355. Total time 0.14333 hours\n",
      "Training at Epoch 7 iteration 200 with loss 0.56024. Total time 0.14944 hours\n",
      "Training at Epoch 7 iteration 300 with loss 0.66763. Total time 0.15583 hours\n",
      "Validation at Epoch 7 with loss:0.52035, MSE: 0.68909 , Pearson Correlation: 0.65747 with p-value: 0.0 , Concordance Index: 0.75839\n",
      "Training at Epoch 8 iteration 0 with loss 0.65038. Total time 0.15972 hours\n",
      "Training at Epoch 8 iteration 100 with loss 0.69728. Total time 0.16611 hours\n",
      "Training at Epoch 8 iteration 200 with loss 0.56754. Total time 0.17222 hours\n",
      "Training at Epoch 8 iteration 300 with loss 0.66320. Total time 0.17805 hours\n",
      "Validation at Epoch 8 with loss:0.47376, MSE: 0.70648 , Pearson Correlation: 0.66553 with p-value: 0.0 , Concordance Index: 0.76658\n",
      "Training at Epoch 9 iteration 0 with loss 0.57706. Total time 0.18166 hours\n",
      "Training at Epoch 9 iteration 100 with loss 0.60893. Total time 0.18833 hours\n",
      "Training at Epoch 9 iteration 200 with loss 0.48121. Total time 0.19444 hours\n",
      "Training at Epoch 9 iteration 300 with loss 0.51163. Total time 0.20027 hours\n",
      "Validation at Epoch 9 with loss:0.42508, MSE: 0.39518 , Pearson Correlation: 0.67542 with p-value: 0.0 , Concordance Index: 0.77110\n",
      "Training at Epoch 10 iteration 0 with loss 0.64025. Total time 0.20416 hours\n",
      "Training at Epoch 10 iteration 100 with loss 0.63260. Total time 0.21055 hours\n",
      "Training at Epoch 10 iteration 200 with loss 0.47786. Total time 0.21666 hours\n",
      "Training at Epoch 10 iteration 300 with loss 0.54791. Total time 0.22305 hours\n",
      "Validation at Epoch 10 with loss:0.91432, MSE: 0.55787 , Pearson Correlation: 0.67303 with p-value: 0.0 , Concordance Index: 0.76732\n",
      "Training at Epoch 11 iteration 0 with loss 0.39212. Total time 0.22694 hours\n",
      "Training at Epoch 11 iteration 100 with loss 0.40883. Total time 0.23361 hours\n",
      "Training at Epoch 11 iteration 200 with loss 0.45644. Total time 0.24 hours\n",
      "Training at Epoch 11 iteration 300 with loss 0.72317. Total time 0.24638 hours\n",
      "Validation at Epoch 11 with loss:0.56622, MSE: 0.80537 , Pearson Correlation: 0.67798 with p-value: 0.0 , Concordance Index: 0.77150\n",
      "Training at Epoch 12 iteration 0 with loss 0.46356. Total time 0.25027 hours\n",
      "Training at Epoch 12 iteration 100 with loss 0.50775. Total time 0.25666 hours\n",
      "Training at Epoch 12 iteration 200 with loss 0.43700. Total time 0.26305 hours\n",
      "Training at Epoch 12 iteration 300 with loss 0.68010. Total time 0.26916 hours\n",
      "Validation at Epoch 12 with loss:0.75600, MSE: 0.79334 , Pearson Correlation: 0.67576 with p-value: 0.0 , Concordance Index: 0.77117\n",
      "Training at Epoch 13 iteration 0 with loss 0.47072. Total time 0.27305 hours\n",
      "Training at Epoch 13 iteration 100 with loss 0.66958. Total time 0.27888 hours\n",
      "Training at Epoch 13 iteration 200 with loss 0.51732. Total time 0.28555 hours\n",
      "Training at Epoch 13 iteration 300 with loss 0.78340. Total time 0.29166 hours\n",
      "Validation at Epoch 13 with loss:1.66849, MSE: 1.26904 , Pearson Correlation: 0.67868 with p-value: 0.0 , Concordance Index: 0.77210\n",
      "Training at Epoch 14 iteration 0 with loss 0.85697. Total time 0.29555 hours\n",
      "Training at Epoch 14 iteration 100 with loss 0.57077. Total time 0.30166 hours\n",
      "Training at Epoch 14 iteration 200 with loss 0.44353. Total time 0.3075 hours\n",
      "Training at Epoch 14 iteration 300 with loss 0.48734. Total time 0.31416 hours\n",
      "Validation at Epoch 14 with loss:0.72233, MSE: 0.59710 , Pearson Correlation: 0.68153 with p-value: 0.0 , Concordance Index: 0.77447\n",
      "Training at Epoch 15 iteration 0 with loss 0.45800. Total time 0.31777 hours\n",
      "Training at Epoch 15 iteration 100 with loss 0.50760. Total time 0.32416 hours\n",
      "Training at Epoch 15 iteration 200 with loss 0.57889. Total time 0.33027 hours\n",
      "Training at Epoch 15 iteration 300 with loss 0.58542. Total time 0.33694 hours\n",
      "Validation at Epoch 15 with loss:0.47440, MSE: 0.86564 , Pearson Correlation: 0.68377 with p-value: 0.0 , Concordance Index: 0.77449\n",
      "Training at Epoch 16 iteration 0 with loss 0.59706. Total time 0.34083 hours\n",
      "Training at Epoch 16 iteration 100 with loss 0.56377. Total time 0.34722 hours\n",
      "Training at Epoch 16 iteration 200 with loss 0.77905. Total time 0.35388 hours\n",
      "Training at Epoch 16 iteration 300 with loss 0.57107. Total time 0.36027 hours\n",
      "Validation at Epoch 16 with loss:0.48689, MSE: 0.45495 , Pearson Correlation: 0.68733 with p-value: 0.0 , Concordance Index: 0.77785\n",
      "Training at Epoch 17 iteration 0 with loss 0.56086. Total time 0.36388 hours\n",
      "Training at Epoch 17 iteration 100 with loss 0.75542. Total time 0.37027 hours\n"
     ]
    }
   ],
   "source": [
    "model.train(train, val, test)"
   ]
  },
  {
   "cell_type": "code",
   "execution_count": null,
   "metadata": {},
   "outputs": [],
   "source": [
    "model.save_model('./save_model/model_Daylight_AAC_Kiba')"
   ]
  }
 ],
 "metadata": {
  "kernelspec": {
   "display_name": "Python 3",
   "language": "python",
   "name": "python3"
  },
  "language_info": {
   "codemirror_mode": {
    "name": "ipython",
    "version": 3
   },
   "file_extension": ".py",
   "mimetype": "text/x-python",
   "name": "python",
   "nbconvert_exporter": "python",
   "pygments_lexer": "ipython3",
   "version": "3.6.5"
  }
 },
 "nbformat": 4,
 "nbformat_minor": 4
}

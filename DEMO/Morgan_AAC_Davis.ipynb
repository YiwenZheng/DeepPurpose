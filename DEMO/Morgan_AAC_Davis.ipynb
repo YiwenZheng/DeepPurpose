{
 "cells": [
  {
   "cell_type": "code",
   "execution_count": 1,
   "metadata": {},
   "outputs": [],
   "source": [
    "import os\n",
    "os.chdir(\"/y/home/zyw/tmp/DeepPurpose/\")"
   ]
  },
  {
   "cell_type": "code",
   "execution_count": 2,
   "metadata": {},
   "outputs": [
    {
     "name": "stderr",
     "output_type": "stream",
     "text": [
      "WARNING:root:No normalization for BCUT2D_MWHI\n",
      "WARNING:root:No normalization for BCUT2D_MWLOW\n",
      "WARNING:root:No normalization for BCUT2D_CHGHI\n",
      "WARNING:root:No normalization for BCUT2D_CHGLO\n",
      "WARNING:root:No normalization for BCUT2D_LOGPHI\n",
      "WARNING:root:No normalization for BCUT2D_LOGPLOW\n",
      "WARNING:root:No normalization for BCUT2D_MRHI\n",
      "WARNING:root:No normalization for BCUT2D_MRLOW\n"
     ]
    }
   ],
   "source": [
    "from DeepPurpose import utils,dataset,DTI"
   ]
  },
  {
   "cell_type": "code",
   "execution_count": 3,
   "metadata": {},
   "outputs": [
    {
     "name": "stdout",
     "output_type": "stream",
     "text": [
      "Beginning Processing...\n",
      "Default set to logspace (nM -> p) for easier regression\n",
      "Done!\n"
     ]
    }
   ],
   "source": [
    "X_drug, X_target, y = dataset.load_process_DAVIS('./data/', binary=False)"
   ]
  },
  {
   "cell_type": "code",
   "execution_count": 4,
   "metadata": {},
   "outputs": [],
   "source": [
    "drug_encoding = 'Morgan'\n",
    "target_encoding = 'AAC'"
   ]
  },
  {
   "cell_type": "code",
   "execution_count": 5,
   "metadata": {},
   "outputs": [
    {
     "name": "stdout",
     "output_type": "stream",
     "text": [
      "Drug Target Interaction Prediction Mode...\n",
      "in total: 30056 drug-target pairs\n",
      "encoding drug...\n",
      "unique drugs: 68\n",
      "encoding protein...\n",
      "unique target sequence: 379\n",
      "-- Encoding AAC takes time. Time Reference: 24s for ~100 sequences in a CPU.\t\t\t\t Calculate your time by the unique target sequence #, instead of the entire dataset.\n",
      "splitting dataset...\n",
      "Done.\n"
     ]
    }
   ],
   "source": [
    "train, val, test = utils.data_process(X_drug, X_target, y, \n",
    "                                drug_encoding, target_encoding, \n",
    "                                split_method = 'random', frac = [0.7,0.1,0.2], random_seed = 2)"
   ]
  },
  {
   "cell_type": "code",
   "execution_count": 6,
   "metadata": {},
   "outputs": [],
   "source": [
    "config = utils.generate_config(drug_encoding = drug_encoding, \n",
    "                         target_encoding = target_encoding, \n",
    "                         cls_hidden_dims = [1024,1024,512], \n",
    "                         train_epoch = 100, \n",
    "                         LR = 0.001, \n",
    "                         batch_size = 256,\n",
    "                         cnn_target_filters = [32,64,96],\n",
    "                         cnn_target_kernels = [4,8,12])"
   ]
  },
  {
   "cell_type": "code",
   "execution_count": 7,
   "metadata": {},
   "outputs": [],
   "source": [
    "model = DTI.model_initialize(**config)"
   ]
  },
  {
   "cell_type": "code",
   "execution_count": null,
   "metadata": {
    "scrolled": true
   },
   "outputs": [
    {
     "name": "stdout",
     "output_type": "stream",
     "text": [
      "Let's use 1 GPU!\n",
      "--- Data Preparation ---\n",
      "--- Go for Training ---\n",
      "Training at Epoch 1 iteration 0 with loss 30.3229. Total time 0.0 hours\n",
      "Validation at Epoch 1 with loss:0.81867, MSE: 0.60141 , Pearson Correlation: 0.56137 with p-value: 3.03468 , Concordance Index: 0.79176\n",
      "Training at Epoch 2 iteration 0 with loss 0.47841. Total time 0.00472 hours\n",
      "Validation at Epoch 2 with loss:0.68336, MSE: 0.58128 , Pearson Correlation: 0.56635 with p-value: 1.28770 , Concordance Index: 0.79651\n",
      "Training at Epoch 3 iteration 0 with loss 0.78576. Total time 0.00972 hours\n",
      "Validation at Epoch 3 with loss:0.50057, MSE: 0.56645 , Pearson Correlation: 0.57732 with p-value: 8.79302 , Concordance Index: 0.79842\n",
      "Training at Epoch 4 iteration 0 with loss 0.68866. Total time 0.01388 hours\n",
      "Validation at Epoch 4 with loss:0.39308, MSE: 0.58027 , Pearson Correlation: 0.57107 with p-value: 8.54771 , Concordance Index: 0.79236\n",
      "Training at Epoch 5 iteration 0 with loss 0.71344. Total time 0.01944 hours\n",
      "Validation at Epoch 5 with loss:0.50660, MSE: 0.56456 , Pearson Correlation: 0.57403 with p-value: 4.34806 , Concordance Index: 0.78968\n",
      "Training at Epoch 6 iteration 0 with loss 0.53387. Total time 0.02527 hours\n",
      "Validation at Epoch 6 with loss:0.53439, MSE: 0.55733 , Pearson Correlation: 0.58454 with p-value: 4.74205 , Concordance Index: 0.80182\n",
      "Training at Epoch 7 iteration 0 with loss 0.55091. Total time 0.03111 hours\n",
      "Validation at Epoch 7 with loss:0.54638, MSE: 0.55385 , Pearson Correlation: 0.61275 with p-value: 1.98668 , Concordance Index: 0.79909\n",
      "Training at Epoch 8 iteration 0 with loss 0.54535. Total time 0.03666 hours\n",
      "Validation at Epoch 8 with loss:0.43958, MSE: 0.50362 , Pearson Correlation: 0.63578 with p-value: 0.0 , Concordance Index: 0.80347\n",
      "Training at Epoch 9 iteration 0 with loss 0.38302. Total time 0.0425 hours\n",
      "Validation at Epoch 9 with loss:0.31954, MSE: 0.49783 , Pearson Correlation: 0.65559 with p-value: 0.0 , Concordance Index: 0.82022\n",
      "Training at Epoch 10 iteration 0 with loss 0.44461. Total time 0.04805 hours\n",
      "Validation at Epoch 10 with loss:0.65970, MSE: 0.57805 , Pearson Correlation: 0.66068 with p-value: 0.0 , Concordance Index: 0.82435\n",
      "Training at Epoch 11 iteration 0 with loss 0.64317. Total time 0.05388 hours\n",
      "Validation at Epoch 11 with loss:0.47385, MSE: 0.46773 , Pearson Correlation: 0.66685 with p-value: 0.0 , Concordance Index: 0.82488\n",
      "Training at Epoch 12 iteration 0 with loss 0.43718. Total time 0.05944 hours\n",
      "Validation at Epoch 12 with loss:0.51238, MSE: 0.46897 , Pearson Correlation: 0.66540 with p-value: 0.0 , Concordance Index: 0.82564\n",
      "Training at Epoch 13 iteration 0 with loss 0.52805. Total time 0.06527 hours\n",
      "Validation at Epoch 13 with loss:0.45937, MSE: 0.48536 , Pearson Correlation: 0.67785 with p-value: 0.0 , Concordance Index: 0.82863\n",
      "Training at Epoch 14 iteration 0 with loss 0.56397. Total time 0.07083 hours\n",
      "Validation at Epoch 14 with loss:0.58561, MSE: 0.57191 , Pearson Correlation: 0.67841 with p-value: 0.0 , Concordance Index: 0.82516\n",
      "Training at Epoch 15 iteration 0 with loss 0.60850. Total time 0.07666 hours\n",
      "Validation at Epoch 15 with loss:0.48869, MSE: 0.52647 , Pearson Correlation: 0.67980 with p-value: 0.0 , Concordance Index: 0.82741\n",
      "Training at Epoch 16 iteration 0 with loss 0.38830. Total time 0.08222 hours\n",
      "Validation at Epoch 16 with loss:0.41328, MSE: 0.45427 , Pearson Correlation: 0.69227 with p-value: 0.0 , Concordance Index: 0.83058\n",
      "Training at Epoch 17 iteration 0 with loss 0.39274. Total time 0.08777 hours\n",
      "Validation at Epoch 17 with loss:0.54262, MSE: 0.62456 , Pearson Correlation: 0.70603 with p-value: 0.0 , Concordance Index: 0.83882\n",
      "Training at Epoch 18 iteration 0 with loss 0.60316. Total time 0.09333 hours\n",
      "Validation at Epoch 18 with loss:0.41546, MSE: 0.44146 , Pearson Correlation: 0.70677 with p-value: 0.0 , Concordance Index: 0.83178\n",
      "Training at Epoch 19 iteration 0 with loss 0.49498. Total time 0.09916 hours\n",
      "Validation at Epoch 19 with loss:0.41514, MSE: 0.40290 , Pearson Correlation: 0.72405 with p-value: 0.0 , Concordance Index: 0.84381\n",
      "Training at Epoch 20 iteration 0 with loss 0.31684. Total time 0.10472 hours\n",
      "Validation at Epoch 20 with loss:0.32933, MSE: 0.40218 , Pearson Correlation: 0.73137 with p-value: 0.0 , Concordance Index: 0.84932\n",
      "Training at Epoch 21 iteration 0 with loss 0.25723. Total time 0.11055 hours\n",
      "Validation at Epoch 21 with loss:0.43110, MSE: 0.39714 , Pearson Correlation: 0.73045 with p-value: 0.0 , Concordance Index: 0.84574\n",
      "Training at Epoch 22 iteration 0 with loss 0.36951. Total time 0.11611 hours\n",
      "Validation at Epoch 22 with loss:0.32969, MSE: 0.44675 , Pearson Correlation: 0.74425 with p-value: 0.0 , Concordance Index: 0.85290\n",
      "Training at Epoch 23 iteration 0 with loss 0.29560. Total time 0.12194 hours\n",
      "Validation at Epoch 23 with loss:0.43928, MSE: 0.47362 , Pearson Correlation: 0.73965 with p-value: 0.0 , Concordance Index: 0.84343\n",
      "Training at Epoch 24 iteration 0 with loss 0.49325. Total time 0.12805 hours\n",
      "Validation at Epoch 24 with loss:0.37296, MSE: 0.36305 , Pearson Correlation: 0.75449 with p-value: 0.0 , Concordance Index: 0.85775\n",
      "Training at Epoch 25 iteration 0 with loss 0.25734. Total time 0.13361 hours\n",
      "Validation at Epoch 25 with loss:0.40770, MSE: 0.40220 , Pearson Correlation: 0.75669 with p-value: 0.0 , Concordance Index: 0.85699\n",
      "Training at Epoch 26 iteration 0 with loss 0.36700. Total time 0.13916 hours\n",
      "Validation at Epoch 26 with loss:0.37080, MSE: 0.36870 , Pearson Correlation: 0.75857 with p-value: 0.0 , Concordance Index: 0.85262\n",
      "Training at Epoch 27 iteration 0 with loss 0.37731. Total time 0.14472 hours\n",
      "Validation at Epoch 27 with loss:0.25013, MSE: 0.35761 , Pearson Correlation: 0.76050 with p-value: 0.0 , Concordance Index: 0.85812\n",
      "Training at Epoch 28 iteration 0 with loss 0.35633. Total time 0.15027 hours\n",
      "Validation at Epoch 28 with loss:0.37349, MSE: 0.35021 , Pearson Correlation: 0.76524 with p-value: 0.0 , Concordance Index: 0.86145\n",
      "Training at Epoch 29 iteration 0 with loss 0.24189. Total time 0.15583 hours\n",
      "Validation at Epoch 29 with loss:0.37170, MSE: 0.35053 , Pearson Correlation: 0.76839 with p-value: 0.0 , Concordance Index: 0.85901\n",
      "Training at Epoch 30 iteration 0 with loss 0.26085. Total time 0.16166 hours\n"
     ]
    }
   ],
   "source": [
    "model.train(train, val, test)"
   ]
  },
  {
   "cell_type": "code",
   "execution_count": null,
   "metadata": {},
   "outputs": [],
   "source": [
    "model.save_model('./save_model/model_Morgan_AAC_Davis')"
   ]
  },
  {
   "cell_type": "code",
   "execution_count": null,
   "metadata": {},
   "outputs": [],
   "source": []
  }
 ],
 "metadata": {
  "kernelspec": {
   "display_name": "Python 3",
   "language": "python",
   "name": "python3"
  },
  "language_info": {
   "codemirror_mode": {
    "name": "ipython",
    "version": 3
   },
   "file_extension": ".py",
   "mimetype": "text/x-python",
   "name": "python",
   "nbconvert_exporter": "python",
   "pygments_lexer": "ipython3",
   "version": "3.6.5"
  }
 },
 "nbformat": 4,
 "nbformat_minor": 4
}

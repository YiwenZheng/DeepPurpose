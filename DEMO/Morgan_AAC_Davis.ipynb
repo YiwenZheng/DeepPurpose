{
 "cells": [
  {
   "cell_type": "code",
   "execution_count": 1,
   "metadata": {},
   "outputs": [],
   "source": [
    "import os\n",
    "os.chdir(\"/y/home/zyw/tmp/DeepPurpose/\")"
   ]
  },
  {
   "cell_type": "code",
   "execution_count": 2,
   "metadata": {},
   "outputs": [
    {
     "name": "stderr",
     "output_type": "stream",
     "text": [
      "WARNING:root:No normalization for BCUT2D_MWHI\n",
      "WARNING:root:No normalization for BCUT2D_MWLOW\n",
      "WARNING:root:No normalization for BCUT2D_CHGHI\n",
      "WARNING:root:No normalization for BCUT2D_CHGLO\n",
      "WARNING:root:No normalization for BCUT2D_LOGPHI\n",
      "WARNING:root:No normalization for BCUT2D_LOGPLOW\n",
      "WARNING:root:No normalization for BCUT2D_MRHI\n",
      "WARNING:root:No normalization for BCUT2D_MRLOW\n"
     ]
    }
   ],
   "source": [
    "from scripts import utils,dataset,DTI"
   ]
  },
  {
   "cell_type": "code",
   "execution_count": 3,
   "metadata": {},
   "outputs": [
    {
     "name": "stdout",
     "output_type": "stream",
     "text": [
      "Beginning Processing...\n",
      "Default set to logspace (nM -> p) for easier regression\n",
      "Done!\n"
     ]
    }
   ],
   "source": [
    "X_drug, X_target, y = dataset.load_process_DAVIS('./data/', binary=False)"
   ]
  },
  {
   "cell_type": "code",
   "execution_count": 4,
   "metadata": {},
   "outputs": [],
   "source": [
    "drug_encoding = 'Morgan'\n",
    "target_encoding = 'AAC'"
   ]
  },
  {
   "cell_type": "code",
   "execution_count": 5,
   "metadata": {},
   "outputs": [
    {
     "name": "stdout",
     "output_type": "stream",
     "text": [
      "Drug Target Interaction Prediction Mode...\n",
      "in total: 30056 drug-target pairs\n",
      "encoding drug...\n",
      "unique drugs: 68\n",
      "encoding protein...\n",
      "unique target sequence: 379\n",
      "-- Encoding AAC takes time. Time Reference: 24s for ~100 sequences in a CPU.\t\t\t\t Calculate your time by the unique target sequence #, instead of the entire dataset.\n",
      "splitting dataset...\n",
      "Done.\n"
     ]
    }
   ],
   "source": [
    "train, val, test = utils.data_process(X_drug, X_target, y, \n",
    "                                drug_encoding, target_encoding, \n",
    "                                split_method = 'random', frac = [0.7,0.1,0.2], random_seed = 2)"
   ]
  },
  {
   "cell_type": "code",
   "execution_count": 6,
   "metadata": {},
   "outputs": [],
   "source": [
    "config = utils.generate_config(drug_encoding = drug_encoding, \n",
    "                         target_encoding = target_encoding, \n",
    "                         cls_hidden_dims = [1024,1024,512], \n",
    "                         train_epoch = 100, \n",
    "                         LR = 0.001, \n",
    "                         batch_size = 256,\n",
    "                         cnn_target_filters = [32,64,96],\n",
    "                         cnn_target_kernels = [4,8,12])"
   ]
  },
  {
   "cell_type": "code",
   "execution_count": 7,
   "metadata": {},
   "outputs": [],
   "source": [
    "model = DTI.model_initialize(**config)"
   ]
  },
  {
   "cell_type": "code",
   "execution_count": 8,
   "metadata": {
    "scrolled": true
   },
   "outputs": [
    {
     "name": "stdout",
     "output_type": "stream",
     "text": [
      "Let's use 1 GPU!\n",
      "--- Data Preparation ---\n",
      "--- Go for Training ---\n",
      "Training at Epoch 1 iteration 0 with loss 30.3229. Total time 0.0 hours\n",
      "Validation at Epoch 1 with loss:0.81867, MSE: 0.60141 , Pearson Correlation: 0.56137 with p-value: 3.03468 , Concordance Index: 0.79176\n",
      "Training at Epoch 2 iteration 0 with loss 0.47841. Total time 0.00472 hours\n",
      "Validation at Epoch 2 with loss:0.68336, MSE: 0.58128 , Pearson Correlation: 0.56635 with p-value: 1.28770 , Concordance Index: 0.79651\n",
      "Training at Epoch 3 iteration 0 with loss 0.78576. Total time 0.00972 hours\n",
      "Validation at Epoch 3 with loss:0.50057, MSE: 0.56645 , Pearson Correlation: 0.57732 with p-value: 8.79302 , Concordance Index: 0.79842\n",
      "Training at Epoch 4 iteration 0 with loss 0.68866. Total time 0.01388 hours\n",
      "Validation at Epoch 4 with loss:0.39308, MSE: 0.58027 , Pearson Correlation: 0.57107 with p-value: 8.54771 , Concordance Index: 0.79236\n",
      "Training at Epoch 5 iteration 0 with loss 0.71344. Total time 0.01944 hours\n",
      "Validation at Epoch 5 with loss:0.50660, MSE: 0.56456 , Pearson Correlation: 0.57403 with p-value: 4.34806 , Concordance Index: 0.78968\n",
      "Training at Epoch 6 iteration 0 with loss 0.53387. Total time 0.02527 hours\n",
      "Validation at Epoch 6 with loss:0.53439, MSE: 0.55733 , Pearson Correlation: 0.58454 with p-value: 4.74205 , Concordance Index: 0.80182\n",
      "Training at Epoch 7 iteration 0 with loss 0.55091. Total time 0.03111 hours\n",
      "Validation at Epoch 7 with loss:0.54638, MSE: 0.55385 , Pearson Correlation: 0.61275 with p-value: 1.98668 , Concordance Index: 0.79909\n",
      "Training at Epoch 8 iteration 0 with loss 0.54535. Total time 0.03666 hours\n",
      "Validation at Epoch 8 with loss:0.43958, MSE: 0.50362 , Pearson Correlation: 0.63578 with p-value: 0.0 , Concordance Index: 0.80347\n",
      "Training at Epoch 9 iteration 0 with loss 0.38302. Total time 0.0425 hours\n",
      "Validation at Epoch 9 with loss:0.31954, MSE: 0.49783 , Pearson Correlation: 0.65559 with p-value: 0.0 , Concordance Index: 0.82022\n",
      "Training at Epoch 10 iteration 0 with loss 0.44461. Total time 0.04805 hours\n",
      "Validation at Epoch 10 with loss:0.65970, MSE: 0.57805 , Pearson Correlation: 0.66068 with p-value: 0.0 , Concordance Index: 0.82435\n",
      "Training at Epoch 11 iteration 0 with loss 0.64317. Total time 0.05388 hours\n",
      "Validation at Epoch 11 with loss:0.47385, MSE: 0.46773 , Pearson Correlation: 0.66685 with p-value: 0.0 , Concordance Index: 0.82488\n",
      "Training at Epoch 12 iteration 0 with loss 0.43718. Total time 0.05944 hours\n",
      "Validation at Epoch 12 with loss:0.51238, MSE: 0.46897 , Pearson Correlation: 0.66540 with p-value: 0.0 , Concordance Index: 0.82564\n",
      "Training at Epoch 13 iteration 0 with loss 0.52805. Total time 0.06527 hours\n",
      "Validation at Epoch 13 with loss:0.45937, MSE: 0.48536 , Pearson Correlation: 0.67785 with p-value: 0.0 , Concordance Index: 0.82863\n",
      "Training at Epoch 14 iteration 0 with loss 0.56397. Total time 0.07083 hours\n",
      "Validation at Epoch 14 with loss:0.58561, MSE: 0.57191 , Pearson Correlation: 0.67841 with p-value: 0.0 , Concordance Index: 0.82516\n",
      "Training at Epoch 15 iteration 0 with loss 0.60850. Total time 0.07666 hours\n",
      "Validation at Epoch 15 with loss:0.48869, MSE: 0.52647 , Pearson Correlation: 0.67980 with p-value: 0.0 , Concordance Index: 0.82741\n",
      "Training at Epoch 16 iteration 0 with loss 0.38830. Total time 0.08222 hours\n",
      "Validation at Epoch 16 with loss:0.41328, MSE: 0.45427 , Pearson Correlation: 0.69227 with p-value: 0.0 , Concordance Index: 0.83058\n",
      "Training at Epoch 17 iteration 0 with loss 0.39274. Total time 0.08777 hours\n",
      "Validation at Epoch 17 with loss:0.54262, MSE: 0.62456 , Pearson Correlation: 0.70603 with p-value: 0.0 , Concordance Index: 0.83882\n",
      "Training at Epoch 18 iteration 0 with loss 0.60316. Total time 0.09333 hours\n",
      "Validation at Epoch 18 with loss:0.41546, MSE: 0.44146 , Pearson Correlation: 0.70677 with p-value: 0.0 , Concordance Index: 0.83178\n",
      "Training at Epoch 19 iteration 0 with loss 0.49498. Total time 0.09916 hours\n",
      "Validation at Epoch 19 with loss:0.41514, MSE: 0.40290 , Pearson Correlation: 0.72405 with p-value: 0.0 , Concordance Index: 0.84381\n",
      "Training at Epoch 20 iteration 0 with loss 0.31684. Total time 0.10472 hours\n",
      "Validation at Epoch 20 with loss:0.32933, MSE: 0.40218 , Pearson Correlation: 0.73137 with p-value: 0.0 , Concordance Index: 0.84932\n",
      "Training at Epoch 21 iteration 0 with loss 0.25723. Total time 0.11055 hours\n",
      "Validation at Epoch 21 with loss:0.43110, MSE: 0.39714 , Pearson Correlation: 0.73045 with p-value: 0.0 , Concordance Index: 0.84574\n",
      "Training at Epoch 22 iteration 0 with loss 0.36951. Total time 0.11611 hours\n",
      "Validation at Epoch 22 with loss:0.32969, MSE: 0.44675 , Pearson Correlation: 0.74425 with p-value: 0.0 , Concordance Index: 0.85290\n",
      "Training at Epoch 23 iteration 0 with loss 0.29560. Total time 0.12194 hours\n",
      "Validation at Epoch 23 with loss:0.43928, MSE: 0.47362 , Pearson Correlation: 0.73965 with p-value: 0.0 , Concordance Index: 0.84343\n",
      "Training at Epoch 24 iteration 0 with loss 0.49325. Total time 0.12805 hours\n",
      "Validation at Epoch 24 with loss:0.37296, MSE: 0.36305 , Pearson Correlation: 0.75449 with p-value: 0.0 , Concordance Index: 0.85775\n",
      "Training at Epoch 25 iteration 0 with loss 0.25734. Total time 0.13361 hours\n",
      "Validation at Epoch 25 with loss:0.40770, MSE: 0.40220 , Pearson Correlation: 0.75669 with p-value: 0.0 , Concordance Index: 0.85699\n",
      "Training at Epoch 26 iteration 0 with loss 0.36700. Total time 0.13916 hours\n",
      "Validation at Epoch 26 with loss:0.37080, MSE: 0.36870 , Pearson Correlation: 0.75857 with p-value: 0.0 , Concordance Index: 0.85262\n",
      "Training at Epoch 27 iteration 0 with loss 0.37731. Total time 0.14472 hours\n",
      "Validation at Epoch 27 with loss:0.25013, MSE: 0.35761 , Pearson Correlation: 0.76050 with p-value: 0.0 , Concordance Index: 0.85812\n",
      "Training at Epoch 28 iteration 0 with loss 0.35633. Total time 0.15027 hours\n",
      "Validation at Epoch 28 with loss:0.37349, MSE: 0.35021 , Pearson Correlation: 0.76524 with p-value: 0.0 , Concordance Index: 0.86145\n",
      "Training at Epoch 29 iteration 0 with loss 0.24189. Total time 0.15583 hours\n",
      "Validation at Epoch 29 with loss:0.37170, MSE: 0.35053 , Pearson Correlation: 0.76839 with p-value: 0.0 , Concordance Index: 0.85901\n",
      "Training at Epoch 30 iteration 0 with loss 0.26085. Total time 0.16166 hours\n",
      "Validation at Epoch 30 with loss:0.39647, MSE: 0.33922 , Pearson Correlation: 0.77493 with p-value: 0.0 , Concordance Index: 0.86148\n",
      "Training at Epoch 31 iteration 0 with loss 0.23623. Total time 0.16722 hours\n",
      "Validation at Epoch 31 with loss:0.40513, MSE: 0.35573 , Pearson Correlation: 0.77586 with p-value: 0.0 , Concordance Index: 0.86156\n",
      "Training at Epoch 32 iteration 0 with loss 0.33235. Total time 0.17305 hours\n",
      "Validation at Epoch 32 with loss:0.33782, MSE: 0.42391 , Pearson Correlation: 0.76743 with p-value: 0.0 , Concordance Index: 0.85210\n",
      "Training at Epoch 33 iteration 0 with loss 0.45166. Total time 0.17888 hours\n",
      "Validation at Epoch 33 with loss:0.49415, MSE: 0.34200 , Pearson Correlation: 0.77100 with p-value: 0.0 , Concordance Index: 0.86269\n",
      "Training at Epoch 34 iteration 0 with loss 0.25729. Total time 0.18444 hours\n",
      "Validation at Epoch 34 with loss:0.48325, MSE: 0.44465 , Pearson Correlation: 0.77676 with p-value: 0.0 , Concordance Index: 0.85819\n",
      "Training at Epoch 35 iteration 0 with loss 0.32209. Total time 0.19 hours\n",
      "Validation at Epoch 35 with loss:0.36457, MSE: 0.33852 , Pearson Correlation: 0.77876 with p-value: 0.0 , Concordance Index: 0.86127\n",
      "Training at Epoch 36 iteration 0 with loss 0.24014. Total time 0.19555 hours\n",
      "Validation at Epoch 36 with loss:0.21515, MSE: 0.36155 , Pearson Correlation: 0.78197 with p-value: 0.0 , Concordance Index: 0.86866\n",
      "Training at Epoch 37 iteration 0 with loss 0.26796. Total time 0.20138 hours\n",
      "Validation at Epoch 37 with loss:0.29076, MSE: 0.45390 , Pearson Correlation: 0.78528 with p-value: 0.0 , Concordance Index: 0.86843\n",
      "Training at Epoch 38 iteration 0 with loss 0.37286. Total time 0.20694 hours\n",
      "Validation at Epoch 38 with loss:0.53137, MSE: 0.38633 , Pearson Correlation: 0.78643 with p-value: 0.0 , Concordance Index: 0.86740\n",
      "Training at Epoch 39 iteration 0 with loss 0.33230. Total time 0.2125 hours\n",
      "Validation at Epoch 39 with loss:0.48547, MSE: 0.32096 , Pearson Correlation: 0.78713 with p-value: 0.0 , Concordance Index: 0.86531\n"
     ]
    },
    {
     "name": "stdout",
     "output_type": "stream",
     "text": [
      "Training at Epoch 40 iteration 0 with loss 0.23314. Total time 0.21805 hours\n",
      "Validation at Epoch 40 with loss:0.29654, MSE: 0.33738 , Pearson Correlation: 0.78512 with p-value: 0.0 , Concordance Index: 0.86610\n",
      "Training at Epoch 41 iteration 0 with loss 0.37127. Total time 0.22361 hours\n",
      "Validation at Epoch 41 with loss:0.25537, MSE: 0.32046 , Pearson Correlation: 0.78876 with p-value: 0.0 , Concordance Index: 0.86223\n",
      "Training at Epoch 42 iteration 0 with loss 0.19428. Total time 0.22916 hours\n",
      "Validation at Epoch 42 with loss:0.31267, MSE: 0.31495 , Pearson Correlation: 0.79175 with p-value: 0.0 , Concordance Index: 0.86685\n",
      "Training at Epoch 43 iteration 0 with loss 0.20917. Total time 0.235 hours\n",
      "Validation at Epoch 43 with loss:0.41098, MSE: 0.42304 , Pearson Correlation: 0.78308 with p-value: 0.0 , Concordance Index: 0.86350\n",
      "Training at Epoch 44 iteration 0 with loss 0.31621. Total time 0.24055 hours\n",
      "Validation at Epoch 44 with loss:0.30607, MSE: 0.32456 , Pearson Correlation: 0.78458 with p-value: 0.0 , Concordance Index: 0.86817\n",
      "Training at Epoch 45 iteration 0 with loss 0.20013. Total time 0.24611 hours\n",
      "Validation at Epoch 45 with loss:0.38365, MSE: 0.32804 , Pearson Correlation: 0.78430 with p-value: 0.0 , Concordance Index: 0.86922\n",
      "Training at Epoch 46 iteration 0 with loss 0.29708. Total time 0.25166 hours\n",
      "Validation at Epoch 46 with loss:0.37636, MSE: 0.33649 , Pearson Correlation: 0.78955 with p-value: 0.0 , Concordance Index: 0.86260\n",
      "Training at Epoch 47 iteration 0 with loss 0.24813. Total time 0.25722 hours\n",
      "Validation at Epoch 47 with loss:0.29860, MSE: 0.31843 , Pearson Correlation: 0.78838 with p-value: 0.0 , Concordance Index: 0.86266\n",
      "Training at Epoch 48 iteration 0 with loss 0.26443. Total time 0.26277 hours\n",
      "Validation at Epoch 48 with loss:0.28982, MSE: 0.31534 , Pearson Correlation: 0.79338 with p-value: 0.0 , Concordance Index: 0.87347\n",
      "Training at Epoch 49 iteration 0 with loss 0.22401. Total time 0.26861 hours\n",
      "Validation at Epoch 49 with loss:0.49612, MSE: 0.36550 , Pearson Correlation: 0.79052 with p-value: 0.0 , Concordance Index: 0.86576\n",
      "Training at Epoch 50 iteration 0 with loss 0.24466. Total time 0.27416 hours\n",
      "Validation at Epoch 50 with loss:0.31383, MSE: 0.31400 , Pearson Correlation: 0.79769 with p-value: 0.0 , Concordance Index: 0.86389\n",
      "Training at Epoch 51 iteration 0 with loss 0.22207. Total time 0.27972 hours\n",
      "Validation at Epoch 51 with loss:0.52162, MSE: 0.32956 , Pearson Correlation: 0.79567 with p-value: 0.0 , Concordance Index: 0.87176\n",
      "Training at Epoch 52 iteration 0 with loss 0.21013. Total time 0.28527 hours\n",
      "Validation at Epoch 52 with loss:0.40196, MSE: 0.33415 , Pearson Correlation: 0.78935 with p-value: 0.0 , Concordance Index: 0.86144\n",
      "Training at Epoch 53 iteration 0 with loss 0.22077. Total time 0.29111 hours\n",
      "Validation at Epoch 53 with loss:0.30349, MSE: 0.32216 , Pearson Correlation: 0.79204 with p-value: 0.0 , Concordance Index: 0.87012\n",
      "Training at Epoch 54 iteration 0 with loss 0.15575. Total time 0.29666 hours\n",
      "Validation at Epoch 54 with loss:0.28802, MSE: 0.31384 , Pearson Correlation: 0.79469 with p-value: 0.0 , Concordance Index: 0.86966\n",
      "Training at Epoch 55 iteration 0 with loss 0.26484. Total time 0.30222 hours\n",
      "Validation at Epoch 55 with loss:0.30721, MSE: 0.30034 , Pearson Correlation: 0.80412 with p-value: 0.0 , Concordance Index: 0.86605\n",
      "Training at Epoch 56 iteration 0 with loss 0.19043. Total time 0.30777 hours\n",
      "Validation at Epoch 56 with loss:0.26267, MSE: 0.30749 , Pearson Correlation: 0.80215 with p-value: 0.0 , Concordance Index: 0.87663\n",
      "Training at Epoch 57 iteration 0 with loss 0.17225. Total time 0.31333 hours\n",
      "Validation at Epoch 57 with loss:0.26976, MSE: 0.30733 , Pearson Correlation: 0.79677 with p-value: 0.0 , Concordance Index: 0.87040\n",
      "Training at Epoch 58 iteration 0 with loss 0.28218. Total time 0.31916 hours\n",
      "Validation at Epoch 58 with loss:0.22386, MSE: 0.30919 , Pearson Correlation: 0.79581 with p-value: 0.0 , Concordance Index: 0.86074\n",
      "Training at Epoch 59 iteration 0 with loss 0.16605. Total time 0.32472 hours\n",
      "Validation at Epoch 59 with loss:0.24312, MSE: 0.30655 , Pearson Correlation: 0.79786 with p-value: 0.0 , Concordance Index: 0.87496\n",
      "Training at Epoch 60 iteration 0 with loss 0.20611. Total time 0.33027 hours\n",
      "Validation at Epoch 60 with loss:0.19262, MSE: 0.30107 , Pearson Correlation: 0.80171 with p-value: 0.0 , Concordance Index: 0.86704\n",
      "Training at Epoch 61 iteration 0 with loss 0.14637. Total time 0.33583 hours\n",
      "Validation at Epoch 61 with loss:0.23426, MSE: 0.29976 , Pearson Correlation: 0.80459 with p-value: 0.0 , Concordance Index: 0.86872\n",
      "Training at Epoch 62 iteration 0 with loss 0.18828. Total time 0.34138 hours\n",
      "Validation at Epoch 62 with loss:0.25961, MSE: 0.37193 , Pearson Correlation: 0.80368 with p-value: 0.0 , Concordance Index: 0.87295\n",
      "Training at Epoch 63 iteration 0 with loss 0.30009. Total time 0.34694 hours\n",
      "Validation at Epoch 63 with loss:0.34836, MSE: 0.31063 , Pearson Correlation: 0.80058 with p-value: 0.0 , Concordance Index: 0.86679\n",
      "Training at Epoch 64 iteration 0 with loss 0.15650. Total time 0.3525 hours\n",
      "Validation at Epoch 64 with loss:0.20037, MSE: 0.29915 , Pearson Correlation: 0.80513 with p-value: 0.0 , Concordance Index: 0.87483\n",
      "Training at Epoch 65 iteration 0 with loss 0.16912. Total time 0.35805 hours\n",
      "Validation at Epoch 65 with loss:0.34717, MSE: 0.29211 , Pearson Correlation: 0.80961 with p-value: 0.0 , Concordance Index: 0.86715\n",
      "Training at Epoch 66 iteration 0 with loss 0.19138. Total time 0.36361 hours\n",
      "Validation at Epoch 66 with loss:0.19747, MSE: 0.29138 , Pearson Correlation: 0.81310 with p-value: 0.0 , Concordance Index: 0.87259\n",
      "Training at Epoch 67 iteration 0 with loss 0.20590. Total time 0.36944 hours\n",
      "Validation at Epoch 67 with loss:0.30834, MSE: 0.36018 , Pearson Correlation: 0.80827 with p-value: 0.0 , Concordance Index: 0.85878\n",
      "Training at Epoch 68 iteration 0 with loss 0.24957. Total time 0.37527 hours\n",
      "Validation at Epoch 68 with loss:0.18194, MSE: 0.28979 , Pearson Correlation: 0.81151 with p-value: 0.0 , Concordance Index: 0.88067\n",
      "Training at Epoch 69 iteration 0 with loss 0.15160. Total time 0.38055 hours\n",
      "Validation at Epoch 69 with loss:0.23419, MSE: 0.28396 , Pearson Correlation: 0.81506 with p-value: 0.0 , Concordance Index: 0.87434\n",
      "Training at Epoch 70 iteration 0 with loss 0.16723. Total time 0.38638 hours\n",
      "Validation at Epoch 70 with loss:0.19876, MSE: 0.27939 , Pearson Correlation: 0.82324 with p-value: 0.0 , Concordance Index: 0.87913\n",
      "Training at Epoch 71 iteration 0 with loss 0.15487. Total time 0.39194 hours\n",
      "Validation at Epoch 71 with loss:0.55157, MSE: 0.28003 , Pearson Correlation: 0.81845 with p-value: 0.0 , Concordance Index: 0.87970\n",
      "Training at Epoch 72 iteration 0 with loss 0.18863. Total time 0.39777 hours\n",
      "Validation at Epoch 72 with loss:0.24319, MSE: 0.27200 , Pearson Correlation: 0.82394 with p-value: 0.0 , Concordance Index: 0.87115\n",
      "Training at Epoch 73 iteration 0 with loss 0.17510. Total time 0.40333 hours\n",
      "Validation at Epoch 73 with loss:0.21515, MSE: 0.27896 , Pearson Correlation: 0.82108 with p-value: 0.0 , Concordance Index: 0.87856\n",
      "Training at Epoch 74 iteration 0 with loss 0.16287. Total time 0.40916 hours\n",
      "Validation at Epoch 74 with loss:0.30551, MSE: 0.27768 , Pearson Correlation: 0.82105 with p-value: 0.0 , Concordance Index: 0.87811\n",
      "Training at Epoch 75 iteration 0 with loss 0.20273. Total time 0.41472 hours\n",
      "Validation at Epoch 75 with loss:0.37079, MSE: 0.31258 , Pearson Correlation: 0.81710 with p-value: 0.0 , Concordance Index: 0.87992\n",
      "Training at Epoch 76 iteration 0 with loss 0.23468. Total time 0.42055 hours\n",
      "Validation at Epoch 76 with loss:0.36030, MSE: 0.29345 , Pearson Correlation: 0.80856 with p-value: 0.0 , Concordance Index: 0.86706\n",
      "Training at Epoch 77 iteration 0 with loss 0.19665. Total time 0.42638 hours\n",
      "Validation at Epoch 77 with loss:0.35691, MSE: 0.29372 , Pearson Correlation: 0.81834 with p-value: 0.0 , Concordance Index: 0.88247\n",
      "Training at Epoch 78 iteration 0 with loss 0.19153. Total time 0.43194 hours\n",
      "Validation at Epoch 78 with loss:0.33452, MSE: 0.27997 , Pearson Correlation: 0.81696 with p-value: 0.0 , Concordance Index: 0.87082\n",
      "Training at Epoch 79 iteration 0 with loss 0.13563. Total time 0.4375 hours\n"
     ]
    },
    {
     "name": "stdout",
     "output_type": "stream",
     "text": [
      "Validation at Epoch 79 with loss:0.21222, MSE: 0.28039 , Pearson Correlation: 0.82055 with p-value: 0.0 , Concordance Index: 0.87758\n",
      "Training at Epoch 80 iteration 0 with loss 0.11961. Total time 0.44305 hours\n",
      "Validation at Epoch 80 with loss:0.31474, MSE: 0.28236 , Pearson Correlation: 0.82027 with p-value: 0.0 , Concordance Index: 0.87284\n",
      "Training at Epoch 81 iteration 0 with loss 0.18332. Total time 0.44861 hours\n",
      "Validation at Epoch 81 with loss:0.29492, MSE: 0.27844 , Pearson Correlation: 0.82013 with p-value: 0.0 , Concordance Index: 0.86591\n",
      "Training at Epoch 82 iteration 0 with loss 0.13367. Total time 0.45416 hours\n",
      "Validation at Epoch 82 with loss:0.25181, MSE: 0.27679 , Pearson Correlation: 0.82723 with p-value: 0.0 , Concordance Index: 0.88076\n",
      "Training at Epoch 83 iteration 0 with loss 0.15534. Total time 0.46 hours\n",
      "Validation at Epoch 83 with loss:0.34512, MSE: 0.27838 , Pearson Correlation: 0.82066 with p-value: 0.0 , Concordance Index: 0.87461\n",
      "Training at Epoch 84 iteration 0 with loss 0.15060. Total time 0.46555 hours\n",
      "Validation at Epoch 84 with loss:0.40612, MSE: 0.27608 , Pearson Correlation: 0.82281 with p-value: 0.0 , Concordance Index: 0.87045\n",
      "Training at Epoch 85 iteration 0 with loss 0.10048. Total time 0.47138 hours\n",
      "Validation at Epoch 85 with loss:0.28484, MSE: 0.28086 , Pearson Correlation: 0.82683 with p-value: 0.0 , Concordance Index: 0.88062\n",
      "Training at Epoch 86 iteration 0 with loss 0.13508. Total time 0.47666 hours\n",
      "Validation at Epoch 86 with loss:0.18852, MSE: 0.26895 , Pearson Correlation: 0.82623 with p-value: 0.0 , Concordance Index: 0.87636\n",
      "Training at Epoch 87 iteration 0 with loss 0.14441. Total time 0.4825 hours\n",
      "Validation at Epoch 87 with loss:0.28059, MSE: 0.29898 , Pearson Correlation: 0.82129 with p-value: 0.0 , Concordance Index: 0.87320\n",
      "Training at Epoch 88 iteration 0 with loss 0.16607. Total time 0.48833 hours\n",
      "Validation at Epoch 88 with loss:0.23347, MSE: 0.26929 , Pearson Correlation: 0.82919 with p-value: 0.0 , Concordance Index: 0.87947\n",
      "Training at Epoch 89 iteration 0 with loss 0.10250. Total time 0.49416 hours\n",
      "Validation at Epoch 89 with loss:0.43459, MSE: 0.31124 , Pearson Correlation: 0.82434 with p-value: 0.0 , Concordance Index: 0.87653\n",
      "Training at Epoch 90 iteration 0 with loss 0.22969. Total time 0.5 hours\n",
      "Validation at Epoch 90 with loss:0.33548, MSE: 0.28092 , Pearson Correlation: 0.81707 with p-value: 0.0 , Concordance Index: 0.87455\n",
      "Training at Epoch 91 iteration 0 with loss 0.21740. Total time 0.50555 hours\n",
      "Validation at Epoch 91 with loss:0.40136, MSE: 0.28037 , Pearson Correlation: 0.82392 with p-value: 0.0 , Concordance Index: 0.87833\n",
      "Training at Epoch 92 iteration 0 with loss 0.16522. Total time 0.51111 hours\n",
      "Validation at Epoch 92 with loss:0.17626, MSE: 0.28490 , Pearson Correlation: 0.82851 with p-value: 0.0 , Concordance Index: 0.87785\n",
      "Training at Epoch 93 iteration 0 with loss 0.10704. Total time 0.51666 hours\n",
      "Validation at Epoch 93 with loss:0.18709, MSE: 0.28462 , Pearson Correlation: 0.81528 with p-value: 0.0 , Concordance Index: 0.86671\n",
      "Training at Epoch 94 iteration 0 with loss 0.08894. Total time 0.52222 hours\n",
      "Validation at Epoch 94 with loss:0.25361, MSE: 0.27810 , Pearson Correlation: 0.82413 with p-value: 0.0 , Concordance Index: 0.87786\n",
      "Training at Epoch 95 iteration 0 with loss 0.14109. Total time 0.52805 hours\n",
      "Validation at Epoch 95 with loss:0.34823, MSE: 0.31893 , Pearson Correlation: 0.82332 with p-value: 0.0 , Concordance Index: 0.87533\n",
      "Training at Epoch 96 iteration 0 with loss 0.15277. Total time 0.53361 hours\n",
      "Validation at Epoch 96 with loss:0.20354, MSE: 0.26924 , Pearson Correlation: 0.82950 with p-value: 0.0 , Concordance Index: 0.87738\n",
      "Training at Epoch 97 iteration 0 with loss 0.10276. Total time 0.53916 hours\n",
      "Validation at Epoch 97 with loss:0.30396, MSE: 0.26873 , Pearson Correlation: 0.82561 with p-value: 0.0 , Concordance Index: 0.87265\n",
      "Training at Epoch 98 iteration 0 with loss 0.13193. Total time 0.545 hours\n",
      "Validation at Epoch 98 with loss:0.17707, MSE: 0.28317 , Pearson Correlation: 0.82474 with p-value: 0.0 , Concordance Index: 0.87442\n",
      "Training at Epoch 99 iteration 0 with loss 0.10070. Total time 0.55027 hours\n",
      "Validation at Epoch 99 with loss:0.23343, MSE: 0.27522 , Pearson Correlation: 0.82233 with p-value: 0.0 , Concordance Index: 0.87059\n",
      "Training at Epoch 100 iteration 0 with loss 0.09650. Total time 0.55611 hours\n",
      "Validation at Epoch 100 with loss:0.18679, MSE: 0.26756 , Pearson Correlation: 0.82698 with p-value: 0.0 , Concordance Index: 0.88207\n",
      "--- Go for Testing ---\n",
      "Testing MSE: 0.2509549034373002 , Pearson Correlation: 0.8332414448883869 with p-value: 0.0 , Concordance Index: 0.8816920073614428\n",
      "--- Training Finished ---\n"
     ]
    },
    {
     "data": {
      "image/png": "[encoded data removed]",
      "text/plain": [
       "<Figure size 432x288 with 1 Axes>"
      ]
     },
     "metadata": {
      "needs_background": "light"
     },
     "output_type": "display_data"
    }
   ],
   "source": [
    "model.train(train, val, test)"
   ]
  },
  {
   "cell_type": "code",
   "execution_count": 9,
   "metadata": {},
   "outputs": [],
   "source": [
    "model.save_model('./save_model/model_Morgan_AAC_Davis')"
   ]
  },
  {
   "cell_type": "code",
   "execution_count": null,
   "metadata": {},
   "outputs": [],
   "source": []
  }
 ],
 "metadata": {
  "kernelspec": {
   "display_name": "Python 3",
   "language": "python",
   "name": "python3"
  },
  "language_info": {
   "codemirror_mode": {
    "name": "ipython",
    "version": 3
   },
   "file_extension": ".py",
   "mimetype": "text/x-python",
   "name": "python",
   "nbconvert_exporter": "python",
   "pygments_lexer": "ipython3",
   "version": "3.6.5"
  }
 },
 "nbformat": 4,
 "nbformat_minor": 4
}

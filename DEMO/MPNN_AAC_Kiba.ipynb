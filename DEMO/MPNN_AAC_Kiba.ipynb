{
 "cells": [
  {
   "cell_type": "code",
   "execution_count": 1,
   "metadata": {},
   "outputs": [],
   "source": [
    "import os\n",
    "os.chdir(\"/y/home/zyw/tmp/DeepPurpose/\")"
   ]
  },
  {
   "cell_type": "code",
   "execution_count": 2,
   "metadata": {},
   "outputs": [
    {
     "name": "stderr",
     "output_type": "stream",
     "text": [
      "WARNING:root:No normalization for BCUT2D_MWHI\n",
      "WARNING:root:No normalization for BCUT2D_MWLOW\n",
      "WARNING:root:No normalization for BCUT2D_CHGHI\n",
      "WARNING:root:No normalization for BCUT2D_CHGLO\n",
      "WARNING:root:No normalization for BCUT2D_LOGPHI\n",
      "WARNING:root:No normalization for BCUT2D_LOGPLOW\n",
      "WARNING:root:No normalization for BCUT2D_MRHI\n",
      "WARNING:root:No normalization for BCUT2D_MRLOW\n"
     ]
    }
   ],
   "source": [
    "from DeepPurpose import utils,dataset,DTI"
   ]
  },
  {
   "cell_type": "code",
   "execution_count": 3,
   "metadata": {},
   "outputs": [
    {
     "name": "stdout",
     "output_type": "stream",
     "text": [
      "Beginning Processing...\n",
      "Done!\n"
     ]
    }
   ],
   "source": [
    "X_drug, X_target, y = dataset.load_process_KIBA('./data/', binary=False)"
   ]
  },
  {
   "cell_type": "code",
   "execution_count": 4,
   "metadata": {},
   "outputs": [],
   "source": [
    "drug_encoding = 'MPNN'\n",
    "target_encoding = 'AAC'"
   ]
  },
  {
   "cell_type": "code",
   "execution_count": 5,
   "metadata": {},
   "outputs": [
    {
     "name": "stdout",
     "output_type": "stream",
     "text": [
      "Drug Target Interaction Prediction Mode...\n",
      "in total: 118254 drug-target pairs\n",
      "encoding drug...\n",
      "unique drugs: 2068\n",
      "encoding protein...\n",
      "unique target sequence: 229\n",
      "-- Encoding AAC takes time. Time Reference: 24s for ~100 sequences in a CPU.\t\t\t\t Calculate your time by the unique target sequence #, instead of the entire dataset.\n",
      "splitting dataset...\n",
      "Done.\n"
     ]
    }
   ],
   "source": [
    "train, val, test = utils.data_process(X_drug, X_target, y, \n",
    "                                drug_encoding, target_encoding, \n",
    "                                split_method = 'random', frac = [0.7,0.1,0.2])"
   ]
  },
  {
   "cell_type": "code",
   "execution_count": 6,
   "metadata": {},
   "outputs": [],
   "source": [
    "config = utils.generate_config(drug_encoding = drug_encoding, \n",
    "                         target_encoding = target_encoding, \n",
    "                         cls_hidden_dims = [1024,1024,512], \n",
    "                         train_epoch = 100, \n",
    "                         test_every_X_epoch = 10, \n",
    "                         LR = 0.001, \n",
    "                         batch_size = 128,\n",
    "                         hidden_dim_drug = 128,\n",
    "                         mpnn_hidden_size = 128,\n",
    "                         mpnn_depth = 3, \n",
    "                         cnn_target_filters = [32,64,96],\n",
    "                         cnn_target_kernels = [4,8,12])"
   ]
  },
  {
   "cell_type": "code",
   "execution_count": 7,
   "metadata": {},
   "outputs": [],
   "source": [
    "model = DTI.model_initialize(**config)"
   ]
  },
  {
   "cell_type": "code",
   "execution_count": null,
   "metadata": {
    "scrolled": true
   },
   "outputs": [
    {
     "name": "stdout",
     "output_type": "stream",
     "text": [
      "Let's use 1 GPU!\n",
      "--- Data Preparation ---\n",
      "--- Go for Training ---\n",
      "Training at Epoch 1 iteration 0 with loss 139.335. Total time 0.0 hours\n",
      "Training at Epoch 1 iteration 100 with loss 2.34577. Total time 0.00805 hours\n",
      "Training at Epoch 1 iteration 200 with loss 1.08107. Total time 0.01555 hours\n",
      "Training at Epoch 1 iteration 300 with loss 1.07012. Total time 0.02361 hours\n",
      "Training at Epoch 1 iteration 400 with loss 1.15395. Total time 0.03083 hours\n",
      "Training at Epoch 1 iteration 500 with loss 0.57291. Total time 0.0375 hours\n",
      "Training at Epoch 1 iteration 600 with loss 0.80097. Total time 0.04388 hours\n",
      "Validation at Epoch 1 with loss:0.89960, MSE: 0.65345 , Pearson Correlation: 0.33217 with p-value: 1.55180 , Concordance Index: 0.66394\n",
      "Training at Epoch 2 iteration 0 with loss 0.67429. Total time 0.05111 hours\n",
      "Training at Epoch 2 iteration 100 with loss 0.58426. Total time 0.05722 hours\n",
      "Training at Epoch 2 iteration 200 with loss 1.06267. Total time 0.06333 hours\n",
      "Training at Epoch 2 iteration 300 with loss 0.91754. Total time 0.06916 hours\n",
      "Training at Epoch 2 iteration 400 with loss 0.56555. Total time 0.07583 hours\n",
      "Training at Epoch 2 iteration 500 with loss 1.06056. Total time 0.08166 hours\n",
      "Training at Epoch 2 iteration 600 with loss 0.70723. Total time 0.0875 hours\n",
      "Validation at Epoch 2 with loss:0.99446, MSE: 0.96578 , Pearson Correlation: 0.36173 with p-value: 0.0 , Concordance Index: 0.67656\n",
      "Training at Epoch 3 iteration 0 with loss 1.17680. Total time 0.09472 hours\n",
      "Training at Epoch 3 iteration 100 with loss 0.92948. Total time 0.1025 hours\n",
      "Training at Epoch 3 iteration 200 with loss 0.54562. Total time 0.11027 hours\n",
      "Training at Epoch 3 iteration 300 with loss 1.19293. Total time 0.11777 hours\n",
      "Training at Epoch 3 iteration 400 with loss 0.93987. Total time 0.125 hours\n",
      "Training at Epoch 3 iteration 500 with loss 1.06370. Total time 0.13194 hours\n",
      "Training at Epoch 3 iteration 600 with loss 0.78796. Total time 0.13833 hours\n",
      "Validation at Epoch 3 with loss:0.63979, MSE: 0.76828 , Pearson Correlation: 0.36288 with p-value: 0.0 , Concordance Index: 0.67310\n",
      "Training at Epoch 4 iteration 0 with loss 0.96396. Total time 0.14555 hours\n",
      "Training at Epoch 4 iteration 100 with loss 0.55818. Total time 0.1525 hours\n",
      "Training at Epoch 4 iteration 200 with loss 0.80241. Total time 0.16 hours\n",
      "Training at Epoch 4 iteration 300 with loss 0.76968. Total time 0.16583 hours\n",
      "Training at Epoch 4 iteration 400 with loss 0.78661. Total time 0.17194 hours\n",
      "Training at Epoch 4 iteration 500 with loss 0.88286. Total time 0.17805 hours\n",
      "Training at Epoch 4 iteration 600 with loss 0.74387. Total time 0.18416 hours\n",
      "Validation at Epoch 4 with loss:0.61999, MSE: 0.71274 , Pearson Correlation: 0.37131 with p-value: 0.0 , Concordance Index: 0.67740\n",
      "Training at Epoch 5 iteration 0 with loss 0.82578. Total time 0.19111 hours\n",
      "Training at Epoch 5 iteration 100 with loss 0.88490. Total time 0.19722 hours\n",
      "Training at Epoch 5 iteration 200 with loss 1.06456. Total time 0.20361 hours\n",
      "Training at Epoch 5 iteration 300 with loss 0.85887. Total time 0.20972 hours\n",
      "Training at Epoch 5 iteration 400 with loss 0.68040. Total time 0.21555 hours\n",
      "Training at Epoch 5 iteration 500 with loss 0.77895. Total time 0.22083 hours\n",
      "Training at Epoch 5 iteration 600 with loss 0.83350. Total time 0.22638 hours\n",
      "Validation at Epoch 5 with loss:0.95174, MSE: 1.20814 , Pearson Correlation: 0.38200 with p-value: 0.0 , Concordance Index: 0.68248\n",
      "Training at Epoch 6 iteration 0 with loss 1.55123. Total time 0.23277 hours\n",
      "Training at Epoch 6 iteration 100 with loss 0.93858. Total time 0.23916 hours\n",
      "Training at Epoch 6 iteration 200 with loss 0.73816. Total time 0.245 hours\n",
      "Training at Epoch 6 iteration 300 with loss 0.69210. Total time 0.25138 hours\n",
      "Training at Epoch 6 iteration 400 with loss 1.02952. Total time 0.25666 hours\n"
     ]
    }
   ],
   "source": [
    "model.train(train, val, test)"
   ]
  },
  {
   "cell_type": "code",
   "execution_count": null,
   "metadata": {},
   "outputs": [],
   "source": [
    "model.save_model('./save_model/model_MPNN_AAC_Kiba')"
   ]
  },
  {
   "cell_type": "code",
   "execution_count": null,
   "metadata": {},
   "outputs": [],
   "source": []
  }
 ],
 "metadata": {
  "kernelspec": {
   "display_name": "Python 3",
   "language": "python",
   "name": "python3"
  },
  "language_info": {
   "codemirror_mode": {
    "name": "ipython",
    "version": 3
   },
   "file_extension": ".py",
   "mimetype": "text/x-python",
   "name": "python",
   "nbconvert_exporter": "python",
   "pygments_lexer": "ipython3",
   "version": "3.6.5"
  }
 },
 "nbformat": 4,
 "nbformat_minor": 4
}

{
 "cells": [
  {
   "cell_type": "code",
   "execution_count": 1,
   "metadata": {},
   "outputs": [],
   "source": [
    "import os\n",
    "os.chdir(\"/y/home/zyw/tmp/DeepPurpose/\")"
   ]
  },
  {
   "cell_type": "code",
   "execution_count": 2,
   "metadata": {},
   "outputs": [
    {
     "name": "stderr",
     "output_type": "stream",
     "text": [
      "WARNING:root:No normalization for BCUT2D_MWHI\n",
      "WARNING:root:No normalization for BCUT2D_MWLOW\n",
      "WARNING:root:No normalization for BCUT2D_CHGHI\n",
      "WARNING:root:No normalization for BCUT2D_CHGLO\n",
      "WARNING:root:No normalization for BCUT2D_LOGPHI\n",
      "WARNING:root:No normalization for BCUT2D_LOGPLOW\n",
      "WARNING:root:No normalization for BCUT2D_MRHI\n",
      "WARNING:root:No normalization for BCUT2D_MRLOW\n"
     ]
    }
   ],
   "source": [
    "from scripts import utils,dataset,DTI"
   ]
  },
  {
   "cell_type": "code",
   "execution_count": 3,
   "metadata": {},
   "outputs": [
    {
     "name": "stdout",
     "output_type": "stream",
     "text": [
      "Beginning Processing...\n",
      "Done!\n"
     ]
    }
   ],
   "source": [
    "X_drug, X_target, y = dataset.load_process_KIBA('./data/', binary=False)"
   ]
  },
  {
   "cell_type": "code",
   "execution_count": 4,
   "metadata": {},
   "outputs": [],
   "source": [
    "drug_encoding = 'CNN'\n",
    "target_encoding = 'CNN'"
   ]
  },
  {
   "cell_type": "code",
   "execution_count": 5,
   "metadata": {},
   "outputs": [
    {
     "name": "stdout",
     "output_type": "stream",
     "text": [
      "Drug Target Interaction Prediction Mode...\n",
      "in total: 118254 drug-target pairs\n",
      "encoding drug...\n",
      "unique drugs: 2068\n",
      "encoding protein...\n",
      "unique target sequence: 229\n",
      "splitting dataset...\n",
      "Done.\n"
     ]
    }
   ],
   "source": [
    "train, val, test = utils.data_process(X_drug, X_target, y, \n",
    "                                drug_encoding, target_encoding, \n",
    "                                split_method = 'random', frac = [0.7,0.1,0.2])"
   ]
  },
  {
   "cell_type": "code",
   "execution_count": 6,
   "metadata": {},
   "outputs": [],
   "source": [
    "config = utils.generate_config(drug_encoding = drug_encoding, \n",
    "                         target_encoding = target_encoding, \n",
    "                         cls_hidden_dims = [1024,1024,512], \n",
    "                         train_epoch = 100, \n",
    "                         LR = 0.001, \n",
    "                         batch_size = 256,\n",
    "                         cnn_drug_filters = [32,64,96],\n",
    "                         cnn_target_filters = [32,64,96],\n",
    "                         cnn_drug_kernels = [4,6,8],\n",
    "                         cnn_target_kernels = [4,8,12])"
   ]
  },
  {
   "cell_type": "code",
   "execution_count": 7,
   "metadata": {},
   "outputs": [],
   "source": [
    "model = DTI.model_initialize(**config)"
   ]
  },
  {
   "cell_type": "code",
   "execution_count": null,
   "metadata": {
    "scrolled": true
   },
   "outputs": [
    {
     "name": "stdout",
     "output_type": "stream",
     "text": [
      "Let's use 1 GPU!\n",
      "--- Data Preparation ---\n",
      "--- Go for Training ---\n",
      "Training at Epoch 1 iteration 0 with loss 139.486. Total time 0.00027 hours\n",
      "Training at Epoch 1 iteration 100 with loss 0.83452. Total time 0.02777 hours\n",
      "Training at Epoch 1 iteration 200 with loss 0.77760. Total time 0.05583 hours\n",
      "Training at Epoch 1 iteration 300 with loss 0.63135. Total time 0.08361 hours\n",
      "Validation at Epoch 1 with loss:1.09667, MSE: 0.61554 , Pearson Correlation: 0.38481 with p-value: 0.0 , Concordance Index: 0.63884\n",
      "Training at Epoch 2 iteration 0 with loss 0.68012. Total time 0.1025 hours\n",
      "Training at Epoch 2 iteration 100 with loss 0.87134. Total time 0.13055 hours\n",
      "Training at Epoch 2 iteration 200 with loss 0.61932. Total time 0.15833 hours\n",
      "Training at Epoch 2 iteration 300 with loss 0.75999. Total time 0.18611 hours\n",
      "Validation at Epoch 2 with loss:0.63135, MSE: 0.59031 , Pearson Correlation: 0.53129 with p-value: 0.0 , Concordance Index: 0.70900\n",
      "Training at Epoch 3 iteration 0 with loss 0.58863. Total time 0.20527 hours\n",
      "Training at Epoch 3 iteration 100 with loss 0.62384. Total time 0.23305 hours\n",
      "Training at Epoch 3 iteration 200 with loss 0.51259. Total time 0.26111 hours\n",
      "Training at Epoch 3 iteration 300 with loss 0.83377. Total time 0.28888 hours\n",
      "Validation at Epoch 3 with loss:0.43400, MSE: 0.49426 , Pearson Correlation: 0.59410 with p-value: 0.0 , Concordance Index: 0.73566\n",
      "Training at Epoch 4 iteration 0 with loss 0.65670. Total time 0.30777 hours\n",
      "Training at Epoch 4 iteration 100 with loss 0.50163. Total time 0.33583 hours\n",
      "Training at Epoch 4 iteration 200 with loss 0.58379. Total time 0.36388 hours\n",
      "Training at Epoch 4 iteration 300 with loss 0.64636. Total time 0.39138 hours\n",
      "Validation at Epoch 4 with loss:0.32629, MSE: 0.53443 , Pearson Correlation: 0.62289 with p-value: 0.0 , Concordance Index: 0.74805\n",
      "Training at Epoch 5 iteration 0 with loss 0.72952. Total time 0.41055 hours\n",
      "Training at Epoch 5 iteration 100 with loss 0.67006. Total time 0.43833 hours\n",
      "Training at Epoch 5 iteration 200 with loss 0.47493. Total time 0.46611 hours\n",
      "Training at Epoch 5 iteration 300 with loss 0.73728. Total time 0.49416 hours\n",
      "Validation at Epoch 5 with loss:0.45521, MSE: 0.47706 , Pearson Correlation: 0.63584 with p-value: 0.0 , Concordance Index: 0.75284\n",
      "Training at Epoch 6 iteration 0 with loss 0.60939. Total time 0.51305 hours\n",
      "Training at Epoch 6 iteration 100 with loss 0.65759. Total time 0.54111 hours\n",
      "Training at Epoch 6 iteration 200 with loss 0.70147. Total time 0.56916 hours\n",
      "Training at Epoch 6 iteration 300 with loss 0.61813. Total time 0.59722 hours\n",
      "Validation at Epoch 6 with loss:0.15966, MSE: 0.42020 , Pearson Correlation: 0.64566 with p-value: 0.0 , Concordance Index: 0.75713\n",
      "Training at Epoch 7 iteration 0 with loss 0.42193. Total time 0.61694 hours\n",
      "Training at Epoch 7 iteration 100 with loss 0.70938. Total time 0.645 hours\n",
      "Training at Epoch 7 iteration 200 with loss 0.54261. Total time 0.6725 hours\n",
      "Training at Epoch 7 iteration 300 with loss 0.58065. Total time 0.7 hours\n",
      "Validation at Epoch 7 with loss:0.30222, MSE: 0.40129 , Pearson Correlation: 0.65643 with p-value: 0.0 , Concordance Index: 0.75863\n",
      "Training at Epoch 8 iteration 0 with loss 0.46529. Total time 0.71888 hours\n",
      "Training at Epoch 8 iteration 100 with loss 0.55160. Total time 0.74666 hours\n",
      "Training at Epoch 8 iteration 200 with loss 0.52049. Total time 0.77444 hours\n",
      "Training at Epoch 8 iteration 300 with loss 0.44894. Total time 0.80222 hours\n",
      "Validation at Epoch 8 with loss:0.38354, MSE: 0.44392 , Pearson Correlation: 0.66028 with p-value: 0.0 , Concordance Index: 0.76080\n",
      "Training at Epoch 9 iteration 0 with loss 0.57576. Total time 0.82111 hours\n",
      "Training at Epoch 9 iteration 100 with loss 0.61393. Total time 0.84888 hours\n",
      "Training at Epoch 9 iteration 200 with loss 0.51643. Total time 0.87666 hours\n",
      "Training at Epoch 9 iteration 300 with loss 0.52265. Total time 0.90416 hours\n",
      "Validation at Epoch 9 with loss:0.55935, MSE: 0.41239 , Pearson Correlation: 0.66138 with p-value: 0.0 , Concordance Index: 0.76465\n",
      "Training at Epoch 10 iteration 0 with loss 0.53954. Total time 0.92333 hours\n",
      "Training at Epoch 10 iteration 100 with loss 0.63479. Total time 0.95138 hours\n",
      "Training at Epoch 10 iteration 200 with loss 0.41503. Total time 0.97916 hours\n",
      "Training at Epoch 10 iteration 300 with loss 0.54029. Total time 1.0075 hours\n",
      "Validation at Epoch 10 with loss:0.18729, MSE: 0.39383 , Pearson Correlation: 0.66504 with p-value: 0.0 , Concordance Index: 0.76324\n",
      "Training at Epoch 11 iteration 0 with loss 0.46795. Total time 1.02666 hours\n",
      "Training at Epoch 11 iteration 100 with loss 0.56455. Total time 1.05416 hours\n",
      "Training at Epoch 11 iteration 200 with loss 0.55676. Total time 1.08111 hours\n",
      "Training at Epoch 11 iteration 300 with loss 0.51811. Total time 1.10777 hours\n",
      "Validation at Epoch 11 with loss:0.51214, MSE: 0.39620 , Pearson Correlation: 0.66701 with p-value: 0.0 , Concordance Index: 0.76492\n",
      "Training at Epoch 12 iteration 0 with loss 0.56077. Total time 1.12583 hours\n",
      "Training at Epoch 12 iteration 100 with loss 0.43437. Total time 1.1525 hours\n",
      "Training at Epoch 12 iteration 200 with loss 0.82858. Total time 1.17888 hours\n",
      "Training at Epoch 12 iteration 300 with loss 0.54263. Total time 1.20555 hours\n",
      "Validation at Epoch 12 with loss:0.42948, MSE: 0.42126 , Pearson Correlation: 0.67066 with p-value: 0.0 , Concordance Index: 0.76546\n",
      "Training at Epoch 13 iteration 0 with loss 0.48775. Total time 1.22388 hours\n",
      "Training at Epoch 13 iteration 100 with loss 0.39581. Total time 1.25055 hours\n",
      "Training at Epoch 13 iteration 200 with loss 0.44325. Total time 1.2775 hours\n",
      "Training at Epoch 13 iteration 300 with loss 0.47406. Total time 1.30444 hours\n",
      "Validation at Epoch 13 with loss:0.32818, MSE: 0.40699 , Pearson Correlation: 0.67527 with p-value: 0.0 , Concordance Index: 0.76925\n",
      "Training at Epoch 14 iteration 0 with loss 0.57640. Total time 1.3225 hours\n",
      "Training at Epoch 14 iteration 100 with loss 0.45548. Total time 1.35 hours\n",
      "Training at Epoch 14 iteration 200 with loss 0.48559. Total time 1.37777 hours\n",
      "Training at Epoch 14 iteration 300 with loss 0.53265. Total time 1.40583 hours\n",
      "Validation at Epoch 14 with loss:0.37616, MSE: 0.45568 , Pearson Correlation: 0.67595 with p-value: 0.0 , Concordance Index: 0.76695\n",
      "Training at Epoch 15 iteration 0 with loss 0.49220. Total time 1.42472 hours\n",
      "Training at Epoch 15 iteration 100 with loss 0.52681. Total time 1.45222 hours\n",
      "Training at Epoch 15 iteration 200 with loss 0.58572. Total time 1.48 hours\n",
      "Training at Epoch 15 iteration 300 with loss 0.48668. Total time 1.50805 hours\n",
      "Validation at Epoch 15 with loss:0.46792, MSE: 0.36735 , Pearson Correlation: 0.69505 with p-value: 0.0 , Concordance Index: 0.77174\n",
      "Training at Epoch 16 iteration 0 with loss 0.44732. Total time 1.52694 hours\n",
      "Training at Epoch 16 iteration 100 with loss 0.51167. Total time 1.55472 hours\n",
      "Training at Epoch 16 iteration 200 with loss 0.59431. Total time 1.58222 hours\n",
      "Training at Epoch 16 iteration 300 with loss 0.43535. Total time 1.61 hours\n",
      "Validation at Epoch 16 with loss:0.23845, MSE: 0.34910 , Pearson Correlation: 0.71108 with p-value: 0.0 , Concordance Index: 0.77734\n",
      "Training at Epoch 17 iteration 0 with loss 0.35594. Total time 1.62861 hours\n",
      "Training at Epoch 17 iteration 100 with loss 0.34831. Total time 1.65638 hours\n",
      "Training at Epoch 17 iteration 200 with loss 0.50392. Total time 1.68388 hours\n",
      "Training at Epoch 17 iteration 300 with loss 0.49006. Total time 1.71194 hours\n",
      "Validation at Epoch 17 with loss:0.38641, MSE: 0.39910 , Pearson Correlation: 0.71686 with p-value: 0.0 , Concordance Index: 0.78094\n",
      "Training at Epoch 18 iteration 0 with loss 0.51996. Total time 1.73111 hours\n",
      "Training at Epoch 18 iteration 100 with loss 0.51502. Total time 1.75861 hours\n",
      "Training at Epoch 18 iteration 200 with loss 0.40694. Total time 1.78444 hours\n",
      "Training at Epoch 18 iteration 300 with loss 0.33210. Total time 1.80888 hours\n",
      "Validation at Epoch 18 with loss:1.11263, MSE: 0.84743 , Pearson Correlation: 0.73040 with p-value: 0.0 , Concordance Index: 0.78128\n",
      "Training at Epoch 19 iteration 0 with loss 0.90697. Total time 1.82555 hours\n",
      "Training at Epoch 19 iteration 100 with loss 0.38688. Total time 1.85 hours\n"
     ]
    },
    {
     "name": "stdout",
     "output_type": "stream",
     "text": [
      "Training at Epoch 19 iteration 200 with loss 0.46061. Total time 1.87444 hours\n",
      "Training at Epoch 19 iteration 300 with loss 0.52321. Total time 1.89888 hours\n",
      "Validation at Epoch 19 with loss:0.23015, MSE: 0.33994 , Pearson Correlation: 0.74761 with p-value: 0.0 , Concordance Index: 0.79509\n",
      "Training at Epoch 20 iteration 0 with loss 0.43947. Total time 1.91611 hours\n",
      "Training at Epoch 20 iteration 100 with loss 0.39285. Total time 1.94083 hours\n",
      "Training at Epoch 20 iteration 200 with loss 0.41300. Total time 1.96527 hours\n",
      "Training at Epoch 20 iteration 300 with loss 0.49260. Total time 1.99027 hours\n",
      "Validation at Epoch 20 with loss:0.34203, MSE: 0.31632 , Pearson Correlation: 0.75102 with p-value: 0.0 , Concordance Index: 0.79702\n",
      "Training at Epoch 21 iteration 0 with loss 0.40475. Total time 2.00666 hours\n",
      "Training at Epoch 21 iteration 100 with loss 0.36968. Total time 2.03055 hours\n",
      "Training at Epoch 21 iteration 200 with loss 0.37863. Total time 2.05194 hours\n",
      "Training at Epoch 21 iteration 300 with loss 0.37805. Total time 2.07361 hours\n",
      "Validation at Epoch 21 with loss:0.18718, MSE: 0.31544 , Pearson Correlation: 0.75117 with p-value: 0.0 , Concordance Index: 0.79764\n",
      "Training at Epoch 22 iteration 0 with loss 0.29580. Total time 2.08861 hours\n",
      "Training at Epoch 22 iteration 100 with loss 0.32929. Total time 2.1125 hours\n",
      "Training at Epoch 22 iteration 200 with loss 0.40498. Total time 2.13555 hours\n",
      "Training at Epoch 22 iteration 300 with loss 0.41723. Total time 2.1575 hours\n",
      "Validation at Epoch 22 with loss:0.34369, MSE: 0.30532 , Pearson Correlation: 0.75497 with p-value: 0.0 , Concordance Index: 0.79948\n",
      "Training at Epoch 23 iteration 0 with loss 0.35250. Total time 2.17361 hours\n",
      "Training at Epoch 23 iteration 100 with loss 0.35694. Total time 2.19722 hours\n",
      "Training at Epoch 23 iteration 200 with loss 0.36212. Total time 2.21972 hours\n",
      "Training at Epoch 23 iteration 300 with loss 0.40882. Total time 2.24222 hours\n",
      "Validation at Epoch 23 with loss:0.39708, MSE: 0.30053 , Pearson Correlation: 0.75857 with p-value: 0.0 , Concordance Index: 0.80201\n",
      "Training at Epoch 24 iteration 0 with loss 0.32808. Total time 2.25805 hours\n",
      "Training at Epoch 24 iteration 100 with loss 0.41642. Total time 2.27972 hours\n",
      "Training at Epoch 24 iteration 200 with loss 0.37973. Total time 2.30111 hours\n",
      "Training at Epoch 24 iteration 300 with loss 0.22442. Total time 2.32305 hours\n",
      "Validation at Epoch 24 with loss:0.20977, MSE: 0.34313 , Pearson Correlation: 0.76620 with p-value: 0.0 , Concordance Index: 0.80182\n",
      "Training at Epoch 25 iteration 0 with loss 0.37702. Total time 2.33916 hours\n",
      "Training at Epoch 25 iteration 100 with loss 0.41962. Total time 2.3625 hours\n",
      "Training at Epoch 25 iteration 200 with loss 0.35718. Total time 2.38527 hours\n",
      "Training at Epoch 25 iteration 300 with loss 0.39969. Total time 2.40694 hours\n",
      "Validation at Epoch 25 with loss:0.31227, MSE: 0.30535 , Pearson Correlation: 0.77302 with p-value: 0.0 , Concordance Index: 0.81256\n",
      "Training at Epoch 26 iteration 0 with loss 0.35002. Total time 2.42305 hours\n",
      "Training at Epoch 26 iteration 100 with loss 0.31199. Total time 2.44555 hours\n",
      "Training at Epoch 26 iteration 200 with loss 0.44512. Total time 2.46666 hours\n",
      "Training at Epoch 26 iteration 300 with loss 0.36210. Total time 2.48861 hours\n",
      "Validation at Epoch 26 with loss:0.50138, MSE: 0.29729 , Pearson Correlation: 0.76149 with p-value: 0.0 , Concordance Index: 0.80799\n",
      "Training at Epoch 27 iteration 0 with loss 0.29215. Total time 2.50416 hours\n",
      "Training at Epoch 27 iteration 100 with loss 0.40566. Total time 2.52638 hours\n",
      "Training at Epoch 27 iteration 200 with loss 0.33278. Total time 2.54861 hours\n",
      "Training at Epoch 27 iteration 300 with loss 0.44866. Total time 2.57083 hours\n",
      "Validation at Epoch 27 with loss:0.19629, MSE: 0.28374 , Pearson Correlation: 0.77278 with p-value: 0.0 , Concordance Index: 0.81028\n",
      "Training at Epoch 28 iteration 0 with loss 0.36373. Total time 2.58583 hours\n",
      "Training at Epoch 28 iteration 100 with loss 0.38798. Total time 2.60805 hours\n",
      "Training at Epoch 28 iteration 200 with loss 0.31963. Total time 2.63055 hours\n",
      "Training at Epoch 28 iteration 300 with loss 0.40934. Total time 2.65222 hours\n",
      "Validation at Epoch 28 with loss:0.28399, MSE: 0.28498 , Pearson Correlation: 0.77298 with p-value: 0.0 , Concordance Index: 0.81210\n",
      "Training at Epoch 29 iteration 0 with loss 0.39883. Total time 2.66833 hours\n",
      "Training at Epoch 29 iteration 100 with loss 0.34028. Total time 2.69 hours\n",
      "Training at Epoch 29 iteration 200 with loss 0.47757. Total time 2.71222 hours\n",
      "Training at Epoch 29 iteration 300 with loss 0.33070. Total time 2.735 hours\n",
      "Validation at Epoch 29 with loss:0.20151, MSE: 0.28581 , Pearson Correlation: 0.77499 with p-value: 0.0 , Concordance Index: 0.81181\n",
      "Training at Epoch 30 iteration 0 with loss 0.37932. Total time 2.75027 hours\n",
      "Training at Epoch 30 iteration 100 with loss 0.37424. Total time 2.7725 hours\n",
      "Training at Epoch 30 iteration 200 with loss 0.35003. Total time 2.79361 hours\n"
     ]
    }
   ],
   "source": [
    "model.train(train, val, test)"
   ]
  },
  {
   "cell_type": "code",
   "execution_count": null,
   "metadata": {},
   "outputs": [],
   "source": [
    "model.save_model('./save_model/model_DeepDTA_Kiba')"
   ]
  },
  {
   "cell_type": "code",
   "execution_count": null,
   "metadata": {},
   "outputs": [],
   "source": []
  }
 ],
 "metadata": {
  "kernelspec": {
   "display_name": "Python 3",
   "language": "python",
   "name": "python3"
  },
  "language_info": {
   "codemirror_mode": {
    "name": "ipython",
    "version": 3
   },
   "file_extension": ".py",
   "mimetype": "text/x-python",
   "name": "python",
   "nbconvert_exporter": "python",
   "pygments_lexer": "ipython3",
   "version": "3.6.5"
  }
 },
 "nbformat": 4,
 "nbformat_minor": 4
}

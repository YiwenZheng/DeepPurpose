{
 "cells": [
  {
   "cell_type": "code",
   "execution_count": 1,
   "metadata": {},
   "outputs": [],
   "source": [
    "import os\n",
    "os.chdir(\"/y/home/zyw/tmp/DeepPurpose/\")"
   ]
  },
  {
   "cell_type": "code",
   "execution_count": 2,
   "metadata": {},
   "outputs": [
    {
     "name": "stderr",
     "output_type": "stream",
     "text": [
      "WARNING:root:No normalization for BCUT2D_MWHI\n",
      "WARNING:root:No normalization for BCUT2D_MWLOW\n",
      "WARNING:root:No normalization for BCUT2D_CHGHI\n",
      "WARNING:root:No normalization for BCUT2D_CHGLO\n",
      "WARNING:root:No normalization for BCUT2D_LOGPHI\n",
      "WARNING:root:No normalization for BCUT2D_LOGPLOW\n",
      "WARNING:root:No normalization for BCUT2D_MRHI\n",
      "WARNING:root:No normalization for BCUT2D_MRLOW\n"
     ]
    }
   ],
   "source": [
    "from scripts import utils,dataset,DTI"
   ]
  },
  {
   "cell_type": "code",
   "execution_count": 3,
   "metadata": {},
   "outputs": [
    {
     "name": "stdout",
     "output_type": "stream",
     "text": [
      "Beginning Processing...\n",
      "Done!\n"
     ]
    }
   ],
   "source": [
    "X_drug, X_target, y = dataset.load_process_KIBA('./data/', binary=False)"
   ]
  },
  {
   "cell_type": "code",
   "execution_count": 4,
   "metadata": {},
   "outputs": [],
   "source": [
    "drug_encoding = 'CNN'\n",
    "target_encoding = 'CNN'"
   ]
  },
  {
   "cell_type": "code",
   "execution_count": 5,
   "metadata": {},
   "outputs": [
    {
     "name": "stdout",
     "output_type": "stream",
     "text": [
      "Drug Target Interaction Prediction Mode...\n",
      "in total: 118254 drug-target pairs\n",
      "encoding drug...\n",
      "unique drugs: 2068\n",
      "encoding protein...\n",
      "unique target sequence: 229\n",
      "splitting dataset...\n",
      "Done.\n"
     ]
    }
   ],
   "source": [
    "train, val, test = utils.data_process(X_drug, X_target, y, \n",
    "                                drug_encoding, target_encoding, \n",
    "                                split_method = 'random', frac = [0.7,0.1,0.2])"
   ]
  },
  {
   "cell_type": "code",
   "execution_count": 6,
   "metadata": {},
   "outputs": [],
   "source": [
    "config = utils.generate_config(drug_encoding = drug_encoding, \n",
    "                         target_encoding = target_encoding, \n",
    "                         cls_hidden_dims = [1024,1024,512], \n",
    "                         train_epoch = 100, \n",
    "                         LR = 0.001, \n",
    "                         batch_size = 256,\n",
    "                         cnn_drug_filters = [32,64,96],\n",
    "                         cnn_target_filters = [32,64,96],\n",
    "                         cnn_drug_kernels = [4,6,8],\n",
    "                         cnn_target_kernels = [4,8,12])"
   ]
  },
  {
   "cell_type": "code",
   "execution_count": 7,
   "metadata": {},
   "outputs": [],
   "source": [
    "model = DTI.model_initialize(**config)"
   ]
  },
  {
   "cell_type": "code",
   "execution_count": null,
   "metadata": {
    "scrolled": true
   },
   "outputs": [
    {
     "name": "stdout",
     "output_type": "stream",
     "text": [
      "Let's use 1 GPU!\n",
      "--- Data Preparation ---\n",
      "--- Go for Training ---\n",
      "Training at Epoch 1 iteration 0 with loss 139.486. Total time 0.00027 hours\n",
      "Training at Epoch 1 iteration 100 with loss 0.83452. Total time 0.02777 hours\n",
      "Training at Epoch 1 iteration 200 with loss 0.77760. Total time 0.05583 hours\n",
      "Training at Epoch 1 iteration 300 with loss 0.63135. Total time 0.08361 hours\n",
      "Validation at Epoch 1 with loss:1.09667, MSE: 0.61554 , Pearson Correlation: 0.38481 with p-value: 0.0 , Concordance Index: 0.63884\n",
      "Training at Epoch 2 iteration 0 with loss 0.68012. Total time 0.1025 hours\n",
      "Training at Epoch 2 iteration 100 with loss 0.87134. Total time 0.13055 hours\n",
      "Training at Epoch 2 iteration 200 with loss 0.61932. Total time 0.15833 hours\n",
      "Training at Epoch 2 iteration 300 with loss 0.75999. Total time 0.18611 hours\n",
      "Validation at Epoch 2 with loss:0.63135, MSE: 0.59031 , Pearson Correlation: 0.53129 with p-value: 0.0 , Concordance Index: 0.70900\n",
      "Training at Epoch 3 iteration 0 with loss 0.58863. Total time 0.20527 hours\n",
      "Training at Epoch 3 iteration 100 with loss 0.62384. Total time 0.23305 hours\n",
      "Training at Epoch 3 iteration 200 with loss 0.51259. Total time 0.26111 hours\n",
      "Training at Epoch 3 iteration 300 with loss 0.83377. Total time 0.28888 hours\n",
      "Validation at Epoch 3 with loss:0.43400, MSE: 0.49426 , Pearson Correlation: 0.59410 with p-value: 0.0 , Concordance Index: 0.73566\n",
      "Training at Epoch 4 iteration 0 with loss 0.65670. Total time 0.30777 hours\n",
      "Training at Epoch 4 iteration 100 with loss 0.50163. Total time 0.33583 hours\n",
      "Training at Epoch 4 iteration 200 with loss 0.58379. Total time 0.36388 hours\n",
      "Training at Epoch 4 iteration 300 with loss 0.64636. Total time 0.39138 hours\n",
      "Validation at Epoch 4 with loss:0.32629, MSE: 0.53443 , Pearson Correlation: 0.62289 with p-value: 0.0 , Concordance Index: 0.74805\n",
      "Training at Epoch 5 iteration 0 with loss 0.72952. Total time 0.41055 hours\n"
     ]
    }
   ],
   "source": [
    "model.train(train, val, test)"
   ]
  },
  {
   "cell_type": "code",
   "execution_count": null,
   "metadata": {},
   "outputs": [],
   "source": [
    "model.save_model('./save_model/model_DeepDTA_Kiba')"
   ]
  },
  {
   "cell_type": "code",
   "execution_count": null,
   "metadata": {},
   "outputs": [],
   "source": []
  }
 ],
 "metadata": {
  "kernelspec": {
   "display_name": "Python 3",
   "language": "python",
   "name": "python3"
  },
  "language_info": {
   "codemirror_mode": {
    "name": "ipython",
    "version": 3
   },
   "file_extension": ".py",
   "mimetype": "text/x-python",
   "name": "python",
   "nbconvert_exporter": "python",
   "pygments_lexer": "ipython3",
   "version": "3.6.5"
  }
 },
 "nbformat": 4,
 "nbformat_minor": 4
}

{
 "cells": [
  {
   "cell_type": "code",
   "execution_count": 1,
   "metadata": {},
   "outputs": [],
   "source": [
    "import os\n",
    "os.chdir(\"/y/home/zyw/tmp/DeepPurpose/\")"
   ]
  },
  {
   "cell_type": "code",
   "execution_count": 2,
   "metadata": {},
   "outputs": [
    {
     "name": "stderr",
     "output_type": "stream",
     "text": [
      "WARNING:root:No normalization for BCUT2D_MWHI\n",
      "WARNING:root:No normalization for BCUT2D_MWLOW\n",
      "WARNING:root:No normalization for BCUT2D_CHGHI\n",
      "WARNING:root:No normalization for BCUT2D_CHGLO\n",
      "WARNING:root:No normalization for BCUT2D_LOGPHI\n",
      "WARNING:root:No normalization for BCUT2D_LOGPLOW\n",
      "WARNING:root:No normalization for BCUT2D_MRHI\n",
      "WARNING:root:No normalization for BCUT2D_MRLOW\n"
     ]
    }
   ],
   "source": [
    "from scripts import utils,dataset,DTI"
   ]
  },
  {
   "cell_type": "code",
   "execution_count": 3,
   "metadata": {},
   "outputs": [
    {
     "name": "stdout",
     "output_type": "stream",
     "text": [
      "Beginning Processing...\n",
      "Done!\n"
     ]
    }
   ],
   "source": [
    "X_drug, X_target, y = dataset.load_process_KIBA('./data/', binary=False)"
   ]
  },
  {
   "cell_type": "code",
   "execution_count": 4,
   "metadata": {},
   "outputs": [],
   "source": [
    "drug_encoding = 'CNN'\n",
    "target_encoding = 'CNN'"
   ]
  },
  {
   "cell_type": "code",
   "execution_count": 5,
   "metadata": {},
   "outputs": [
    {
     "name": "stdout",
     "output_type": "stream",
     "text": [
      "Drug Target Interaction Prediction Mode...\n",
      "in total: 118254 drug-target pairs\n",
      "encoding drug...\n",
      "unique drugs: 2068\n",
      "encoding protein...\n",
      "unique target sequence: 229\n",
      "splitting dataset...\n",
      "Done.\n"
     ]
    }
   ],
   "source": [
    "train, val, test = utils.data_process(X_drug, X_target, y, \n",
    "                                drug_encoding, target_encoding, \n",
    "                                split_method = 'random', frac = [0.7,0.1,0.2])"
   ]
  },
  {
   "cell_type": "code",
   "execution_count": 6,
   "metadata": {},
   "outputs": [],
   "source": [
    "config = utils.generate_config(drug_encoding = drug_encoding, \n",
    "                         target_encoding = target_encoding, \n",
    "                         cls_hidden_dims = [1024,1024,512], \n",
    "                         train_epoch = 100, \n",
    "                         LR = 0.001, \n",
    "                         batch_size = 256,\n",
    "                         cnn_drug_filters = [32,64,96],\n",
    "                         cnn_target_filters = [32,64,96],\n",
    "                         cnn_drug_kernels = [4,6,8],\n",
    "                         cnn_target_kernels = [4,8,12])"
   ]
  },
  {
   "cell_type": "code",
   "execution_count": 7,
   "metadata": {},
   "outputs": [],
   "source": [
    "model = DTI.model_initialize(**config)"
   ]
  },
  {
   "cell_type": "code",
   "execution_count": null,
   "metadata": {
    "scrolled": true
   },
   "outputs": [
    {
     "name": "stdout",
     "output_type": "stream",
     "text": [
      "Let's use 1 GPU!\n",
      "--- Data Preparation ---\n",
      "--- Go for Training ---\n",
      "Training at Epoch 1 iteration 0 with loss 139.486. Total time 0.00027 hours\n",
      "Training at Epoch 1 iteration 100 with loss 0.83452. Total time 0.02777 hours\n",
      "Training at Epoch 1 iteration 200 with loss 0.77760. Total time 0.05583 hours\n",
      "Training at Epoch 1 iteration 300 with loss 0.63135. Total time 0.08361 hours\n",
      "Validation at Epoch 1 with loss:1.09667, MSE: 0.61554 , Pearson Correlation: 0.38481 with p-value: 0.0 , Concordance Index: 0.63884\n",
      "Training at Epoch 2 iteration 0 with loss 0.68012. Total time 0.1025 hours\n",
      "Training at Epoch 2 iteration 100 with loss 0.87134. Total time 0.13055 hours\n",
      "Training at Epoch 2 iteration 200 with loss 0.61932. Total time 0.15833 hours\n",
      "Training at Epoch 2 iteration 300 with loss 0.75999. Total time 0.18611 hours\n",
      "Validation at Epoch 2 with loss:0.63135, MSE: 0.59031 , Pearson Correlation: 0.53129 with p-value: 0.0 , Concordance Index: 0.70900\n",
      "Training at Epoch 3 iteration 0 with loss 0.58863. Total time 0.20527 hours\n",
      "Training at Epoch 3 iteration 100 with loss 0.62384. Total time 0.23305 hours\n",
      "Training at Epoch 3 iteration 200 with loss 0.51259. Total time 0.26111 hours\n",
      "Training at Epoch 3 iteration 300 with loss 0.83377. Total time 0.28888 hours\n",
      "Validation at Epoch 3 with loss:0.43400, MSE: 0.49426 , Pearson Correlation: 0.59410 with p-value: 0.0 , Concordance Index: 0.73566\n",
      "Training at Epoch 4 iteration 0 with loss 0.65670. Total time 0.30777 hours\n",
      "Training at Epoch 4 iteration 100 with loss 0.50163. Total time 0.33583 hours\n",
      "Training at Epoch 4 iteration 200 with loss 0.58379. Total time 0.36388 hours\n",
      "Training at Epoch 4 iteration 300 with loss 0.64636. Total time 0.39138 hours\n",
      "Validation at Epoch 4 with loss:0.32629, MSE: 0.53443 , Pearson Correlation: 0.62289 with p-value: 0.0 , Concordance Index: 0.74805\n",
      "Training at Epoch 5 iteration 0 with loss 0.72952. Total time 0.41055 hours\n",
      "Training at Epoch 5 iteration 100 with loss 0.67006. Total time 0.43833 hours\n",
      "Training at Epoch 5 iteration 200 with loss 0.47493. Total time 0.46611 hours\n",
      "Training at Epoch 5 iteration 300 with loss 0.73728. Total time 0.49416 hours\n",
      "Validation at Epoch 5 with loss:0.45521, MSE: 0.47706 , Pearson Correlation: 0.63584 with p-value: 0.0 , Concordance Index: 0.75284\n",
      "Training at Epoch 6 iteration 0 with loss 0.60939. Total time 0.51305 hours\n",
      "Training at Epoch 6 iteration 100 with loss 0.65759. Total time 0.54111 hours\n",
      "Training at Epoch 6 iteration 200 with loss 0.70147. Total time 0.56916 hours\n",
      "Training at Epoch 6 iteration 300 with loss 0.61813. Total time 0.59722 hours\n",
      "Validation at Epoch 6 with loss:0.15966, MSE: 0.42020 , Pearson Correlation: 0.64566 with p-value: 0.0 , Concordance Index: 0.75713\n",
      "Training at Epoch 7 iteration 0 with loss 0.42193. Total time 0.61694 hours\n",
      "Training at Epoch 7 iteration 100 with loss 0.70938. Total time 0.645 hours\n",
      "Training at Epoch 7 iteration 200 with loss 0.54261. Total time 0.6725 hours\n",
      "Training at Epoch 7 iteration 300 with loss 0.58065. Total time 0.7 hours\n",
      "Validation at Epoch 7 with loss:0.30222, MSE: 0.40129 , Pearson Correlation: 0.65643 with p-value: 0.0 , Concordance Index: 0.75863\n",
      "Training at Epoch 8 iteration 0 with loss 0.46529. Total time 0.71888 hours\n",
      "Training at Epoch 8 iteration 100 with loss 0.55160. Total time 0.74666 hours\n",
      "Training at Epoch 8 iteration 200 with loss 0.52049. Total time 0.77444 hours\n",
      "Training at Epoch 8 iteration 300 with loss 0.44894. Total time 0.80222 hours\n",
      "Validation at Epoch 8 with loss:0.38354, MSE: 0.44392 , Pearson Correlation: 0.66028 with p-value: 0.0 , Concordance Index: 0.76080\n",
      "Training at Epoch 9 iteration 0 with loss 0.57576. Total time 0.82111 hours\n",
      "Training at Epoch 9 iteration 100 with loss 0.61393. Total time 0.84888 hours\n",
      "Training at Epoch 9 iteration 200 with loss 0.51643. Total time 0.87666 hours\n",
      "Training at Epoch 9 iteration 300 with loss 0.52265. Total time 0.90416 hours\n",
      "Validation at Epoch 9 with loss:0.55935, MSE: 0.41239 , Pearson Correlation: 0.66138 with p-value: 0.0 , Concordance Index: 0.76465\n",
      "Training at Epoch 10 iteration 0 with loss 0.53954. Total time 0.92333 hours\n",
      "Training at Epoch 10 iteration 100 with loss 0.63479. Total time 0.95138 hours\n",
      "Training at Epoch 10 iteration 200 with loss 0.41503. Total time 0.97916 hours\n",
      "Training at Epoch 10 iteration 300 with loss 0.54029. Total time 1.0075 hours\n",
      "Validation at Epoch 10 with loss:0.18729, MSE: 0.39383 , Pearson Correlation: 0.66504 with p-value: 0.0 , Concordance Index: 0.76324\n",
      "Training at Epoch 11 iteration 0 with loss 0.46795. Total time 1.02666 hours\n",
      "Training at Epoch 11 iteration 100 with loss 0.56455. Total time 1.05416 hours\n",
      "Training at Epoch 11 iteration 200 with loss 0.55676. Total time 1.08111 hours\n",
      "Training at Epoch 11 iteration 300 with loss 0.51811. Total time 1.10777 hours\n",
      "Validation at Epoch 11 with loss:0.51214, MSE: 0.39620 , Pearson Correlation: 0.66701 with p-value: 0.0 , Concordance Index: 0.76492\n",
      "Training at Epoch 12 iteration 0 with loss 0.56077. Total time 1.12583 hours\n",
      "Training at Epoch 12 iteration 100 with loss 0.43437. Total time 1.1525 hours\n",
      "Training at Epoch 12 iteration 200 with loss 0.82858. Total time 1.17888 hours\n",
      "Training at Epoch 12 iteration 300 with loss 0.54263. Total time 1.20555 hours\n",
      "Validation at Epoch 12 with loss:0.42948, MSE: 0.42126 , Pearson Correlation: 0.67066 with p-value: 0.0 , Concordance Index: 0.76546\n",
      "Training at Epoch 13 iteration 0 with loss 0.48775. Total time 1.22388 hours\n",
      "Training at Epoch 13 iteration 100 with loss 0.39581. Total time 1.25055 hours\n",
      "Training at Epoch 13 iteration 200 with loss 0.44325. Total time 1.2775 hours\n",
      "Training at Epoch 13 iteration 300 with loss 0.47406. Total time 1.30444 hours\n",
      "Validation at Epoch 13 with loss:0.32818, MSE: 0.40699 , Pearson Correlation: 0.67527 with p-value: 0.0 , Concordance Index: 0.76925\n",
      "Training at Epoch 14 iteration 0 with loss 0.57640. Total time 1.3225 hours\n",
      "Training at Epoch 14 iteration 100 with loss 0.45548. Total time 1.35 hours\n",
      "Training at Epoch 14 iteration 200 with loss 0.48559. Total time 1.37777 hours\n",
      "Training at Epoch 14 iteration 300 with loss 0.53265. Total time 1.40583 hours\n",
      "Validation at Epoch 14 with loss:0.37616, MSE: 0.45568 , Pearson Correlation: 0.67595 with p-value: 0.0 , Concordance Index: 0.76695\n",
      "Training at Epoch 15 iteration 0 with loss 0.49220. Total time 1.42472 hours\n",
      "Training at Epoch 15 iteration 100 with loss 0.52681. Total time 1.45222 hours\n",
      "Training at Epoch 15 iteration 200 with loss 0.58572. Total time 1.48 hours\n",
      "Training at Epoch 15 iteration 300 with loss 0.48668. Total time 1.50805 hours\n",
      "Validation at Epoch 15 with loss:0.46792, MSE: 0.36735 , Pearson Correlation: 0.69505 with p-value: 0.0 , Concordance Index: 0.77174\n",
      "Training at Epoch 16 iteration 0 with loss 0.44732. Total time 1.52694 hours\n",
      "Training at Epoch 16 iteration 100 with loss 0.51167. Total time 1.55472 hours\n"
     ]
    }
   ],
   "source": [
    "model.train(train, val, test)"
   ]
  },
  {
   "cell_type": "code",
   "execution_count": null,
   "metadata": {},
   "outputs": [],
   "source": [
    "model.save_model('./save_model/model_DeepDTA_Kiba')"
   ]
  },
  {
   "cell_type": "code",
   "execution_count": null,
   "metadata": {},
   "outputs": [],
   "source": []
  }
 ],
 "metadata": {
  "kernelspec": {
   "display_name": "Python 3",
   "language": "python",
   "name": "python3"
  },
  "language_info": {
   "codemirror_mode": {
    "name": "ipython",
    "version": 3
   },
   "file_extension": ".py",
   "mimetype": "text/x-python",
   "name": "python",
   "nbconvert_exporter": "python",
   "pygments_lexer": "ipython3",
   "version": "3.6.5"
  }
 },
 "nbformat": 4,
 "nbformat_minor": 4
}

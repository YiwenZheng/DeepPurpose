{
 "cells": [
  {
   "cell_type": "code",
   "execution_count": 1,
   "metadata": {},
   "outputs": [],
   "source": [
    "import os\n",
    "os.chdir(\"/y/home/zyw/tmp/DeepPurpose/\")"
   ]
  },
  {
   "cell_type": "code",
   "execution_count": 2,
   "metadata": {},
   "outputs": [
    {
     "name": "stderr",
     "output_type": "stream",
     "text": [
      "WARNING:root:No normalization for BCUT2D_MWHI\n",
      "WARNING:root:No normalization for BCUT2D_MWLOW\n",
      "WARNING:root:No normalization for BCUT2D_CHGHI\n",
      "WARNING:root:No normalization for BCUT2D_CHGLO\n",
      "WARNING:root:No normalization for BCUT2D_LOGPHI\n",
      "WARNING:root:No normalization for BCUT2D_LOGPLOW\n",
      "WARNING:root:No normalization for BCUT2D_MRHI\n",
      "WARNING:root:No normalization for BCUT2D_MRLOW\n"
     ]
    }
   ],
   "source": [
    "from DeepPurpose import utils,dataset,DTI"
   ]
  },
  {
   "cell_type": "code",
   "execution_count": 3,
   "metadata": {},
   "outputs": [
    {
     "name": "stdout",
     "output_type": "stream",
     "text": [
      "Beginning Processing...\n",
      "Done!\n"
     ]
    }
   ],
   "source": [
    "X_drug, X_target, y = dataset.load_process_KIBA('./data/', binary = False)"
   ]
  },
  {
   "cell_type": "code",
   "execution_count": 4,
   "metadata": {},
   "outputs": [],
   "source": [
    "drug_encoding = 'CNN'\n",
    "target_encoding = 'Transformer'"
   ]
  },
  {
   "cell_type": "code",
   "execution_count": 5,
   "metadata": {},
   "outputs": [
    {
     "name": "stdout",
     "output_type": "stream",
     "text": [
      "Drug Target Interaction Prediction Mode...\n",
      "in total: 118254 drug-target pairs\n",
      "encoding drug...\n",
      "unique drugs: 2068\n",
      "encoding protein...\n",
      "unique target sequence: 229\n",
      "splitting dataset...\n",
      "Done.\n"
     ]
    }
   ],
   "source": [
    "train, val, test = utils.data_process(X_drug, X_target, y, \n",
    "                                drug_encoding, target_encoding, \n",
    "                                split_method = 'random',\n",
    "                                frac = [0.7,0.1,0.2])"
   ]
  },
  {
   "cell_type": "code",
   "execution_count": 6,
   "metadata": {},
   "outputs": [],
   "source": [
    "# use the parameters setting provided in the paper: https://arxiv.org/abs/1801.10193\n",
    "config = utils.generate_config(drug_encoding = drug_encoding, \n",
    "                         target_encoding = target_encoding, \n",
    "                         cls_hidden_dims = [1024,1024,512], \n",
    "                         train_epoch = 100, \n",
    "                         test_every_X_epoch = 10, \n",
    "                         LR = 0.001, \n",
    "                         batch_size = 128,\n",
    "                         hidden_dim_drug = 128,\n",
    "                         mpnn_hidden_size = 128,\n",
    "                         mpnn_depth = 3, \n",
    "                         cnn_target_filters = [32,64,96],\n",
    "                         cnn_target_kernels = [4,8,12])"
   ]
  },
  {
   "cell_type": "code",
   "execution_count": 7,
   "metadata": {},
   "outputs": [],
   "source": [
    "model = DTI.model_initialize(**config)"
   ]
  },
  {
   "cell_type": "code",
   "execution_count": null,
   "metadata": {},
   "outputs": [
    {
     "name": "stdout",
     "output_type": "stream",
     "text": [
      "Let's use 1 GPU!\n",
      "--- Data Preparation ---\n",
      "--- Go for Training ---\n",
      "Training at Epoch 1 iteration 0 with loss 135.790. Total time 0.0 hours\n",
      "Training at Epoch 1 iteration 100 with loss 0.83301. Total time 0.02055 hours\n",
      "Training at Epoch 1 iteration 200 with loss 1.08928. Total time 0.04138 hours\n",
      "Training at Epoch 1 iteration 300 with loss 0.75609. Total time 0.06166 hours\n",
      "Training at Epoch 1 iteration 400 with loss 0.86191. Total time 0.08138 hours\n",
      "Training at Epoch 1 iteration 500 with loss 0.66917. Total time 0.10138 hours\n",
      "Training at Epoch 1 iteration 600 with loss 1.04932. Total time 0.12138 hours\n",
      "Validation at Epoch 1 with loss:0.91100, MSE: 0.83265 , Pearson Correlation: 0.44989 with p-value: 0.0 , Concordance Index: 0.68060\n",
      "Training at Epoch 2 iteration 0 with loss 0.93039. Total time 0.14055 hours\n",
      "Training at Epoch 2 iteration 100 with loss 0.49512. Total time 0.16111 hours\n",
      "Training at Epoch 2 iteration 200 with loss 1.14590. Total time 0.18194 hours\n",
      "Training at Epoch 2 iteration 300 with loss 0.59518. Total time 0.20222 hours\n",
      "Training at Epoch 2 iteration 400 with loss 0.57910. Total time 0.2225 hours\n",
      "Training at Epoch 2 iteration 500 with loss 0.68036. Total time 0.24388 hours\n",
      "Training at Epoch 2 iteration 600 with loss 0.44619. Total time 0.26694 hours\n",
      "Validation at Epoch 2 with loss:0.71749, MSE: 0.46573 , Pearson Correlation: 0.59755 with p-value: 0.0 , Concordance Index: 0.73669\n",
      "Training at Epoch 3 iteration 0 with loss 0.46083. Total time 0.28916 hours\n",
      "Training at Epoch 3 iteration 100 with loss 0.62318. Total time 0.31222 hours\n",
      "Training at Epoch 3 iteration 200 with loss 0.46051. Total time 0.33555 hours\n",
      "Training at Epoch 3 iteration 300 with loss 0.52892. Total time 0.35916 hours\n",
      "Training at Epoch 3 iteration 400 with loss 0.94140. Total time 0.38222 hours\n",
      "Training at Epoch 3 iteration 500 with loss 0.52577. Total time 0.40527 hours\n",
      "Training at Epoch 3 iteration 600 with loss 1.18763. Total time 0.42861 hours\n",
      "Validation at Epoch 3 with loss:0.69328, MSE: 0.55876 , Pearson Correlation: 0.62776 with p-value: 0.0 , Concordance Index: 0.74680\n",
      "Training at Epoch 4 iteration 0 with loss 0.70318. Total time 0.45055 hours\n",
      "Training at Epoch 4 iteration 100 with loss 0.57206. Total time 0.47333 hours\n",
      "Training at Epoch 4 iteration 200 with loss 0.98163. Total time 0.49583 hours\n",
      "Training at Epoch 4 iteration 300 with loss 0.47419. Total time 0.51888 hours\n",
      "Training at Epoch 4 iteration 400 with loss 0.64258. Total time 0.54194 hours\n",
      "Training at Epoch 4 iteration 500 with loss 0.85270. Total time 0.56527 hours\n",
      "Training at Epoch 4 iteration 600 with loss 0.53129. Total time 0.58805 hours\n",
      "Validation at Epoch 4 with loss:0.28317, MSE: 0.45390 , Pearson Correlation: 0.65116 with p-value: 0.0 , Concordance Index: 0.75087\n",
      "Training at Epoch 5 iteration 0 with loss 0.54191. Total time 0.61055 hours\n",
      "Training at Epoch 5 iteration 100 with loss 0.62574. Total time 0.63388 hours\n",
      "Training at Epoch 5 iteration 200 with loss 0.49395. Total time 0.65722 hours\n",
      "Training at Epoch 5 iteration 300 with loss 0.78727. Total time 0.68055 hours\n",
      "Training at Epoch 5 iteration 400 with loss 0.66647. Total time 0.70388 hours\n",
      "Training at Epoch 5 iteration 500 with loss 0.58624. Total time 0.72666 hours\n",
      "Training at Epoch 5 iteration 600 with loss 0.60245. Total time 0.74972 hours\n",
      "Validation at Epoch 5 with loss:0.40484, MSE: 0.39268 , Pearson Correlation: 0.68302 with p-value: 0.0 , Concordance Index: 0.76958\n",
      "Training at Epoch 6 iteration 0 with loss 0.56092. Total time 0.77138 hours\n",
      "Training at Epoch 6 iteration 100 with loss 0.68261. Total time 0.79472 hours\n",
      "Training at Epoch 6 iteration 200 with loss 0.50776. Total time 0.81805 hours\n",
      "Training at Epoch 6 iteration 300 with loss 0.44340. Total time 0.84111 hours\n",
      "Training at Epoch 6 iteration 400 with loss 0.57484. Total time 0.86444 hours\n",
      "Training at Epoch 6 iteration 500 with loss 0.74735. Total time 0.88777 hours\n",
      "Training at Epoch 6 iteration 600 with loss 0.70690. Total time 0.91111 hours\n",
      "Validation at Epoch 6 with loss:0.26660, MSE: 0.38423 , Pearson Correlation: 0.70279 with p-value: 0.0 , Concordance Index: 0.77372\n",
      "Training at Epoch 7 iteration 0 with loss 0.63713. Total time 0.93333 hours\n",
      "Training at Epoch 7 iteration 100 with loss 0.53622. Total time 0.95666 hours\n",
      "Training at Epoch 7 iteration 200 with loss 0.50892. Total time 0.97972 hours\n",
      "Training at Epoch 7 iteration 300 with loss 0.56747. Total time 1.00305 hours\n",
      "Training at Epoch 7 iteration 400 with loss 0.46054. Total time 1.02611 hours\n",
      "Training at Epoch 7 iteration 500 with loss 0.42233. Total time 1.04916 hours\n",
      "Training at Epoch 7 iteration 600 with loss 0.41074. Total time 1.0725 hours\n"
     ]
    }
   ],
   "source": [
    "model.train(train, val, test)"
   ]
  },
  {
   "cell_type": "code",
   "execution_count": null,
   "metadata": {},
   "outputs": [],
   "source": [
    "model.save_model('./save_model/model_CNN_Transformer_Kiba')"
   ]
  }
 ],
 "metadata": {
  "kernelspec": {
   "display_name": "Python 3",
   "language": "python",
   "name": "python3"
  },
  "language_info": {
   "codemirror_mode": {
    "name": "ipython",
    "version": 3
   },
   "file_extension": ".py",
   "mimetype": "text/x-python",
   "name": "python",
   "nbconvert_exporter": "python",
   "pygments_lexer": "ipython3",
   "version": "3.6.5"
  }
 },
 "nbformat": 4,
 "nbformat_minor": 4
}

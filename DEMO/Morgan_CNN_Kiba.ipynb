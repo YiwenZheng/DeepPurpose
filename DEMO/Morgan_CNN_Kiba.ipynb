{
 "cells": [
  {
   "cell_type": "code",
   "execution_count": 1,
   "metadata": {},
   "outputs": [],
   "source": [
    "import os\n",
    "os.chdir(\"/y/home/zyw/tmp/DeepPurpose/\")"
   ]
  },
  {
   "cell_type": "code",
   "execution_count": 2,
   "metadata": {},
   "outputs": [
    {
     "name": "stderr",
     "output_type": "stream",
     "text": [
      "WARNING:root:No normalization for BCUT2D_MWHI\n",
      "WARNING:root:No normalization for BCUT2D_MWLOW\n",
      "WARNING:root:No normalization for BCUT2D_CHGHI\n",
      "WARNING:root:No normalization for BCUT2D_CHGLO\n",
      "WARNING:root:No normalization for BCUT2D_LOGPHI\n",
      "WARNING:root:No normalization for BCUT2D_LOGPLOW\n",
      "WARNING:root:No normalization for BCUT2D_MRHI\n",
      "WARNING:root:No normalization for BCUT2D_MRLOW\n"
     ]
    }
   ],
   "source": [
    "from scripts import utils,dataset,DTI"
   ]
  },
  {
   "cell_type": "code",
   "execution_count": 3,
   "metadata": {},
   "outputs": [
    {
     "name": "stdout",
     "output_type": "stream",
     "text": [
      "Beginning Processing...\n",
      "Done!\n"
     ]
    }
   ],
   "source": [
    "X_drug, X_target, y = dataset.load_process_KIBA('./data/', binary=False)"
   ]
  },
  {
   "cell_type": "code",
   "execution_count": 4,
   "metadata": {},
   "outputs": [],
   "source": [
    "drug_encoding = 'Morgan'\n",
    "target_encoding = 'CNN'"
   ]
  },
  {
   "cell_type": "code",
   "execution_count": 5,
   "metadata": {},
   "outputs": [
    {
     "name": "stdout",
     "output_type": "stream",
     "text": [
      "Drug Target Interaction Prediction Mode...\n",
      "in total: 118254 drug-target pairs\n",
      "encoding drug...\n",
      "unique drugs: 2068\n",
      "encoding protein...\n",
      "unique target sequence: 229\n",
      "splitting dataset...\n",
      "Done.\n"
     ]
    }
   ],
   "source": [
    "train, val, test = utils.data_process(X_drug, X_target, y, \n",
    "                                drug_encoding, target_encoding, \n",
    "                                split_method = 'random', frac = [0.7,0.1,0.2], random_seed = 1)"
   ]
  },
  {
   "cell_type": "code",
   "execution_count": 6,
   "metadata": {},
   "outputs": [],
   "source": [
    "config = utils.generate_config(drug_encoding = drug_encoding, \n",
    "                         target_encoding = target_encoding, \n",
    "                         cls_hidden_dims = [1024,1024,512], \n",
    "                         train_epoch = 100, \n",
    "                         LR = 0.001, \n",
    "                         batch_size = 256,\n",
    "                         cnn_target_filters = [32,64,96],\n",
    "                         cnn_target_kernels = [4,8,12])"
   ]
  },
  {
   "cell_type": "code",
   "execution_count": 7,
   "metadata": {},
   "outputs": [],
   "source": [
    "model = DTI.model_initialize(**config)"
   ]
  },
  {
   "cell_type": "code",
   "execution_count": null,
   "metadata": {},
   "outputs": [
    {
     "name": "stdout",
     "output_type": "stream",
     "text": [
      "Let's use 1 GPU!\n",
      "--- Data Preparation ---\n",
      "--- Go for Training ---\n",
      "Training at Epoch 1 iteration 0 with loss 142.239. Total time 0.00027 hours\n",
      "Training at Epoch 1 iteration 100 with loss 0.75065. Total time 0.02222 hours\n",
      "Training at Epoch 1 iteration 200 with loss 0.73189. Total time 0.04861 hours\n",
      "Training at Epoch 1 iteration 300 with loss 0.47404. Total time 0.07555 hours\n",
      "Validation at Epoch 1 with loss:0.42742, MSE: 0.56345 , Pearson Correlation: 0.62912 with p-value: 0.0 , Concordance Index: 0.73907\n",
      "Training at Epoch 2 iteration 0 with loss 0.69331. Total time 0.09472 hours\n",
      "Training at Epoch 2 iteration 100 with loss 0.61352. Total time 0.12166 hours\n",
      "Training at Epoch 2 iteration 200 with loss 0.64363. Total time 0.14916 hours\n",
      "Training at Epoch 2 iteration 300 with loss 0.47721. Total time 0.17666 hours\n",
      "Validation at Epoch 2 with loss:0.38003, MSE: 0.43739 , Pearson Correlation: 0.66584 with p-value: 0.0 , Concordance Index: 0.76480\n",
      "Training at Epoch 3 iteration 0 with loss 0.65740. Total time 0.19583 hours\n",
      "Training at Epoch 3 iteration 100 with loss 0.56040. Total time 0.2225 hours\n",
      "Training at Epoch 3 iteration 200 with loss 0.54743. Total time 0.24916 hours\n",
      "Training at Epoch 3 iteration 300 with loss 0.58695. Total time 0.27666 hours\n",
      "Validation at Epoch 3 with loss:0.46029, MSE: 0.70373 , Pearson Correlation: 0.67089 with p-value: 0.0 , Concordance Index: 0.76520\n",
      "Training at Epoch 4 iteration 0 with loss 0.81741. Total time 0.29555 hours\n",
      "Training at Epoch 4 iteration 100 with loss 0.51059. Total time 0.3225 hours\n",
      "Training at Epoch 4 iteration 200 with loss 0.41692. Total time 0.34944 hours\n",
      "Training at Epoch 4 iteration 300 with loss 0.46175. Total time 0.37666 hours\n"
     ]
    }
   ],
   "source": [
    "model.train(train, val, test)"
   ]
  },
  {
   "cell_type": "code",
   "execution_count": null,
   "metadata": {},
   "outputs": [],
   "source": [
    "model.save_model('./save_model/model_Morgan_CNN_Kiba')"
   ]
  },
  {
   "cell_type": "code",
   "execution_count": null,
   "metadata": {},
   "outputs": [],
   "source": []
  }
 ],
 "metadata": {
  "kernelspec": {
   "display_name": "Python 3",
   "language": "python",
   "name": "python3"
  },
  "language_info": {
   "codemirror_mode": {
    "name": "ipython",
    "version": 3
   },
   "file_extension": ".py",
   "mimetype": "text/x-python",
   "name": "python",
   "nbconvert_exporter": "python",
   "pygments_lexer": "ipython3",
   "version": "3.6.5"
  }
 },
 "nbformat": 4,
 "nbformat_minor": 4
}

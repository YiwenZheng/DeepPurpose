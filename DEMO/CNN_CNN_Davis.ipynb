{
 "cells": [
  {
   "cell_type": "code",
   "execution_count": 1,
   "metadata": {},
   "outputs": [],
   "source": [
    "import os\n",
    "os.chdir(\"/y/home/zyw/tmp/DeepPurpose/\")"
   ]
  },
  {
   "cell_type": "code",
   "execution_count": 2,
   "metadata": {},
   "outputs": [
    {
     "name": "stderr",
     "output_type": "stream",
     "text": [
      "WARNING:root:No normalization for BCUT2D_MWHI\n",
      "WARNING:root:No normalization for BCUT2D_MWLOW\n",
      "WARNING:root:No normalization for BCUT2D_CHGHI\n",
      "WARNING:root:No normalization for BCUT2D_CHGLO\n",
      "WARNING:root:No normalization for BCUT2D_LOGPHI\n",
      "WARNING:root:No normalization for BCUT2D_LOGPLOW\n",
      "WARNING:root:No normalization for BCUT2D_MRHI\n",
      "WARNING:root:No normalization for BCUT2D_MRLOW\n"
     ]
    }
   ],
   "source": [
    "from scripts import utils,dataset,DTI"
   ]
  },
  {
   "cell_type": "code",
   "execution_count": 3,
   "metadata": {},
   "outputs": [
    {
     "name": "stdout",
     "output_type": "stream",
     "text": [
      "Beginning Processing...\n",
      "Default set to logspace (nM -> p) for easier regression\n",
      "Done!\n"
     ]
    }
   ],
   "source": [
    "X_drug, X_target, y = dataset.load_process_DAVIS('./data/', binary=False)"
   ]
  },
  {
   "cell_type": "code",
   "execution_count": 4,
   "metadata": {},
   "outputs": [],
   "source": [
    "drug_encoding = 'CNN'\n",
    "target_encoding = 'CNN'"
   ]
  },
  {
   "cell_type": "code",
   "execution_count": 5,
   "metadata": {},
   "outputs": [
    {
     "name": "stdout",
     "output_type": "stream",
     "text": [
      "Drug Target Interaction Prediction Mode...\n",
      "in total: 30056 drug-target pairs\n",
      "encoding drug...\n",
      "unique drugs: 68\n",
      "encoding protein...\n",
      "unique target sequence: 379\n",
      "splitting dataset...\n",
      "Done.\n"
     ]
    }
   ],
   "source": [
    "train, val, test = utils.data_process(X_drug, X_target, y, \n",
    "                                drug_encoding, target_encoding, \n",
    "                                split_method = 'random', frac = [0.8,0.1,0.1])"
   ]
  },
  {
   "cell_type": "code",
   "execution_count": 6,
   "metadata": {},
   "outputs": [],
   "source": [
    "config = utils.generate_config(drug_encoding = drug_encoding, \n",
    "                         target_encoding = target_encoding, \n",
    "                         cls_hidden_dims = [1024,1024,512], \n",
    "                         train_epoch = 100, \n",
    "                         LR = 0.0008, \n",
    "                         batch_size = 256,\n",
    "                         cnn_drug_filters = [32,64,96],\n",
    "                         cnn_target_filters = [32,64,96],\n",
    "                         cnn_drug_kernels = [4,6,8],\n",
    "                         cnn_target_kernels = [4,8,12])"
   ]
  },
  {
   "cell_type": "code",
   "execution_count": 7,
   "metadata": {},
   "outputs": [],
   "source": [
    "model = DTI.model_initialize(**config)"
   ]
  },
  {
   "cell_type": "code",
   "execution_count": 8,
   "metadata": {
    "scrolled": true
   },
   "outputs": [
    {
     "name": "stdout",
     "output_type": "stream",
     "text": [
      "Let's use 1 GPU!\n",
      "--- Data Preparation ---\n",
      "--- Go for Training ---\n",
      "Training at Epoch 1 iteration 0 with loss 29.4895. Total time 0.00027 hours\n",
      "Validation at Epoch 1 with loss:0.54298, MSE: 0.70455 , Pearson Correlation: 0.39057 with p-value: 3.99041 , Concordance Index: 0.74611\n",
      "Training at Epoch 2 iteration 0 with loss 0.71309. Total time 0.02722 hours\n",
      "Validation at Epoch 2 with loss:0.63505, MSE: 0.58605 , Pearson Correlation: 0.52018 with p-value: 4.26899 , Concordance Index: 0.77921\n",
      "Training at Epoch 3 iteration 0 with loss 0.68010. Total time 0.06027 hours\n",
      "Validation at Epoch 3 with loss:0.58635, MSE: 0.53032 , Pearson Correlation: 0.56732 with p-value: 1.13107 , Concordance Index: 0.79436\n",
      "Training at Epoch 4 iteration 0 with loss 0.97754. Total time 0.09416 hours\n",
      "Validation at Epoch 4 with loss:0.58243, MSE: 0.51124 , Pearson Correlation: 0.58746 with p-value: 1.86706 , Concordance Index: 0.80135\n",
      "Training at Epoch 5 iteration 0 with loss 0.57485. Total time 0.13222 hours\n",
      "Validation at Epoch 5 with loss:0.35452, MSE: 0.49712 , Pearson Correlation: 0.60386 with p-value: 3.21825 , Concordance Index: 0.80642\n",
      "Training at Epoch 6 iteration 0 with loss 0.69954. Total time 0.16555 hours\n",
      "Validation at Epoch 6 with loss:0.59533, MSE: 0.49122 , Pearson Correlation: 0.61899 with p-value: 1.63118 , Concordance Index: 0.80659\n",
      "Training at Epoch 7 iteration 0 with loss 0.54715. Total time 0.19972 hours\n",
      "Validation at Epoch 7 with loss:0.47826, MSE: 0.51800 , Pearson Correlation: 0.64436 with p-value: 0.0 , Concordance Index: 0.81590\n",
      "Training at Epoch 8 iteration 0 with loss 0.71536. Total time 0.2375 hours\n",
      "Validation at Epoch 8 with loss:0.60800, MSE: 0.46072 , Pearson Correlation: 0.65589 with p-value: 0.0 , Concordance Index: 0.82366\n",
      "Training at Epoch 9 iteration 0 with loss 0.43102. Total time 0.275 hours\n",
      "Validation at Epoch 9 with loss:0.38822, MSE: 0.51606 , Pearson Correlation: 0.64052 with p-value: 0.0 , Concordance Index: 0.82379\n",
      "Training at Epoch 10 iteration 0 with loss 0.43749. Total time 0.30722 hours\n",
      "Validation at Epoch 10 with loss:0.32716, MSE: 0.47578 , Pearson Correlation: 0.66043 with p-value: 0.0 , Concordance Index: 0.82962\n",
      "Training at Epoch 11 iteration 0 with loss 0.46967. Total time 0.34416 hours\n",
      "Validation at Epoch 11 with loss:0.35852, MSE: 0.44223 , Pearson Correlation: 0.65859 with p-value: 0.0 , Concordance Index: 0.82994\n",
      "Training at Epoch 12 iteration 0 with loss 0.54336. Total time 0.38194 hours\n",
      "Validation at Epoch 12 with loss:0.47406, MSE: 0.44069 , Pearson Correlation: 0.66029 with p-value: 0.0 , Concordance Index: 0.82861\n",
      "Training at Epoch 13 iteration 0 with loss 0.58717. Total time 0.41555 hours\n",
      "Validation at Epoch 13 with loss:0.38079, MSE: 0.47174 , Pearson Correlation: 0.66041 with p-value: 0.0 , Concordance Index: 0.83498\n",
      "Training at Epoch 14 iteration 0 with loss 0.39961. Total time 0.45055 hours\n",
      "Validation at Epoch 14 with loss:0.42565, MSE: 0.44896 , Pearson Correlation: 0.65818 with p-value: 0.0 , Concordance Index: 0.82701\n",
      "Training at Epoch 15 iteration 0 with loss 0.55473. Total time 0.48805 hours\n",
      "Validation at Epoch 15 with loss:0.44631, MSE: 0.44777 , Pearson Correlation: 0.66229 with p-value: 0.0 , Concordance Index: 0.82181\n",
      "Training at Epoch 16 iteration 0 with loss 0.45972. Total time 0.52416 hours\n",
      "Validation at Epoch 16 with loss:0.39090, MSE: 0.45363 , Pearson Correlation: 0.65949 with p-value: 0.0 , Concordance Index: 0.82423\n",
      "Training at Epoch 17 iteration 0 with loss 0.53376. Total time 0.55722 hours\n",
      "Validation at Epoch 17 with loss:0.48335, MSE: 0.45139 , Pearson Correlation: 0.65889 with p-value: 0.0 , Concordance Index: 0.83592\n",
      "Training at Epoch 18 iteration 0 with loss 0.42852. Total time 0.595 hours\n",
      "Validation at Epoch 18 with loss:0.58299, MSE: 0.42912 , Pearson Correlation: 0.67274 with p-value: 0.0 , Concordance Index: 0.83437\n",
      "Training at Epoch 19 iteration 0 with loss 0.56709. Total time 0.63222 hours\n",
      "Validation at Epoch 19 with loss:0.28843, MSE: 0.51784 , Pearson Correlation: 0.65625 with p-value: 0.0 , Concordance Index: 0.82014\n",
      "Training at Epoch 20 iteration 0 with loss 0.57287. Total time 0.66444 hours\n",
      "Validation at Epoch 20 with loss:0.57775, MSE: 0.42975 , Pearson Correlation: 0.67528 with p-value: 0.0 , Concordance Index: 0.83237\n",
      "Training at Epoch 21 iteration 0 with loss 0.54156. Total time 0.70222 hours\n",
      "Validation at Epoch 21 with loss:0.49058, MSE: 0.45220 , Pearson Correlation: 0.66539 with p-value: 0.0 , Concordance Index: 0.82952\n",
      "Training at Epoch 22 iteration 0 with loss 0.54484. Total time 0.73972 hours\n",
      "Validation at Epoch 22 with loss:0.57844, MSE: 0.43902 , Pearson Correlation: 0.68046 with p-value: 0.0 , Concordance Index: 0.83928\n",
      "Training at Epoch 23 iteration 0 with loss 0.43338. Total time 0.77361 hours\n",
      "Validation at Epoch 23 with loss:0.50505, MSE: 0.43151 , Pearson Correlation: 0.66928 with p-value: 0.0 , Concordance Index: 0.82897\n",
      "Training at Epoch 24 iteration 0 with loss 0.45152. Total time 0.81083 hours\n",
      "Validation at Epoch 24 with loss:0.54576, MSE: 0.46031 , Pearson Correlation: 0.68290 with p-value: 0.0 , Concordance Index: 0.83024\n",
      "Training at Epoch 25 iteration 0 with loss 0.54927. Total time 0.84833 hours\n",
      "Validation at Epoch 25 with loss:0.44948, MSE: 0.41630 , Pearson Correlation: 0.69303 with p-value: 0.0 , Concordance Index: 0.82670\n",
      "Training at Epoch 26 iteration 0 with loss 0.40211. Total time 0.88416 hours\n",
      "Validation at Epoch 26 with loss:0.43056, MSE: 0.43452 , Pearson Correlation: 0.72124 with p-value: 0.0 , Concordance Index: 0.84243\n",
      "Training at Epoch 27 iteration 0 with loss 0.40113. Total time 0.91777 hours\n",
      "Validation at Epoch 27 with loss:0.34969, MSE: 0.37830 , Pearson Correlation: 0.72161 with p-value: 0.0 , Concordance Index: 0.85047\n",
      "Training at Epoch 28 iteration 0 with loss 0.27471. Total time 0.95527 hours\n",
      "Validation at Epoch 28 with loss:0.42017, MSE: 0.36285 , Pearson Correlation: 0.73494 with p-value: 0.0 , Concordance Index: 0.84774\n",
      "Training at Epoch 29 iteration 0 with loss 0.36439. Total time 0.99277 hours\n",
      "Validation at Epoch 29 with loss:0.28670, MSE: 0.36238 , Pearson Correlation: 0.74025 with p-value: 0.0 , Concordance Index: 0.85494\n",
      "Training at Epoch 30 iteration 0 with loss 0.34422. Total time 1.02333 hours\n",
      "Validation at Epoch 30 with loss:0.32033, MSE: 0.36882 , Pearson Correlation: 0.73105 with p-value: 0.0 , Concordance Index: 0.84959\n",
      "Training at Epoch 31 iteration 0 with loss 0.27110. Total time 1.06138 hours\n",
      "Validation at Epoch 31 with loss:0.44723, MSE: 0.33620 , Pearson Correlation: 0.75427 with p-value: 0.0 , Concordance Index: 0.85741\n",
      "Training at Epoch 32 iteration 0 with loss 0.31772. Total time 1.09861 hours\n",
      "Validation at Epoch 32 with loss:0.43315, MSE: 0.35610 , Pearson Correlation: 0.74317 with p-value: 0.0 , Concordance Index: 0.85123\n",
      "Training at Epoch 33 iteration 0 with loss 0.33011. Total time 1.1325 hours\n",
      "Validation at Epoch 33 with loss:0.28424, MSE: 0.37900 , Pearson Correlation: 0.75548 with p-value: 0.0 , Concordance Index: 0.84775\n",
      "Training at Epoch 34 iteration 0 with loss 0.34051. Total time 1.16638 hours\n",
      "Validation at Epoch 34 with loss:0.28859, MSE: 0.32945 , Pearson Correlation: 0.76062 with p-value: 0.0 , Concordance Index: 0.85661\n",
      "Training at Epoch 35 iteration 0 with loss 0.28134. Total time 1.20444 hours\n",
      "Validation at Epoch 35 with loss:0.37778, MSE: 0.33370 , Pearson Correlation: 0.76613 with p-value: 0.0 , Concordance Index: 0.86063\n",
      "Training at Epoch 36 iteration 0 with loss 0.29773. Total time 1.23888 hours\n",
      "Validation at Epoch 36 with loss:0.28374, MSE: 0.34999 , Pearson Correlation: 0.76365 with p-value: 0.0 , Concordance Index: 0.86127\n",
      "Training at Epoch 37 iteration 0 with loss 0.29280. Total time 1.2725 hours\n",
      "Validation at Epoch 37 with loss:0.32976, MSE: 0.36687 , Pearson Correlation: 0.77396 with p-value: 0.0 , Concordance Index: 0.85925\n",
      "Training at Epoch 38 iteration 0 with loss 0.46239. Total time 1.30944 hours\n",
      "Validation at Epoch 38 with loss:0.23469, MSE: 0.32940 , Pearson Correlation: 0.76308 with p-value: 0.0 , Concordance Index: 0.85275\n",
      "Training at Epoch 39 iteration 0 with loss 0.33899. Total time 1.34388 hours\n",
      "Validation at Epoch 39 with loss:0.39132, MSE: 0.33030 , Pearson Correlation: 0.76390 with p-value: 0.0 , Concordance Index: 0.85061\n"
     ]
    },
    {
     "name": "stdout",
     "output_type": "stream",
     "text": [
      "Training at Epoch 40 iteration 0 with loss 0.33067. Total time 1.38 hours\n",
      "Validation at Epoch 40 with loss:0.40944, MSE: 0.37369 , Pearson Correlation: 0.77498 with p-value: 0.0 , Concordance Index: 0.86697\n",
      "Training at Epoch 41 iteration 0 with loss 0.37541. Total time 1.415 hours\n",
      "Validation at Epoch 41 with loss:0.22660, MSE: 0.32178 , Pearson Correlation: 0.78009 with p-value: 0.0 , Concordance Index: 0.87115\n",
      "Training at Epoch 42 iteration 0 with loss 0.34705. Total time 1.45055 hours\n",
      "Validation at Epoch 42 with loss:0.28834, MSE: 0.31889 , Pearson Correlation: 0.77934 with p-value: 0.0 , Concordance Index: 0.86856\n",
      "Training at Epoch 43 iteration 0 with loss 0.28751. Total time 1.48666 hours\n",
      "Validation at Epoch 43 with loss:0.29593, MSE: 0.30526 , Pearson Correlation: 0.78564 with p-value: 0.0 , Concordance Index: 0.86024\n",
      "Training at Epoch 44 iteration 0 with loss 0.23945. Total time 1.52027 hours\n",
      "Validation at Epoch 44 with loss:0.34244, MSE: 0.32542 , Pearson Correlation: 0.76731 with p-value: 0.0 , Concordance Index: 0.86059\n",
      "Training at Epoch 45 iteration 0 with loss 0.33859. Total time 1.55777 hours\n",
      "Validation at Epoch 45 with loss:0.30691, MSE: 0.29230 , Pearson Correlation: 0.79121 with p-value: 0.0 , Concordance Index: 0.86384\n",
      "Training at Epoch 46 iteration 0 with loss 0.23269. Total time 1.59166 hours\n",
      "Validation at Epoch 46 with loss:0.28002, MSE: 0.30616 , Pearson Correlation: 0.79765 with p-value: 0.0 , Concordance Index: 0.87308\n",
      "Training at Epoch 47 iteration 0 with loss 0.22061. Total time 1.62777 hours\n",
      "Validation at Epoch 47 with loss:0.39089, MSE: 0.34089 , Pearson Correlation: 0.78227 with p-value: 0.0 , Concordance Index: 0.86417\n",
      "Training at Epoch 48 iteration 0 with loss 0.30933. Total time 1.66277 hours\n",
      "Validation at Epoch 48 with loss:0.16907, MSE: 0.30884 , Pearson Correlation: 0.80296 with p-value: 0.0 , Concordance Index: 0.88154\n",
      "Training at Epoch 49 iteration 0 with loss 0.32949. Total time 1.69694 hours\n",
      "Validation at Epoch 49 with loss:0.21702, MSE: 0.28509 , Pearson Correlation: 0.80284 with p-value: 0.0 , Concordance Index: 0.87161\n",
      "Training at Epoch 50 iteration 0 with loss 0.24104. Total time 1.73416 hours\n",
      "Validation at Epoch 50 with loss:0.36331, MSE: 0.30318 , Pearson Correlation: 0.80462 with p-value: 0.0 , Concordance Index: 0.87333\n",
      "Training at Epoch 51 iteration 0 with loss 0.24985. Total time 1.76666 hours\n",
      "Validation at Epoch 51 with loss:0.21311, MSE: 0.28779 , Pearson Correlation: 0.80808 with p-value: 0.0 , Concordance Index: 0.88379\n",
      "Training at Epoch 52 iteration 0 with loss 0.30427. Total time 1.80083 hours\n",
      "Validation at Epoch 52 with loss:0.21854, MSE: 0.29593 , Pearson Correlation: 0.80917 with p-value: 0.0 , Concordance Index: 0.86870\n",
      "Training at Epoch 53 iteration 0 with loss 0.17599. Total time 1.83805 hours\n",
      "Validation at Epoch 53 with loss:0.22369, MSE: 0.27268 , Pearson Correlation: 0.81015 with p-value: 0.0 , Concordance Index: 0.87849\n",
      "Training at Epoch 54 iteration 0 with loss 0.17402. Total time 1.87416 hours\n",
      "Validation at Epoch 54 with loss:0.35661, MSE: 0.27076 , Pearson Correlation: 0.81234 with p-value: 0.0 , Concordance Index: 0.87633\n",
      "Training at Epoch 55 iteration 0 with loss 0.28292. Total time 1.90805 hours\n",
      "Validation at Epoch 55 with loss:0.25730, MSE: 0.27643 , Pearson Correlation: 0.80553 with p-value: 0.0 , Concordance Index: 0.87564\n",
      "Training at Epoch 56 iteration 0 with loss 0.28460. Total time 1.94555 hours\n",
      "Validation at Epoch 56 with loss:0.24276, MSE: 0.27822 , Pearson Correlation: 0.82067 with p-value: 0.0 , Concordance Index: 0.87350\n",
      "Training at Epoch 57 iteration 0 with loss 0.23618. Total time 1.98333 hours\n",
      "Validation at Epoch 57 with loss:0.28631, MSE: 0.28644 , Pearson Correlation: 0.82618 with p-value: 0.0 , Concordance Index: 0.88127\n",
      "Training at Epoch 58 iteration 0 with loss 0.25323. Total time 2.01555 hours\n",
      "Validation at Epoch 58 with loss:0.33434, MSE: 0.25648 , Pearson Correlation: 0.82324 with p-value: 0.0 , Concordance Index: 0.88127\n",
      "Training at Epoch 59 iteration 0 with loss 0.21327. Total time 2.05111 hours\n",
      "Validation at Epoch 59 with loss:0.28984, MSE: 0.25942 , Pearson Correlation: 0.81757 with p-value: 0.0 , Concordance Index: 0.86745\n",
      "Training at Epoch 60 iteration 0 with loss 0.19502. Total time 2.08833 hours\n",
      "Validation at Epoch 60 with loss:0.18321, MSE: 0.24433 , Pearson Correlation: 0.82877 with p-value: 0.0 , Concordance Index: 0.88048\n",
      "Training at Epoch 61 iteration 0 with loss 0.18361. Total time 2.12222 hours\n",
      "Validation at Epoch 61 with loss:0.22237, MSE: 0.24441 , Pearson Correlation: 0.82936 with p-value: 0.0 , Concordance Index: 0.87492\n",
      "Training at Epoch 62 iteration 0 with loss 0.22798. Total time 2.15583 hours\n",
      "Validation at Epoch 62 with loss:0.26928, MSE: 0.24998 , Pearson Correlation: 0.82525 with p-value: 0.0 , Concordance Index: 0.88277\n",
      "Training at Epoch 63 iteration 0 with loss 0.17984. Total time 2.19333 hours\n",
      "Validation at Epoch 63 with loss:0.15741, MSE: 0.23820 , Pearson Correlation: 0.83413 with p-value: 0.0 , Concordance Index: 0.88021\n",
      "Training at Epoch 64 iteration 0 with loss 0.21438. Total time 2.23055 hours\n",
      "Validation at Epoch 64 with loss:0.25474, MSE: 0.24300 , Pearson Correlation: 0.83594 with p-value: 0.0 , Concordance Index: 0.87805\n",
      "Training at Epoch 65 iteration 0 with loss 0.19511. Total time 2.26222 hours\n",
      "Validation at Epoch 65 with loss:0.20657, MSE: 0.25939 , Pearson Correlation: 0.82316 with p-value: 0.0 , Concordance Index: 0.88021\n",
      "Training at Epoch 66 iteration 0 with loss 0.14369. Total time 2.29944 hours\n",
      "Validation at Epoch 66 with loss:0.25454, MSE: 0.27037 , Pearson Correlation: 0.82738 with p-value: 0.0 , Concordance Index: 0.87669\n",
      "Training at Epoch 67 iteration 0 with loss 0.14293. Total time 2.33694 hours\n",
      "Validation at Epoch 67 with loss:0.23483, MSE: 0.25059 , Pearson Correlation: 0.82386 with p-value: 0.0 , Concordance Index: 0.87016\n",
      "Training at Epoch 68 iteration 0 with loss 0.20517. Total time 2.36888 hours\n",
      "Validation at Epoch 68 with loss:0.22458, MSE: 0.24877 , Pearson Correlation: 0.82934 with p-value: 0.0 , Concordance Index: 0.88106\n",
      "Training at Epoch 69 iteration 0 with loss 0.19696. Total time 2.40583 hours\n",
      "Validation at Epoch 69 with loss:0.19716, MSE: 0.24521 , Pearson Correlation: 0.83328 with p-value: 0.0 , Concordance Index: 0.88969\n",
      "Training at Epoch 70 iteration 0 with loss 0.23145. Total time 2.44333 hours\n",
      "Validation at Epoch 70 with loss:0.21057, MSE: 0.23787 , Pearson Correlation: 0.83787 with p-value: 0.0 , Concordance Index: 0.87888\n",
      "Training at Epoch 71 iteration 0 with loss 0.10789. Total time 2.47777 hours\n",
      "Validation at Epoch 71 with loss:0.23004, MSE: 0.23650 , Pearson Correlation: 0.83860 with p-value: 0.0 , Concordance Index: 0.88571\n",
      "Training at Epoch 72 iteration 0 with loss 0.16721. Total time 2.50638 hours\n",
      "Validation at Epoch 72 with loss:0.19975, MSE: 0.25476 , Pearson Correlation: 0.84477 with p-value: 0.0 , Concordance Index: 0.89136\n",
      "Training at Epoch 73 iteration 0 with loss 0.19051. Total time 2.53388 hours\n",
      "Validation at Epoch 73 with loss:0.30039, MSE: 0.22950 , Pearson Correlation: 0.84301 with p-value: 0.0 , Concordance Index: 0.88688\n",
      "Training at Epoch 74 iteration 0 with loss 0.13464. Total time 2.56027 hours\n",
      "Validation at Epoch 74 with loss:0.23053, MSE: 0.23809 , Pearson Correlation: 0.84385 with p-value: 0.0 , Concordance Index: 0.88597\n",
      "Training at Epoch 75 iteration 0 with loss 0.17884. Total time 2.5875 hours\n",
      "Validation at Epoch 75 with loss:0.19928, MSE: 0.23458 , Pearson Correlation: 0.83802 with p-value: 0.0 , Concordance Index: 0.88307\n",
      "Training at Epoch 76 iteration 0 with loss 0.13772. Total time 2.61416 hours\n",
      "Validation at Epoch 76 with loss:0.32788, MSE: 0.21680 , Pearson Correlation: 0.85215 with p-value: 0.0 , Concordance Index: 0.89202\n",
      "Training at Epoch 77 iteration 0 with loss 0.14578. Total time 2.64166 hours\n",
      "Validation at Epoch 77 with loss:0.20246, MSE: 0.23037 , Pearson Correlation: 0.84524 with p-value: 0.0 , Concordance Index: 0.89429\n",
      "Training at Epoch 78 iteration 0 with loss 0.11265. Total time 2.66861 hours\n",
      "Validation at Epoch 78 with loss:0.22305, MSE: 0.21741 , Pearson Correlation: 0.85037 with p-value: 0.0 , Concordance Index: 0.88888\n",
      "Training at Epoch 79 iteration 0 with loss 0.14702. Total time 2.695 hours\n"
     ]
    },
    {
     "name": "stdout",
     "output_type": "stream",
     "text": [
      "Validation at Epoch 79 with loss:0.22644, MSE: 0.22079 , Pearson Correlation: 0.84924 with p-value: 0.0 , Concordance Index: 0.89244\n",
      "Training at Epoch 80 iteration 0 with loss 0.11593. Total time 2.72194 hours\n",
      "Validation at Epoch 80 with loss:0.22592, MSE: 0.22833 , Pearson Correlation: 0.84360 with p-value: 0.0 , Concordance Index: 0.88950\n",
      "Training at Epoch 81 iteration 0 with loss 0.14623. Total time 2.74916 hours\n",
      "Validation at Epoch 81 with loss:0.24671, MSE: 0.23872 , Pearson Correlation: 0.83400 with p-value: 0.0 , Concordance Index: 0.88019\n",
      "Training at Epoch 82 iteration 0 with loss 0.14231. Total time 2.77583 hours\n",
      "Validation at Epoch 82 with loss:0.25208, MSE: 0.23161 , Pearson Correlation: 0.84636 with p-value: 0.0 , Concordance Index: 0.89163\n",
      "Training at Epoch 83 iteration 0 with loss 0.11200. Total time 2.80333 hours\n",
      "Validation at Epoch 83 with loss:0.24930, MSE: 0.24029 , Pearson Correlation: 0.84911 with p-value: 0.0 , Concordance Index: 0.88821\n",
      "Training at Epoch 84 iteration 0 with loss 0.12856. Total time 2.83083 hours\n",
      "Validation at Epoch 84 with loss:0.18138, MSE: 0.21506 , Pearson Correlation: 0.85397 with p-value: 0.0 , Concordance Index: 0.88757\n",
      "Training at Epoch 85 iteration 0 with loss 0.11908. Total time 2.85805 hours\n",
      "Validation at Epoch 85 with loss:0.29243, MSE: 0.23315 , Pearson Correlation: 0.84955 with p-value: 0.0 , Concordance Index: 0.89352\n",
      "Training at Epoch 86 iteration 0 with loss 0.16973. Total time 2.885 hours\n",
      "Validation at Epoch 86 with loss:0.20387, MSE: 0.22302 , Pearson Correlation: 0.85214 with p-value: 0.0 , Concordance Index: 0.89739\n",
      "Training at Epoch 87 iteration 0 with loss 0.10917. Total time 2.91277 hours\n",
      "Validation at Epoch 87 with loss:0.18574, MSE: 0.21508 , Pearson Correlation: 0.85370 with p-value: 0.0 , Concordance Index: 0.88972\n",
      "Training at Epoch 88 iteration 0 with loss 0.16853. Total time 2.93944 hours\n",
      "Validation at Epoch 88 with loss:0.21175, MSE: 0.21964 , Pearson Correlation: 0.84818 with p-value: 0.0 , Concordance Index: 0.88780\n",
      "Training at Epoch 89 iteration 0 with loss 0.15616. Total time 2.96666 hours\n",
      "Validation at Epoch 89 with loss:0.21766, MSE: 0.22028 , Pearson Correlation: 0.84714 with p-value: 0.0 , Concordance Index: 0.88737\n",
      "Training at Epoch 90 iteration 0 with loss 0.15201. Total time 2.99361 hours\n",
      "Validation at Epoch 90 with loss:0.15181, MSE: 0.22570 , Pearson Correlation: 0.85553 with p-value: 0.0 , Concordance Index: 0.89220\n",
      "Training at Epoch 91 iteration 0 with loss 0.16178. Total time 3.02 hours\n",
      "Validation at Epoch 91 with loss:0.20236, MSE: 0.23381 , Pearson Correlation: 0.84852 with p-value: 0.0 , Concordance Index: 0.89352\n",
      "Training at Epoch 92 iteration 0 with loss 0.11426. Total time 3.04694 hours\n",
      "Validation at Epoch 92 with loss:0.28757, MSE: 0.22902 , Pearson Correlation: 0.84765 with p-value: 0.0 , Concordance Index: 0.88680\n",
      "Training at Epoch 93 iteration 0 with loss 0.11340. Total time 3.07361 hours\n",
      "Validation at Epoch 93 with loss:0.20151, MSE: 0.22876 , Pearson Correlation: 0.84363 with p-value: 0.0 , Concordance Index: 0.87743\n",
      "Training at Epoch 94 iteration 0 with loss 0.14917. Total time 3.10083 hours\n",
      "Validation at Epoch 94 with loss:0.15002, MSE: 0.21584 , Pearson Correlation: 0.85271 with p-value: 0.0 , Concordance Index: 0.88813\n",
      "Training at Epoch 95 iteration 0 with loss 0.10746. Total time 3.12805 hours\n",
      "Validation at Epoch 95 with loss:0.19158, MSE: 0.21812 , Pearson Correlation: 0.84972 with p-value: 0.0 , Concordance Index: 0.88771\n",
      "Training at Epoch 96 iteration 0 with loss 0.12651. Total time 3.15472 hours\n",
      "Validation at Epoch 96 with loss:0.17743, MSE: 0.22103 , Pearson Correlation: 0.85437 with p-value: 0.0 , Concordance Index: 0.88715\n",
      "Training at Epoch 97 iteration 0 with loss 0.13932. Total time 3.18277 hours\n",
      "Validation at Epoch 97 with loss:0.15217, MSE: 0.21826 , Pearson Correlation: 0.85606 with p-value: 0.0 , Concordance Index: 0.89233\n",
      "Training at Epoch 98 iteration 0 with loss 0.08801. Total time 3.20972 hours\n",
      "Validation at Epoch 98 with loss:0.28468, MSE: 0.22493 , Pearson Correlation: 0.84897 with p-value: 0.0 , Concordance Index: 0.88495\n",
      "Training at Epoch 99 iteration 0 with loss 0.16142. Total time 3.2375 hours\n",
      "Validation at Epoch 99 with loss:0.18667, MSE: 0.22375 , Pearson Correlation: 0.84600 with p-value: 0.0 , Concordance Index: 0.89056\n",
      "Training at Epoch 100 iteration 0 with loss 0.06595. Total time 3.265 hours\n",
      "Validation at Epoch 100 with loss:0.23579, MSE: 0.22201 , Pearson Correlation: 0.85138 with p-value: 0.0 , Concordance Index: 0.90143\n",
      "--- Go for Testing ---\n",
      "Testing MSE: 0.22630562700033108 , Pearson Correlation: 0.8466480104640315 with p-value: 0.0 , Concordance Index: 0.8835243404867666\n",
      "--- Training Finished ---\n"
     ]
    },
    {
     "data": {
      "image/png": "[encoded data removed]",
      "text/plain": [
       "<Figure size 432x288 with 1 Axes>"
      ]
     },
     "metadata": {
      "needs_background": "light"
     },
     "output_type": "display_data"
    }
   ],
   "source": [
    "model.train(train, val, test)"
   ]
  },
  {
   "cell_type": "code",
   "execution_count": 9,
   "metadata": {},
   "outputs": [],
   "source": [
    "model.save_model('./save_model/model_CNN_CNN_Davis')"
   ]
  }
 ],
 "metadata": {
  "kernelspec": {
   "display_name": "Python 3",
   "language": "python",
   "name": "python3"
  },
  "language_info": {
   "codemirror_mode": {
    "name": "ipython",
    "version": 3
   },
   "file_extension": ".py",
   "mimetype": "text/x-python",
   "name": "python",
   "nbconvert_exporter": "python",
   "pygments_lexer": "ipython3",
   "version": "3.6.5"
  }
 },
 "nbformat": 4,
 "nbformat_minor": 4
}

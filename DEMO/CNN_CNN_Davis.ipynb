{
 "cells": [
  {
   "cell_type": "code",
   "execution_count": 1,
   "metadata": {},
   "outputs": [],
   "source": [
    "import os\n",
    "os.chdir(\"/y/home/zyw/tmp/DeepPurpose/\")"
   ]
  },
  {
   "cell_type": "code",
   "execution_count": 2,
   "metadata": {},
   "outputs": [
    {
     "name": "stderr",
     "output_type": "stream",
     "text": [
      "WARNING:root:No normalization for BCUT2D_MWHI\n",
      "WARNING:root:No normalization for BCUT2D_MWLOW\n",
      "WARNING:root:No normalization for BCUT2D_CHGHI\n",
      "WARNING:root:No normalization for BCUT2D_CHGLO\n",
      "WARNING:root:No normalization for BCUT2D_LOGPHI\n",
      "WARNING:root:No normalization for BCUT2D_LOGPLOW\n",
      "WARNING:root:No normalization for BCUT2D_MRHI\n",
      "WARNING:root:No normalization for BCUT2D_MRLOW\n"
     ]
    }
   ],
   "source": [
    "from DeepPurpose import utils,dataset,DTI"
   ]
  },
  {
   "cell_type": "code",
   "execution_count": 3,
   "metadata": {},
   "outputs": [
    {
     "name": "stdout",
     "output_type": "stream",
     "text": [
      "Beginning Processing...\n",
      "Default set to logspace (nM -> p) for easier regression\n",
      "Done!\n"
     ]
    }
   ],
   "source": [
    "X_drug, X_target, y = dataset.load_process_DAVIS('./data/', binary=False)"
   ]
  },
  {
   "cell_type": "code",
   "execution_count": 4,
   "metadata": {},
   "outputs": [],
   "source": [
    "drug_encoding = 'CNN'\n",
    "target_encoding = 'CNN'"
   ]
  },
  {
   "cell_type": "code",
   "execution_count": 5,
   "metadata": {},
   "outputs": [
    {
     "name": "stdout",
     "output_type": "stream",
     "text": [
      "Drug Target Interaction Prediction Mode...\n",
      "in total: 30056 drug-target pairs\n",
      "encoding drug...\n",
      "unique drugs: 68\n",
      "encoding protein...\n",
      "unique target sequence: 379\n",
      "splitting dataset...\n",
      "Done.\n"
     ]
    }
   ],
   "source": [
    "train, val, test = utils.data_process(X_drug, X_target, y, \n",
    "                                drug_encoding, target_encoding, \n",
    "                                split_method = 'random', frac = [0.8,0.1,0.1])"
   ]
  },
  {
   "cell_type": "code",
   "execution_count": 6,
   "metadata": {},
   "outputs": [],
   "source": [
    "config = utils.generate_config(drug_encoding = drug_encoding, \n",
    "                         target_encoding = target_encoding, \n",
    "                         cls_hidden_dims = [1024,1024,512], \n",
    "                         train_epoch = 20, \n",
    "                         LR = 0.0008, \n",
    "                         batch_size = 256,\n",
    "                         cnn_drug_filters = [32,64,96],\n",
    "                         cnn_target_filters = [32,64,96],\n",
    "                         cnn_drug_kernels = [4,6,8],\n",
    "                         cnn_target_kernels = [4,8,12])"
   ]
  },
  {
   "cell_type": "code",
   "execution_count": 7,
   "metadata": {},
   "outputs": [],
   "source": [
    "model = DTI.model_initialize(**config)"
   ]
  },
  {
   "cell_type": "code",
   "execution_count": null,
   "metadata": {},
   "outputs": [
    {
     "name": "stdout",
     "output_type": "stream",
     "text": [
      "Let's use 1 GPU!\n",
      "--- Data Preparation ---\n",
      "--- Go for Training ---\n",
      "Training at Epoch 1 iteration 0 with loss 29.4895. Total time 0.00027 hours\n",
      "Validation at Epoch 1 with loss:0.54298, MSE: 0.70455 , Pearson Correlation: 0.39057 with p-value: 3.99041 , Concordance Index: 0.74611\n",
      "Training at Epoch 2 iteration 0 with loss 0.71309. Total time 0.02666 hours\n",
      "Validation at Epoch 2 with loss:0.63505, MSE: 0.58605 , Pearson Correlation: 0.52018 with p-value: 4.26751 , Concordance Index: 0.77921\n",
      "Training at Epoch 3 iteration 0 with loss 0.68010. Total time 0.05861 hours\n",
      "Validation at Epoch 3 with loss:0.58516, MSE: 0.52946 , Pearson Correlation: 0.56749 with p-value: 7.38786 , Concordance Index: 0.79460\n",
      "Training at Epoch 4 iteration 0 with loss 0.97474. Total time 0.09305 hours\n",
      "Validation at Epoch 4 with loss:0.58127, MSE: 0.51065 , Pearson Correlation: 0.58785 with p-value: 6.51753 , Concordance Index: 0.80102\n",
      "Training at Epoch 5 iteration 0 with loss 0.57331. Total time 0.12055 hours\n",
      "Validation at Epoch 5 with loss:0.35469, MSE: 0.49794 , Pearson Correlation: 0.60296 with p-value: 4.21320 , Concordance Index: 0.80599\n",
      "Training at Epoch 6 iteration 0 with loss 0.69775. Total time 0.14805 hours\n",
      "Validation at Epoch 6 with loss:0.59347, MSE: 0.49081 , Pearson Correlation: 0.61775 with p-value: 6.83101 , Concordance Index: 0.80624\n",
      "Training at Epoch 7 iteration 0 with loss 0.54571. Total time 0.175 hours\n",
      "Validation at Epoch 7 with loss:0.47354, MSE: 0.51263 , Pearson Correlation: 0.64385 with p-value: 0.0 , Concordance Index: 0.81493\n",
      "Training at Epoch 8 iteration 0 with loss 0.70950. Total time 0.20194 hours\n",
      "Validation at Epoch 8 with loss:0.60039, MSE: 0.45698 , Pearson Correlation: 0.65523 with p-value: 0.0 , Concordance Index: 0.82275\n",
      "Training at Epoch 9 iteration 0 with loss 0.42979. Total time 0.22972 hours\n"
     ]
    }
   ],
   "source": [
    "model.train(train, val, test)"
   ]
  },
  {
   "cell_type": "code",
   "execution_count": null,
   "metadata": {},
   "outputs": [],
   "source": [
    "model.save_model('./save_model/model_CNN_CNN_Davis')"
   ]
  }
 ],
 "metadata": {
  "kernelspec": {
   "display_name": "Python 3",
   "language": "python",
   "name": "python3"
  },
  "language_info": {
   "codemirror_mode": {
    "name": "ipython",
    "version": 3
   },
   "file_extension": ".py",
   "mimetype": "text/x-python",
   "name": "python",
   "nbconvert_exporter": "python",
   "pygments_lexer": "ipython3",
   "version": "3.6.5"
  }
 },
 "nbformat": 4,
 "nbformat_minor": 4
}

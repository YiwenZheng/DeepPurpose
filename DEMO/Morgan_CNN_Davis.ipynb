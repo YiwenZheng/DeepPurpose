{
 "cells": [
  {
   "cell_type": "code",
   "execution_count": 1,
   "metadata": {},
   "outputs": [],
   "source": [
    "import os\n",
    "os.chdir(\"/y/home/zyw/tmp/DeepPurpose/\")"
   ]
  },
  {
   "cell_type": "code",
   "execution_count": 9,
   "metadata": {},
   "outputs": [],
   "source": [
    "from scripts import utils,dataset,DTI"
   ]
  },
  {
   "cell_type": "code",
   "execution_count": 3,
   "metadata": {},
   "outputs": [
    {
     "name": "stdout",
     "output_type": "stream",
     "text": [
      "Beginning Processing...\n",
      "Default set to logspace (nM -> p) for easier regression\n",
      "Done!\n"
     ]
    }
   ],
   "source": [
    "X_drug, X_target, y = dataset.load_process_DAVIS('./data/', binary=False)"
   ]
  },
  {
   "cell_type": "code",
   "execution_count": 4,
   "metadata": {},
   "outputs": [],
   "source": [
    "drug_encoding = 'Morgan'\n",
    "target_encoding = 'CNN'"
   ]
  },
  {
   "cell_type": "code",
   "execution_count": 5,
   "metadata": {},
   "outputs": [
    {
     "name": "stdout",
     "output_type": "stream",
     "text": [
      "Drug Target Interaction Prediction Mode...\n",
      "in total: 30056 drug-target pairs\n",
      "encoding drug...\n",
      "unique drugs: 68\n",
      "encoding protein...\n",
      "unique target sequence: 379\n",
      "splitting dataset...\n",
      "Done.\n"
     ]
    }
   ],
   "source": [
    "train, val, test = utils.data_process(X_drug, X_target, y, \n",
    "                                drug_encoding, target_encoding, \n",
    "                                split_method = 'random', frac = [0.7,0.1,0.2], random_seed = 1)"
   ]
  },
  {
   "cell_type": "code",
   "execution_count": 6,
   "metadata": {},
   "outputs": [],
   "source": [
    "config = utils.generate_config(drug_encoding = drug_encoding, \n",
    "                         target_encoding = target_encoding, \n",
    "                         cls_hidden_dims = [1024,1024,512], \n",
    "                         train_epoch = 100, \n",
    "                         LR = 0.001, \n",
    "                         batch_size = 256,\n",
    "                         cnn_target_filters = [32,64,96],\n",
    "                         cnn_target_kernels = [4,8,12])"
   ]
  },
  {
   "cell_type": "code",
   "execution_count": 7,
   "metadata": {},
   "outputs": [],
   "source": [
    "model = DTI.model_initialize(**config)"
   ]
  },
  {
   "cell_type": "code",
   "execution_count": 8,
   "metadata": {
    "scrolled": true
   },
   "outputs": [
    {
     "name": "stdout",
     "output_type": "stream",
     "text": [
      "Let's use 1 GPU!\n",
      "--- Data Preparation ---\n",
      "--- Go for Training ---\n",
      "Training at Epoch 1 iteration 0 with loss 29.5772. Total time 0.00027 hours\n",
      "Validation at Epoch 1 with loss:0.61984, MSE: 0.64104 , Pearson Correlation: 0.46699 with p-value: 1.05037 , Concordance Index: 0.76022\n",
      "Training at Epoch 2 iteration 0 with loss 0.85355. Total time 0.02611 hours\n",
      "Validation at Epoch 2 with loss:0.56762, MSE: 0.67678 , Pearson Correlation: 0.51402 with p-value: 2.01010 , Concordance Index: 0.77554\n",
      "Training at Epoch 3 iteration 0 with loss 0.61859. Total time 0.055 hours\n",
      "Validation at Epoch 3 with loss:0.65787, MSE: 0.58688 , Pearson Correlation: 0.56183 with p-value: 9.84609 , Concordance Index: 0.78963\n",
      "Training at Epoch 4 iteration 0 with loss 0.52977. Total time 0.08444 hours\n",
      "Validation at Epoch 4 with loss:0.67572, MSE: 0.56019 , Pearson Correlation: 0.57974 with p-value: 1.55375 , Concordance Index: 0.79616\n",
      "Training at Epoch 5 iteration 0 with loss 0.37932. Total time 0.11416 hours\n",
      "Validation at Epoch 5 with loss:0.58722, MSE: 0.52268 , Pearson Correlation: 0.60071 with p-value: 2.42568 , Concordance Index: 0.80031\n",
      "Training at Epoch 6 iteration 0 with loss 0.56550. Total time 0.14444 hours\n",
      "Validation at Epoch 6 with loss:0.58593, MSE: 0.53005 , Pearson Correlation: 0.61915 with p-value: 1.02753 , Concordance Index: 0.80398\n",
      "Training at Epoch 7 iteration 0 with loss 0.59478. Total time 0.17166 hours\n",
      "Validation at Epoch 7 with loss:0.45429, MSE: 0.49344 , Pearson Correlation: 0.63267 with p-value: 0.0 , Concordance Index: 0.81143\n",
      "Training at Epoch 8 iteration 0 with loss 0.52137. Total time 0.19777 hours\n",
      "Validation at Epoch 8 with loss:0.49288, MSE: 0.47575 , Pearson Correlation: 0.65056 with p-value: 0.0 , Concordance Index: 0.81847\n",
      "Training at Epoch 9 iteration 0 with loss 0.47297. Total time 0.22722 hours\n",
      "Validation at Epoch 9 with loss:0.73059, MSE: 0.55794 , Pearson Correlation: 0.65564 with p-value: 0.0 , Concordance Index: 0.82412\n",
      "Training at Epoch 10 iteration 0 with loss 0.55130. Total time 0.25777 hours\n",
      "Validation at Epoch 10 with loss:0.43072, MSE: 0.46075 , Pearson Correlation: 0.66060 with p-value: 0.0 , Concordance Index: 0.82191\n",
      "Training at Epoch 11 iteration 0 with loss 0.38432. Total time 0.28694 hours\n",
      "Validation at Epoch 11 with loss:0.72313, MSE: 0.44372 , Pearson Correlation: 0.67671 with p-value: 0.0 , Concordance Index: 0.83383\n",
      "Training at Epoch 12 iteration 0 with loss 0.50876. Total time 0.31444 hours\n",
      "Validation at Epoch 12 with loss:0.52154, MSE: 0.50461 , Pearson Correlation: 0.66590 with p-value: 0.0 , Concordance Index: 0.81894\n",
      "Training at Epoch 13 iteration 0 with loss 0.59032. Total time 0.34472 hours\n",
      "Validation at Epoch 13 with loss:0.55192, MSE: 0.57282 , Pearson Correlation: 0.67071 with p-value: 0.0 , Concordance Index: 0.82799\n",
      "Training at Epoch 14 iteration 0 with loss 0.68352. Total time 0.36916 hours\n",
      "Validation at Epoch 14 with loss:0.37011, MSE: 0.44856 , Pearson Correlation: 0.68067 with p-value: 0.0 , Concordance Index: 0.83231\n",
      "Training at Epoch 15 iteration 0 with loss 0.52466. Total time 0.39944 hours\n",
      "Validation at Epoch 15 with loss:0.50939, MSE: 0.57830 , Pearson Correlation: 0.67948 with p-value: 0.0 , Concordance Index: 0.83591\n",
      "Training at Epoch 16 iteration 0 with loss 0.68872. Total time 0.42638 hours\n",
      "Validation at Epoch 16 with loss:0.36445, MSE: 0.47349 , Pearson Correlation: 0.67824 with p-value: 0.0 , Concordance Index: 0.83106\n",
      "Training at Epoch 17 iteration 0 with loss 0.57571. Total time 0.45666 hours\n",
      "Validation at Epoch 17 with loss:0.24747, MSE: 0.42232 , Pearson Correlation: 0.70204 with p-value: 0.0 , Concordance Index: 0.83330\n",
      "Training at Epoch 18 iteration 0 with loss 0.37179. Total time 0.48694 hours\n",
      "Validation at Epoch 18 with loss:0.38338, MSE: 0.43911 , Pearson Correlation: 0.70694 with p-value: 0.0 , Concordance Index: 0.83789\n",
      "Training at Epoch 19 iteration 0 with loss 0.48222. Total time 0.51611 hours\n",
      "Validation at Epoch 19 with loss:0.37329, MSE: 0.38720 , Pearson Correlation: 0.73399 with p-value: 0.0 , Concordance Index: 0.84307\n",
      "Training at Epoch 20 iteration 0 with loss 0.35869. Total time 0.54083 hours\n",
      "Validation at Epoch 20 with loss:0.32062, MSE: 0.38545 , Pearson Correlation: 0.73021 with p-value: 0.0 , Concordance Index: 0.84126\n",
      "Training at Epoch 21 iteration 0 with loss 0.38421. Total time 0.56805 hours\n",
      "Validation at Epoch 21 with loss:0.43415, MSE: 0.37378 , Pearson Correlation: 0.73617 with p-value: 0.0 , Concordance Index: 0.84202\n",
      "Training at Epoch 22 iteration 0 with loss 0.36442. Total time 0.59805 hours\n",
      "Validation at Epoch 22 with loss:0.59821, MSE: 0.40501 , Pearson Correlation: 0.73198 with p-value: 0.0 , Concordance Index: 0.83556\n",
      "Training at Epoch 23 iteration 0 with loss 0.49244. Total time 0.62777 hours\n",
      "Validation at Epoch 23 with loss:0.58241, MSE: 0.37510 , Pearson Correlation: 0.73717 with p-value: 0.0 , Concordance Index: 0.83746\n",
      "Training at Epoch 24 iteration 0 with loss 0.42788. Total time 0.65777 hours\n",
      "Validation at Epoch 24 with loss:0.29946, MSE: 0.35787 , Pearson Correlation: 0.75157 with p-value: 0.0 , Concordance Index: 0.85002\n",
      "Training at Epoch 25 iteration 0 with loss 0.53003. Total time 0.68527 hours\n",
      "Validation at Epoch 25 with loss:0.46890, MSE: 0.34503 , Pearson Correlation: 0.76407 with p-value: 0.0 , Concordance Index: 0.84011\n",
      "Training at Epoch 26 iteration 0 with loss 0.34276. Total time 0.71111 hours\n",
      "Validation at Epoch 26 with loss:0.44934, MSE: 0.39530 , Pearson Correlation: 0.75714 with p-value: 0.0 , Concordance Index: 0.84497\n",
      "Training at Epoch 27 iteration 0 with loss 0.35785. Total time 0.74027 hours\n",
      "Validation at Epoch 27 with loss:0.36579, MSE: 0.43696 , Pearson Correlation: 0.77642 with p-value: 0.0 , Concordance Index: 0.85546\n",
      "Training at Epoch 28 iteration 0 with loss 0.44427. Total time 0.76944 hours\n",
      "Validation at Epoch 28 with loss:0.32983, MSE: 0.43895 , Pearson Correlation: 0.76895 with p-value: 0.0 , Concordance Index: 0.84869\n",
      "Training at Epoch 29 iteration 0 with loss 0.39492. Total time 0.79972 hours\n",
      "Validation at Epoch 29 with loss:0.26612, MSE: 0.34043 , Pearson Correlation: 0.76750 with p-value: 0.0 , Concordance Index: 0.85382\n",
      "Training at Epoch 30 iteration 0 with loss 0.29448. Total time 0.82611 hours\n",
      "Validation at Epoch 30 with loss:0.30862, MSE: 0.32732 , Pearson Correlation: 0.77934 with p-value: 0.0 , Concordance Index: 0.85382\n",
      "Training at Epoch 31 iteration 0 with loss 0.40526. Total time 0.85555 hours\n",
      "Validation at Epoch 31 with loss:0.46586, MSE: 0.45090 , Pearson Correlation: 0.78292 with p-value: 0.0 , Concordance Index: 0.85878\n",
      "Training at Epoch 32 iteration 0 with loss 0.45696. Total time 0.88305 hours\n",
      "Validation at Epoch 32 with loss:0.43639, MSE: 0.31205 , Pearson Correlation: 0.78673 with p-value: 0.0 , Concordance Index: 0.85447\n",
      "Training at Epoch 33 iteration 0 with loss 0.40317. Total time 0.91027 hours\n",
      "Validation at Epoch 33 with loss:0.28823, MSE: 0.31400 , Pearson Correlation: 0.79076 with p-value: 0.0 , Concordance Index: 0.86667\n",
      "Training at Epoch 34 iteration 0 with loss 0.29353. Total time 0.93888 hours\n",
      "Validation at Epoch 34 with loss:0.47247, MSE: 0.36170 , Pearson Correlation: 0.78232 with p-value: 0.0 , Concordance Index: 0.85914\n",
      "Training at Epoch 35 iteration 0 with loss 0.32102. Total time 0.9675 hours\n",
      "Validation at Epoch 35 with loss:0.31542, MSE: 0.33097 , Pearson Correlation: 0.78474 with p-value: 0.0 , Concordance Index: 0.85914\n",
      "Training at Epoch 36 iteration 0 with loss 0.25472. Total time 0.99666 hours\n",
      "Validation at Epoch 36 with loss:0.31108, MSE: 0.33574 , Pearson Correlation: 0.79103 with p-value: 0.0 , Concordance Index: 0.86562\n",
      "Training at Epoch 37 iteration 0 with loss 0.35707. Total time 1.02611 hours\n",
      "Validation at Epoch 37 with loss:0.46951, MSE: 0.44443 , Pearson Correlation: 0.77329 with p-value: 0.0 , Concordance Index: 0.85563\n",
      "Training at Epoch 38 iteration 0 with loss 0.29349. Total time 1.05444 hours\n",
      "Validation at Epoch 38 with loss:0.39525, MSE: 0.30735 , Pearson Correlation: 0.80117 with p-value: 0.0 , Concordance Index: 0.87163\n",
      "Training at Epoch 39 iteration 0 with loss 0.39974. Total time 1.07944 hours\n",
      "Validation at Epoch 39 with loss:0.18937, MSE: 0.31527 , Pearson Correlation: 0.79485 with p-value: 0.0 , Concordance Index: 0.86918\n"
     ]
    },
    {
     "name": "stdout",
     "output_type": "stream",
     "text": [
      "Training at Epoch 40 iteration 0 with loss 0.24394. Total time 1.10861 hours\n",
      "Validation at Epoch 40 with loss:0.34532, MSE: 0.32113 , Pearson Correlation: 0.79486 with p-value: 0.0 , Concordance Index: 0.87698\n",
      "Training at Epoch 41 iteration 0 with loss 0.27846. Total time 1.13861 hours\n",
      "Validation at Epoch 41 with loss:0.18135, MSE: 0.30275 , Pearson Correlation: 0.79726 with p-value: 0.0 , Concordance Index: 0.86874\n",
      "Training at Epoch 42 iteration 0 with loss 0.22662. Total time 1.16777 hours\n",
      "Validation at Epoch 42 with loss:0.36873, MSE: 0.37522 , Pearson Correlation: 0.79963 with p-value: 0.0 , Concordance Index: 0.86668\n",
      "Training at Epoch 43 iteration 0 with loss 0.41753. Total time 1.19666 hours\n",
      "Validation at Epoch 43 with loss:0.21107, MSE: 0.28169 , Pearson Correlation: 0.80870 with p-value: 0.0 , Concordance Index: 0.87172\n",
      "Training at Epoch 44 iteration 0 with loss 0.23049. Total time 1.22472 hours\n",
      "Validation at Epoch 44 with loss:0.34255, MSE: 0.34390 , Pearson Correlation: 0.79422 with p-value: 0.0 , Concordance Index: 0.86203\n",
      "Training at Epoch 45 iteration 0 with loss 0.35012. Total time 1.25 hours\n",
      "Validation at Epoch 45 with loss:0.32035, MSE: 0.29895 , Pearson Correlation: 0.80271 with p-value: 0.0 , Concordance Index: 0.87081\n",
      "Training at Epoch 46 iteration 0 with loss 0.25484. Total time 1.27972 hours\n",
      "Validation at Epoch 46 with loss:0.40050, MSE: 0.35396 , Pearson Correlation: 0.79665 with p-value: 0.0 , Concordance Index: 0.87231\n",
      "Training at Epoch 47 iteration 0 with loss 0.32511. Total time 1.30916 hours\n",
      "Validation at Epoch 47 with loss:0.31604, MSE: 0.30117 , Pearson Correlation: 0.79440 with p-value: 0.0 , Concordance Index: 0.86101\n",
      "Training at Epoch 48 iteration 0 with loss 0.25712. Total time 1.33694 hours\n",
      "Validation at Epoch 48 with loss:0.25990, MSE: 0.29650 , Pearson Correlation: 0.80008 with p-value: 0.0 , Concordance Index: 0.86780\n",
      "Training at Epoch 49 iteration 0 with loss 0.36797. Total time 1.36694 hours\n",
      "Validation at Epoch 49 with loss:0.33758, MSE: 0.30288 , Pearson Correlation: 0.79448 with p-value: 0.0 , Concordance Index: 0.87211\n",
      "Training at Epoch 50 iteration 0 with loss 0.27207. Total time 1.39583 hours\n",
      "Validation at Epoch 50 with loss:0.36592, MSE: 0.28906 , Pearson Correlation: 0.81200 with p-value: 0.0 , Concordance Index: 0.86951\n",
      "Training at Epoch 51 iteration 0 with loss 0.20594. Total time 1.42055 hours\n",
      "Validation at Epoch 51 with loss:0.37075, MSE: 0.42189 , Pearson Correlation: 0.79952 with p-value: 0.0 , Concordance Index: 0.86816\n",
      "Training at Epoch 52 iteration 0 with loss 0.36059. Total time 1.45 hours\n",
      "Validation at Epoch 52 with loss:0.36429, MSE: 0.28102 , Pearson Correlation: 0.81183 with p-value: 0.0 , Concordance Index: 0.87053\n",
      "Training at Epoch 53 iteration 0 with loss 0.27185. Total time 1.47722 hours\n",
      "Validation at Epoch 53 with loss:0.35427, MSE: 0.30843 , Pearson Correlation: 0.81169 with p-value: 0.0 , Concordance Index: 0.87604\n",
      "Training at Epoch 54 iteration 0 with loss 0.24662. Total time 1.50666 hours\n",
      "Validation at Epoch 54 with loss:0.44254, MSE: 0.30481 , Pearson Correlation: 0.80947 with p-value: 0.0 , Concordance Index: 0.87220\n",
      "Training at Epoch 55 iteration 0 with loss 0.17667. Total time 1.53611 hours\n",
      "Validation at Epoch 55 with loss:0.29459, MSE: 0.27806 , Pearson Correlation: 0.81514 with p-value: 0.0 , Concordance Index: 0.88131\n",
      "Training at Epoch 56 iteration 0 with loss 0.19342. Total time 1.56611 hours\n",
      "Validation at Epoch 56 with loss:0.29519, MSE: 0.28476 , Pearson Correlation: 0.80687 with p-value: 0.0 , Concordance Index: 0.86817\n",
      "Training at Epoch 57 iteration 0 with loss 0.23776. Total time 1.59166 hours\n",
      "Validation at Epoch 57 with loss:0.24145, MSE: 0.27115 , Pearson Correlation: 0.82096 with p-value: 0.0 , Concordance Index: 0.88387\n",
      "Training at Epoch 58 iteration 0 with loss 0.15702. Total time 1.62 hours\n",
      "Validation at Epoch 58 with loss:0.25860, MSE: 0.26258 , Pearson Correlation: 0.82616 with p-value: 0.0 , Concordance Index: 0.88320\n",
      "Training at Epoch 59 iteration 0 with loss 0.21686. Total time 1.64916 hours\n",
      "Validation at Epoch 59 with loss:0.29763, MSE: 0.27190 , Pearson Correlation: 0.82261 with p-value: 0.0 , Concordance Index: 0.88497\n",
      "Training at Epoch 60 iteration 0 with loss 0.20364. Total time 1.67888 hours\n",
      "Validation at Epoch 60 with loss:0.17800, MSE: 0.26366 , Pearson Correlation: 0.82332 with p-value: 0.0 , Concordance Index: 0.87838\n",
      "Training at Epoch 61 iteration 0 with loss 0.18333. Total time 1.70861 hours\n",
      "Validation at Epoch 61 with loss:0.27763, MSE: 0.28034 , Pearson Correlation: 0.81588 with p-value: 0.0 , Concordance Index: 0.88015\n",
      "Training at Epoch 62 iteration 0 with loss 0.15784. Total time 1.73583 hours\n",
      "Validation at Epoch 62 with loss:0.25282, MSE: 0.26094 , Pearson Correlation: 0.82475 with p-value: 0.0 , Concordance Index: 0.87830\n",
      "Training at Epoch 63 iteration 0 with loss 0.21249. Total time 1.76277 hours\n",
      "Validation at Epoch 63 with loss:0.19913, MSE: 0.26455 , Pearson Correlation: 0.82161 with p-value: 0.0 , Concordance Index: 0.88474\n",
      "Training at Epoch 64 iteration 0 with loss 0.18501. Total time 1.79055 hours\n",
      "Validation at Epoch 64 with loss:0.25009, MSE: 0.28366 , Pearson Correlation: 0.82388 with p-value: 0.0 , Concordance Index: 0.88677\n",
      "Training at Epoch 65 iteration 0 with loss 0.19555. Total time 1.82 hours\n",
      "Validation at Epoch 65 with loss:0.22332, MSE: 0.27920 , Pearson Correlation: 0.81708 with p-value: 0.0 , Concordance Index: 0.87836\n",
      "Training at Epoch 66 iteration 0 with loss 0.18977. Total time 1.84916 hours\n",
      "Validation at Epoch 66 with loss:0.32471, MSE: 0.26532 , Pearson Correlation: 0.82528 with p-value: 0.0 , Concordance Index: 0.87499\n",
      "Training at Epoch 67 iteration 0 with loss 0.13869. Total time 1.87666 hours\n",
      "Validation at Epoch 67 with loss:0.28431, MSE: 0.26275 , Pearson Correlation: 0.82564 with p-value: 0.0 , Concordance Index: 0.88015\n",
      "Training at Epoch 68 iteration 0 with loss 0.27178. Total time 1.90638 hours\n",
      "Validation at Epoch 68 with loss:0.21422, MSE: 0.25516 , Pearson Correlation: 0.83095 with p-value: 0.0 , Concordance Index: 0.89038\n",
      "Training at Epoch 69 iteration 0 with loss 0.15749. Total time 1.93444 hours\n",
      "Validation at Epoch 69 with loss:0.25574, MSE: 0.26284 , Pearson Correlation: 0.82294 with p-value: 0.0 , Concordance Index: 0.88163\n",
      "Training at Epoch 70 iteration 0 with loss 0.15445. Total time 1.96111 hours\n",
      "Validation at Epoch 70 with loss:0.33394, MSE: 0.32886 , Pearson Correlation: 0.82714 with p-value: 0.0 , Concordance Index: 0.88659\n",
      "Training at Epoch 71 iteration 0 with loss 0.21939. Total time 1.98833 hours\n",
      "Validation at Epoch 71 with loss:0.29229, MSE: 0.26377 , Pearson Correlation: 0.82620 with p-value: 0.0 , Concordance Index: 0.88741\n",
      "Training at Epoch 72 iteration 0 with loss 0.17344. Total time 2.01861 hours\n",
      "Validation at Epoch 72 with loss:0.43635, MSE: 0.26439 , Pearson Correlation: 0.82583 with p-value: 0.0 , Concordance Index: 0.87974\n",
      "Training at Epoch 73 iteration 0 with loss 0.15642. Total time 2.04777 hours\n",
      "Validation at Epoch 73 with loss:0.19314, MSE: 0.26341 , Pearson Correlation: 0.83070 with p-value: 0.0 , Concordance Index: 0.88622\n",
      "Training at Epoch 74 iteration 0 with loss 0.13327. Total time 2.07722 hours\n",
      "Validation at Epoch 74 with loss:0.31977, MSE: 0.24752 , Pearson Correlation: 0.83741 with p-value: 0.0 , Concordance Index: 0.89483\n",
      "Training at Epoch 75 iteration 0 with loss 0.14479. Total time 2.10611 hours\n",
      "Validation at Epoch 75 with loss:0.22889, MSE: 0.24869 , Pearson Correlation: 0.83459 with p-value: 0.0 , Concordance Index: 0.88608\n",
      "Training at Epoch 76 iteration 0 with loss 0.18107. Total time 2.13138 hours\n",
      "Validation at Epoch 76 with loss:0.26677, MSE: 0.25828 , Pearson Correlation: 0.83522 with p-value: 0.0 , Concordance Index: 0.88675\n",
      "Training at Epoch 77 iteration 0 with loss 0.17230. Total time 2.16138 hours\n",
      "Validation at Epoch 77 with loss:0.29317, MSE: 0.25427 , Pearson Correlation: 0.83403 with p-value: 0.0 , Concordance Index: 0.88459\n",
      "Training at Epoch 78 iteration 0 with loss 0.12911. Total time 2.19055 hours\n",
      "Validation at Epoch 78 with loss:0.32274, MSE: 0.25128 , Pearson Correlation: 0.83365 with p-value: 0.0 , Concordance Index: 0.88219\n",
      "Training at Epoch 79 iteration 0 with loss 0.11317. Total time 2.22027 hours\n"
     ]
    },
    {
     "name": "stdout",
     "output_type": "stream",
     "text": [
      "Validation at Epoch 79 with loss:0.20038, MSE: 0.24204 , Pearson Correlation: 0.83847 with p-value: 0.0 , Concordance Index: 0.88878\n",
      "Training at Epoch 80 iteration 0 with loss 0.17624. Total time 2.24861 hours\n",
      "Validation at Epoch 80 with loss:0.23759, MSE: 0.24714 , Pearson Correlation: 0.83514 with p-value: 0.0 , Concordance Index: 0.88558\n",
      "Training at Epoch 81 iteration 0 with loss 0.15471. Total time 2.27777 hours\n",
      "Validation at Epoch 81 with loss:0.23001, MSE: 0.26212 , Pearson Correlation: 0.83754 with p-value: 0.0 , Concordance Index: 0.89090\n",
      "Training at Epoch 82 iteration 0 with loss 0.14453. Total time 2.3025 hours\n",
      "Validation at Epoch 82 with loss:0.26666, MSE: 0.23368 , Pearson Correlation: 0.84562 with p-value: 0.0 , Concordance Index: 0.89439\n",
      "Training at Epoch 83 iteration 0 with loss 0.11473. Total time 2.33222 hours\n",
      "Validation at Epoch 83 with loss:0.21050, MSE: 0.23985 , Pearson Correlation: 0.84189 with p-value: 0.0 , Concordance Index: 0.89141\n",
      "Training at Epoch 84 iteration 0 with loss 0.13691. Total time 2.36166 hours\n",
      "Validation at Epoch 84 with loss:0.24391, MSE: 0.24312 , Pearson Correlation: 0.84228 with p-value: 0.0 , Concordance Index: 0.88643\n",
      "Training at Epoch 85 iteration 0 with loss 0.11377. Total time 2.38861 hours\n",
      "Validation at Epoch 85 with loss:0.17774, MSE: 0.24696 , Pearson Correlation: 0.83584 with p-value: 0.0 , Concordance Index: 0.89399\n",
      "Training at Epoch 86 iteration 0 with loss 0.11294. Total time 2.41777 hours\n",
      "Validation at Epoch 86 with loss:0.21388, MSE: 0.24686 , Pearson Correlation: 0.83684 with p-value: 0.0 , Concordance Index: 0.89109\n",
      "Training at Epoch 87 iteration 0 with loss 0.11561. Total time 2.4475 hours\n",
      "Validation at Epoch 87 with loss:0.12631, MSE: 0.24730 , Pearson Correlation: 0.84121 with p-value: 0.0 , Concordance Index: 0.88627\n",
      "Training at Epoch 88 iteration 0 with loss 0.14963. Total time 2.47333 hours\n",
      "Validation at Epoch 88 with loss:0.31399, MSE: 0.26024 , Pearson Correlation: 0.83306 with p-value: 0.0 , Concordance Index: 0.88297\n",
      "Training at Epoch 89 iteration 0 with loss 0.15187. Total time 2.5025 hours\n",
      "Validation at Epoch 89 with loss:0.19334, MSE: 0.23157 , Pearson Correlation: 0.84595 with p-value: 0.0 , Concordance Index: 0.89245\n",
      "Training at Epoch 90 iteration 0 with loss 0.14640. Total time 2.53111 hours\n",
      "Validation at Epoch 90 with loss:0.19044, MSE: 0.23851 , Pearson Correlation: 0.84098 with p-value: 0.0 , Concordance Index: 0.88918\n",
      "Training at Epoch 91 iteration 0 with loss 0.15357. Total time 2.56083 hours\n",
      "Validation at Epoch 91 with loss:0.18416, MSE: 0.24637 , Pearson Correlation: 0.84423 with p-value: 0.0 , Concordance Index: 0.89098\n",
      "Training at Epoch 92 iteration 0 with loss 0.13211. Total time 2.59027 hours\n",
      "Validation at Epoch 92 with loss:0.20557, MSE: 0.25589 , Pearson Correlation: 0.83974 with p-value: 0.0 , Concordance Index: 0.88753\n",
      "Training at Epoch 93 iteration 0 with loss 0.12760. Total time 2.61944 hours\n",
      "Validation at Epoch 93 with loss:0.24442, MSE: 0.22790 , Pearson Correlation: 0.85068 with p-value: 0.0 , Concordance Index: 0.89490\n",
      "Training at Epoch 94 iteration 0 with loss 0.12781. Total time 2.64805 hours\n",
      "Validation at Epoch 94 with loss:0.28264, MSE: 0.22709 , Pearson Correlation: 0.84938 with p-value: 0.0 , Concordance Index: 0.89008\n",
      "Training at Epoch 95 iteration 0 with loss 0.10439. Total time 2.68055 hours\n",
      "Validation at Epoch 95 with loss:0.34439, MSE: 0.30766 , Pearson Correlation: 0.84508 with p-value: 0.0 , Concordance Index: 0.88244\n",
      "Training at Epoch 96 iteration 0 with loss 0.15823. Total time 2.71361 hours\n",
      "Validation at Epoch 96 with loss:0.14666, MSE: 0.23611 , Pearson Correlation: 0.84668 with p-value: 0.0 , Concordance Index: 0.89135\n",
      "Training at Epoch 97 iteration 0 with loss 0.11691. Total time 2.74694 hours\n",
      "Validation at Epoch 97 with loss:0.24097, MSE: 0.23473 , Pearson Correlation: 0.85024 with p-value: 0.0 , Concordance Index: 0.88923\n",
      "Training at Epoch 98 iteration 0 with loss 0.12851. Total time 2.77805 hours\n",
      "Validation at Epoch 98 with loss:0.19675, MSE: 0.25537 , Pearson Correlation: 0.83941 with p-value: 0.0 , Concordance Index: 0.88635\n",
      "Training at Epoch 99 iteration 0 with loss 0.08823. Total time 2.80611 hours\n",
      "Validation at Epoch 99 with loss:0.19797, MSE: 0.24462 , Pearson Correlation: 0.85011 with p-value: 0.0 , Concordance Index: 0.89564\n",
      "Training at Epoch 100 iteration 0 with loss 0.11622. Total time 2.83583 hours\n",
      "Validation at Epoch 100 with loss:0.24415, MSE: 0.23905 , Pearson Correlation: 0.84943 with p-value: 0.0 , Concordance Index: 0.89208\n",
      "--- Go for Testing ---\n",
      "Testing MSE: 0.23221377233613572 , Pearson Correlation: 0.8456392792022317 with p-value: 0.0 , Concordance Index: 0.8824110748377204\n",
      "--- Training Finished ---\n"
     ]
    },
    {
     "data": {
      "image/png": "[encoded data removed]",
      "text/plain": [
       "<Figure size 432x288 with 1 Axes>"
      ]
     },
     "metadata": {
      "needs_background": "light"
     },
     "output_type": "display_data"
    }
   ],
   "source": [
    "model.train(train, val, test)"
   ]
  },
  {
   "cell_type": "code",
   "execution_count": 10,
   "metadata": {},
   "outputs": [],
   "source": [
    "model.save_model('./save_model/model_Morgan_CNN_Davis')"
   ]
  },
  {
   "cell_type": "code",
   "execution_count": null,
   "metadata": {},
   "outputs": [],
   "source": []
  }
 ],
 "metadata": {
  "kernelspec": {
   "display_name": "Python 3",
   "language": "python",
   "name": "python3"
  },
  "language_info": {
   "codemirror_mode": {
    "name": "ipython",
    "version": 3
   },
   "file_extension": ".py",
   "mimetype": "text/x-python",
   "name": "python",
   "nbconvert_exporter": "python",
   "pygments_lexer": "ipython3",
   "version": "3.6.5"
  }
 },
 "nbformat": 4,
 "nbformat_minor": 4
}

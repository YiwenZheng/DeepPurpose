{
 "cells": [
  {
   "cell_type": "code",
   "execution_count": 1,
   "metadata": {},
   "outputs": [],
   "source": [
    "import os\n",
    "os.chdir(\"/y/home/zyw/tmp/DeepPurpose/\")"
   ]
  },
  {
   "cell_type": "code",
   "execution_count": 2,
   "metadata": {},
   "outputs": [
    {
     "name": "stderr",
     "output_type": "stream",
     "text": [
      "WARNING:root:No normalization for BCUT2D_MWHI\n",
      "WARNING:root:No normalization for BCUT2D_MWLOW\n",
      "WARNING:root:No normalization for BCUT2D_CHGHI\n",
      "WARNING:root:No normalization for BCUT2D_CHGLO\n",
      "WARNING:root:No normalization for BCUT2D_LOGPHI\n",
      "WARNING:root:No normalization for BCUT2D_LOGPLOW\n",
      "WARNING:root:No normalization for BCUT2D_MRHI\n",
      "WARNING:root:No normalization for BCUT2D_MRLOW\n"
     ]
    }
   ],
   "source": [
    "from scripts import utils,dataset,DTI"
   ]
  },
  {
   "cell_type": "code",
   "execution_count": 3,
   "metadata": {},
   "outputs": [
    {
     "name": "stdout",
     "output_type": "stream",
     "text": [
      "Beginning Processing...\n",
      "Done!\n"
     ]
    }
   ],
   "source": [
    "X_drug, X_target, y = dataset.load_process_KIBA('./data/', binary=False)"
   ]
  },
  {
   "cell_type": "code",
   "execution_count": 4,
   "metadata": {},
   "outputs": [],
   "source": [
    "drug_encoding = 'Morgan'\n",
    "target_encoding = 'AAC'"
   ]
  },
  {
   "cell_type": "code",
   "execution_count": 6,
   "metadata": {},
   "outputs": [
    {
     "name": "stdout",
     "output_type": "stream",
     "text": [
      "Drug Target Interaction Prediction Mode...\n",
      "in total: 118254 drug-target pairs\n",
      "encoding drug...\n",
      "unique drugs: 2068\n",
      "encoding protein...\n",
      "unique target sequence: 229\n",
      "-- Encoding AAC takes time. Time Reference: 24s for ~100 sequences in a CPU.\t\t\t\t Calculate your time by the unique target sequence #, instead of the entire dataset.\n",
      "splitting dataset...\n",
      "Done.\n"
     ]
    }
   ],
   "source": [
    "train, val, test = utils.data_process(X_drug, X_target, y, \n",
    "                                drug_encoding, target_encoding, \n",
    "                                split_method = 'random', frac = [0.7,0.1,0.2], random_seed = 2)"
   ]
  },
  {
   "cell_type": "code",
   "execution_count": 7,
   "metadata": {},
   "outputs": [],
   "source": [
    "config = utils.generate_config(drug_encoding = drug_encoding, \n",
    "                         target_encoding = target_encoding, \n",
    "                         cls_hidden_dims = [1024,1024,512], \n",
    "                         train_epoch = 100, \n",
    "                         LR = 0.001, \n",
    "                         batch_size = 256,\n",
    "                         cnn_target_filters = [32,64,96],\n",
    "                         cnn_target_kernels = [4,8,12])"
   ]
  },
  {
   "cell_type": "code",
   "execution_count": 8,
   "metadata": {},
   "outputs": [],
   "source": [
    "model = DTI.model_initialize(**config)"
   ]
  },
  {
   "cell_type": "code",
   "execution_count": null,
   "metadata": {
    "scrolled": true
   },
   "outputs": [
    {
     "name": "stdout",
     "output_type": "stream",
     "text": [
      "Let's use 1 GPU!\n",
      "--- Data Preparation ---\n",
      "--- Go for Training ---\n",
      "Training at Epoch 1 iteration 0 with loss 136.281. Total time 0.0 hours\n",
      "Training at Epoch 1 iteration 100 with loss 0.62639. Total time 0.00583 hours\n",
      "Training at Epoch 1 iteration 200 with loss 0.55317. Total time 0.01194 hours\n",
      "Training at Epoch 1 iteration 300 with loss 0.56497. Total time 0.01777 hours\n",
      "Validation at Epoch 1 with loss:0.44470, MSE: 0.47721 , Pearson Correlation: 0.61976 with p-value: 0.0 , Concordance Index: 0.74875\n",
      "Training at Epoch 2 iteration 0 with loss 0.62800. Total time 0.02138 hours\n",
      "Training at Epoch 2 iteration 100 with loss 0.60247. Total time 0.02722 hours\n",
      "Training at Epoch 2 iteration 200 with loss 0.49096. Total time 0.03305 hours\n",
      "Training at Epoch 2 iteration 300 with loss 0.54543. Total time 0.03888 hours\n",
      "Validation at Epoch 2 with loss:0.49370, MSE: 0.41513 , Pearson Correlation: 0.64918 with p-value: 0.0 , Concordance Index: 0.75757\n",
      "Training at Epoch 3 iteration 0 with loss 0.57727. Total time 0.04277 hours\n",
      "Training at Epoch 3 iteration 100 with loss 0.34677. Total time 0.04861 hours\n",
      "Training at Epoch 3 iteration 200 with loss 0.49970. Total time 0.05444 hours\n",
      "Training at Epoch 3 iteration 300 with loss 0.67748. Total time 0.06055 hours\n",
      "Validation at Epoch 3 with loss:0.49429, MSE: 0.39607 , Pearson Correlation: 0.67266 with p-value: 0.0 , Concordance Index: 0.76540\n",
      "Training at Epoch 4 iteration 0 with loss 0.45957. Total time 0.06416 hours\n",
      "Training at Epoch 4 iteration 100 with loss 0.45860. Total time 0.06972 hours\n",
      "Training at Epoch 4 iteration 200 with loss 0.44722. Total time 0.07583 hours\n",
      "Training at Epoch 4 iteration 300 with loss 0.70992. Total time 0.08166 hours\n",
      "Validation at Epoch 4 with loss:0.30223, MSE: 0.39807 , Pearson Correlation: 0.68206 with p-value: 0.0 , Concordance Index: 0.76842\n",
      "Training at Epoch 5 iteration 0 with loss 0.52552. Total time 0.085 hours\n",
      "Training at Epoch 5 iteration 100 with loss 0.61223. Total time 0.09055 hours\n",
      "Training at Epoch 5 iteration 200 with loss 0.56799. Total time 0.09666 hours\n",
      "Training at Epoch 5 iteration 300 with loss 0.40544. Total time 0.1025 hours\n",
      "Validation at Epoch 5 with loss:0.54818, MSE: 0.39136 , Pearson Correlation: 0.68731 with p-value: 0.0 , Concordance Index: 0.77404\n",
      "Training at Epoch 6 iteration 0 with loss 0.59656. Total time 0.10611 hours\n",
      "Training at Epoch 6 iteration 100 with loss 0.53091. Total time 0.11194 hours\n",
      "Training at Epoch 6 iteration 200 with loss 0.54545. Total time 0.11777 hours\n",
      "Training at Epoch 6 iteration 300 with loss 0.48479. Total time 0.12361 hours\n",
      "Validation at Epoch 6 with loss:0.26983, MSE: 0.37025 , Pearson Correlation: 0.69654 with p-value: 0.0 , Concordance Index: 0.77432\n",
      "Training at Epoch 7 iteration 0 with loss 0.46558. Total time 0.12722 hours\n",
      "Training at Epoch 7 iteration 100 with loss 0.54450. Total time 0.13305 hours\n",
      "Training at Epoch 7 iteration 200 with loss 0.40828. Total time 0.13888 hours\n",
      "Training at Epoch 7 iteration 300 with loss 0.37670. Total time 0.14472 hours\n",
      "Validation at Epoch 7 with loss:0.28643, MSE: 0.44815 , Pearson Correlation: 0.73269 with p-value: 0.0 , Concordance Index: 0.78542\n",
      "Training at Epoch 8 iteration 0 with loss 0.41521. Total time 0.14833 hours\n",
      "Training at Epoch 8 iteration 100 with loss 0.37852. Total time 0.15416 hours\n",
      "Training at Epoch 8 iteration 200 with loss 0.50141. Total time 0.15972 hours\n",
      "Training at Epoch 8 iteration 300 with loss 0.62947. Total time 0.16527 hours\n",
      "Validation at Epoch 8 with loss:0.20545, MSE: 0.33610 , Pearson Correlation: 0.73773 with p-value: 0.0 , Concordance Index: 0.78961\n",
      "Training at Epoch 9 iteration 0 with loss 0.41545. Total time 0.16916 hours\n",
      "Training at Epoch 9 iteration 100 with loss 0.57002. Total time 0.17527 hours\n",
      "Training at Epoch 9 iteration 200 with loss 0.35458. Total time 0.18111 hours\n",
      "Training at Epoch 9 iteration 300 with loss 0.43003. Total time 0.18694 hours\n",
      "Validation at Epoch 9 with loss:0.55882, MSE: 0.41244 , Pearson Correlation: 0.74689 with p-value: 0.0 , Concordance Index: 0.79215\n",
      "Training at Epoch 10 iteration 0 with loss 0.53626. Total time 0.19055 hours\n",
      "Training at Epoch 10 iteration 100 with loss 0.40239. Total time 0.19583 hours\n",
      "Training at Epoch 10 iteration 200 with loss 0.60452. Total time 0.20166 hours\n",
      "Training at Epoch 10 iteration 300 with loss 0.28612. Total time 0.20722 hours\n",
      "Validation at Epoch 10 with loss:0.50458, MSE: 0.31660 , Pearson Correlation: 0.76116 with p-value: 0.0 , Concordance Index: 0.80432\n",
      "Training at Epoch 11 iteration 0 with loss 0.41083. Total time 0.21138 hours\n",
      "Training at Epoch 11 iteration 100 with loss 0.43512. Total time 0.2175 hours\n",
      "Training at Epoch 11 iteration 200 with loss 0.42031. Total time 0.22388 hours\n",
      "Training at Epoch 11 iteration 300 with loss 0.40994. Total time 0.23 hours\n",
      "Validation at Epoch 11 with loss:0.32050, MSE: 0.30461 , Pearson Correlation: 0.75992 with p-value: 0.0 , Concordance Index: 0.80499\n",
      "Training at Epoch 12 iteration 0 with loss 0.41188. Total time 0.23388 hours\n",
      "Training at Epoch 12 iteration 100 with loss 0.37486. Total time 0.23972 hours\n",
      "Training at Epoch 12 iteration 200 with loss 0.36949. Total time 0.24611 hours\n",
      "Training at Epoch 12 iteration 300 with loss 0.39380. Total time 0.25222 hours\n",
      "Validation at Epoch 12 with loss:0.28092, MSE: 0.39285 , Pearson Correlation: 0.76189 with p-value: 0.0 , Concordance Index: 0.80394\n",
      "Training at Epoch 13 iteration 0 with loss 0.47048. Total time 0.25611 hours\n",
      "Training at Epoch 13 iteration 100 with loss 0.36378. Total time 0.26222 hours\n",
      "Training at Epoch 13 iteration 200 with loss 0.34264. Total time 0.26861 hours\n",
      "Training at Epoch 13 iteration 300 with loss 0.40264. Total time 0.27472 hours\n",
      "Validation at Epoch 13 with loss:0.14572, MSE: 0.30524 , Pearson Correlation: 0.77090 with p-value: 0.0 , Concordance Index: 0.80954\n",
      "Training at Epoch 14 iteration 0 with loss 0.46159. Total time 0.27833 hours\n",
      "Training at Epoch 14 iteration 100 with loss 0.38239. Total time 0.28444 hours\n",
      "Training at Epoch 14 iteration 200 with loss 0.49090. Total time 0.29083 hours\n",
      "Training at Epoch 14 iteration 300 with loss 0.40438. Total time 0.29722 hours\n",
      "Validation at Epoch 14 with loss:0.14659, MSE: 0.29937 , Pearson Correlation: 0.76424 with p-value: 0.0 , Concordance Index: 0.80771\n",
      "Training at Epoch 15 iteration 0 with loss 0.41849. Total time 0.30083 hours\n",
      "Training at Epoch 15 iteration 100 with loss 0.33477. Total time 0.30666 hours\n",
      "Training at Epoch 15 iteration 200 with loss 0.61559. Total time 0.31277 hours\n",
      "Training at Epoch 15 iteration 300 with loss 0.32757. Total time 0.31916 hours\n",
      "Validation at Epoch 15 with loss:0.46567, MSE: 0.34326 , Pearson Correlation: 0.77495 with p-value: 0.0 , Concordance Index: 0.81049\n",
      "Training at Epoch 16 iteration 0 with loss 0.33310. Total time 0.32305 hours\n",
      "Training at Epoch 16 iteration 100 with loss 0.31644. Total time 0.32944 hours\n"
     ]
    }
   ],
   "source": [
    "model.train(train, val, test)"
   ]
  },
  {
   "cell_type": "code",
   "execution_count": null,
   "metadata": {},
   "outputs": [],
   "source": [
    "model.save_model('./save_model/model_Morgan_AAC_Kiba')"
   ]
  }
 ],
 "metadata": {
  "kernelspec": {
   "display_name": "Python 3",
   "language": "python",
   "name": "python3"
  },
  "language_info": {
   "codemirror_mode": {
    "name": "ipython",
    "version": 3
   },
   "file_extension": ".py",
   "mimetype": "text/x-python",
   "name": "python",
   "nbconvert_exporter": "python",
   "pygments_lexer": "ipython3",
   "version": "3.6.5"
  }
 },
 "nbformat": 4,
 "nbformat_minor": 4
}

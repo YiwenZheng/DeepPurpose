{
 "cells": [
  {
   "cell_type": "code",
   "execution_count": 1,
   "id": "encouraging-melissa",
   "metadata": {},
   "outputs": [],
   "source": [
    "import os\n",
    "os.chdir(\"/y/home/zyw/tmp/DeepPurpose/\")"
   ]
  },
  {
   "cell_type": "code",
   "execution_count": 9,
   "id": "latest-singapore",
   "metadata": {},
   "outputs": [],
   "source": [
    "from scripts import utils,dataset,CompoundPred"
   ]
  },
  {
   "cell_type": "code",
   "execution_count": 3,
   "id": "quick-outreach",
   "metadata": {},
   "outputs": [
    {
     "name": "stderr",
     "output_type": "stream",
     "text": [
      "Download zip file...\n",
      "Extract zip file...\n"
     ]
    }
   ],
   "source": [
    "X_drugs, y, drugs_index = dataset.load_HIV(path = './data')"
   ]
  },
  {
   "cell_type": "code",
   "execution_count": 4,
   "id": "rotary-sierra",
   "metadata": {},
   "outputs": [],
   "source": [
    "drug_encoding = 'MPNN'"
   ]
  },
  {
   "cell_type": "code",
   "execution_count": 5,
   "id": "accessory-divide",
   "metadata": {},
   "outputs": [
    {
     "name": "stdout",
     "output_type": "stream",
     "text": [
      "Drug Property Prediction Mode...\n",
      "in total: 41127 drugs\n",
      "encoding drug...\n",
      "unique drugs: 41127\n",
      "Molecules not found and change to zero vectors..\n",
      "Molecules not found and change to zero vectors..\n",
      "Molecules not found and change to zero vectors..\n",
      "Molecules not found and change to zero vectors..\n",
      "Molecules not found and change to zero vectors..\n",
      "Molecules not found and change to zero vectors..\n",
      "Molecules not found and change to zero vectors..\n",
      "Molecules not found and change to zero vectors..\n",
      "Molecules not found and change to zero vectors..\n",
      "Molecules not found and change to zero vectors..\n",
      "Molecules not found and change to zero vectors..\n",
      "Molecules not found and change to zero vectors..\n",
      "Molecules not found and change to zero vectors..\n",
      "Molecules not found and change to zero vectors..\n",
      "Molecules not found and change to zero vectors..\n",
      "Molecules not found and change to zero vectors..\n",
      "Molecules not found and change to zero vectors..\n",
      "Molecules not found and change to zero vectors..\n",
      "Molecules not found and change to zero vectors..\n",
      "Molecules not found and change to zero vectors..\n",
      "Molecules not found and change to zero vectors..\n",
      "Molecules not found and change to zero vectors..\n",
      "Molecules not found and change to zero vectors..\n",
      "Molecules not found and change to zero vectors..\n",
      "Molecules not found and change to zero vectors..\n",
      "Molecules not found and change to zero vectors..\n",
      "Molecules not found and change to zero vectors..\n",
      "Molecules not found and change to zero vectors..\n",
      "Molecules not found and change to zero vectors..\n",
      "Molecules not found and change to zero vectors..\n",
      "Molecules not found and change to zero vectors..\n",
      "Molecules not found and change to zero vectors..\n",
      "Molecules not found and change to zero vectors..\n",
      "Molecules not found and change to zero vectors..\n",
      "Molecules not found and change to zero vectors..\n",
      "Molecules not found and change to zero vectors..\n",
      "Molecules not found and change to zero vectors..\n",
      "Molecules not found and change to zero vectors..\n",
      "Molecules not found and change to zero vectors..\n",
      "Molecules not found and change to zero vectors..\n",
      "Molecules not found and change to zero vectors..\n",
      "Molecules not found and change to zero vectors..\n"
     ]
    },
    {
     "name": "stderr",
     "output_type": "stream",
     "text": [
      "RDKit WARNING: [10:28:38] WARNING: not removing hydrogen atom without neighbors\n",
      "RDKit WARNING: [10:28:38] WARNING: not removing hydrogen atom without neighbors\n"
     ]
    },
    {
     "name": "stdout",
     "output_type": "stream",
     "text": [
      "Molecules not found and change to zero vectors..\n",
      "Done.\n"
     ]
    }
   ],
   "source": [
    "train, val, test = utils.data_process(X_drug = X_drugs, y = y, drug_encoding = drug_encoding,\n",
    "                                split_method = 'random', frac = [0.7,0.1,0.2],\n",
    "                                random_seed = 1)"
   ]
  },
  {
   "cell_type": "code",
   "execution_count": 6,
   "id": "assured-despite",
   "metadata": {},
   "outputs": [],
   "source": [
    "config = utils.generate_config(drug_encoding = drug_encoding, \n",
    "                         cls_hidden_dims = [1024,1024,512], \n",
    "                         train_epoch = 3, \n",
    "                         LR = 0.001, \n",
    "                         batch_size = 128,\n",
    "                         hidden_dim_drug = 128,\n",
    "                         mpnn_hidden_size = 128,\n",
    "                         mpnn_depth = 3)"
   ]
  },
  {
   "cell_type": "code",
   "execution_count": 10,
   "id": "blond-tobacco",
   "metadata": {},
   "outputs": [],
   "source": [
    "model = CompoundPred.model_initialize(**config)"
   ]
  },
  {
   "cell_type": "code",
   "execution_count": 11,
   "id": "numeric-belize",
   "metadata": {},
   "outputs": [
    {
     "name": "stdout",
     "output_type": "stream",
     "text": [
      "Let's use 1 GPU!\n",
      "--- Data Preparation ---\n"
     ]
    },
    {
     "ename": "NameError",
     "evalue": "name 'mpnn_collate_func' is not defined",
     "output_type": "error",
     "traceback": [
      "\u001b[0;31m---------------------------------------------------------------------------\u001b[0m",
      "\u001b[0;31mNameError\u001b[0m                                 Traceback (most recent call last)",
      "\u001b[0;32m<ipython-input-11-4686be42c026>\u001b[0m in \u001b[0;36m<module>\u001b[0;34m\u001b[0m\n\u001b[0;32m----> 1\u001b[0;31m \u001b[0mmodel\u001b[0m\u001b[0;34m.\u001b[0m\u001b[0mtrain\u001b[0m\u001b[0;34m(\u001b[0m\u001b[0mtrain\u001b[0m\u001b[0;34m,\u001b[0m \u001b[0mval\u001b[0m\u001b[0;34m,\u001b[0m \u001b[0mtest\u001b[0m\u001b[0;34m)\u001b[0m\u001b[0;34m\u001b[0m\u001b[0m\n\u001b[0m",
      "\u001b[0;32m~/tmp/DeepPurpose/scripts/CompoundPred.py\u001b[0m in \u001b[0;36mtrain\u001b[0;34m(self, train, val, test, verbose)\u001b[0m\n\u001b[1;32m    296\u001b[0m \t    \t\t'drop_last': False}\n\u001b[1;32m    297\u001b[0m                 \u001b[0;32mif\u001b[0m \u001b[0;34m(\u001b[0m\u001b[0mself\u001b[0m\u001b[0;34m.\u001b[0m\u001b[0mdrug_encoding\u001b[0m \u001b[0;34m==\u001b[0m \u001b[0;34m\"MPNN\"\u001b[0m\u001b[0;34m)\u001b[0m\u001b[0;34m:\u001b[0m\u001b[0;34m\u001b[0m\u001b[0m\n\u001b[0;32m--> 298\u001b[0;31m                         \u001b[0mparams\u001b[0m\u001b[0;34m[\u001b[0m\u001b[0;34m'collate_fn'\u001b[0m\u001b[0;34m]\u001b[0m \u001b[0;34m=\u001b[0m \u001b[0mmpnn_collate_func\u001b[0m\u001b[0;34m\u001b[0m\u001b[0m\n\u001b[0m\u001b[1;32m    299\u001b[0m \u001b[0;34m\u001b[0m\u001b[0m\n\u001b[1;32m    300\u001b[0m \t\ttraining_generator = data.DataLoader(data_process_loader_Property_Prediction(train.index.values, \n",
      "\u001b[0;31mNameError\u001b[0m: name 'mpnn_collate_func' is not defined"
     ]
    }
   ],
   "source": [
    "model.train(train, val, test)"
   ]
  },
  {
   "cell_type": "code",
   "execution_count": null,
   "id": "herbal-scanning",
   "metadata": {},
   "outputs": [],
   "source": [
    "X_drug = ['CC1=C2C=C(C=CC2=NN1)C3=CC(=CN=C3)OCC(CC4=CC=CC=C4)N']\n",
    "X_pred = utils.data_process(X_drug = X_drug, y = y, drug_encoding = drug_encoding, split_method='no_split')\n",
    "y_pred = model.predict(X_pred)\n",
    "print('The predicted score is ' + str(y_pred))"
   ]
  }
 ],
 "metadata": {
  "kernelspec": {
   "display_name": "Python 3",
   "language": "python",
   "name": "python3"
  },
  "language_info": {
   "codemirror_mode": {
    "name": "ipython",
    "version": 3
   },
   "file_extension": ".py",
   "mimetype": "text/x-python",
   "name": "python",
   "nbconvert_exporter": "python",
   "pygments_lexer": "ipython3",
   "version": "3.6.5"
  }
 },
 "nbformat": 4,
 "nbformat_minor": 5
}

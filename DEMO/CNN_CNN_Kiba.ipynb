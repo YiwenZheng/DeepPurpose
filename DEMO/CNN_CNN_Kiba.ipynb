{
 "cells": [
  {
   "cell_type": "code",
   "execution_count": 1,
   "metadata": {},
   "outputs": [],
   "source": [
    "import os\n",
    "os.chdir(\"/y/home/zyw/tmp/DeepPurpose/\")"
   ]
  },
  {
   "cell_type": "code",
   "execution_count": 2,
   "metadata": {},
   "outputs": [
    {
     "name": "stderr",
     "output_type": "stream",
     "text": [
      "WARNING:root:No normalization for BCUT2D_MWHI\n",
      "WARNING:root:No normalization for BCUT2D_MWLOW\n",
      "WARNING:root:No normalization for BCUT2D_CHGHI\n",
      "WARNING:root:No normalization for BCUT2D_CHGLO\n",
      "WARNING:root:No normalization for BCUT2D_LOGPHI\n",
      "WARNING:root:No normalization for BCUT2D_LOGPLOW\n",
      "WARNING:root:No normalization for BCUT2D_MRHI\n",
      "WARNING:root:No normalization for BCUT2D_MRLOW\n"
     ]
    }
   ],
   "source": [
    "from DeepPurpose import utils,dataset,DTI"
   ]
  },
  {
   "cell_type": "code",
   "execution_count": 3,
   "metadata": {},
   "outputs": [
    {
     "name": "stdout",
     "output_type": "stream",
     "text": [
      "Beginning Processing...\n",
      "Done!\n"
     ]
    }
   ],
   "source": [
    "X_drug, X_target, y = dataset.load_process_KIBA('./data/', binary=False)"
   ]
  },
  {
   "cell_type": "code",
   "execution_count": 4,
   "metadata": {},
   "outputs": [],
   "source": [
    "drug_encoding = 'CNN'\n",
    "target_encoding = 'CNN'"
   ]
  },
  {
   "cell_type": "code",
   "execution_count": 5,
   "metadata": {},
   "outputs": [
    {
     "name": "stdout",
     "output_type": "stream",
     "text": [
      "Drug Target Interaction Prediction Mode...\n",
      "in total: 118254 drug-target pairs\n",
      "encoding drug...\n",
      "unique drugs: 2068\n",
      "encoding protein...\n",
      "unique target sequence: 229\n",
      "splitting dataset...\n",
      "Done.\n"
     ]
    }
   ],
   "source": [
    "train, val, test = utils.data_process(X_drug, X_target, y, \n",
    "                                drug_encoding, target_encoding, \n",
    "                                split_method = 'random', frac = [0.8,0.1,0.1])"
   ]
  },
  {
   "cell_type": "code",
   "execution_count": 6,
   "metadata": {},
   "outputs": [],
   "source": [
    "config = utils.generate_config(drug_encoding = drug_encoding, \n",
    "                         target_encoding = target_encoding, \n",
    "                         cls_hidden_dims = [1024,1024,512], \n",
    "                         train_epoch = 100, \n",
    "                         LR = 0.0008, \n",
    "                         batch_size = 256,\n",
    "                         cnn_drug_filters = [32,64,96],\n",
    "                         cnn_target_filters = [32,64,96],\n",
    "                         cnn_drug_kernels = [4,6,8],\n",
    "                         cnn_target_kernels = [4,8,12])"
   ]
  },
  {
   "cell_type": "code",
   "execution_count": 7,
   "metadata": {},
   "outputs": [],
   "source": [
    "model = DTI.model_initialize(**config)"
   ]
  },
  {
   "cell_type": "code",
   "execution_count": null,
   "metadata": {
    "scrolled": true
   },
   "outputs": [
    {
     "name": "stdout",
     "output_type": "stream",
     "text": [
      "Let's use 1 GPU!\n",
      "--- Data Preparation ---\n",
      "--- Go for Training ---\n",
      "Training at Epoch 1 iteration 0 with loss 136.760. Total time 0.00027 hours\n",
      "Training at Epoch 1 iteration 100 with loss 0.74423. Total time 0.02361 hours\n",
      "Training at Epoch 1 iteration 200 with loss 0.84663. Total time 0.04805 hours\n",
      "Training at Epoch 1 iteration 300 with loss 0.78007. Total time 0.07305 hours\n",
      "Validation at Epoch 1 with loss:0.44459, MSE: 0.62131 , Pearson Correlation: 0.42326 with p-value: 0.0 , Concordance Index: 0.67362\n",
      "Training at Epoch 2 iteration 0 with loss 0.76675. Total time 0.10194 hours\n",
      "Training at Epoch 2 iteration 100 with loss 1.29926. Total time 0.12666 hours\n",
      "Training at Epoch 2 iteration 200 with loss 0.70719. Total time 0.15166 hours\n",
      "Training at Epoch 2 iteration 300 with loss 0.63351. Total time 0.17694 hours\n",
      "Validation at Epoch 2 with loss:0.50541, MSE: 0.50083 , Pearson Correlation: 0.54499 with p-value: 0.0 , Concordance Index: 0.71583\n",
      "Training at Epoch 3 iteration 0 with loss 0.56035. Total time 0.20583 hours\n",
      "Training at Epoch 3 iteration 100 with loss 0.52831. Total time 0.23138 hours\n",
      "Training at Epoch 3 iteration 200 with loss 0.60522. Total time 0.25666 hours\n",
      "Training at Epoch 3 iteration 300 with loss 0.71336. Total time 0.28166 hours\n",
      "Validation at Epoch 3 with loss:0.22896, MSE: 0.45989 , Pearson Correlation: 0.61721 with p-value: 0.0 , Concordance Index: 0.74758\n",
      "Training at Epoch 4 iteration 0 with loss 0.50418. Total time 0.31027 hours\n",
      "Training at Epoch 4 iteration 100 with loss 0.50932. Total time 0.33527 hours\n",
      "Training at Epoch 4 iteration 200 with loss 0.72351. Total time 0.36972 hours\n",
      "Training at Epoch 4 iteration 300 with loss 0.49809. Total time 0.40972 hours\n",
      "Validation at Epoch 4 with loss:0.31869, MSE: 0.41474 , Pearson Correlation: 0.64540 with p-value: 0.0 , Concordance Index: 0.75895\n",
      "Training at Epoch 5 iteration 0 with loss 0.36303. Total time 0.455 hours\n",
      "Training at Epoch 5 iteration 100 with loss 0.55464. Total time 0.495 hours\n",
      "Training at Epoch 5 iteration 200 with loss 0.50198. Total time 0.53361 hours\n",
      "Training at Epoch 5 iteration 300 with loss 1.07541. Total time 0.57277 hours\n",
      "Validation at Epoch 5 with loss:0.89328, MSE: 0.45181 , Pearson Correlation: 0.66235 with p-value: 0.0 , Concordance Index: 0.76461\n",
      "Training at Epoch 6 iteration 0 with loss 0.61585. Total time 0.61777 hours\n",
      "Training at Epoch 6 iteration 100 with loss 0.48820. Total time 0.65666 hours\n",
      "Training at Epoch 6 iteration 200 with loss 0.54212. Total time 0.69638 hours\n",
      "Training at Epoch 6 iteration 300 with loss 0.52178. Total time 0.73583 hours\n",
      "Validation at Epoch 6 with loss:0.94528, MSE: 0.60289 , Pearson Correlation: 0.66732 with p-value: 0.0 , Concordance Index: 0.76558\n",
      "Training at Epoch 7 iteration 0 with loss 0.89483. Total time 0.78 hours\n",
      "Training at Epoch 7 iteration 100 with loss 0.56589. Total time 0.81944 hours\n",
      "Training at Epoch 7 iteration 200 with loss 0.49958. Total time 0.85861 hours\n",
      "Training at Epoch 7 iteration 300 with loss 0.50992. Total time 0.89722 hours\n",
      "Validation at Epoch 7 with loss:0.36760, MSE: 0.38794 , Pearson Correlation: 0.67488 with p-value: 0.0 , Concordance Index: 0.76756\n",
      "Training at Epoch 8 iteration 0 with loss 0.50720. Total time 0.94194 hours\n",
      "Training at Epoch 8 iteration 100 with loss 0.48567. Total time 0.98083 hours\n",
      "Training at Epoch 8 iteration 200 with loss 0.48246. Total time 1.02138 hours\n",
      "Training at Epoch 8 iteration 300 with loss 0.53179. Total time 1.05972 hours\n",
      "Validation at Epoch 8 with loss:0.57975, MSE: 0.40966 , Pearson Correlation: 0.68119 with p-value: 0.0 , Concordance Index: 0.76650\n",
      "Training at Epoch 9 iteration 0 with loss 0.53242. Total time 1.105 hours\n",
      "Training at Epoch 9 iteration 100 with loss 0.67705. Total time 1.14444 hours\n",
      "Training at Epoch 9 iteration 200 with loss 0.78142. Total time 1.18361 hours\n",
      "Training at Epoch 9 iteration 300 with loss 1.21320. Total time 1.22305 hours\n",
      "Validation at Epoch 9 with loss:0.28559, MSE: 0.52895 , Pearson Correlation: 0.67598 with p-value: 0.0 , Concordance Index: 0.76757\n",
      "Training at Epoch 10 iteration 0 with loss 0.76211. Total time 1.26916 hours\n",
      "Training at Epoch 10 iteration 100 with loss 0.55801. Total time 1.30888 hours\n",
      "Training at Epoch 10 iteration 200 with loss 0.68449. Total time 1.34777 hours\n",
      "Training at Epoch 10 iteration 300 with loss 0.42713. Total time 1.38694 hours\n",
      "Validation at Epoch 10 with loss:0.21736, MSE: 0.38487 , Pearson Correlation: 0.68765 with p-value: 0.0 , Concordance Index: 0.77313\n",
      "Training at Epoch 11 iteration 0 with loss 0.58303. Total time 1.4325 hours\n",
      "Training at Epoch 11 iteration 100 with loss 0.54098. Total time 1.47138 hours\n",
      "Training at Epoch 11 iteration 200 with loss 0.57347. Total time 1.51111 hours\n",
      "Training at Epoch 11 iteration 300 with loss 0.74729. Total time 1.55 hours\n",
      "Validation at Epoch 11 with loss:0.29902, MSE: 0.39619 , Pearson Correlation: 0.68975 with p-value: 0.0 , Concordance Index: 0.77090\n",
      "Training at Epoch 12 iteration 0 with loss 0.56242. Total time 1.59583 hours\n"
     ]
    }
   ],
   "source": [
    "model.train(train, val, test)"
   ]
  },
  {
   "cell_type": "code",
   "execution_count": null,
   "metadata": {},
   "outputs": [],
   "source": [
    "model.save_model('./save_model/model_CNN_CNN_KIBA')"
   ]
  }
 ],
 "metadata": {
  "kernelspec": {
   "display_name": "Python 3",
   "language": "python",
   "name": "python3"
  },
  "language_info": {
   "codemirror_mode": {
    "name": "ipython",
    "version": 3
   },
   "file_extension": ".py",
   "mimetype": "text/x-python",
   "name": "python",
   "nbconvert_exporter": "python",
   "pygments_lexer": "ipython3",
   "version": "3.6.5"
  }
 },
 "nbformat": 4,
 "nbformat_minor": 4
}

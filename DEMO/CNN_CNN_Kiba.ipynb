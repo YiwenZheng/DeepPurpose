{
 "cells": [
  {
   "cell_type": "code",
   "execution_count": 1,
   "metadata": {},
   "outputs": [],
   "source": [
    "import os\n",
    "os.chdir(\"/y/home/zyw/tmp/DeepPurpose/\")"
   ]
  },
  {
   "cell_type": "code",
   "execution_count": 2,
   "metadata": {},
   "outputs": [
    {
     "name": "stderr",
     "output_type": "stream",
     "text": [
      "WARNING:root:No normalization for BCUT2D_MWHI\n",
      "WARNING:root:No normalization for BCUT2D_MWLOW\n",
      "WARNING:root:No normalization for BCUT2D_CHGHI\n",
      "WARNING:root:No normalization for BCUT2D_CHGLO\n",
      "WARNING:root:No normalization for BCUT2D_LOGPHI\n",
      "WARNING:root:No normalization for BCUT2D_LOGPLOW\n",
      "WARNING:root:No normalization for BCUT2D_MRHI\n",
      "WARNING:root:No normalization for BCUT2D_MRLOW\n"
     ]
    }
   ],
   "source": [
    "from DeepPurpose import utils,dataset,DTI"
   ]
  },
  {
   "cell_type": "code",
   "execution_count": 3,
   "metadata": {},
   "outputs": [
    {
     "name": "stdout",
     "output_type": "stream",
     "text": [
      "Beginning Processing...\n",
      "Done!\n"
     ]
    }
   ],
   "source": [
    "X_drug, X_target, y = dataset.load_process_KIBA('./data/', binary=False)"
   ]
  },
  {
   "cell_type": "code",
   "execution_count": 4,
   "metadata": {},
   "outputs": [],
   "source": [
    "drug_encoding = 'CNN'\n",
    "target_encoding = 'CNN'"
   ]
  },
  {
   "cell_type": "code",
   "execution_count": 5,
   "metadata": {},
   "outputs": [
    {
     "name": "stdout",
     "output_type": "stream",
     "text": [
      "Drug Target Interaction Prediction Mode...\n",
      "in total: 118254 drug-target pairs\n",
      "encoding drug...\n",
      "unique drugs: 2068\n",
      "encoding protein...\n",
      "unique target sequence: 229\n",
      "splitting dataset...\n",
      "Done.\n"
     ]
    }
   ],
   "source": [
    "train, val, test = utils.data_process(X_drug, X_target, y, \n",
    "                                drug_encoding, target_encoding, \n",
    "                                split_method = 'random', frac = [0.8,0.1,0.1])"
   ]
  },
  {
   "cell_type": "code",
   "execution_count": 6,
   "metadata": {},
   "outputs": [],
   "source": [
    "config = utils.generate_config(drug_encoding = drug_encoding, \n",
    "                         target_encoding = target_encoding, \n",
    "                         cls_hidden_dims = [1024,1024,512], \n",
    "                         train_epoch = 100, \n",
    "                         LR = 0.0008, \n",
    "                         batch_size = 256,\n",
    "                         cnn_drug_filters = [32,64,96],\n",
    "                         cnn_target_filters = [32,64,96],\n",
    "                         cnn_drug_kernels = [4,6,8],\n",
    "                         cnn_target_kernels = [4,8,12])"
   ]
  },
  {
   "cell_type": "code",
   "execution_count": 7,
   "metadata": {},
   "outputs": [],
   "source": [
    "model = DTI.model_initialize(**config)"
   ]
  },
  {
   "cell_type": "code",
   "execution_count": null,
   "metadata": {
    "scrolled": true
   },
   "outputs": [
    {
     "name": "stdout",
     "output_type": "stream",
     "text": [
      "Let's use 1 GPU!\n",
      "--- Data Preparation ---\n",
      "--- Go for Training ---\n",
      "Training at Epoch 1 iteration 0 with loss 136.760. Total time 0.00027 hours\n",
      "Training at Epoch 1 iteration 100 with loss 0.74423. Total time 0.02361 hours\n",
      "Training at Epoch 1 iteration 200 with loss 0.84663. Total time 0.04805 hours\n",
      "Training at Epoch 1 iteration 300 with loss 0.78007. Total time 0.07305 hours\n",
      "Validation at Epoch 1 with loss:0.44459, MSE: 0.62131 , Pearson Correlation: 0.42326 with p-value: 0.0 , Concordance Index: 0.67362\n",
      "Training at Epoch 2 iteration 0 with loss 0.76675. Total time 0.10194 hours\n",
      "Training at Epoch 2 iteration 100 with loss 1.29926. Total time 0.12666 hours\n",
      "Training at Epoch 2 iteration 200 with loss 0.70719. Total time 0.15166 hours\n",
      "Training at Epoch 2 iteration 300 with loss 0.63351. Total time 0.17694 hours\n",
      "Validation at Epoch 2 with loss:0.50541, MSE: 0.50083 , Pearson Correlation: 0.54499 with p-value: 0.0 , Concordance Index: 0.71583\n",
      "Training at Epoch 3 iteration 0 with loss 0.56035. Total time 0.20583 hours\n",
      "Training at Epoch 3 iteration 100 with loss 0.52831. Total time 0.23138 hours\n",
      "Training at Epoch 3 iteration 200 with loss 0.60522. Total time 0.25666 hours\n",
      "Training at Epoch 3 iteration 300 with loss 0.71336. Total time 0.28166 hours\n",
      "Validation at Epoch 3 with loss:0.22896, MSE: 0.45989 , Pearson Correlation: 0.61721 with p-value: 0.0 , Concordance Index: 0.74758\n",
      "Training at Epoch 4 iteration 0 with loss 0.50418. Total time 0.31027 hours\n",
      "Training at Epoch 4 iteration 100 with loss 0.50932. Total time 0.33527 hours\n",
      "Training at Epoch 4 iteration 200 with loss 0.72351. Total time 0.36972 hours\n",
      "Training at Epoch 4 iteration 300 with loss 0.49809. Total time 0.40972 hours\n",
      "Validation at Epoch 4 with loss:0.31869, MSE: 0.41474 , Pearson Correlation: 0.64540 with p-value: 0.0 , Concordance Index: 0.75895\n",
      "Training at Epoch 5 iteration 0 with loss 0.36303. Total time 0.455 hours\n",
      "Training at Epoch 5 iteration 100 with loss 0.55464. Total time 0.495 hours\n",
      "Training at Epoch 5 iteration 200 with loss 0.50198. Total time 0.53361 hours\n",
      "Training at Epoch 5 iteration 300 with loss 1.07541. Total time 0.57277 hours\n",
      "Validation at Epoch 5 with loss:0.89328, MSE: 0.45181 , Pearson Correlation: 0.66235 with p-value: 0.0 , Concordance Index: 0.76461\n",
      "Training at Epoch 6 iteration 0 with loss 0.61585. Total time 0.61777 hours\n",
      "Training at Epoch 6 iteration 100 with loss 0.48820. Total time 0.65666 hours\n",
      "Training at Epoch 6 iteration 200 with loss 0.54212. Total time 0.69638 hours\n",
      "Training at Epoch 6 iteration 300 with loss 0.52178. Total time 0.73583 hours\n",
      "Validation at Epoch 6 with loss:0.94528, MSE: 0.60289 , Pearson Correlation: 0.66732 with p-value: 0.0 , Concordance Index: 0.76558\n",
      "Training at Epoch 7 iteration 0 with loss 0.89483. Total time 0.78 hours\n",
      "Training at Epoch 7 iteration 100 with loss 0.56589. Total time 0.81944 hours\n",
      "Training at Epoch 7 iteration 200 with loss 0.49958. Total time 0.85861 hours\n",
      "Training at Epoch 7 iteration 300 with loss 0.50992. Total time 0.89722 hours\n",
      "Validation at Epoch 7 with loss:0.36760, MSE: 0.38794 , Pearson Correlation: 0.67488 with p-value: 0.0 , Concordance Index: 0.76756\n",
      "Training at Epoch 8 iteration 0 with loss 0.50720. Total time 0.94194 hours\n",
      "Training at Epoch 8 iteration 100 with loss 0.48567. Total time 0.98083 hours\n",
      "Training at Epoch 8 iteration 200 with loss 0.48246. Total time 1.02138 hours\n",
      "Training at Epoch 8 iteration 300 with loss 0.53179. Total time 1.05972 hours\n",
      "Validation at Epoch 8 with loss:0.57975, MSE: 0.40966 , Pearson Correlation: 0.68119 with p-value: 0.0 , Concordance Index: 0.76650\n",
      "Training at Epoch 9 iteration 0 with loss 0.53242. Total time 1.105 hours\n",
      "Training at Epoch 9 iteration 100 with loss 0.67705. Total time 1.14444 hours\n",
      "Training at Epoch 9 iteration 200 with loss 0.78142. Total time 1.18361 hours\n",
      "Training at Epoch 9 iteration 300 with loss 1.21320. Total time 1.22305 hours\n",
      "Validation at Epoch 9 with loss:0.28559, MSE: 0.52895 , Pearson Correlation: 0.67598 with p-value: 0.0 , Concordance Index: 0.76757\n",
      "Training at Epoch 10 iteration 0 with loss 0.76211. Total time 1.26916 hours\n",
      "Training at Epoch 10 iteration 100 with loss 0.55801. Total time 1.30888 hours\n",
      "Training at Epoch 10 iteration 200 with loss 0.68449. Total time 1.34777 hours\n",
      "Training at Epoch 10 iteration 300 with loss 0.42713. Total time 1.38694 hours\n",
      "Validation at Epoch 10 with loss:0.21736, MSE: 0.38487 , Pearson Correlation: 0.68765 with p-value: 0.0 , Concordance Index: 0.77313\n",
      "Training at Epoch 11 iteration 0 with loss 0.58303. Total time 1.4325 hours\n",
      "Training at Epoch 11 iteration 100 with loss 0.54098. Total time 1.47138 hours\n",
      "Training at Epoch 11 iteration 200 with loss 0.57347. Total time 1.51111 hours\n",
      "Training at Epoch 11 iteration 300 with loss 0.74729. Total time 1.55 hours\n",
      "Validation at Epoch 11 with loss:0.29902, MSE: 0.39619 , Pearson Correlation: 0.68975 with p-value: 0.0 , Concordance Index: 0.77090\n",
      "Training at Epoch 12 iteration 0 with loss 0.56242. Total time 1.59583 hours\n",
      "Training at Epoch 12 iteration 100 with loss 0.56441. Total time 1.635 hours\n",
      "Training at Epoch 12 iteration 200 with loss 0.47989. Total time 1.67416 hours\n",
      "Training at Epoch 12 iteration 300 with loss 0.47127. Total time 1.71333 hours\n",
      "Validation at Epoch 12 with loss:0.42692, MSE: 0.40899 , Pearson Correlation: 0.68984 with p-value: 0.0 , Concordance Index: 0.77295\n",
      "Training at Epoch 13 iteration 0 with loss 0.55771. Total time 1.75888 hours\n",
      "Training at Epoch 13 iteration 100 with loss 0.45789. Total time 1.79805 hours\n",
      "Training at Epoch 13 iteration 200 with loss 0.59379. Total time 1.83777 hours\n",
      "Training at Epoch 13 iteration 300 with loss 0.65658. Total time 1.87777 hours\n",
      "Validation at Epoch 13 with loss:0.57617, MSE: 0.39116 , Pearson Correlation: 0.70080 with p-value: 0.0 , Concordance Index: 0.77569\n",
      "Training at Epoch 14 iteration 0 with loss 0.46181. Total time 1.92305 hours\n",
      "Training at Epoch 14 iteration 100 with loss 0.44570. Total time 1.96222 hours\n",
      "Training at Epoch 14 iteration 200 with loss 0.58615. Total time 2.00138 hours\n",
      "Training at Epoch 14 iteration 300 with loss 0.48587. Total time 2.04111 hours\n",
      "Validation at Epoch 14 with loss:0.34292, MSE: 0.35101 , Pearson Correlation: 0.70837 with p-value: 0.0 , Concordance Index: 0.77850\n",
      "Training at Epoch 15 iteration 0 with loss 0.49630. Total time 2.08722 hours\n",
      "Training at Epoch 15 iteration 100 with loss 0.48677. Total time 2.12944 hours\n",
      "Training at Epoch 15 iteration 200 with loss 0.57536. Total time 2.17194 hours\n",
      "Training at Epoch 15 iteration 300 with loss 0.54977. Total time 2.21444 hours\n",
      "Validation at Epoch 15 with loss:0.72830, MSE: 0.35738 , Pearson Correlation: 0.72819 with p-value: 0.0 , Concordance Index: 0.78479\n",
      "Training at Epoch 16 iteration 0 with loss 0.50042. Total time 2.26194 hours\n",
      "Training at Epoch 16 iteration 100 with loss 0.64155. Total time 2.30388 hours\n",
      "Training at Epoch 16 iteration 200 with loss 0.44319. Total time 2.34638 hours\n",
      "Training at Epoch 16 iteration 300 with loss 0.54586. Total time 2.38805 hours\n",
      "Validation at Epoch 16 with loss:0.39884, MSE: 0.36464 , Pearson Correlation: 0.73350 with p-value: 0.0 , Concordance Index: 0.78484\n",
      "Training at Epoch 17 iteration 0 with loss 0.42698. Total time 2.43638 hours\n",
      "Training at Epoch 17 iteration 100 with loss 0.38748. Total time 2.47833 hours\n",
      "Training at Epoch 17 iteration 200 with loss 0.48891. Total time 2.52055 hours\n",
      "Training at Epoch 17 iteration 300 with loss 0.42572. Total time 2.56305 hours\n",
      "Validation at Epoch 17 with loss:0.15051, MSE: 0.32682 , Pearson Correlation: 0.74037 with p-value: 0.0 , Concordance Index: 0.78924\n",
      "Training at Epoch 18 iteration 0 with loss 0.56315. Total time 2.61194 hours\n",
      "Training at Epoch 18 iteration 100 with loss 0.41703. Total time 2.65388 hours\n",
      "Training at Epoch 18 iteration 200 with loss 0.36994. Total time 2.69611 hours\n",
      "Training at Epoch 18 iteration 300 with loss 0.38227. Total time 2.73833 hours\n",
      "Validation at Epoch 18 with loss:0.61728, MSE: 0.37793 , Pearson Correlation: 0.73720 with p-value: 0.0 , Concordance Index: 0.77329\n",
      "Training at Epoch 19 iteration 0 with loss 0.48347. Total time 2.78694 hours\n",
      "Training at Epoch 19 iteration 100 with loss 0.35707. Total time 2.83 hours\n"
     ]
    },
    {
     "name": "stdout",
     "output_type": "stream",
     "text": [
      "Training at Epoch 19 iteration 200 with loss 0.48264. Total time 2.8725 hours\n",
      "Training at Epoch 19 iteration 300 with loss 0.53106. Total time 2.91472 hours\n",
      "Validation at Epoch 19 with loss:0.22582, MSE: 0.30843 , Pearson Correlation: 0.75091 with p-value: 0.0 , Concordance Index: 0.79148\n",
      "Training at Epoch 20 iteration 0 with loss 0.44774. Total time 2.96333 hours\n",
      "Training at Epoch 20 iteration 100 with loss 0.52701. Total time 3.00638 hours\n",
      "Training at Epoch 20 iteration 200 with loss 0.46469. Total time 3.04833 hours\n",
      "Training at Epoch 20 iteration 300 with loss 0.43743. Total time 3.09138 hours\n",
      "Training at Epoch 21 iteration 100 with loss 0.55896. Total time 3.1825 hours\n",
      "Training at Epoch 21 iteration 200 with loss 0.48864. Total time 3.22555 hours\n",
      "Training at Epoch 21 iteration 300 with loss 0.40299. Total time 3.26805 hours\n",
      "Validation at Epoch 21 with loss:0.15341, MSE: 0.29542 , Pearson Correlation: 0.76204 with p-value: 0.0 , Concordance Index: 0.79840\n",
      "Training at Epoch 22 iteration 0 with loss 0.34280. Total time 3.31583 hours\n",
      "Training at Epoch 22 iteration 100 with loss 0.42904. Total time 3.35861 hours\n",
      "Training at Epoch 22 iteration 200 with loss 0.52040. Total time 3.40111 hours\n",
      "Training at Epoch 22 iteration 300 with loss 0.36798. Total time 3.44361 hours\n",
      "Validation at Epoch 22 with loss:0.29433, MSE: 0.32784 , Pearson Correlation: 0.76161 with p-value: 0.0 , Concordance Index: 0.80415\n",
      "Training at Epoch 23 iteration 0 with loss 0.35772. Total time 3.49277 hours\n",
      "Training at Epoch 23 iteration 100 with loss 0.40602. Total time 3.535 hours\n",
      "Training at Epoch 23 iteration 200 with loss 0.41366. Total time 3.57722 hours\n",
      "Training at Epoch 23 iteration 300 with loss 0.37207. Total time 3.61944 hours\n",
      "Validation at Epoch 23 with loss:0.35339, MSE: 0.29728 , Pearson Correlation: 0.76920 with p-value: 0.0 , Concordance Index: 0.80847\n",
      "Training at Epoch 24 iteration 0 with loss 0.33227. Total time 3.6675 hours\n",
      "Training at Epoch 24 iteration 100 with loss 0.41520. Total time 3.71055 hours\n",
      "Training at Epoch 24 iteration 200 with loss 0.37291. Total time 3.75305 hours\n",
      "Training at Epoch 24 iteration 300 with loss 0.26618. Total time 3.795 hours\n",
      "Validation at Epoch 24 with loss:0.18092, MSE: 0.29733 , Pearson Correlation: 0.77502 with p-value: 0.0 , Concordance Index: 0.80769\n",
      "Training at Epoch 25 iteration 0 with loss 0.33315. Total time 3.84305 hours\n",
      "Training at Epoch 25 iteration 100 with loss 0.45873. Total time 3.88583 hours\n",
      "Training at Epoch 25 iteration 200 with loss 0.37344. Total time 3.92805 hours\n",
      "Training at Epoch 25 iteration 300 with loss 0.39298. Total time 3.97027 hours\n",
      "Validation at Epoch 25 with loss:0.25387, MSE: 0.27773 , Pearson Correlation: 0.77897 with p-value: 0.0 , Concordance Index: 0.81530\n",
      "Training at Epoch 26 iteration 0 with loss 0.39095. Total time 4.01861 hours\n",
      "Training at Epoch 26 iteration 100 with loss 0.43753. Total time 4.06055 hours\n",
      "Training at Epoch 26 iteration 200 with loss 0.29477. Total time 4.10361 hours\n",
      "Training at Epoch 26 iteration 300 with loss 0.42086. Total time 4.14638 hours\n",
      "Validation at Epoch 26 with loss:0.43890, MSE: 0.32761 , Pearson Correlation: 0.78328 with p-value: 0.0 , Concordance Index: 0.80981\n",
      "Training at Epoch 27 iteration 0 with loss 0.40348. Total time 4.19472 hours\n",
      "Training at Epoch 27 iteration 100 with loss 0.48839. Total time 4.23694 hours\n",
      "Training at Epoch 27 iteration 200 with loss 0.30511. Total time 4.27972 hours\n",
      "Training at Epoch 27 iteration 300 with loss 0.31308. Total time 4.32111 hours\n",
      "Validation at Epoch 27 with loss:0.21024, MSE: 0.29427 , Pearson Correlation: 0.77708 with p-value: 0.0 , Concordance Index: 0.81366\n",
      "Training at Epoch 28 iteration 0 with loss 0.44062. Total time 4.37055 hours\n",
      "Training at Epoch 28 iteration 100 with loss 0.42417. Total time 4.41277 hours\n",
      "Training at Epoch 28 iteration 200 with loss 0.34215. Total time 4.45472 hours\n",
      "Training at Epoch 28 iteration 300 with loss 0.41028. Total time 4.4975 hours\n",
      "Validation at Epoch 28 with loss:0.38124, MSE: 0.27067 , Pearson Correlation: 0.79087 with p-value: 0.0 , Concordance Index: 0.82070\n",
      "Training at Epoch 29 iteration 0 with loss 0.28099. Total time 4.54583 hours\n",
      "Training at Epoch 29 iteration 100 with loss 0.29605. Total time 4.5875 hours\n",
      "Training at Epoch 29 iteration 200 with loss 0.32818. Total time 4.63055 hours\n",
      "Training at Epoch 29 iteration 300 with loss 0.43219. Total time 4.67305 hours\n",
      "Validation at Epoch 29 with loss:0.08033, MSE: 0.25905 , Pearson Correlation: 0.79938 with p-value: 0.0 , Concordance Index: 0.82256\n",
      "Training at Epoch 30 iteration 0 with loss 0.28742. Total time 4.72083 hours\n",
      "Training at Epoch 30 iteration 100 with loss 0.34154. Total time 4.76388 hours\n",
      "Training at Epoch 30 iteration 200 with loss 0.33443. Total time 4.80666 hours\n",
      "Training at Epoch 30 iteration 300 with loss 0.29207. Total time 4.84861 hours\n",
      "Validation at Epoch 30 with loss:0.25997, MSE: 0.25471 , Pearson Correlation: 0.80105 with p-value: 0.0 , Concordance Index: 0.82027\n",
      "Training at Epoch 31 iteration 0 with loss 0.35476. Total time 4.88583 hours\n",
      "Training at Epoch 31 iteration 100 with loss 0.30624. Total time 4.92305 hours\n",
      "Training at Epoch 31 iteration 200 with loss 0.26263. Total time 4.96472 hours\n",
      "Training at Epoch 31 iteration 300 with loss 0.35848. Total time 5.005 hours\n",
      "Validation at Epoch 31 with loss:0.19876, MSE: 0.25086 , Pearson Correlation: 0.80268 with p-value: 0.0 , Concordance Index: 0.82233\n",
      "Training at Epoch 32 iteration 0 with loss 0.32769. Total time 5.05416 hours\n"
     ]
    }
   ],
   "source": [
    "model.train(train, val, test)"
   ]
  },
  {
   "cell_type": "code",
   "execution_count": null,
   "metadata": {},
   "outputs": [],
   "source": [
    "model.save_model('./save_model/model_CNN_CNN_KIBA')"
   ]
  }
 ],
 "metadata": {
  "kernelspec": {
   "display_name": "Python 3",
   "language": "python",
   "name": "python3"
  },
  "language_info": {
   "codemirror_mode": {
    "name": "ipython",
    "version": 3
   },
   "file_extension": ".py",
   "mimetype": "text/x-python",
   "name": "python",
   "nbconvert_exporter": "python",
   "pygments_lexer": "ipython3",
   "version": "3.6.5"
  }
 },
 "nbformat": 4,
 "nbformat_minor": 4
}
